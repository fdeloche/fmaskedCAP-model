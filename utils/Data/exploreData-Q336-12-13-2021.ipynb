{
 "cells": [
  {
   "cell_type": "code",
   "execution_count": null,
   "metadata": {},
   "outputs": [],
   "source": [
    "import numpy as np\n",
    "\n",
    "import matplotlib.pyplot as pl\n",
    "import matplotlib as mpl\n",
    "\n",
    "pl.style.use('fivethirtyeight')\n",
    "\n",
    "\n",
    "#mpl.rc('figure', figsize=(8,6))\n",
    "\n",
    "#mpl.rc('figure', figsize=(14,12))\n",
    "mpl.rcParams['axes.facecolor']='white'  \n",
    "mpl.rcParams['figure.facecolor'] = '1'\n",
    "\n",
    "\n",
    "font = {'size'   : 13}\n",
    "\n",
    "mpl.rc('font', **font)\n",
    "\n",
    "mpl.rcParams['lines.linewidth']=3\n",
    "mpl.rcParams['axes.labelsize']=16\n",
    "\n",
    "\n",
    "import os\n",
    "import re\n",
    "\n",
    "from scipy.io import loadmat\n",
    "from scipy.ndimage import gaussian_filter1d\n",
    "from scipy.signal import welch\n",
    "\n",
    "import scipy.signal as sg\n",
    "\n",
    "from functools import partial\n"
   ]
  },
  {
   "cell_type": "code",
   "execution_count": null,
   "metadata": {},
   "outputs": [],
   "source": [
    "data_folder='../../Data/AS-2021_12_13-ChinQ336_fmaskedCAP_normal'\n",
    "\n",
    "listFiles = os.listdir(data_folder)\n",
    "\n",
    "listFilesMat=[]\n",
    "\n",
    "for filename in listFiles:\n",
    "    if re.match('.*.mat', filename):\n",
    "        listFilesMat.append(filename)\n",
    "listFilesMat.sort()"
   ]
  },
  {
   "cell_type": "raw",
   "metadata": {},
   "source": [
    "listFilesMat"
   ]
  },
  {
   "cell_type": "markdown",
   "metadata": {},
   "source": [
    "### Functions"
   ]
  },
  {
   "cell_type": "code",
   "execution_count": null,
   "metadata": {},
   "outputs": [],
   "source": [
    "#filter ind if necessary\n",
    "begin_ind=7 \n",
    "end_ind=1486 #10 runs\n",
    "\n",
    "pic_numbers_ignore=[71]"
   ]
  },
  {
   "cell_type": "code",
   "execution_count": null,
   "metadata": {},
   "outputs": [],
   "source": [
    "def split_name(filename):\n",
    "    '''returns (picNumber, masker filename)'''\n",
    "    m=re.match('p([0-9]{4})_fmasked_CAP_(.*).mat', filename)\n",
    "    assert m, f'{filename} did not match'\n",
    "    p, name= m.groups()\n",
    "    return int(p), name\n",
    "\n",
    "map_table={}  #map masker filename -> pic numbers\n",
    "for fln in listFilesMat:\n",
    "    \n",
    "    m=re.match('p([0-9]{4})_fmasked_CAP_(.*).mat', fln)\n",
    "    if m:\n",
    "        p, name = split_name(fln)\n",
    "\n",
    "        if name not in map_table:\n",
    "            map_table[name]=[p]\n",
    "        else:\n",
    "            li=map_table[name]\n",
    "            li.append(p)\n",
    "            map_table[name]=li\n",
    "        \n",
    "filtered_map_table={}  #map masker filename -> pic numbers\n",
    "for fln in listFilesMat:\n",
    "    \n",
    "    \n",
    "    m=re.match('p([0-9]{4})_fmasked_CAP_(.*).mat', fln)\n",
    "    if m:\n",
    "        p, name = split_name(fln)\n",
    "        if p>=begin_ind and p<=end_ind and p not in pic_numbers_ignore:\n",
    "\n",
    "            if name not in filtered_map_table:\n",
    "                filtered_map_table[name]=[p]\n",
    "            else:\n",
    "                li=filtered_map_table[name]\n",
    "                li.append(p)\n",
    "                filtered_map_table[name]=li\n",
    "    \n",
    "    "
   ]
  },
  {
   "cell_type": "raw",
   "metadata": {},
   "source": [
    "filtered_map_table"
   ]
  },
  {
   "cell_type": "code",
   "execution_count": null,
   "metadata": {},
   "outputs": [],
   "source": [
    "def loadPic(n):\n",
    "    found=False\n",
    "    for filename in listFilesMat:\n",
    "        if f'p{str(n).zfill(4)}' in filename:\n",
    "            found=True\n",
    "            break\n",
    "    assert found, f'pic {n} not found.'\n",
    "    arr= loadmat(f'{data_folder}/{filename}')\n",
    "    return arr['data_struct']\n",
    "\n",
    "def get_info_pic(pic):\n",
    "    #avg\n",
    "    arr=pic['AD_Data'][0][0]['AD_Avg_V'][0][0][0]\n",
    "    \n",
    "    #HACK only C or R\n",
    "    '''\n",
    "    all_data=pic['AD_Data'][0][0]['AD_All_V'][0][0]\n",
    "    arr=np.zeros_like(all_data[0])\n",
    "    for i in range(len(all_data)):\n",
    "        if i%2==1:\n",
    "            arr+=all_data[i]\n",
    "    arr/=len(all_data)/2\n",
    "    '''\n",
    "\n",
    "    return {'arr':arr,\n",
    "            'XstartPlot_ms':pic['Stimuli'][0][0]['CAP_intervals'][0][0]['XstartPlot_ms'][0][0][0],\n",
    "            'XendPlot_ms': pic['Stimuli'][0][0]['CAP_intervals'][0][0]['XendPlot_ms'][0][0][0],\n",
    "           'name':pic['Stimuli'][0][0]['masker'][0][0]['name'][0][0]}\n",
    "\n",
    "\n",
    "    \n"
   ]
  },
  {
   "cell_type": "raw",
   "metadata": {},
   "source": [
    "struct=loadPic(7)\n",
    "struct_data=struct['AD_Data'][0][0]['AD_Avg_V'][0][0][0]\n",
    "\n",
    "struct_data=struct['Stimuli'][0][0]['CAP_intervals'][0][0]['XstartPlot_ms'][0][0][0]\n",
    "\n",
    "struct_data=struct['Stimuli'][0][0]['CAP_intervals'][0][0]['XendPlot_ms'][0][0][0]\n",
    "\n",
    "\n",
    "struct_data=struct['Stimuli'][0][0]['masker'][0][0]['name'][0][0]\n",
    "\n",
    "\n",
    "struct_data=struct['AD_Data'][0][0]['AD_All_V'][0][0]\n",
    "\n",
    "\n",
    "\n",
    "struct_data=struct['Stimuli'][0][0]['masker'][0][0]['bands'][0][0]['fc_low']\n",
    "\n",
    "\n",
    "print(struct_data)\n"
   ]
  },
  {
   "cell_type": "code",
   "execution_count": null,
   "metadata": {},
   "outputs": [],
   "source": [
    "\n",
    "def plotPic(picDic=None, n=None, label='', tmin=0, baselineSig=None):\n",
    "    '''\n",
    "    Plot pic given picture dictionary or pic number. \n",
    "    Args:\n",
    "        baseline: Picture dictionary for baseline signal'''\n",
    "    if not n is None:\n",
    "        picDic=loadPic(n)\n",
    "    assert not picDic is None\n",
    "    pic_info=get_info_pic(picDic)\n",
    "    if label=='':\n",
    "        label=pic_info['name']\n",
    "        \n",
    "    \n",
    "    val=pic_info['arr']\n",
    "    \n",
    "    t=np.linspace(pic_info['XstartPlot_ms'], pic_info['XendPlot_ms'], num=len(val))\n",
    "    if baselineSig is not None:\n",
    "        val=val-baselineSig\n",
    "    #val=np.cumsum(val) #HACK!!\n",
    "    pl.plot(t, val, label=label)\n",
    "    pl.xlim([tmin,  pic_info['XendPlot_ms']])\n",
    "    \n",
    "def getMaskerSig(dic, name):\n",
    "    \n",
    "    picNums=dic[name]\n",
    "    firstPic=True\n",
    "    for picNum in picNums:\n",
    "        picDic=loadPic(picNum)\n",
    "        \n",
    "    \n",
    "        pic_info=get_info_pic(picDic)\n",
    "    \n",
    "        if firstPic:\n",
    "            #val=np.sum(picDic['valAll'][1::2], axis=0)\n",
    "            val=pic_info['arr']\n",
    "            \n",
    "            firstPic=False\n",
    "        else:\n",
    "            #val+=np.sum(picDic['valAll'][1::2], axis=0)\n",
    "            val+=pic_info['arr']\n",
    "    val/=len(picNums)\n",
    "    return val\n",
    "    \n",
    "def plotMasker(dic, name, tmin=5, tmax=11, baseline=None, corr_drift=False):\n",
    "    '''\n",
    "    Plot avg signal for masker given masker name and dictionary of picNums \n",
    "    Args:\n",
    "        baseline: signal for baseline signal\n",
    "        corr_drift: not set for this expe'''\n",
    "    label=name\n",
    "    val=getMaskerSig(dic, name)\n",
    "    \n",
    "    picNums=dic[name]\n",
    "    for picNum in picNums:\n",
    "        picDic=loadPic(picNum)\n",
    "        pic_info=get_info_pic(picDic)\n",
    "        \n",
    "        break\n",
    "\n",
    "    t=np.linspace(pic_info['XstartPlot_ms'], pic_info['XendPlot_ms'], num=len(val))\n",
    "    if baseline is not None:\n",
    "        val=val-baseline\n",
    "        \n",
    "    #val=gaussian_filter1d(val, 0.02/(t[1]-t[0]))  #HACK filter\n",
    "    #HACK\n",
    "    #val=np.cumsum(val) #HACK!!\n",
    "    #val-=val[300] #HACK!!\n",
    "    pl.plot(t, val*1e3, label=label)\n",
    "    if tmax==0:\n",
    "        tmax=pic_info['XendPlot_ms']\n",
    "    pl.xlim([tmin, tmax])\n",
    "    pl.xlabel('t (ms)')\n",
    "    if baseline is None:\n",
    "        pl.ylabel('Amplitude (µV)')\n",
    "    else:\n",
    "        \n",
    "        pl.ylabel('Amplitude difference (µV)')\n",
    "    \n",
    "'''\n",
    "def getMaskerAtten(picDic=None, n=None):\n",
    "    if not n is None:\n",
    "        picDic=loadPic(n)\n",
    "    assert not picDic is None\n",
    "    ans=picDic['masker_atten_dB']\n",
    "    return ans[0][0]\n",
    "'''"
   ]
  },
  {
   "cell_type": "markdown",
   "metadata": {},
   "source": [
    "\\[new\\]: find click artifacts "
   ]
  },
  {
   "cell_type": "code",
   "execution_count": null,
   "metadata": {},
   "outputs": [],
   "source": [
    "\n",
    "def findPicsArtifacts(begin_ind, end_ind, t_min=4e-3, t_max=5.2e-3, amp_min=80e-6):\n",
    "    \n",
    "    res=[]\n",
    "    for n in range(begin_ind, end_ind+1):\n",
    "        picDic=loadPic(n)\n",
    "        pic_info=get_info_pic(picDic)\n",
    "\n",
    "        val=pic_info['arr']\n",
    "        t=np.linspace(pic_info['XstartPlot_ms'], pic_info['XendPlot_ms'], num=len(val))\n",
    "\n",
    "        ind_t_min=np.sum(t<t_min*1e3)\n",
    "        ind_t_max=np.sum(t<t_max*1e3)\n",
    "        if np.any(np.abs(val[ind_t_min:ind_t_max])*1e-3>amp_min):\n",
    "            res.append(n)\n",
    "\n",
    "    return res"
   ]
  },
  {
   "cell_type": "code",
   "execution_count": null,
   "metadata": {},
   "outputs": [],
   "source": [
    "#findPicsArtifacts(begin_ind, end_ind)  #t_min=4e-3, t_max=5.2e-3, amp_min=80e-6\n",
    "\n",
    "#returns 71"
   ]
  },
  {
   "cell_type": "code",
   "execution_count": null,
   "metadata": {},
   "outputs": [],
   "source": [
    "plotPic(n=71)"
   ]
  },
  {
   "cell_type": "markdown",
   "metadata": {},
   "source": [
    "### Show examples of signals"
   ]
  },
  {
   "cell_type": "code",
   "execution_count": null,
   "metadata": {},
   "outputs": [],
   "source": [
    "dic=filtered_map_table"
   ]
  },
  {
   "cell_type": "code",
   "execution_count": null,
   "metadata": {},
   "outputs": [],
   "source": [
    "names=list(dic.keys())\n",
    "names.sort()\n",
    "\n",
    "#print(names)"
   ]
  },
  {
   "cell_type": "code",
   "execution_count": null,
   "metadata": {},
   "outputs": [],
   "source": [
    "broadband=getMaskerSig(dic, 'broadband_noise')\n",
    "nomasker=getMaskerSig(dic, 'nomasker_bis')"
   ]
  },
  {
   "cell_type": "code",
   "execution_count": null,
   "metadata": {},
   "outputs": [],
   "source": [
    "broadband_sig=getMaskerSig(dic, 'broadband_noise')+getMaskerSig(dic, 'broadband_noise_bis')+getMaskerSig(dic, 'broadband_noise_bis_bis')\n",
    "broadband_sig/=3\n",
    "\n",
    "nomasker_sig=getMaskerSig(dic, 'nomasker')+getMaskerSig(dic, 'nomasker_bis')\n",
    "nomasker_sig/=2"
   ]
  },
  {
   "cell_type": "code",
   "execution_count": null,
   "metadata": {},
   "outputs": [],
   "source": [
    "info=get_info_pic(loadPic(100))\n",
    "XstartPlot_ms=info['XstartPlot_ms']\n",
    "\n",
    "XendPlot_ms=info['XendPlot_ms']\n",
    "t=np.linspace(XstartPlot_ms, XendPlot_ms, num=len(broadband_sig))\n",
    "plotMasker(dic, 'broadband_noise')\n",
    "\n",
    "\n",
    "plotMasker(dic, 'broadband_noise_bis')\n",
    "\n",
    "plotMasker(dic, 'broadband_noise_bis_bis')\n",
    "\n",
    "pl.plot(t, broadband_sig*1e3, label='broadband average')\n",
    "\n",
    "\n",
    "plotMasker(dic, 'nomasker')\n",
    "\n",
    "plotMasker(dic, 'nomasker_bis')\n",
    "\n",
    "pl.plot(t, nomasker_sig*1e3, label='nomasker average')\n",
    "\n",
    "\n",
    "pl.legend(bbox_to_anchor=(1.05, 1), loc='upper left')"
   ]
  },
  {
   "cell_type": "markdown",
   "metadata": {},
   "source": [
    "analysis noise (useless if no periodic background noise)"
   ]
  },
  {
   "cell_type": "raw",
   "metadata": {},
   "source": [
    "for maskerName in ['broadband_noise', 'broadband_noise_bis', 'broadband_noise_bis_bis', 'nomasker_bis']:\n",
    "    sig=getMaskerSig(dic, maskerName)\n",
    "    noise_sig=sig[44:300]\n",
    "    noise_sig_fft=np.fft.rfft(noise_sig)\n",
    "\n",
    "    f=np.linspace(0, 48828/2, len(noise_sig_fft))\n",
    "    \n",
    "    pl.plot(f, np.abs(noise_sig_fft), label=maskerName)\n",
    "    \n",
    "    begin_ind=5\n",
    "    ind_max=np.argmax( np.abs(noise_sig_fft)[begin_ind:begin_ind+7] )\n",
    "    ind_max+=begin_ind\n",
    "    print(f'f_max [1-2kHz]: {f[ind_max]:0.1f}')\n",
    "    \n",
    "    begin_ind=20\n",
    "    ind_max=np.argmax( np.abs(noise_sig_fft)[begin_ind:begin_ind+10] )\n",
    "    ind_max+=begin_ind\n",
    "    print(f'f_max [4-5kHz]: {f[ind_max]:0.1f}')\n",
    "    #Welch method\n",
    "    #f, pxx= welch(noise_sig, fs=48828 ,nperseg=128)\n",
    "    #pl.plot(f, np.sqrt(pxx)*1e4, label=maskerName+\"_welch\")\n",
    "pl.legend()\n",
    "pl.xlim([200,6000])"
   ]
  },
  {
   "cell_type": "markdown",
   "metadata": {},
   "source": [
    "### Narrow-band analysis"
   ]
  },
  {
   "cell_type": "code",
   "execution_count": null,
   "metadata": {},
   "outputs": [],
   "source": [
    "#plotMasker(dic, 'nomasker')\n",
    "plotMasker(dic, '1_hp_10000Hz')\n",
    "plotMasker(dic, '2_hp_9000Hz')\n",
    "plotMasker(dic, '3_hp_8000Hz')\n",
    "plotMasker(dic, '4_hp_7000Hz')\n",
    "plotMasker(dic, '5_hp_6000Hz')\n",
    "plotMasker(dic, '6_hp_5000Hz')\n",
    "plotMasker(dic, '7_hp_4000Hz')\n",
    "plotMasker(dic, '8_hp_3200Hz')\n",
    "plotMasker(dic, '9_hp_2400Hz')\n",
    "plotMasker(dic, '10_hp_1800Hz')\n",
    "plotMasker(dic, '11_hp_1500Hz')\n",
    "plotMasker(dic, '12_hp_1200Hz')\n",
    "#plotMasker(dic, 'broadband_noise')  #5 dB higher\n",
    "pl.legend(bbox_to_anchor=(1.05, 1), loc='upper left')"
   ]
  },
  {
   "cell_type": "code",
   "execution_count": null,
   "metadata": {},
   "outputs": [],
   "source": [
    "#plotMasker(dic, 'nomasker')\n",
    "plotMasker(dic, '1_hp_10000Hz', baseline=broadband_sig)\n",
    "plotMasker(dic, '2_hp_9000Hz', baseline=broadband_sig)\n",
    "plotMasker(dic, '3_hp_8000Hz', baseline=broadband_sig)\n",
    "plotMasker(dic, '4_hp_7000Hz', baseline=broadband_sig)\n",
    "plotMasker(dic, '5_hp_6000Hz', baseline=broadband_sig)\n",
    "plotMasker(dic, '6_hp_5000Hz', baseline=broadband_sig)\n",
    "plotMasker(dic, '7_hp_4000Hz', baseline=broadband_sig)\n",
    "plotMasker(dic, '8_hp_3200Hz', baseline=broadband_sig)\n",
    "plotMasker(dic, '9_hp_2400Hz', baseline=broadband_sig)\n",
    "plotMasker(dic, '10_hp_1800Hz', baseline=broadband_sig)\n",
    "plotMasker(dic, '11_hp_1500Hz', baseline=broadband_sig)\n",
    "plotMasker(dic, '12_hp_1200Hz', baseline=broadband_sig)\n",
    "#plotMasker(dic, 'broadband_noise')  #5 dB higher\n",
    "#pl.xlim([4.5,10.4])\n",
    "\n",
    "pl.legend(bbox_to_anchor=(1.05, 1), loc='upper left')\n",
    "#pl.savefig('narrow-band.svg')"
   ]
  },
  {
   "cell_type": "code",
   "execution_count": null,
   "metadata": {},
   "outputs": [],
   "source": [
    "plotMasker(dic, '1_hp_10000Hz', baseline=getMaskerSig(dic, '2_hp_9000Hz'))\n",
    "plotMasker(dic, '2_hp_9000Hz', baseline=getMaskerSig(dic, '3_hp_8000Hz'))\n",
    "plotMasker(dic, '3_hp_8000Hz', baseline=getMaskerSig(dic, '4_hp_7000Hz'))\n",
    "plotMasker(dic, '4_hp_7000Hz', baseline=getMaskerSig(dic, '5_hp_6000Hz'))\n",
    "plotMasker(dic, '5_hp_6000Hz', baseline=getMaskerSig(dic, '6_hp_5000Hz'))\n",
    "plotMasker(dic, '6_hp_5000Hz', baseline=getMaskerSig(dic, '7_hp_4000Hz'))\n",
    "\n",
    "pl.legend(bbox_to_anchor=(1.05, 1), loc='upper left')"
   ]
  },
  {
   "cell_type": "code",
   "execution_count": null,
   "metadata": {},
   "outputs": [],
   "source": [
    "#plotMasker(dic, 'nomasker')\n",
    "plotMasker(dic, '7_hp_4000Hz', baseline=getMaskerSig(dic, '8_hp_3200Hz'))\n",
    "plotMasker(dic, '8_hp_3200Hz', baseline=getMaskerSig(dic, '9_hp_2400Hz'))\n",
    "plotMasker(dic, '9_hp_2400Hz', baseline=getMaskerSig(dic, '10_hp_1800Hz'))\n",
    "plotMasker(dic, '10_hp_1800Hz', baseline=getMaskerSig(dic, '11_hp_1500Hz'))\n",
    "plotMasker(dic, '11_hp_1500Hz', baseline=getMaskerSig(dic, '12_hp_1200Hz'))\n",
    "plotMasker(dic, '12_hp_1200Hz', baseline=broadband_sig)\n",
    "\n",
    "#plotMasker(dic, 'broadband_noise')  \n",
    "pl.legend(bbox_to_anchor=(1.05, 1), loc='upper left')"
   ]
  },
  {
   "cell_type": "code",
   "execution_count": null,
   "metadata": {},
   "outputs": [],
   "source": [
    "#plotMasker(dic, 'nomasker')\n",
    "#plotMasker(dic, '1_hp_10000Hz', baseline=getMaskerSig(dic, '3_hp_8000Hz'))\n",
    "plotMasker(dic, '2_hp_9000Hz', baseline=getMaskerSig(dic, '4_hp_7000Hz'))\n",
    "#plotMasker(dic, '3_hp_8000Hz', baseline=getMaskerSig(dic, '5_hp_6000Hz'))\n",
    "plotMasker(dic, '4_hp_7000Hz', baseline=getMaskerSig(dic, '6_hp_5000Hz'))\n",
    "#plotMasker(dic, '5_hp_6000Hz', baseline=getMaskerSig(dic, '7_hp_4000Hz'))\n",
    "plotMasker(dic, '6_hp_5000Hz', baseline=getMaskerSig(dic, '8_hp_3200Hz'))\n",
    "#plotMasker(dic, '7_hp_4000Hz', baseline=getMaskerSig(dic, '9_hp_2400Hz'))\n",
    "plotMasker(dic, '8_hp_3200Hz', baseline=getMaskerSig(dic, '10_hp_1800Hz'))\n",
    "#plotMasker(dic, '9_hp_2400Hz', baseline=getMaskerSig(dic, '11_hp_1500Hz'))\n",
    "plotMasker(dic, '10_hp_1800Hz', baseline=getMaskerSig(dic, '12_hp_1200Hz'))\n",
    "#plotMasker(dic, '11_hp_1500Hz', baseline=baseline=broadband_sig)\n",
    "plotMasker(dic, '12_hp_1200Hz', baseline=broadband_sig)\n",
    "#plotMasker(dic, 'broadband_noise')  #5 dB higher\n",
    "pl.legend(bbox_to_anchor=(1.05, 1), loc='upper left')"
   ]
  },
  {
   "cell_type": "markdown",
   "metadata": {},
   "source": [
    "### Notch 8k"
   ]
  },
  {
   "cell_type": "code",
   "execution_count": null,
   "metadata": {},
   "outputs": [],
   "source": [
    "\n",
    "#plotMasker(dic, '2_notch8000_bw2300_55dB')\n",
    "#plotMasker(dic, '3_notch8000_bw2300_50dB')  #removed\n",
    "#plotMasker(dic, '4_notch8000_bw2300_45dB')\n",
    "plotMasker(dic, '5_notch8000_bw2300_40dB')\n",
    "plotMasker(dic, '6_notch8000_bw2300_35dB')\n",
    "plotMasker(dic, '7_notch8000_bw2300_32dB')\n",
    "plotMasker(dic, '7_notch8000_bw2300_29dB')\n",
    "plotMasker(dic, '8_notch8000_bw2300_26dB')\n",
    "plotMasker(dic, '9_notch8000_bw2300_23dB')\n",
    "\n",
    "\n",
    "plotMasker(dic, '10_notch8000_bw2300_17dB') #the new one\n",
    "plotMasker(dic, 'broadband_noise')\n",
    "\n",
    "pl.legend(bbox_to_anchor=(1.05, 1), loc='upper left')"
   ]
  },
  {
   "cell_type": "code",
   "execution_count": null,
   "metadata": {},
   "outputs": [],
   "source": [
    "\n",
    "#plotMasker(dic, '2_notch8000_bw2300_55dB', baseline=broadband_sig)\n",
    "#plotMasker(dic, '3_notch8000_bw2300_50dB', baseline=broadband_sig)\n",
    "#plotMasker(dic, '4_notch8000_bw2300_45dB', baseline=broadband_sig)\n",
    "plotMasker(dic, '5_notch8000_bw2300_40dB', baseline=broadband_sig)\n",
    "plotMasker(dic, '6_notch8000_bw2300_35dB', baseline=broadband_sig)\n",
    "plotMasker(dic, '7_notch8000_bw2300_32dB', baseline=broadband_sig)\n",
    "plotMasker(dic, '7_notch8000_bw2300_29dB', baseline=broadband_sig)\n",
    "plotMasker(dic, '8_notch8000_bw2300_26dB', baseline=broadband_sig)\n",
    "plotMasker(dic, '9_notch8000_bw2300_23dB', baseline=broadband_sig)\n",
    "\n",
    "plotMasker(dic, '10_notch8000_bw2300_17dB', baseline=broadband_sig)\n",
    "\n",
    "#plotMasker(dic, 'broadband_noise')\n",
    "pl.legend(bbox_to_anchor=(1.05, 1), loc='upper left')"
   ]
  },
  {
   "cell_type": "code",
   "execution_count": null,
   "metadata": {},
   "outputs": [],
   "source": [
    "pl.figure(figsize=(8, 6))\n",
    "cap=[]\n",
    "rms=[]\n",
    "masker_list=[#'2_notch8000_bw2300_55dB',\n",
    "# '3_notch8000_bw2300_50dB',\n",
    "# '4_notch8000_bw2300_45dB',\n",
    " '5_notch8000_bw2300_40dB',\n",
    " '6_notch8000_bw2300_35dB',\n",
    " '7_notch8000_bw2300_32dB',\n",
    " '7_notch8000_bw2300_29dB',\n",
    " '8_notch8000_bw2300_26dB',\n",
    " '9_notch8000_bw2300_23dB',\n",
    "            '10_notch8000_bw2300_17dB']\n",
    "           \n",
    "for masker in masker_list:\n",
    "    sig=getMaskerSig(dic,masker)\n",
    "    sig=sig[300:]\n",
    "    broadband_sig_trunc=broadband_sig[300:]\n",
    "    cap.append(np.max(sig-broadband_sig_trunc)-np.min(sig-broadband_sig_trunc))\n",
    "    rms.append(np.std(sig-broadband_sig_trunc))\n",
    "    \n",
    "    \n",
    "#HACK\n",
    "cap[-1]=-cap[-1]\n",
    "\n",
    "pl.plot(-np.array([40,35,32,29,26,23, 17]), cap, label='max-min')\n",
    "\n",
    "#pl.plot(-np.array([55,50,45,40,37,34,31,28,25,22]), np.array(rms)*10, label='rms x10')\n",
    "pl.legend()\n",
    "pl.xlabel('- Attenuation (re:max)')\n",
    "pl.ylabel('Amplitude')"
   ]
  },
  {
   "cell_type": "code",
   "execution_count": null,
   "metadata": {},
   "outputs": [],
   "source": [
    "fln_list=['1-notch7600_bw1100.json',\n",
    "'2-notch7800_bw1300.json',\n",
    "'3-notch8000_bw1400.json',\n",
    "'4-notch8200_bw1300.json',\n",
    "'5-notch8200_bw1500.json',\n",
    "'6-notch7900_bw1600.json',\n",
    "'7-notch8100_bw1200.json']\n",
    "masker_list=[st.replace('-', '_').replace('.json', '') for st in fln_list]\n",
    "#print(masker_list)\n",
    "\n",
    "for masker_st in masker_list:\n",
    "    plotMasker(dic, masker_st)\n",
    "    \n",
    "pl.legend()"
   ]
  },
  {
   "cell_type": "code",
   "execution_count": null,
   "metadata": {},
   "outputs": [],
   "source": [
    "fln_list=['1-notch7600_bw1100.json',\n",
    "'2-notch7800_bw1300.json',\n",
    "'3-notch8000_bw1400.json',\n",
    "'4-notch8200_bw1300.json',\n",
    "'5-notch8200_bw1500.json',\n",
    "'6-notch7900_bw1600.json',\n",
    "'7-notch8100_bw1200.json']\n",
    "masker_list=[st.replace('-', '_').replace('.json', '') for st in fln_list]\n",
    "#print(masker_list)\n",
    "\n",
    "for masker_st in masker_list:\n",
    "    plotMasker(dic, masker_st, baseline=broadband_sig)\n",
    "    \n",
    "pl.legend(bbox_to_anchor=(1.05, 1), loc='upper left')"
   ]
  },
  {
   "cell_type": "markdown",
   "metadata": {},
   "source": [
    "Maskers added"
   ]
  },
  {
   "cell_type": "code",
   "execution_count": null,
   "metadata": {},
   "outputs": [],
   "source": [
    "fln_list=['2-notch7300_1600_30dB.json', '3-notch7300_1600_25dB.json', '4-notch8300_2000_26dB.json',\n",
    " '5-notch8300_2000_23dB.json']\n",
    "\n",
    "fln_list+=['1-notch7400_bw1000.json',\n",
    "'2-notch8400_bw1200.json',\n",
    "'3-notch7800_bw1800.json',\n",
    "'8-notch8100_bw2000.json']\n",
    "\n",
    "masker_list=[st.replace('-', '_').replace('.json', '') for st in fln_list]\n",
    "#print(masker_list)\n",
    "\n",
    "for masker_st in masker_list:\n",
    "    plotMasker(dic, masker_st, baseline=broadband_sig)\n",
    "    \n",
    "pl.legend(bbox_to_anchor=(1.05, 1), loc='upper left')"
   ]
  },
  {
   "cell_type": "markdown",
   "metadata": {},
   "source": [
    "### Notch 6k"
   ]
  },
  {
   "cell_type": "raw",
   "metadata": {},
   "source": []
  },
  {
   "cell_type": "code",
   "execution_count": null,
   "metadata": {},
   "outputs": [],
   "source": [
    "#plotMasker(dic, '2_notch6000_bw2000_55dB')\n",
    "#plotMasker(dic, '3_notch6000_bw2000_50dB')\n",
    "plotMasker(dic, '4_notch6000_bw2000_45dB')\n",
    "plotMasker(dic, '5_notch6000_bw2000_40dB')\n",
    "plotMasker(dic, '6_notch6000_bw2000_35dB')\n",
    "plotMasker(dic, '7_notch6000_bw2000_32dB')\n",
    "plotMasker(dic, '8_notch6000_bw2000_29dB')\n",
    "plotMasker(dic, '9_notch6000_bw2000_26dB')\n",
    "plotMasker(dic, '10_notch6000_bw2000_23dB')\n",
    "\n",
    "plotMasker(dic, '11_notch6000_bw2000_17dB')\n",
    "\n",
    "plotMasker(dic, 'broadband_noise')\n",
    "\n",
    "pl.legend(bbox_to_anchor=(1.05, 1), loc='upper left')"
   ]
  },
  {
   "cell_type": "code",
   "execution_count": null,
   "metadata": {},
   "outputs": [],
   "source": [
    "#plotMasker(dic, '2_notch6000_bw2000_55dB', baseline=broadband_sig)\n",
    "#plotMasker(dic, '3_notch6000_bw2000_50dB', baseline=broadband_sig)\n",
    "plotMasker(dic, '4_notch6000_bw2000_45dB', baseline=broadband_sig)\n",
    "plotMasker(dic, '5_notch6000_bw2000_40dB', baseline=broadband_sig)\n",
    "plotMasker(dic, '6_notch6000_bw2000_35dB', baseline=broadband_sig)\n",
    "plotMasker(dic, '7_notch6000_bw2000_32dB', baseline=broadband_sig)\n",
    "plotMasker(dic, '8_notch6000_bw2000_29dB', baseline=broadband_sig)\n",
    "plotMasker(dic, '9_notch6000_bw2000_26dB', baseline=broadband_sig)\n",
    "plotMasker(dic, '10_notch6000_bw2000_23dB', baseline=broadband_sig)\n",
    "\n",
    "plotMasker(dic, '11_notch6000_bw2000_17dB', baseline=broadband_sig)  #re-added\n",
    "\n",
    "pl.legend(bbox_to_anchor=(1.05, 1), loc='upper left')\n"
   ]
  },
  {
   "cell_type": "code",
   "execution_count": null,
   "metadata": {},
   "outputs": [],
   "source": [
    "pl.figure(figsize=(8, 6))\n",
    "cap=[]\n",
    "rms=[]\n",
    "masker_list=[#'2_notch6000_bw2000_55dB',\n",
    "#'3_notch6000_bw2000_50dB',\n",
    "'4_notch6000_bw2000_45dB',\n",
    "'5_notch6000_bw2000_40dB',\n",
    "'6_notch6000_bw2000_35dB',\n",
    "'7_notch6000_bw2000_32dB',\n",
    "'8_notch6000_bw2000_29dB',\n",
    "'9_notch6000_bw2000_26dB',\n",
    "'10_notch6000_bw2000_23dB', \n",
    "'11_notch6000_bw2000_17dB']\n",
    "for masker in masker_list:\n",
    "    sig=getMaskerSig(dic,masker)\n",
    "    sig=sig[300:]\n",
    "    broadband_sig_trunc=broadband_sig[300:]\n",
    "    cap.append(np.max(sig-broadband_sig_trunc)-np.min(sig-broadband_sig_trunc))\n",
    "    rms.append(np.std(sig-broadband_sig_trunc))\n",
    "pl.plot(-np.array([45,40,35,32,29,26,23, 17]), cap, label='max-min')\n",
    "\n",
    "#pl.plot(-np.array([55,50,45,40,37,34,31,28,25,22]), np.array(rms)*10, label='rms x10')\n",
    "pl.legend()\n",
    "pl.xlabel('- Attenuation (re:max)')\n",
    "pl.ylabel('Amplitude')"
   ]
  },
  {
   "cell_type": "code",
   "execution_count": null,
   "metadata": {},
   "outputs": [],
   "source": [
    "fln_list=['1-notch5900_bw900.json',\n",
    "'2-notch6200_bw1000.json',\n",
    "'3-notch6000_bw1100.json',\n",
    "'4-notch6100_bw1200.json',\n",
    "'7-notch5900_bw1300.json',\n",
    "'8-notch5800_bw1400.json',\n",
    "'9-notch6300_bw1100.json']\n",
    "masker_list=[st.replace('-', '_').replace('.json', '') for st in fln_list]\n",
    "#print(masker_list)\n",
    "\n",
    "for masker_st in masker_list:\n",
    "    plotMasker(dic, masker_st)\n",
    "    \n",
    "pl.legend(bbox_to_anchor=(1.05, 1), loc='upper left')\n"
   ]
  },
  {
   "cell_type": "code",
   "execution_count": null,
   "metadata": {},
   "outputs": [],
   "source": [
    "fln_list=['1-notch5900_bw900.json',\n",
    "'2-notch6200_bw1000.json',\n",
    "'3-notch6000_bw1100.json',\n",
    "'4-notch6100_bw1200.json',\n",
    "'7-notch5900_bw1300.json',\n",
    "'8-notch5800_bw1400.json',\n",
    "'9-notch6300_bw1100.json']\n",
    "masker_list=[st.replace('-', '_').replace('.json', '') for st in fln_list]\n",
    "#print(masker_list)\n",
    "\n",
    "for masker_st in masker_list:\n",
    "    plotMasker(dic, masker_st, baseline=broadband_sig)\n",
    "    \n",
    "pl.legend(bbox_to_anchor=(1.05, 1), loc='upper left')\n"
   ]
  },
  {
   "cell_type": "markdown",
   "metadata": {},
   "source": [
    "New maskers"
   ]
  },
  {
   "cell_type": "code",
   "execution_count": null,
   "metadata": {},
   "outputs": [],
   "source": [
    "fln_list=['1-notch5800_1400_30dB.json',\n",
    "'2-notch5800_1400_25dB.json',\n",
    "'3-notch6500_1400_26dB.json',\n",
    "'4-notch6500_1400_23dB.json',\n",
    "'5-notch7000_1600_26dB.json',\n",
    "'6-notch7000_1600_23dB.json',\n",
    "'1-notch6600_bw900.json',\n",
    "'2-notch7000_bw1200.json']\n",
    "\n",
    "\n",
    "masker_list=[st.replace('-', '_').replace('.json', '') for st in fln_list]\n",
    "#print(masker_list)\n",
    "\n",
    "for masker_st in masker_list:\n",
    "    plotMasker(dic, masker_st, baseline=broadband_sig)\n",
    "    \n",
    "pl.legend(bbox_to_anchor=(1.05, 1), loc='upper left')\n"
   ]
  },
  {
   "cell_type": "markdown",
   "metadata": {},
   "source": [
    "### Notch 5k"
   ]
  },
  {
   "cell_type": "code",
   "execution_count": null,
   "metadata": {},
   "outputs": [],
   "source": [
    "#plotMasker(dic, '2_notch5000_bw2000_55dB')\n",
    "#plotMasker(dic, '3_notch5000_bw2000_50dB')\n",
    "plotMasker(dic, '4_notch5000_bw2000_45dB')\n",
    "plotMasker(dic, '5_notch5000_bw2000_40dB')\n",
    "plotMasker(dic, '6_notch5000_bw2000_35dB')\n",
    "plotMasker(dic, '7_notch5000_bw2000_32dB')\n",
    "plotMasker(dic, '8_notch5000_bw2000_29dB')\n",
    "plotMasker(dic, '9_notch5000_bw2000_26dB')\n",
    "plotMasker(dic, '10_notch5000_bw2000_23dB')\n",
    "plotMasker(dic, '11_notch5000_bw2000_17dB')\n",
    "plotMasker(dic, 'broadband_noise')\n",
    "pl.legend(bbox_to_anchor=(1.05, 1), loc='upper left')\n"
   ]
  },
  {
   "cell_type": "code",
   "execution_count": null,
   "metadata": {},
   "outputs": [],
   "source": [
    "#plotMasker(dic, '2_notch5000_bw2000_55dB', baseline=broadband_sig)\n",
    "#plotMasker(dic, '3_notch5000_bw2000_50dB', baseline=broadband_sig)\n",
    "plotMasker(dic, '4_notch5000_bw2000_45dB', baseline=broadband_sig)\n",
    "plotMasker(dic, '5_notch5000_bw2000_40dB', baseline=broadband_sig)\n",
    "plotMasker(dic, '6_notch5000_bw2000_35dB', baseline=broadband_sig)\n",
    "plotMasker(dic, '7_notch5000_bw2000_32dB', baseline=broadband_sig)\n",
    "plotMasker(dic, '8_notch5000_bw2000_29dB', baseline=broadband_sig)\n",
    "plotMasker(dic, '9_notch5000_bw2000_26dB', baseline=broadband_sig)\n",
    "plotMasker(dic, '10_notch5000_bw2000_23dB', baseline=broadband_sig)\n",
    "\n",
    "plotMasker(dic, '11_notch5000_bw2000_17dB', baseline=broadband_sig)\n",
    "pl.legend(bbox_to_anchor=(1.05, 1), loc='upper left')\n",
    "#pl.savefig('notch5000.svg')"
   ]
  },
  {
   "cell_type": "code",
   "execution_count": null,
   "metadata": {},
   "outputs": [],
   "source": [
    "pl.figure(figsize=(8, 6))\n",
    "cap=[]\n",
    "rms=[]\n",
    "masker_list=[#'2_notch5000_bw2000_55dB',\n",
    "'4_notch5000_bw2000_45dB',\n",
    "'5_notch5000_bw2000_40dB',\n",
    "'6_notch5000_bw2000_35dB',\n",
    "'7_notch5000_bw2000_32dB',\n",
    "'8_notch5000_bw2000_29dB',\n",
    "'9_notch5000_bw2000_26dB',\n",
    "'10_notch5000_bw2000_23dB',\n",
    "'11_notch5000_bw2000_17dB']\n",
    "for masker in masker_list:\n",
    "    sig=getMaskerSig(dic,masker)\n",
    "    sig=sig[300:]\n",
    "    broadband_sig_trunc=broadband_sig[300:]\n",
    "    cap.append(np.max(sig-broadband_sig_trunc)-np.min(sig-broadband_sig_trunc))\n",
    "    rms.append(np.std(sig-broadband_sig_trunc))\n",
    "    \n",
    "#HACK\n",
    "cap[-1]=-cap[-1]\n",
    "\n",
    "\n",
    "pl.plot(-np.array([ 45,40,35,32,29,26,23, 17]), cap, label='max-min')\n",
    "\n",
    "#pl.plot(-np.array([55,50,45,40,37,34,31,28,25,22]), np.array(rms)*10, label='rms x10')\n",
    "pl.legend()\n",
    "pl.xlabel('- Attenuation (re:max)')\n",
    "pl.ylabel('Amplitude')"
   ]
  },
  {
   "cell_type": "code",
   "execution_count": null,
   "metadata": {},
   "outputs": [],
   "source": [
    "fln_list=['1-notch4800_bw900.json',\n",
    "#'2-notch5000_bw1000.json', #removed\n",
    "'3-notch5100_bw1200.json',\n",
    "'4-notch4800_bw1400.json',\n",
    "'5-notch5100_bw1100.json',\n",
    "'6-notch4900_bw1300.json',\n",
    "'7-notch5200_bw900.json']\n",
    "masker_list=[st.replace('-', '_').replace('.json', '') for st in fln_list]\n",
    "#print(masker_list)\n",
    "\n",
    "for masker_st in masker_list:\n",
    "    plotMasker(dic, masker_st)\n",
    "    \n",
    "pl.legend(bbox_to_anchor=(1.05, 1), loc='upper left')"
   ]
  },
  {
   "cell_type": "code",
   "execution_count": null,
   "metadata": {},
   "outputs": [],
   "source": [
    "fln_list=['1-notch4800_bw900.json',\n",
    "#'2-notch5000_bw1000.json',\n",
    "'3-notch5100_bw1200.json',\n",
    "'4-notch4800_bw1400.json',\n",
    "'5-notch5100_bw1100.json',\n",
    "'6-notch4900_bw1300.json',\n",
    "'7-notch5200_bw900.json']\n",
    "masker_list=[st.replace('-', '_').replace('.json', '') for st in fln_list]\n",
    "#print(masker_list)\n",
    "\n",
    "for masker_st in masker_list:\n",
    "    plotMasker(dic, masker_st, baseline=broadband_sig)\n",
    "\n",
    "pl.legend(bbox_to_anchor=(1.05, 1), loc='upper left')"
   ]
  },
  {
   "cell_type": "markdown",
   "metadata": {},
   "source": [
    "New maskers"
   ]
  },
  {
   "cell_type": "code",
   "execution_count": null,
   "metadata": {},
   "outputs": [],
   "source": [
    "fln_list=['1-notch4800_1200_30dB.json',\n",
    "'2-notch4800_1200_25dB.json',\n",
    "'3-notch5300_1200_26dB.json',\n",
    "'2-notch5400_bw1000.json',\n",
    "'3-notch5000_bw800.json']\n",
    "\n",
    "\n",
    "masker_list=[st.replace('-', '_').replace('.json', '') for st in fln_list]\n",
    "#print(masker_list)\n",
    "\n",
    "for masker_st in masker_list:\n",
    "    plotMasker(dic, masker_st, baseline=broadband_sig)\n",
    "\n",
    "pl.legend(bbox_to_anchor=(1.05, 1), loc='upper left')"
   ]
  },
  {
   "cell_type": "raw",
   "metadata": {},
   "source": [
    "\n",
    "picNums=dic['2_notch4800_1200_25dB']\n",
    "pic=loadPic(picNums[0])\n",
    "all_data=pic['AD_Data'][0][0]['AD_All_V'][0][0]\n",
    "for i in range(9):\n",
    "    pl.plot(all_data[i], label=i)\n",
    "pl.legend(bbox_to_anchor=(1.05, 1), loc='upper left')\n",
    "#pl.ylim([-0.2, 0.2])"
   ]
  },
  {
   "cell_type": "raw",
   "metadata": {},
   "source": [
    "\n",
    "picNums=dic['2_notch4800_1200_25dB']\n",
    "for num in range(9):\n",
    "    pic=loadPic(picNums[num])\n",
    "    all_data=pic['AD_Data'][0][0]['AD_All_V'][0][0]\n",
    "    for i in range(1):\n",
    "        pl.plot((all_data[i]+all_data[i+1])/2-broadband_sig, label=f\"block {num} rep {i}\")\n",
    "pl.legend(bbox_to_anchor=(1.05, 1), loc='upper left')"
   ]
  },
  {
   "cell_type": "markdown",
   "metadata": {},
   "source": [
    "### Notch 4k"
   ]
  },
  {
   "cell_type": "code",
   "execution_count": null,
   "metadata": {},
   "outputs": [],
   "source": [
    "#plotMasker(dic, '2_notch4000_bw1700_55dB')\n",
    "#plotMasker(dic, '3_notch4000_bw1700_50dB')\n",
    "plotMasker(dic, '4_notch4000_bw1700_45dB')\n",
    "plotMasker(dic, '5_notch4000_bw1700_40dB')\n",
    "plotMasker(dic, '6_notch4000_bw1700_35dB')\n",
    "plotMasker(dic, '7_notch4000_bw1700_32dB')\n",
    "plotMasker(dic, '8_notch4000_bw1700_29dB')\n",
    "plotMasker(dic, '9_notch4000_bw1700_26dB')\n",
    "plotMasker(dic, '10_notch4000_bw1700_23dB')\n",
    "\n",
    "plotMasker(dic, '11_notch400_bw1700_17dB')  #XXX be careful, typo in the name\n",
    "plotMasker(dic, 'broadband_noise')\n",
    "\n",
    "pl.legend(bbox_to_anchor=(1.05, 1), loc='upper left')\n",
    "\n"
   ]
  },
  {
   "cell_type": "code",
   "execution_count": null,
   "metadata": {},
   "outputs": [],
   "source": [
    "#plotMasker(dic, '2_notch4000_bw1700_55dB', baseline=broadband_sig)\n",
    "#plotMasker(dic, '3_notch4000_bw1700_50dB', baseline=broadband_sig)\n",
    "plotMasker(dic, '4_notch4000_bw1700_45dB', baseline=broadband_sig)\n",
    "plotMasker(dic, '5_notch4000_bw1700_40dB', baseline=broadband_sig)\n",
    "plotMasker(dic, '6_notch4000_bw1700_35dB', baseline=broadband_sig)\n",
    "plotMasker(dic, '7_notch4000_bw1700_32dB', baseline=broadband_sig)\n",
    "plotMasker(dic, '8_notch4000_bw1700_29dB', baseline=broadband_sig)\n",
    "plotMasker(dic, '9_notch4000_bw1700_26dB', baseline=broadband_sig)\n",
    "plotMasker(dic, '10_notch4000_bw1700_23dB', baseline=broadband_sig)\n",
    "\n",
    "plotMasker(dic, '11_notch400_bw1700_17dB', baseline=broadband_sig)\n",
    "\n",
    "#plotMasker(dic, 'broadband_noise', baseline=broadband_sig)\n",
    "\n",
    "pl.legend(bbox_to_anchor=(1.05, 1), loc='upper left')\n"
   ]
  },
  {
   "cell_type": "code",
   "execution_count": null,
   "metadata": {},
   "outputs": [],
   "source": [
    "pl.figure(figsize=(8, 6))\n",
    "cap=[]\n",
    "rms=[]\n",
    "masker_list=[#'2_notch4000_bw1700_55dB',\n",
    "'4_notch4000_bw1700_45dB',\n",
    "'5_notch4000_bw1700_40dB',\n",
    "'6_notch4000_bw1700_35dB',\n",
    "'7_notch4000_bw1700_32dB',\n",
    "'8_notch4000_bw1700_29dB',\n",
    "'9_notch4000_bw1700_26dB',\n",
    "'10_notch4000_bw1700_23dB',\n",
    "'11_notch400_bw1700_17dB']\n",
    "for masker in masker_list:\n",
    "    sig=getMaskerSig(dic,masker)\n",
    "    sig=sig[300:]\n",
    "    broadband_sig_trunc=broadband_sig[300:]\n",
    "    cap.append(np.max(sig-broadband_sig_trunc)-np.min(sig-broadband_sig_trunc))\n",
    "    rms.append(np.std(sig-broadband_sig_trunc))\n",
    "    \n",
    "#HACK\n",
    "cap[-1]=-cap[-1]\n",
    "\n",
    "\n",
    "pl.plot(-np.array([ 45,40,35,32,29,26,23, 17]), cap, label='max-min')\n",
    "\n",
    "#pl.plot(-np.array([55,50,45,40,37,34,31,28,25,22]), np.array(rms)*10, label='rms x10')\n",
    "pl.legend()\n",
    "pl.xlabel('- Attenuation (re:max)')\n",
    "pl.ylabel('Amplitude')"
   ]
  },
  {
   "cell_type": "code",
   "execution_count": null,
   "metadata": {},
   "outputs": [],
   "source": [
    "fln_list=['1-notch3800_bw800.json',\n",
    "'2-notch4000_bw900.json',\n",
    "'3-notch4000_bw1000.json',\n",
    "'4-notch4200_bw1100.json',\n",
    "'5-notch4200_bw800.json',\n",
    "'6-notch3800_bw1200.json']\n",
    "\n",
    "masker_list=[st.replace('-', '_').replace('.json', '') for st in fln_list]\n",
    "#print(masker_list)\n",
    "\n",
    "for masker_st in masker_list:\n",
    "    plotMasker(dic, masker_st, baseline=broadband_sig)\n",
    "    \n",
    "\n",
    "pl.legend(bbox_to_anchor=(1.05, 1), loc='upper left')\n"
   ]
  },
  {
   "cell_type": "markdown",
   "metadata": {},
   "source": [
    "New maskers"
   ]
  },
  {
   "cell_type": "code",
   "execution_count": null,
   "metadata": {},
   "outputs": [],
   "source": [
    "fln_list=['1-notch3800_1100_30dB.json',\n",
    "'2-notch3800_1100_25dB.json',\n",
    "'3-notch4300_1100_26dB.json',\n",
    "'4-notch4300_1100_23dB.json',\n",
    "'1-notch4500_bw700.json']\n",
    "\n",
    "\n",
    "masker_list=[st.replace('-', '_').replace('.json', '') for st in fln_list]\n",
    "#print(masker_list)\n",
    "\n",
    "for masker_st in masker_list:\n",
    "    plotMasker(dic, masker_st, baseline=broadband_sig)\n",
    "    \n",
    "pl.legend(bbox_to_anchor=(1.05, 1), loc='upper left')\n"
   ]
  },
  {
   "cell_type": "markdown",
   "metadata": {},
   "source": [
    "### Notch 3k"
   ]
  },
  {
   "cell_type": "code",
   "execution_count": null,
   "metadata": {},
   "outputs": [],
   "source": [
    "#plotMasker(dic, '2_notch3000_bw1500_55dB')\n",
    "#plotMasker(dic, '4_notch3000_bw1500_50dB')\n",
    "plotMasker(dic, '5_notch3000_bw1500_45dB')\n",
    "plotMasker(dic, '6_notch3000_bw1500_40dB')\n",
    "plotMasker(dic, '7_notch3000_bw1500_35dB')\n",
    "plotMasker(dic, '8_notch3000_bw1500_32dB')\n",
    "plotMasker(dic, '9_notch3000_bw1500_29dB')\n",
    "plotMasker(dic, '10_notch3000_bw1500_26dB')\n",
    "plotMasker(dic, '11_notch3000_bw1500_23dB')\n",
    "\n",
    "plotMasker(dic, '12_notch300_bw1500_17dB')  #typo\n",
    "plotMasker(dic, 'broadband_noise')\n",
    "\n",
    "pl.legend(bbox_to_anchor=(1.05, 1), loc='upper left')\n"
   ]
  },
  {
   "cell_type": "code",
   "execution_count": null,
   "metadata": {},
   "outputs": [],
   "source": [
    "#plotMasker(dic, '2_notch3000_bw1500_55dB', baseline=broadband_sig)\n",
    "#plotMasker(dic, '4_notch3000_bw1500_50dB', baseline=broadband_sig)\n",
    "plotMasker(dic, '5_notch3000_bw1500_45dB', baseline=broadband_sig)\n",
    "plotMasker(dic, '6_notch3000_bw1500_40dB', baseline=broadband_sig)\n",
    "plotMasker(dic, '7_notch3000_bw1500_35dB', baseline=broadband_sig)\n",
    "plotMasker(dic, '8_notch3000_bw1500_32dB', baseline=broadband_sig)\n",
    "plotMasker(dic, '9_notch3000_bw1500_29dB', baseline=broadband_sig)\n",
    "plotMasker(dic, '10_notch3000_bw1500_26dB', baseline=broadband_sig)\n",
    "plotMasker(dic, '11_notch3000_bw1500_23dB', baseline=broadband_sig)\n",
    "\n",
    "plotMasker(dic, '12_notch300_bw1500_17dB', baseline=broadband_sig)\n",
    "#plotMasker(dic, 'broadband_noise')\n",
    "\n",
    "pl.legend(bbox_to_anchor=(1.05, 1), loc='upper left')\n"
   ]
  },
  {
   "cell_type": "code",
   "execution_count": null,
   "metadata": {},
   "outputs": [],
   "source": [
    "pl.figure(figsize=(8, 6))\n",
    "cap=[]\n",
    "rms=[]\n",
    "masker_list=[#'2_notch3000_bw1500_55dB'\n",
    "#,'4_notch3000_bw1500_50dB'\n",
    "'5_notch3000_bw1500_45dB'\n",
    ",'6_notch3000_bw1500_40dB'\n",
    ",'7_notch3000_bw1500_35dB'\n",
    ",'8_notch3000_bw1500_32dB'\n",
    ",'9_notch3000_bw1500_29dB'\n",
    ",'10_notch3000_bw1500_26dB'\n",
    ",'11_notch3000_bw1500_23dB',\n",
    " '12_notch300_bw1500_17dB']\n",
    "    \n",
    "for masker in masker_list:\n",
    "    sig=getMaskerSig(dic,masker)\n",
    "    sig=sig[300:]\n",
    "    broadband_sig_trunc=broadband_sig[300:]\n",
    "    cap.append(np.max(sig-broadband_sig_trunc)-np.min(sig-broadband_sig_trunc))\n",
    "    rms.append(np.std(sig-broadband_sig_trunc))\n",
    "    \n",
    "#HACK\n",
    "cap[-1]=-cap[-1]\n",
    "\n",
    "pl.plot(-np.array([45,40,35,32,29,26,23, 17]), cap, label='max-min')\n",
    "\n",
    "    \n",
    "\n",
    "#pl.plot(-np.array([55,50,45,40,37,34,31,28,25,22]), np.array(rms)*10, label='rms x10')\n",
    "pl.legend()\n",
    "pl.xlabel('- Attenuation (re:max)')\n",
    "pl.ylabel('Amplitude')"
   ]
  },
  {
   "cell_type": "code",
   "execution_count": null,
   "metadata": {},
   "outputs": [],
   "source": [
    "fln_list=['1-notch2900_bw600.json',\n",
    "'2-notch3000_bw700.json',\n",
    "'3-notch3300_bw700.json',\n",
    "'4-notch3100_bw800.json',\n",
    "'6-notch3000_bw900.json',\n",
    "'7-notch3100_bw1000.json']\n",
    "\n",
    "\n",
    "masker_list=[st.replace('-', '_').replace('.json', '') for st in fln_list]\n",
    "#print(masker_list)\n",
    "\n",
    "for masker_st in masker_list:\n",
    "    plotMasker(dic, masker_st, baseline=broadband_sig)\n",
    "    \n",
    "pl.legend(bbox_to_anchor=(1.05, 1), loc='upper left')\n"
   ]
  },
  {
   "cell_type": "markdown",
   "metadata": {},
   "source": [
    "New maskers"
   ]
  },
  {
   "cell_type": "code",
   "execution_count": null,
   "metadata": {},
   "outputs": [],
   "source": [
    "fln_list=['1-notch2600_900_30dB.json',\n",
    "'2-notch2600_900_25dB.json',\n",
    "'3-notch3400_900_26dB.json',\n",
    "'4-notch3400_900_23dB.json',\n",
    "'1-notch2800_bw800.json',\n",
    "'2-notch3400_bw900.json']\n",
    "\n",
    "\n",
    "masker_list=[st.replace('-', '_').replace('.json', '') for st in fln_list]\n",
    "#print(masker_list)\n",
    "\n",
    "for masker_st in masker_list:\n",
    "    plotMasker(dic, masker_st, baseline=broadband_sig)\n",
    "    \n",
    "pl.legend(bbox_to_anchor=(1.05, 1), loc='upper left')\n"
   ]
  },
  {
   "cell_type": "markdown",
   "metadata": {},
   "source": [
    "### notch 2.2k"
   ]
  },
  {
   "cell_type": "code",
   "execution_count": null,
   "metadata": {},
   "outputs": [],
   "source": [
    "#plotMasker(dic, '2_notch2200_bw1500_55dB')\n",
    "#plotMasker(dic, '3_notch2200_bw1500_50dB')\n",
    "plotMasker(dic, '4_notch2200_bw1500_45dB')\n",
    "plotMasker(dic, '5_notch2200_bw1500_40dB')\n",
    "plotMasker(dic, '6_notch2200_bw1500_35dB')\n",
    "plotMasker(dic, '7_notch2200_bw1500_32dB')\n",
    "plotMasker(dic, '8_notch2200_bw1500_29dB')\n",
    "plotMasker(dic, '9_notch2200_bw1500_26dB')\n",
    "plotMasker(dic, '10_notch2200_bw1500_23dB')\n",
    "\n",
    "plotMasker(dic, '11_notch2200_bw1500_17dB')\n",
    "plotMasker(dic, 'broadband_noise')\n",
    "pl.legend(bbox_to_anchor=(1.05, 1), loc='upper left')\n"
   ]
  },
  {
   "cell_type": "code",
   "execution_count": null,
   "metadata": {},
   "outputs": [],
   "source": [
    "#plotMasker(dic, '2_notch2200_bw1500_55dB', baseline=broadband_sig)\n",
    "#plotMasker(dic, '3_notch2200_bw1500_50dB', baseline=broadband_sig)\n",
    "plotMasker(dic, '4_notch2200_bw1500_45dB', baseline=broadband_sig)\n",
    "plotMasker(dic, '5_notch2200_bw1500_40dB', baseline=broadband_sig)\n",
    "plotMasker(dic, '6_notch2200_bw1500_35dB', baseline=broadband_sig)\n",
    "plotMasker(dic, '7_notch2200_bw1500_32dB', baseline=broadband_sig)\n",
    "plotMasker(dic, '8_notch2200_bw1500_29dB', baseline=broadband_sig)\n",
    "plotMasker(dic, '9_notch2200_bw1500_26dB', baseline=broadband_sig)\n",
    "plotMasker(dic, '10_notch2200_bw1500_23dB', baseline=broadband_sig)\n",
    "\n",
    "plotMasker(dic, '11_notch2200_bw1500_17dB', baseline=broadband_sig)\n",
    "#plotMasker(dic, 'broadband_noise')\n",
    "pl.legend(bbox_to_anchor=(1.05, 1), loc='upper left')"
   ]
  },
  {
   "cell_type": "code",
   "execution_count": null,
   "metadata": {},
   "outputs": [],
   "source": [
    "pl.figure(figsize=(8, 6))\n",
    "cap=[]\n",
    "rms=[]\n",
    "masker_list=[#'2_notch2200_bw1500_55dB',\n",
    "#'3_notch2200_bw1500_50dB',\n",
    "'4_notch2200_bw1500_45dB',\n",
    "'5_notch2200_bw1500_40dB',\n",
    "'6_notch2200_bw1500_35dB',\n",
    "'7_notch2200_bw1500_32dB',\n",
    "'8_notch2200_bw1500_29dB',\n",
    "'9_notch2200_bw1500_26dB',\n",
    "'10_notch2200_bw1500_23dB',\n",
    "            '11_notch2200_bw1500_17dB']\n",
    "for masker in masker_list:\n",
    "    sig=getMaskerSig(dic,masker)\n",
    "    sig=sig[300:]\n",
    "    broadband_sig_trunc=broadband_sig[300:]\n",
    "    cap.append(np.max(sig-broadband_sig_trunc)-np.min(sig-broadband_sig_trunc))\n",
    "    rms.append(np.std(sig-broadband_sig_trunc))\n",
    "    \n",
    "    \n",
    "#HACK\n",
    "cap[-1]=-cap[-1]\n",
    "\n",
    "\n",
    "pl.plot(-np.array([ 45,40,35,32,29,26,23, 17]), cap, label='max-min')\n",
    "\n",
    "#pl.plot(-np.array([55,50,45,40,37,34,31,28,25,22]), np.array(rms)*10, label='rms x10')\n",
    "pl.legend()\n",
    "pl.xlabel('- Attenuation (re:max)')\n",
    "pl.ylabel('Amplitude')"
   ]
  },
  {
   "cell_type": "code",
   "execution_count": null,
   "metadata": {},
   "outputs": [],
   "source": [
    "fln_list=['1-notch2000_bw600.json', #modified\n",
    "'2-notch2200_bw800.json',\n",
    "'3-notch2300_bw900.json',\n",
    "          '3-notch2600_bw700.json', #added\n",
    "'4-notch2500_bw600.json',  #modified\n",
    "'5-notch2400_bw900.json']\n",
    "\n",
    "masker_list=[st.replace('-', '_').replace('.json', '') for st in fln_list]\n",
    "#print(masker_list)\n",
    "\n",
    "for masker_st in masker_list:\n",
    "    plotMasker(dic, masker_st, baseline=broadband_sig)\n",
    "    \n",
    "pl.legend(bbox_to_anchor=(1.05, 1), loc='upper left')"
   ]
  },
  {
   "cell_type": "markdown",
   "metadata": {},
   "source": [
    "### Notch 1.5k"
   ]
  },
  {
   "cell_type": "code",
   "execution_count": null,
   "metadata": {},
   "outputs": [],
   "source": [
    "#plotMasker(dic, '31_notch1500_bw1000_55dB')\n",
    "#plotMasker(dic, '32_notch1500_bw1000_50dB')\n",
    "plotMasker(dic, '33_notch1500_bw1000_45dB')\n",
    "plotMasker(dic, '34_notch1500_bw1000_40dB')\n",
    "plotMasker(dic, '35_notch1500_bw1000_35dB')\n",
    "plotMasker(dic, '36_notch1500_bw1000_32dB')\n",
    "plotMasker(dic, '37_notch1500_bw1000_29dB')\n",
    "plotMasker(dic, '38_notch1500_bw1000_26dB')\n",
    "plotMasker(dic, '39_notch1500_bw1000_23dB')\n",
    "plotMasker(dic, '40_notch1500_bw1000_17dB')\n",
    "plotMasker(dic, 'broadband_noise')\n",
    "pl.legend(bbox_to_anchor=(1.05, 1), loc='upper left')"
   ]
  },
  {
   "cell_type": "code",
   "execution_count": null,
   "metadata": {},
   "outputs": [],
   "source": [
    "#plotMasker(dic, '31_notch1500_bw1000_55dB', baseline=broadband_sig)\n",
    "#plotMasker(dic, '32_notch1500_bw1000_50dB', baseline=broadband_sig)\n",
    "plotMasker(dic, '33_notch1500_bw1000_45dB', baseline=broadband_sig)\n",
    "plotMasker(dic, '34_notch1500_bw1000_40dB', baseline=broadband_sig)\n",
    "plotMasker(dic, '35_notch1500_bw1000_35dB', baseline=broadband_sig)\n",
    "plotMasker(dic, '36_notch1500_bw1000_32dB', baseline=broadband_sig)\n",
    "plotMasker(dic, '37_notch1500_bw1000_29dB', baseline=broadband_sig)\n",
    "plotMasker(dic, '38_notch1500_bw1000_26dB', baseline=broadband_sig)\n",
    "plotMasker(dic, '39_notch1500_bw1000_23dB', baseline=broadband_sig)\n",
    "plotMasker(dic, '40_notch1500_bw1000_17dB', baseline=broadband_sig)\n",
    "#plotMasker(dic, 'broadband_noise')\n",
    "pl.legend(bbox_to_anchor=(1.05, 1), loc='upper left')"
   ]
  },
  {
   "cell_type": "code",
   "execution_count": null,
   "metadata": {},
   "outputs": [],
   "source": [
    "pl.figure(figsize=(8, 6))\n",
    "cap=[]\n",
    "rms=[]\n",
    "\n",
    "\n",
    "masker_list=[#'31_notch1500_bw1000_55dB',\n",
    "#'32_notch1500_bw1000_50dB',\n",
    "'33_notch1500_bw1000_45dB',\n",
    "'34_notch1500_bw1000_40dB',\n",
    "'35_notch1500_bw1000_35dB',\n",
    "'36_notch1500_bw1000_32dB',\n",
    "'37_notch1500_bw1000_29dB',\n",
    "'38_notch1500_bw1000_26dB',\n",
    "'39_notch1500_bw1000_23dB',\n",
    "            \n",
    "'40_notch1500_bw1000_17dB']\n",
    "\n",
    "for masker in masker_list:\n",
    "    sig=getMaskerSig(dic,masker)\n",
    "    sig=sig[300:]\n",
    "    broadband_sig_trunc=broadband_sig[300:]\n",
    "    cap.append(np.max(sig-broadband_sig_trunc)-np.min(sig-broadband_sig_trunc))\n",
    "    rms.append(np.std(sig-broadband_sig_trunc))\n",
    "#HACK\n",
    "cap[-1]=-cap[-1]\n",
    "pl.plot(-np.array([45,40,35,32,29,26,23, 17]), cap, label='max-min')\n",
    "\n",
    "#pl.plot(-np.array([55,50,45,40,37,34,31,28,25,22]), np.array(rms)*10, label='rms x10')\n",
    "pl.legend()\n",
    "pl.xlabel('- Attenuation (re:max)')\n",
    "pl.ylabel('Amplitude')"
   ]
  },
  {
   "cell_type": "code",
   "execution_count": null,
   "metadata": {},
   "outputs": [],
   "source": [
    "fln_list=[#'1-notch_1400_bw400.json',\n",
    "'2-notch1500_bw500.json',\n",
    "'3-notch1500_bw700.json',\n",
    "'4-notch1600_bw600.json',\n",
    "'5-notch1700_bw800.json',\n",
    "#'6-notch1700_bw500.json',\n",
    "'3-notch1300_bw400.json', #added\n",
    "'4-notch1800_bw500.json'  #added\n",
    "]\n",
    "\n",
    "\n",
    "masker_list=[st.replace('-', '_').replace('.json', '') for st in fln_list]\n",
    "#print(masker_list)\n",
    "\n",
    "for masker_st in masker_list:\n",
    "    plotMasker(dic, masker_st, baseline=broadband_sig)\n",
    "    \n",
    "\n",
    "pl.legend(bbox_to_anchor=(1.05, 1), loc='upper left')"
   ]
  },
  {
   "cell_type": "code",
   "execution_count": null,
   "metadata": {},
   "outputs": [],
   "source": []
  },
  {
   "cell_type": "code",
   "execution_count": null,
   "metadata": {},
   "outputs": [],
   "source": []
  }
 ],
 "metadata": {
  "kernelspec": {
   "display_name": "Python 3",
   "language": "python",
   "name": "python3"
  },
  "language_info": {
   "codemirror_mode": {
    "name": "ipython",
    "version": 3
   },
   "file_extension": ".py",
   "mimetype": "text/x-python",
   "name": "python",
   "nbconvert_exporter": "python",
   "pygments_lexer": "ipython3",
   "version": "3.7.6"
  }
 },
 "nbformat": 4,
 "nbformat_minor": 4
}
