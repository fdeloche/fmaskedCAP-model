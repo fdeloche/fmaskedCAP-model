{
 "cells": [
  {
   "cell_type": "code",
   "execution_count": null,
   "metadata": {},
   "outputs": [],
   "source": [
    "import numpy as np\n",
    "\n",
    "import matplotlib.pyplot as pl\n",
    "import matplotlib as mpl\n",
    "\n",
    "mpl.rc('figure', figsize=(14,12))\n",
    "\n",
    "import os\n",
    "import re\n",
    "\n",
    "from scipy.io import loadmat\n",
    "from scipy.ndimage import gaussian_filter1d"
   ]
  },
  {
   "cell_type": "code",
   "execution_count": null,
   "metadata": {},
   "outputs": [],
   "source": [
    "data_folder='../../Data/Data-10-09/matFiles'\n",
    "\n",
    "listFiles = os.listdir(data_folder)\n",
    "\n",
    "listFilesMat=[]\n",
    "\n",
    "for filename in listFiles:\n",
    "    if re.match('.*.mat', filename):\n",
    "        listFilesMat.append(filename)\n",
    "listFilesMat.sort()"
   ]
  },
  {
   "cell_type": "code",
   "execution_count": null,
   "metadata": {},
   "outputs": [],
   "source": [
    "listFilesMat"
   ]
  },
  {
   "cell_type": "markdown",
   "metadata": {},
   "source": [
    "### Functions"
   ]
  },
  {
   "cell_type": "code",
   "execution_count": null,
   "metadata": {},
   "outputs": [],
   "source": [
    "#filter ind if necessary\n",
    "begin_ind=175   #27\n",
    "end_ind=912  #49"
   ]
  },
  {
   "cell_type": "code",
   "execution_count": null,
   "metadata": {},
   "outputs": [],
   "source": [
    "def split_name(filename):\n",
    "    '''returns (picNumber, masker filename)'''\n",
    "    m=re.match('p([0-9]{4})_fmasked_CAP_(.*).mat', filename)\n",
    "    assert m, f'{filename} dit not match'\n",
    "    p, name= m.groups()\n",
    "    return int(p), name\n",
    "\n",
    "map_table={}  #map masker filename -> pic numbers\n",
    "for fln in listFilesMat:\n",
    "    p, name = split_name(fln)\n",
    "    if name not in map_table:\n",
    "        map_table[name]=[p]\n",
    "    else:\n",
    "        li=map_table[name]\n",
    "        li.append(p)\n",
    "        map_table[name]=li\n",
    "        \n",
    "filtered_map_table={}  #map masker filename -> pic numbers\n",
    "for fln in listFilesMat:\n",
    "    p, name = split_name(fln)\n",
    "    if p>=begin_ind and p<=end_ind:\n",
    "\n",
    "        if name not in filtered_map_table:\n",
    "            filtered_map_table[name]=[p]\n",
    "        else:\n",
    "            li=filtered_map_table[name]\n",
    "            li.append(p)\n",
    "            filtered_map_table[name]=li\n",
    "    \n",
    "    "
   ]
  },
  {
   "cell_type": "code",
   "execution_count": null,
   "metadata": {},
   "outputs": [],
   "source": [
    "filtered_map_table"
   ]
  },
  {
   "cell_type": "markdown",
   "metadata": {},
   "source": [
    "As we messed up the things with attn5dB, needs to check if attenuations are the same"
   ]
  },
  {
   "cell_type": "code",
   "execution_count": null,
   "metadata": {},
   "outputs": [],
   "source": [
    "def loadPic(n):\n",
    "    found=False\n",
    "    for filename in listFilesMat:\n",
    "        if f'p{str(n).zfill(4)}' in filename:\n",
    "            found=True\n",
    "            break\n",
    "    assert found, f'pic {n} not found.'\n",
    "    arr= loadmat(f'{data_folder}/{filename}')\n",
    "    return arr\n",
    "\n",
    "\n",
    "def plotPic(picDic=None, n=None, label='', tmin=0, baseline=None):\n",
    "    '''\n",
    "    Plot pic given picture dictionary or pic number. \n",
    "    Args:\n",
    "        baseline: Picture dictionary for baseline signal'''\n",
    "    if not n is None:\n",
    "        picDic=loadPic(n)\n",
    "    assert not picDic is None\n",
    "    if label=='':\n",
    "        label=picDic['wavefilename'][0]\n",
    "    val=np.squeeze(picDic['valAvg'].T)\n",
    "    t=np.linspace(picDic['XstartPlot_ms'][0][0], picDic['XendPlot_ms'][0][0], num=len(val))\n",
    "    if baseline is not None:\n",
    "        val=val-np.squeeze(baseline['valAvg'].T)\n",
    "    #val=np.cumsum(val) #HACK!!\n",
    "    pl.plot(t, val, label=label)\n",
    "    pl.xlim([tmin, picDic['XendPlot_ms'][0][0]])\n",
    "    \n",
    "def getMaskerSig(dic, name):\n",
    "    \n",
    "    picNums=dic[name]\n",
    "    firstPic=True\n",
    "    for picNum in picNums:\n",
    "        picDic=loadPic(picNum)\n",
    "        if firstPic:\n",
    "            val=np.sum(picDic['valAll'][1::2], axis=0)\n",
    "            #val=np.squeeze(picDic['valAvg'].T)\n",
    "            firstPic=False\n",
    "        else:\n",
    "            val+=np.sum(picDic['valAll'][1::2], axis=0)\n",
    "            #val+=np.squeeze(picDic['valAvg'].T)\n",
    "    val/=len(picNums)\n",
    "    return val\n",
    "    \n",
    "def plotMasker(dic, name, tmin=6, tmax=12, baseline=None):\n",
    "    '''\n",
    "    Plot avg signal for masker given masker name and dictionary of picNums \n",
    "    Args:\n",
    "        baseline: signal for baseline signal'''\n",
    "    label=name\n",
    "    val=getMaskerSig(dic, name)\n",
    "    \n",
    "    picNums=dic[name]\n",
    "    for picNum in picNums:\n",
    "        picDic=loadPic(picNum)\n",
    "        break\n",
    "\n",
    "    t=np.linspace(picDic['XstartPlot_ms'][0][0], picDic['XendPlot_ms'][0][0], num=len(val))\n",
    "    if baseline is not None:\n",
    "        val=val-baseline\n",
    "    #val=gaussian_filter1d(val, 1.5) #HACK\n",
    "    #val=np.cumsum(val) #HACK!!\n",
    "    pl.plot(t, val, label=label)\n",
    "    if tmax==0:\n",
    "        tmax=picDic['XendPlot_ms'][0][0]\n",
    "    pl.xlim([tmin, tmax])\n",
    "    \n",
    "    \n",
    "def getMaskerAtten(picDic=None, n=None):\n",
    "    if not n is None:\n",
    "        picDic=loadPic(n)\n",
    "    assert not picDic is None\n",
    "    ans=picDic['masker_atten_dB']\n",
    "    return ans[0][0]"
   ]
  },
  {
   "cell_type": "code",
   "execution_count": null,
   "metadata": {},
   "outputs": [],
   "source": [
    "filtered_map_table2"
   ]
  },
  {
   "cell_type": "code",
   "execution_count": null,
   "metadata": {},
   "outputs": [],
   "source": [
    "filtered_map_table2={}\n",
    "for fln, picNums in filtered_map_table.items():\n",
    "    temp={}\n",
    "    max_amp=0\n",
    "    no_band=False\n",
    "    for n in picNums:\n",
    "        p=loadPic(n)\n",
    "        if len(p['bands'])>0:\n",
    "            amp=p['bands'][0][0][0][0][0]\n",
    "            if amp>max_amp:\n",
    "                max_amp=amp\n",
    "            if not amp in temp:\n",
    "                temp[amp]= [n]\n",
    "            else:\n",
    "                temp[amp].append(n)\n",
    "        else:\n",
    "            no_band=True\n",
    "            break\n",
    "    if no_band:\n",
    "        filtered_map_table2[fln]=picNums\n",
    "    else:\n",
    "        for amp in temp:\n",
    "            attn=amp/max_amp\n",
    "            \n",
    "            if np.abs(attn-1.)<1e-4:\n",
    "                filtered_map_table2[fln]=temp[amp]\n",
    "            elif np.abs(attn-0.1)<1e-4:\n",
    "                filtered_map_table2[fln+'_attn20dB']=temp[amp]  #et mince....\n",
    "            elif  np.abs(attn-10**(-1/4))<1e-4:\n",
    "                filtered_map_table2[fln+'_attn5dB']=temp[amp]\n",
    "            elif np.abs(attn-10**(-3/4))<1e-4:\n",
    "                filtered_map_table2[fln+'_attn15dB']=temp[amp]\n",
    "            else:\n",
    "                print(attn)\n",
    "                "
   ]
  },
  {
   "cell_type": "markdown",
   "metadata": {},
   "source": [
    "### Show examples of signals"
   ]
  },
  {
   "cell_type": "code",
   "execution_count": null,
   "metadata": {},
   "outputs": [],
   "source": [
    "dic=filtered_map_table2"
   ]
  },
  {
   "cell_type": "code",
   "execution_count": null,
   "metadata": {},
   "outputs": [],
   "source": [
    "p=loadPic(205)\n",
    "print(np.shape(p['valAll']))"
   ]
  },
  {
   "cell_type": "code",
   "execution_count": null,
   "metadata": {},
   "outputs": [],
   "source": [
    "names=list(dic.keys())\n",
    "names.sort()\n",
    "print(names)"
   ]
  },
  {
   "cell_type": "code",
   "execution_count": null,
   "metadata": {},
   "outputs": [],
   "source": [
    "broadband=getMaskerSig(dic, 'broadband_noise')\n",
    "nomasker=getMaskerSig(dic, 'nomasker')"
   ]
  },
  {
   "cell_type": "code",
   "execution_count": null,
   "metadata": {},
   "outputs": [],
   "source": [
    "plotMasker(dic, 'nomasker')\n",
    "plotMasker(dic, 'broadband_noise')\n",
    "pl.legend()"
   ]
  },
  {
   "cell_type": "markdown",
   "metadata": {},
   "source": [
    "### Narrow-band analysis"
   ]
  },
  {
   "cell_type": "code",
   "execution_count": null,
   "metadata": {},
   "outputs": [],
   "source": [
    "plotMasker(dic, '1_hp_10000Hz')\n",
    "plotMasker(dic, '2_hp_9000Hz')\n",
    "plotMasker(dic, '3_hp_7500Hz')\n",
    "plotMasker(dic, '4_hp_6000Hz')\n",
    "plotMasker(dic, '5_hp_5000Hz')\n",
    "plotMasker(dic, '6_hp_4000Hz')\n",
    "plotMasker(dic, '7_hp_3000Hz')\n",
    "plotMasker(dic, '8_hp_2000Hz')\n",
    "plotMasker(dic, '9_hp_1500Hz')\n",
    "plotMasker(dic, '10_hp_1000Hz')\n",
    "plotMasker(dic, 'broadband_noise')  #5 dB higher\n",
    "pl.legend()"
   ]
  },
  {
   "cell_type": "code",
   "execution_count": null,
   "metadata": {},
   "outputs": [],
   "source": [
    "#plotMasker(dic, '1_hp_10000Hz', baseline=nomasker)\n",
    "plotMasker(dic, '2_hp_9000Hz', baseline=getMaskerSig(dic, '1_hp_10000Hz'))\n",
    "plotMasker(dic, '3_hp_7500Hz', baseline=getMaskerSig(dic, '2_hp_9000Hz'))\n",
    "plotMasker(dic, '4_hp_6000Hz', baseline=getMaskerSig(dic, '3_hp_7500Hz'))\n",
    "plotMasker(dic, '5_hp_5000Hz', baseline=getMaskerSig(dic, '4_hp_6000Hz'))\n",
    "plotMasker(dic, '6_hp_4000Hz', baseline=getMaskerSig(dic, '5_hp_5000Hz'))\n",
    "plotMasker(dic, '7_hp_3000Hz', baseline=getMaskerSig(dic, '6_hp_4000Hz'))\n",
    "plotMasker(dic, '8_hp_2000Hz', baseline=getMaskerSig(dic, '7_hp_3000Hz'))\n",
    "plotMasker(dic, '9_hp_1500Hz', baseline=getMaskerSig(dic, '8_hp_2000Hz'))\n",
    "plotMasker(dic, '10_hp_1000Hz', baseline=getMaskerSig(dic, '9_hp_1500Hz'))\n",
    "pl.legend()"
   ]
  },
  {
   "cell_type": "code",
   "execution_count": null,
   "metadata": {},
   "outputs": [],
   "source": [
    "plotMasker(dic, '1_hp_10000Hz', baseline=broadband)\n",
    "plotMasker(dic, '2_hp_9000Hz', baseline=broadband)\n",
    "plotMasker(dic, '3_hp_7500Hz', baseline=broadband)\n",
    "plotMasker(dic, '4_hp_6000Hz', baseline=broadband)\n",
    "plotMasker(dic, '5_hp_5000Hz', baseline=broadband)\n",
    "plotMasker(dic, '6_hp_4000Hz', baseline=broadband)\n",
    "plotMasker(dic, '7_hp_3000Hz', baseline=broadband)\n",
    "plotMasker(dic, '8_hp_2000Hz', baseline=broadband)\n",
    "plotMasker(dic, '9_hp_1500Hz', baseline=broadband)\n",
    "plotMasker(dic, '10_hp_1000Hz', baseline=broadband)\n",
    "pl.legend()"
   ]
  },
  {
   "cell_type": "code",
   "execution_count": null,
   "metadata": {},
   "outputs": [],
   "source": [
    "plotMasker(dic, '1_hp_10000Hz', baseline=nomasker)\n",
    "plotMasker(dic, '2_hp_9000Hz', baseline=nomasker)\n",
    "plotMasker(dic, '3_hp_7500Hz', baseline=nomasker)\n",
    "plotMasker(dic, '4_hp_6000Hz', baseline=nomasker)\n",
    "plotMasker(dic, '5_hp_5000Hz', baseline=nomasker)\n",
    "plotMasker(dic, '6_hp_4000Hz', baseline=nomasker)\n",
    "plotMasker(dic, '7_hp_3000Hz', baseline=nomasker)\n",
    "plotMasker(dic, '8_hp_2000Hz', baseline=nomasker)\n",
    "plotMasker(dic, '9_hp_1500Hz', baseline=nomasker)\n",
    "plotMasker(dic, '10_hp_1000Hz', baseline=nomasker)\n",
    "pl.legend()"
   ]
  },
  {
   "cell_type": "markdown",
   "metadata": {},
   "source": [
    "### Notch 5k"
   ]
  },
  {
   "cell_type": "code",
   "execution_count": null,
   "metadata": {},
   "outputs": [],
   "source": [
    "plotMasker(dic, '1_notch5k_3k_attn65dB')\n",
    "plotMasker(dic, '2_notch5k_3k_attn60dB')\n",
    "plotMasker(dic, '3_notch5k_3k_attn55dB')\n",
    "plotMasker(dic, '4_notch5k_3k_attn50dB')\n",
    "plotMasker(dic, '5_notch5k_3k_attn45dB')\n",
    "plotMasker(dic, '6_notch5k_3k_attn40dB')\n",
    "plotMasker(dic, '7_notch5k_3k_attn37dB')\n",
    "plotMasker(dic, '8_notch5k_3k_attn34dB')\n",
    "plotMasker(dic, '9_notch5k_3k_attn31dB')\n",
    "plotMasker(dic, '10_notch5k_3k_attn28dB')\n",
    "plotMasker(dic, '11_notch5k_3k_attn25dB')\n",
    "plotMasker(dic, '12_notch5k_3k_attn22dB')\n",
    "\n",
    "plotMasker(dic, 'broadband_noise')\n",
    "pl.legend()"
   ]
  },
  {
   "cell_type": "code",
   "execution_count": null,
   "metadata": {},
   "outputs": [],
   "source": [
    "#plotMasker(dic, '1_notch5k_3k_attn65dB', baseline=broadband)\n",
    "#plotMasker(dic, '2_notch5k_3k_attn60dB', baseline=broadband)\n",
    "plotMasker(dic, '3_notch5k_3k_attn55dB', baseline=broadband)\n",
    "plotMasker(dic, '4_notch5k_3k_attn50dB', baseline=broadband)\n",
    "plotMasker(dic, '5_notch5k_3k_attn45dB', baseline=broadband)\n",
    "plotMasker(dic, '6_notch5k_3k_attn40dB', baseline=broadband)\n",
    "plotMasker(dic, '7_notch5k_3k_attn37dB', baseline=broadband)\n",
    "plotMasker(dic, '8_notch5k_3k_attn34dB', baseline=broadband)\n",
    "plotMasker(dic, '9_notch5k_3k_attn31dB', baseline=broadband)\n",
    "plotMasker(dic, '10_notch5k_3k_attn28dB', baseline=broadband)\n",
    "plotMasker(dic, '11_notch5k_3k_attn25dB', baseline=broadband)\n",
    "plotMasker(dic, '12_notch5k_3k_attn22dB', baseline=broadband)\n",
    "\n",
    "pl.legend()"
   ]
  },
  {
   "cell_type": "code",
   "execution_count": null,
   "metadata": {},
   "outputs": [],
   "source": [
    "cap=[]\n",
    "rms=[]\n",
    "for masker in ['3_notch5k_3k_attn55dB','4_notch5k_3k_attn50dB',\n",
    "              '5_notch5k_3k_attn45dB','6_notch5k_3k_attn40dB',\n",
    "              '7_notch5k_3k_attn37dB','8_notch5k_3k_attn34dB',\n",
    "              '9_notch5k_3k_attn31dB','10_notch5k_3k_attn28dB',\n",
    "              '11_notch5k_3k_attn25dB', '12_notch5k_3k_attn22dB']:\n",
    "    sig=getMaskerSig(dic,masker)\n",
    "    cap.append(np.max(sig-broadband)-np.min(sig-broadband))\n",
    "    rms.append(np.std(sig-broadband))\n",
    "pl.plot(-np.array([55,50,45,40,37,34,31,28,25,22]), cap, label='max-min')\n",
    "\n",
    "#pl.plot(-np.array([55,50,45,40,37,34,31,28,25,22]), np.array(rms)*10, label='rms x10')\n",
    "pl.legend()\n",
    "    "
   ]
  },
  {
   "cell_type": "code",
   "execution_count": null,
   "metadata": {},
   "outputs": [],
   "source": []
  },
  {
   "cell_type": "markdown",
   "metadata": {},
   "source": [
    "### Notch 2k"
   ]
  },
  {
   "cell_type": "code",
   "execution_count": null,
   "metadata": {},
   "outputs": [],
   "source": [
    "plotMasker(dic, '2_notch2500_2k_attn65dB')\n",
    "plotMasker(dic, '3_notch2500_2k_attn60dB')\n",
    "plotMasker(dic, '4_notch2500_2k_attn55dB')\n",
    "plotMasker(dic, '5_notch2500_2k_attn45dB')\n",
    "plotMasker(dic, '6_notch2500_2k_attn40dB')\n",
    "plotMasker(dic, '7_notch2500_2k_attn37dB')\n",
    "plotMasker(dic, '8_notch2500_2k_attn34dB')\n",
    "plotMasker(dic, '9_notch2500_2k_attn31dB')\n",
    "plotMasker(dic, '10_notch2500_2k_attn28dB')\n",
    "plotMasker(dic, '11_notch2500_2k_attn25dB')\n",
    "plotMasker(dic, '12_notch2500_2k_attn22dB')\n",
    "\n",
    "plotMasker(dic, 'broadband_noise')\n",
    "pl.legend()"
   ]
  },
  {
   "cell_type": "code",
   "execution_count": null,
   "metadata": {},
   "outputs": [],
   "source": [
    "#plotMasker(dic, '2_notch2500_2k_attn65dB', baseline=broadband)\n",
    "plotMasker(dic, '3_notch2500_2k_attn60dB', baseline=broadband)\n",
    "plotMasker(dic, '4_notch2500_2k_attn55dB', baseline=broadband)\n",
    "plotMasker(dic, '5_notch2500_2k_attn45dB', baseline=broadband)\n",
    "plotMasker(dic, '6_notch2500_2k_attn40dB', baseline=broadband)\n",
    "plotMasker(dic, '7_notch2500_2k_attn37dB', baseline=broadband)\n",
    "plotMasker(dic, '8_notch2500_2k_attn34dB', baseline=broadband)\n",
    "plotMasker(dic, '9_notch2500_2k_attn31dB', baseline=broadband)\n",
    "plotMasker(dic, '10_notch2500_2k_attn28dB', baseline=broadband)\n",
    "plotMasker(dic, '11_notch2500_2k_attn25dB', baseline=broadband)\n",
    "plotMasker(dic, '12_notch2500_2k_attn22dB', baseline=broadband)\n",
    "\n",
    "#plotMasker(dic, 'broadband_noise')\n",
    "pl.legend()"
   ]
  },
  {
   "cell_type": "code",
   "execution_count": null,
   "metadata": {},
   "outputs": [],
   "source": [
    "s=getMaskerSig(dic,'12_notch2500_2k_attn22dB')+getMaskerSig(dic,'11_notch2500_2k_attn25dB')\n",
    "s2=getMaskerSig(dic,'3_notch2500_2k_attn60dB')+getMaskerSig(dic,'4_notch2500_2k_attn55dB')\n",
    "baseline=getMaskerSig(dic,'broadband_noise')\n",
    "t=np.arange(len(s))/(48828)\n",
    "pl.plot(t*1e3, s-2*baseline, label='low atten')\n",
    "pl.plot(t*1e3, s2-2*baseline, label='high atten')\n",
    "pl.xlim([6,12])\n",
    "pl.legend()"
   ]
  },
  {
   "cell_type": "markdown",
   "metadata": {},
   "source": [
    "### lp"
   ]
  },
  {
   "cell_type": "code",
   "execution_count": null,
   "metadata": {},
   "outputs": [],
   "source": [
    "plotMasker(dic, '4_lp_2500Hz')\n",
    "plotMasker(dic, '6_lp_4000Hz')\n",
    "plotMasker(dic, '7_lp_5000Hz')\n",
    "plotMasker(dic, '10_lp_7000Hz')"
   ]
  },
  {
   "cell_type": "code",
   "execution_count": null,
   "metadata": {},
   "outputs": [],
   "source": [
    "baseline=getMaskerSig(dic,'10_hp_1000Hz')\n",
    "plotMasker(dic, '4_lp_2500Hz', baseline=baseline)\n",
    "plotMasker(dic, '6_lp_4000Hz',  baseline=baseline)\n",
    "plotMasker(dic, '7_lp_5000Hz',  baseline=baseline)\n",
    "plotMasker(dic, '10_lp_7000Hz',  baseline=baseline)\n",
    "pl.legend()"
   ]
  },
  {
   "cell_type": "code",
   "execution_count": null,
   "metadata": {},
   "outputs": [],
   "source": [
    "plotMasker(dic, '4_lp_2500Hz', baseline=nomasker)\n",
    "plotMasker(dic, '6_lp_4000Hz',  baseline=nomasker)\n",
    "plotMasker(dic, '7_lp_5000Hz',  baseline=nomasker)\n",
    "plotMasker(dic, '10_lp_7000Hz',  baseline=nomasker)\n",
    "pl.legend()"
   ]
  },
  {
   "cell_type": "markdown",
   "metadata": {},
   "source": [
    "### Click delay"
   ]
  },
  {
   "cell_type": "code",
   "execution_count": null,
   "metadata": {},
   "outputs": [],
   "source": [
    "clickdelay_map_table={'8ms':[923,924], '10ms':[913,914], '14ms': [917,918], '12ms': [919,920]}  "
   ]
  },
  {
   "cell_type": "code",
   "execution_count": null,
   "metadata": {},
   "outputs": [],
   "source": [
    "for delay in clickdelay_map_table:\n",
    "    plotMasker(clickdelay_map_table, delay)\n",
    "plotMasker(dic, 'nomasker')\n",
    "pl.legend()"
   ]
  },
  {
   "cell_type": "markdown",
   "metadata": {},
   "source": [
    "### Narrow 5k"
   ]
  },
  {
   "cell_type": "code",
   "execution_count": null,
   "metadata": {},
   "outputs": [],
   "source": []
  },
  {
   "cell_type": "code",
   "execution_count": null,
   "metadata": {},
   "outputs": [],
   "source": [
    "#plotMasker(dic, '1_narrow5k_2k')  #-20db add. attenuation...\n",
    "plotMasker(dic, '1_narrow5k_bw1700_attn20dB')\n",
    "plotMasker(dic, '2_narrow5k_bw1400_attn20dB')\n",
    "plotMasker(dic, '3_narrow5k_bw1100_attn20dB')\n",
    "pl.legend()"
   ]
  },
  {
   "cell_type": "code",
   "execution_count": null,
   "metadata": {},
   "outputs": [],
   "source": [
    "#plotMasker(dic, '1_narrow5k_2k', baseline=nomasker) #-20db add. attenuation...\n",
    "plotMasker(dic, '1_narrow5k_bw1700_attn20dB', baseline=nomasker)\n",
    "plotMasker(dic, '2_narrow5k_bw1400_attn20dB', baseline=nomasker)\n",
    "plotMasker(dic, '3_narrow5k_bw1100_attn20dB', baseline=nomasker)\n",
    "plotMasker(dic, '4_narrow5k_bw900_attn20dB', baseline=nomasker)\n",
    "pl.legend()"
   ]
  },
  {
   "cell_type": "markdown",
   "metadata": {},
   "source": [
    "### Notches 5k"
   ]
  },
  {
   "cell_type": "markdown",
   "metadata": {},
   "source": [
    "Too much attenuation"
   ]
  },
  {
   "cell_type": "raw",
   "metadata": {},
   "source": [
    "plotMasker(dic, '5_notch5000_bw1700')\n",
    "plotMasker(dic, '6_notch5000_bw1100')\n",
    "plotMasker(dic, '7_notch5000_bw700')"
   ]
  },
  {
   "cell_type": "raw",
   "metadata": {},
   "source": [
    "plotMasker(dic, '5_notch5000_bw1700', baseline=nomasker)\n",
    "plotMasker(dic, '6_notch5000_bw1100', baseline=nomasker)\n",
    "plotMasker(dic, '7_notch5000_bw700', baseline=nomasker)"
   ]
  },
  {
   "cell_type": "markdown",
   "metadata": {},
   "source": [
    "### Narrow around 5k"
   ]
  },
  {
   "cell_type": "code",
   "execution_count": null,
   "metadata": {},
   "outputs": [],
   "source": [
    "\n",
    "plotMasker(dic, '4_hp_6000Hz')\n",
    "plotMasker(dic, '5_hp_5000Hz')\n",
    "plotMasker(dic, '6_hp_4000Hz')\n",
    "\n",
    "plotMasker(dic, '1_hp_5500Hz')\n",
    "plotMasker(dic, '5_hp_4500Hz')\n",
    "pl.legend()"
   ]
  },
  {
   "cell_type": "code",
   "execution_count": null,
   "metadata": {},
   "outputs": [],
   "source": [
    "plotMasker(dic, '4_hp_6000Hz', baseline=broadband)\n",
    "\n",
    "plotMasker(dic, '1_hp_5500Hz', baseline=broadband)\n",
    "plotMasker(dic, '5_hp_5000Hz', baseline=broadband)\n",
    "\n",
    "plotMasker(dic, '5_hp_4500Hz', baseline=broadband)\n",
    "plotMasker(dic, '6_hp_4000Hz', baseline=broadband)\n",
    "\n",
    "pl.legend()"
   ]
  },
  {
   "cell_type": "code",
   "execution_count": null,
   "metadata": {},
   "outputs": [],
   "source": []
  }
 ],
 "metadata": {
  "kernelspec": {
   "display_name": "Python 3",
   "language": "python",
   "name": "python3"
  },
  "language_info": {
   "codemirror_mode": {
    "name": "ipython",
    "version": 3
   },
   "file_extension": ".py",
   "mimetype": "text/x-python",
   "name": "python",
   "nbconvert_exporter": "python",
   "pygments_lexer": "ipython3",
   "version": "3.7.6"
  }
 },
 "nbformat": 4,
 "nbformat_minor": 4
}
