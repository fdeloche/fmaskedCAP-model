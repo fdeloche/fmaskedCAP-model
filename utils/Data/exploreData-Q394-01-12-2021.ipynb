{
 "cells": [
  {
   "cell_type": "code",
   "execution_count": null,
   "metadata": {},
   "outputs": [],
   "source": [
    "import numpy as np\n",
    "\n",
    "import matplotlib.pyplot as pl\n",
    "import matplotlib as mpl\n",
    "\n",
    "\n",
    "mpl.rc('figure', figsize=(10,8))\n",
    "\n",
    "'''\n",
    "mpl.rc('figure', figsize=(14,12))\n",
    "mpl.rcParams['axes.facecolor']='white'  \n",
    "mpl.rcParams['figure.facecolor'] = '1'\n",
    "\n",
    "\n",
    "pl.style.use('fivethirtyeight')\n",
    "'''\n",
    "\n",
    "font = {'size'   : 13}\n",
    "\n",
    "mpl.rc('font', **font)\n",
    "\n",
    "#mpl.rcParams['lines.linewidth']=4\n",
    "#mpl.rcParams['axes.labelsize']=16\n",
    "\n",
    "\n",
    "import os\n",
    "import re\n",
    "\n",
    "from scipy.io import loadmat\n",
    "from scipy.ndimage import gaussian_filter1d"
   ]
  },
  {
   "cell_type": "code",
   "execution_count": null,
   "metadata": {},
   "outputs": [],
   "source": [
    "data_folder='../../Data/SP-2021_01_12-Q394_fmaskedCAP_data'\n",
    "\n",
    "listFiles = os.listdir(data_folder)\n",
    "\n",
    "listFilesMat=[]\n",
    "\n",
    "for filename in listFiles:\n",
    "    if re.match('.*.mat', filename):\n",
    "        listFilesMat.append(filename)\n",
    "listFilesMat.sort()"
   ]
  },
  {
   "cell_type": "raw",
   "metadata": {},
   "source": [
    "listFilesMat"
   ]
  },
  {
   "cell_type": "markdown",
   "metadata": {},
   "source": [
    "### Functions"
   ]
  },
  {
   "cell_type": "code",
   "execution_count": null,
   "metadata": {},
   "outputs": [],
   "source": [
    "#filter ind if necessary\n",
    "begin_ind=395   #27\n",
    "end_ind=2000  #49"
   ]
  },
  {
   "cell_type": "code",
   "execution_count": null,
   "metadata": {},
   "outputs": [],
   "source": [
    "def split_name(filename):\n",
    "    '''returns (picNumber, masker filename)'''\n",
    "    m=re.match('p([0-9]{4})_fmasked_CAP_(.*).mat', filename)\n",
    "    assert m, f'{filename} did not match'\n",
    "    p, name= m.groups()\n",
    "    return int(p), name\n",
    "\n",
    "map_table={}  #map masker filename -> pic numbers\n",
    "for fln in listFilesMat:\n",
    "    p, name = split_name(fln)\n",
    "    if name not in map_table:\n",
    "        map_table[name]=[p]\n",
    "    else:\n",
    "        li=map_table[name]\n",
    "        li.append(p)\n",
    "        map_table[name]=li\n",
    "        \n",
    "filtered_map_table={}  #map masker filename -> pic numbers\n",
    "for fln in listFilesMat:\n",
    "    p, name = split_name(fln)\n",
    "    if p>=begin_ind and p<=end_ind:\n",
    "\n",
    "        if name not in filtered_map_table:\n",
    "            filtered_map_table[name]=[p]\n",
    "        else:\n",
    "            li=filtered_map_table[name]\n",
    "            li.append(p)\n",
    "            filtered_map_table[name]=li\n",
    "    \n",
    "    "
   ]
  },
  {
   "cell_type": "raw",
   "metadata": {},
   "source": [
    "filtered_map_table"
   ]
  },
  {
   "cell_type": "code",
   "execution_count": null,
   "metadata": {},
   "outputs": [],
   "source": [
    "def loadPic(n):\n",
    "    found=False\n",
    "    for filename in listFilesMat:\n",
    "        if f'p{str(n).zfill(4)}' in filename:\n",
    "            found=True\n",
    "            break\n",
    "    assert found, f'pic {n} not found.'\n",
    "    arr= loadmat(f'{data_folder}/{filename}')\n",
    "    return arr['data_struct']\n",
    "\n",
    "def get_info_pic(pic):\n",
    "    #avg\n",
    "    arr=pic['AD_Data'][0][0]['AD_Avg_V'][0][0][0]\n",
    "    \n",
    "    #HACK only C or R\n",
    "    '''all_data=pic['AD_Data'][0][0]['AD_All_V'][0][0]\n",
    "    arr=np.zeros_like(all_data[0])\n",
    "    for i in range(len(all_data)):\n",
    "        if i%2==0:\n",
    "            arr+=all_data[i]\n",
    "    arr/=len(all_data)/2\n",
    "    '''\n",
    "    \n",
    "    return {'arr':arr,\n",
    "            'XstartPlot_ms':pic['Stimuli'][0][0]['CAP_intervals'][0][0]['XstartPlot_ms'][0][0][0],\n",
    "            'XendPlot_ms': pic['Stimuli'][0][0]['CAP_intervals'][0][0]['XendPlot_ms'][0][0][0],\n",
    "           'name':pic['Stimuli'][0][0]['masker'][0][0]['name'][0][0]}\n",
    "\n",
    "\n",
    "    \n"
   ]
  },
  {
   "cell_type": "code",
   "execution_count": null,
   "metadata": {},
   "outputs": [],
   "source": [
    "struct=loadPic(7)\n",
    "struct_data=struct['AD_Data'][0][0]['AD_Avg_V'][0][0][0]\n",
    "\n",
    "struct_data=struct['Stimuli'][0][0]['CAP_intervals'][0][0]['XstartPlot_ms'][0][0][0]\n",
    "\n",
    "struct_data=struct['Stimuli'][0][0]['CAP_intervals'][0][0]['XendPlot_ms'][0][0][0]\n",
    "\n",
    "\n",
    "struct_data=struct['Stimuli'][0][0]['masker'][0][0]['name'][0][0]\n",
    "\n",
    "\n",
    "struct_data=struct['AD_Data'][0][0]['AD_All_V'][0][0]\n",
    "\n",
    "\n",
    "\n",
    "struct_data=struct['Stimuli'][0][0]['masker'][0][0]['bands'][0][0]['fc_low']\n",
    "\n",
    "\n",
    "print(struct_data)\n"
   ]
  },
  {
   "cell_type": "code",
   "execution_count": null,
   "metadata": {},
   "outputs": [],
   "source": [
    "\n",
    "def plotPic(picDic=None, n=None, label='', tmin=0, baselineSig=None):\n",
    "    '''\n",
    "    Plot pic given picture dictionary or pic number. \n",
    "    Args:\n",
    "        baseline: Picture dictionary for baseline signal'''\n",
    "    if not n is None:\n",
    "        picDic=loadPic(n)\n",
    "    assert not picDic is None\n",
    "    pic_info=get_info_pic(picDic)\n",
    "    if label=='':\n",
    "        label=pic_info['name']\n",
    "        \n",
    "    \n",
    "    val=pic_info['arr']\n",
    "    \n",
    "    t=np.linspace(pic_info['XstartPlot_ms'], pic_info['XendPlot_ms'], num=len(val))\n",
    "    if baselineSig is not None:\n",
    "        val=val-baselineSig\n",
    "    #val=np.cumsum(val) #HACK!!\n",
    "    pl.plot(t, val, label=label)\n",
    "    pl.xlim([tmin,  pic_info['XendPlot_ms']])\n",
    "    \n",
    "def getMaskerSig(dic, name):\n",
    "    \n",
    "    picNums=dic[name]\n",
    "    firstPic=True\n",
    "    for picNum in picNums:\n",
    "        picDic=loadPic(picNum)\n",
    "        \n",
    "    \n",
    "        pic_info=get_info_pic(picDic)\n",
    "    \n",
    "        if firstPic:\n",
    "            #val=np.sum(picDic['valAll'][1::2], axis=0)\n",
    "            val=pic_info['arr']\n",
    "            firstPic=False\n",
    "        else:\n",
    "            #val+=np.sum(picDic['valAll'][1::2], axis=0)\n",
    "            val+=pic_info['arr']\n",
    "    val/=len(picNums)\n",
    "    return val\n",
    "    \n",
    "def plotMasker(dic, name, tmin=0, tmax=12, baseline=None):\n",
    "    '''\n",
    "    Plot avg signal for masker given masker name and dictionary of picNums \n",
    "    Args:\n",
    "        baseline: signal for baseline signal'''\n",
    "    label=name\n",
    "    val=getMaskerSig(dic, name)\n",
    "    \n",
    "    picNums=dic[name]\n",
    "    for picNum in picNums:\n",
    "        picDic=loadPic(picNum)\n",
    "        pic_info=get_info_pic(picDic)\n",
    "        \n",
    "        break\n",
    "\n",
    "    t=np.linspace(pic_info['XstartPlot_ms'], pic_info['XendPlot_ms'], num=len(val))\n",
    "    if baseline is not None:\n",
    "        val=val-baseline\n",
    "    #val=gaussian_filter1d(val, 1.5) #HACK\n",
    "    #val=np.cumsum(val) #HACK!!\n",
    "    #val-=val[300] #HACK!!\n",
    "    pl.plot(t, val, label=label)\n",
    "    if tmax==0:\n",
    "        tmax=pic_info['XendPlot_ms']\n",
    "    pl.xlim([tmin, tmax])\n",
    "    pl.xlabel('t (ms)')\n",
    "    pl.ylabel('Amplitude')\n",
    "    \n",
    "'''\n",
    "def getMaskerAtten(picDic=None, n=None):\n",
    "    if not n is None:\n",
    "        picDic=loadPic(n)\n",
    "    assert not picDic is None\n",
    "    ans=picDic['masker_atten_dB']\n",
    "    return ans[0][0]\n",
    "'''"
   ]
  },
  {
   "cell_type": "markdown",
   "metadata": {},
   "source": [
    "### Show examples of signals"
   ]
  },
  {
   "cell_type": "code",
   "execution_count": null,
   "metadata": {},
   "outputs": [],
   "source": [
    "dic=filtered_map_table"
   ]
  },
  {
   "cell_type": "code",
   "execution_count": null,
   "metadata": {},
   "outputs": [],
   "source": [
    "names=list(dic.keys())\n",
    "names.sort()\n",
    "#print(names)"
   ]
  },
  {
   "cell_type": "code",
   "execution_count": null,
   "metadata": {},
   "outputs": [],
   "source": []
  },
  {
   "cell_type": "code",
   "execution_count": null,
   "metadata": {},
   "outputs": [],
   "source": [
    "broadband=getMaskerSig(dic, 'broadband_noise')\n",
    "nomasker=getMaskerSig(dic, 'nomasker')"
   ]
  },
  {
   "cell_type": "code",
   "execution_count": null,
   "metadata": {},
   "outputs": [],
   "source": [
    "broadband_sig=getMaskerSig(dic, 'broadband_noise')+getMaskerSig(dic, '2_broadband_noise')+getMaskerSig(dic, '3_broadband_noise')\n",
    "broadband_sig/=3\n",
    "\n",
    "nomasker_sig=getMaskerSig(dic, 'nomasker')+getMaskerSig(dic, '2_nomasker')+getMaskerSig(dic, '3_nomasker')\n",
    "nomasker_sig/=3"
   ]
  },
  {
   "cell_type": "code",
   "execution_count": null,
   "metadata": {},
   "outputs": [],
   "source": [
    "plotMasker(dic, 'nomasker')\n",
    "plotMasker(dic, '2_nomasker')\n",
    "plotMasker(dic, '3_nomasker')"
   ]
  },
  {
   "cell_type": "code",
   "execution_count": null,
   "metadata": {},
   "outputs": [],
   "source": [
    "info=get_info_pic(loadPic(800))\n",
    "XstartPlot_ms=info['XstartPlot_ms']\n",
    "\n",
    "XendPlot_ms=info['XendPlot_ms']\n",
    "t=np.linspace(XstartPlot_ms, XendPlot_ms, num=len(broadband_sig))\n",
    "plotMasker(dic, 'broadband_noise')\n",
    "\n",
    "\n",
    "plotMasker(dic, '2_broadband_noise')\n",
    "\n",
    "plotMasker(dic, '3_broadband_noise')\n",
    "\n",
    "\n",
    "pl.plot(t, broadband_sig, label='broadband average')\n",
    "\n",
    "\n",
    "#pl.figure()\n",
    "plotMasker(dic, 'nomasker')\n",
    "plotMasker(dic, '2_nomasker')\n",
    "plotMasker(dic, '3_nomasker')\n",
    "\n",
    "pl.plot(t, nomasker_sig, label='no masker avg')\n",
    "\n",
    "#pl.xlim([0, 7])\n",
    "#pl.ylim([-0.01, 0.01])\n",
    "\n",
    "pl.legend()"
   ]
  },
  {
   "cell_type": "code",
   "execution_count": null,
   "metadata": {},
   "outputs": [],
   "source": []
  },
  {
   "cell_type": "markdown",
   "metadata": {},
   "source": [
    "### Narrow-band analysis"
   ]
  },
  {
   "cell_type": "code",
   "execution_count": null,
   "metadata": {},
   "outputs": [],
   "source": [
    "#plotMasker(dic, 'nomasker')\n",
    "plotMasker(dic, '1_hp_10000Hz')\n",
    "plotMasker(dic, '2_hp_9000Hz')\n",
    "plotMasker(dic, '3_hp_8000Hz')\n",
    "plotMasker(dic, '4_hp_7000Hz')\n",
    "plotMasker(dic, '5_hp_6000Hz')\n",
    "plotMasker(dic, '6_hp_5000Hz')\n",
    "plotMasker(dic, '7_hp_4000Hz')\n",
    "plotMasker(dic, '8_hp_3200Hz')\n",
    "plotMasker(dic, '9_hp_2400Hz')\n",
    "plotMasker(dic, '10_hp_1800Hz')\n",
    "plotMasker(dic, '11_hp_1500Hz')\n",
    "plotMasker(dic, '12_hp_1200Hz')\n",
    "plotMasker(dic, 'broadband_noise')\n",
    "pl.xlim([5,12])\n",
    "pl.legend(loc='upper left')"
   ]
  },
  {
   "cell_type": "code",
   "execution_count": null,
   "metadata": {},
   "outputs": [],
   "source": [
    "#plotMasker(dic, 'nomasker')\n",
    "plotMasker(dic, '1_hp_10000Hz', baseline=broadband_sig)\n",
    "plotMasker(dic, '2_hp_9000Hz', baseline=broadband_sig)\n",
    "plotMasker(dic, '3_hp_8000Hz', baseline=broadband_sig)\n",
    "plotMasker(dic, '4_hp_7000Hz', baseline=broadband_sig)\n",
    "plotMasker(dic, '5_hp_6000Hz', baseline=broadband_sig)\n",
    "plotMasker(dic, '6_hp_5000Hz', baseline=broadband_sig)\n",
    "plotMasker(dic, '7_hp_4000Hz', baseline=broadband_sig)\n",
    "plotMasker(dic, '8_hp_3200Hz', baseline=broadband_sig)\n",
    "plotMasker(dic, '9_hp_2400Hz', baseline=broadband_sig)\n",
    "plotMasker(dic, '10_hp_1800Hz', baseline=broadband_sig)\n",
    "plotMasker(dic, '11_hp_1500Hz', baseline=broadband_sig)\n",
    "plotMasker(dic, '12_hp_1200Hz', baseline=broadband_sig)\n",
    "#plotMasker(dic, 'broadband_noise')  #5 dB higher\n",
    "pl.xlim([4.5,10.4])\n",
    "pl.legend()\n",
    "#pl.savefig('narrow-band.svg')"
   ]
  },
  {
   "cell_type": "code",
   "execution_count": null,
   "metadata": {},
   "outputs": [],
   "source": [
    "#plotMasker(dic, 'nomasker')\n",
    "'''plotMasker(dic, '1_hp_10000Hz', baseline=getMaskerSig(dic, '2_hp_9000Hz'))\n",
    "plotMasker(dic, '2_hp_9000Hz', baseline=getMaskerSig(dic, '3_hp_8000Hz'))\n",
    "plotMasker(dic, '3_hp_8000Hz', baseline=getMaskerSig(dic, '4_hp_7000Hz'))\n",
    "plotMasker(dic, '4_hp_7000Hz', baseline=getMaskerSig(dic, '5_hp_6000Hz'))\n",
    "plotMasker(dic, '5_hp_6000Hz', baseline=getMaskerSig(dic, '6_hp_5000Hz'))\n",
    "plotMasker(dic, '6_hp_5000Hz', baseline=getMaskerSig(dic, '7_hp_4000Hz'))'''\n",
    "\n",
    "plotMasker(dic, '7_hp_4000Hz', baseline=getMaskerSig(dic, '8_hp_3200Hz'))\n",
    "plotMasker(dic, '8_hp_3200Hz', baseline=getMaskerSig(dic, '9_hp_2400Hz'))\n",
    "plotMasker(dic, '9_hp_2400Hz', baseline=getMaskerSig(dic, '10_hp_1800Hz'))\n",
    "plotMasker(dic, '10_hp_1800Hz', baseline=getMaskerSig(dic, '11_hp_1500Hz'))\n",
    "plotMasker(dic, '11_hp_1500Hz', baseline=getMaskerSig(dic, '12_hp_1200Hz'))\n",
    "plotMasker(dic, '12_hp_1200Hz', baseline=broadband_sig)\n",
    "\n",
    "#plotMasker(dic, 'broadband_noise')  \n",
    "pl.legend()"
   ]
  },
  {
   "cell_type": "code",
   "execution_count": null,
   "metadata": {},
   "outputs": [],
   "source": [
    "#plotMasker(dic, 'nomasker')\n",
    "#plotMasker(dic, '1_hp_10000Hz', baseline=getMaskerSig(dic, '3_hp_8000Hz'))\n",
    "plotMasker(dic, '2_hp_9000Hz', baseline=getMaskerSig(dic, '4_hp_7000Hz'))\n",
    "#plotMasker(dic, '3_hp_8000Hz', baseline=getMaskerSig(dic, '5_hp_6000Hz'))\n",
    "plotMasker(dic, '4_hp_7000Hz', baseline=getMaskerSig(dic, '6_hp_5000Hz'))\n",
    "#plotMasker(dic, '5_hp_6000Hz', baseline=getMaskerSig(dic, '7_hp_4000Hz'))\n",
    "plotMasker(dic, '6_hp_5000Hz', baseline=getMaskerSig(dic, '8_hp_3200Hz'))\n",
    "#plotMasker(dic, '7_hp_4000Hz', baseline=getMaskerSig(dic, '9_hp_2400Hz'))\n",
    "plotMasker(dic, '8_hp_3200Hz', baseline=getMaskerSig(dic, '10_hp_1800Hz'))\n",
    "#plotMasker(dic, '9_hp_2400Hz', baseline=getMaskerSig(dic, '11_hp_1500Hz'))\n",
    "plotMasker(dic, '10_hp_1800Hz', baseline=getMaskerSig(dic, '12_hp_1200Hz'))\n",
    "#plotMasker(dic, '11_hp_1500Hz', baseline=baseline=broadband_sig)\n",
    "plotMasker(dic, '12_hp_1200Hz', baseline=broadband_sig)\n",
    "#plotMasker(dic, 'broadband_noise')  #5 dB higher\n",
    "pl.legend()"
   ]
  },
  {
   "cell_type": "markdown",
   "metadata": {},
   "source": [
    "### Notch 8k"
   ]
  },
  {
   "cell_type": "code",
   "execution_count": null,
   "metadata": {},
   "outputs": [],
   "source": [
    "plotMasker(dic, '1_notch8000_bw2300_60dB')\n",
    "plotMasker(dic, '2_notch8000_bw2300_55dB')\n",
    "plotMasker(dic, '3_notch8000_bw2300_50dB')\n",
    "plotMasker(dic, '4_notch8000_bw2300_45dB')\n",
    "plotMasker(dic, '5_notch8000_bw2300_40dB')\n",
    "plotMasker(dic, '6_notch8000_bw2300_35dB')\n",
    "plotMasker(dic, '7_notch8000_bw2300_30dB')\n",
    "plotMasker(dic, '8_notch8000_bw2300_25dB')\n",
    "plotMasker(dic, 'broadband_noise')\n",
    "pl.legend()"
   ]
  },
  {
   "cell_type": "code",
   "execution_count": null,
   "metadata": {},
   "outputs": [],
   "source": [
    "plotMasker(dic, '1_notch8000_bw2300_60dB', baseline=broadband_sig)\n",
    "plotMasker(dic, '2_notch8000_bw2300_55dB', baseline=broadband_sig)\n",
    "plotMasker(dic, '3_notch8000_bw2300_50dB', baseline=broadband_sig)\n",
    "plotMasker(dic, '4_notch8000_bw2300_45dB', baseline=broadband_sig)\n",
    "plotMasker(dic, '5_notch8000_bw2300_40dB', baseline=broadband_sig)\n",
    "plotMasker(dic, '6_notch8000_bw2300_35dB', baseline=broadband_sig)\n",
    "plotMasker(dic, '7_notch8000_bw2300_30dB', baseline=broadband_sig)\n",
    "plotMasker(dic, '8_notch8000_bw2300_25dB', baseline=broadband_sig)\n",
    "#plotMasker(dic, 'broadband_noise')\n",
    "pl.legend()"
   ]
  },
  {
   "cell_type": "code",
   "execution_count": null,
   "metadata": {},
   "outputs": [],
   "source": [
    "pl.figure(figsize=(8, 6))\n",
    "cap=[]\n",
    "rms=[]\n",
    "masker_list=['1_notch8000_bw2300_60dB',\n",
    "'2_notch8000_bw2300_55dB',\n",
    "'3_notch8000_bw2300_50dB',\n",
    "'4_notch8000_bw2300_45dB',\n",
    "'5_notch8000_bw2300_40dB',\n",
    "'6_notch8000_bw2300_35dB',\n",
    "'7_notch8000_bw2300_30dB',\n",
    "'8_notch8000_bw2300_25dB']\n",
    "for masker in masker_list:\n",
    "    sig=getMaskerSig(dic,masker)\n",
    "    sig=sig[300:]\n",
    "    broadband_sig_trunc=broadband_sig[300:]\n",
    "    cap.append(np.max(sig-broadband_sig_trunc)-np.min(sig-broadband_sig_trunc))\n",
    "    rms.append(np.std(sig-broadband_sig_trunc))\n",
    "pl.plot(-np.array([60,55, 50, 45,40,35,30,25]), cap, label='max-min')\n",
    "\n",
    "#pl.plot(-np.array([55,50,45,40,37,34,31,28,25,22]), np.array(rms)*10, label='rms x10')\n",
    "pl.legend()\n",
    "pl.xlabel('- Attenuation (re:max)')\n",
    "pl.ylabel('Amplitude')"
   ]
  },
  {
   "cell_type": "markdown",
   "metadata": {},
   "source": [
    "### Notch 6k"
   ]
  },
  {
   "cell_type": "code",
   "execution_count": null,
   "metadata": {},
   "outputs": [],
   "source": [
    "plotMasker(dic, '1_notch6000_bw2000_60dB')\n",
    "plotMasker(dic, '2_notch6000_bw2000_55dB')\n",
    "plotMasker(dic, '3_notch6000_bw2000_50dB')\n",
    "plotMasker(dic, '4_notch6000_bw2000_45dB')\n",
    "plotMasker(dic, '5_notch6000_bw2000_40dB')\n",
    "plotMasker(dic, '6_notch6000_bw2000_35dB')\n",
    "plotMasker(dic, '7_notch6000_bw2000_32dB')\n",
    "plotMasker(dic, '8_notch6000_bw2000_29dB')\n",
    "plotMasker(dic, '9_notch6000_bw2000_26dB')\n",
    "plotMasker(dic, '10_notch6000_bw2000_23dB')\n",
    "plotMasker(dic, 'broadband_noise')\n",
    "pl.legend()"
   ]
  },
  {
   "cell_type": "code",
   "execution_count": null,
   "metadata": {},
   "outputs": [],
   "source": [
    "plotMasker(dic, '1_notch6000_bw2000_60dB', baseline=broadband_sig)\n",
    "plotMasker(dic, '2_notch6000_bw2000_55dB', baseline=broadband_sig)\n",
    "plotMasker(dic, '3_notch6000_bw2000_50dB', baseline=broadband_sig)\n",
    "plotMasker(dic, '4_notch6000_bw2000_45dB', baseline=broadband_sig)\n",
    "plotMasker(dic, '5_notch6000_bw2000_40dB', baseline=broadband_sig)\n",
    "plotMasker(dic, '6_notch6000_bw2000_35dB', baseline=broadband_sig)\n",
    "plotMasker(dic, '7_notch6000_bw2000_32dB', baseline=broadband_sig)\n",
    "plotMasker(dic, '8_notch6000_bw2000_29dB', baseline=broadband_sig)\n",
    "plotMasker(dic, '9_notch6000_bw2000_26dB', baseline=broadband_sig)\n",
    "plotMasker(dic, '10_notch6000_bw2000_23dB', baseline=broadband_sig)\n",
    "pl.plot(t, getMaskerSig(dic, 'broadband_noise')-getMaskerSig(dic, '2_broadband_noise'), label='noise floor')\n",
    "pl.legend()"
   ]
  },
  {
   "cell_type": "code",
   "execution_count": null,
   "metadata": {},
   "outputs": [],
   "source": [
    "pl.figure(figsize=(8, 6))\n",
    "cap=[]\n",
    "rms=[]\n",
    "masker_list=['1_notch6000_bw2000_60dB',\n",
    "'2_notch6000_bw2000_55dB',\n",
    "'3_notch6000_bw2000_50dB',\n",
    "'4_notch6000_bw2000_45dB',\n",
    "'5_notch6000_bw2000_40dB',\n",
    "'6_notch6000_bw2000_35dB',\n",
    "'7_notch6000_bw2000_32dB',\n",
    "'8_notch6000_bw2000_29dB',\n",
    "'9_notch6000_bw2000_26dB',\n",
    "'10_notch6000_bw2000_23dB']\n",
    "for masker in masker_list:\n",
    "    sig=getMaskerSig(dic,masker)\n",
    "    sig=sig[300:]\n",
    "    broadband_sig_trunc=broadband_sig[300:]\n",
    "    cap.append(np.max(sig-broadband_sig_trunc)-np.min(sig-broadband_sig_trunc))\n",
    "    rms.append(np.std(sig-broadband_sig_trunc))\n",
    "pl.plot(-np.array([60,55, 50, 45,40,35,32,29,26,23]), cap, label='max-min')\n",
    "\n",
    "#pl.plot(-np.array([55,50,45,40,37,34,31,28,25,22]), np.array(rms)*10, label='rms x10')\n",
    "pl.legend()\n",
    "pl.xlabel('- Attenuation (re:max)')\n",
    "pl.ylabel('Amplitude')"
   ]
  },
  {
   "cell_type": "code",
   "execution_count": null,
   "metadata": {},
   "outputs": [],
   "source": [
    "'''1-2bands6000-5200-bw800-6850-bw600.json\n",
    "1-narrorband6100_bw200_20dB.json\n",
    "1-notch6000_bw2000_60dB.json\n",
    "2-2bands6000-5200-bw600-6850-bw600.json\n",
    "2-narrorband6000_bw400_20dB.json\n",
    "2-notch6000_bw1000_32dB.json\n",
    "2-notch6000_bw2000_55dB.json\n",
    "3-2bands6000-5200-bw600-6660-bw981.json\n",
    "3-narrorband6000_bw600_29dB.json\n",
    "3-notch6000_bw2000_50dB.json\n",
    "3-notch6300_bw1200_26dB.json\n",
    "4-narrorband5800_bw500_32dB.json\n",
    "4-notch5800_bw1200_20dB.json\n",
    "4-notch6000_bw2000_45dB.json\n",
    "5-narrorband6000_bw800_32dB.json\n",
    "5-notch5800_bw800_24dB.json\n",
    "5-notch6000_bw2000_40dB.json\n",
    "6-notch6000_bw900_29dB.json\n",
    "6-notch6000_bw2000_35dB.json\n",
    "7-notch6000_bw1100_32dB.json\n",
    "7-notch6000_bw2000_32dB.json\n",
    "8-notch5700_bw800_35dB.json\n",
    "8-notch6000_bw2000_29dB.json\n",
    "9-notch6000_bw2000_26dB.json\n",
    "9-notch6100_bw1000_23dB.json\n",
    "10-notch6000_bw2000_23dB.json\n",
    "'''\n",
    "\n",
    "plotMasker(dic, '1_narrorband6100_bw200_20dB',  baseline=nomasker_sig)\n",
    "\n",
    "plotMasker(dic, '2_narrorband6000_bw400_20dB', baseline=nomasker_sig)\n",
    "\n",
    "plotMasker(dic, '3_narrorband6000_bw600_29dB',  baseline=nomasker_sig)\n",
    "\n",
    "\n",
    "plotMasker(dic, '4_narrorband5800_bw500_32dB',  baseline=nomasker_sig)\n",
    "\n",
    "plotMasker(dic, '5_narrorband6000_bw800_32dB',  baseline=nomasker_sig)\n",
    "\n",
    "plotMasker(dic, '3_2bands6000_5200_bw600_6660_bw981',  baseline=nomasker_sig)\n",
    "pl.legend()"
   ]
  },
  {
   "cell_type": "code",
   "execution_count": null,
   "metadata": {},
   "outputs": [],
   "source": [
    "plotMasker(dic, '4_notch5800_bw1200_20dB', baseline=broadband_sig)\n",
    "plotMasker(dic, '3_notch6300_bw1200_26dB', baseline=broadband_sig)\n",
    "plotMasker(dic, '5_notch5800_bw800_24dB', baseline=broadband_sig)\n",
    "plotMasker(dic, '9_notch6100_bw1000_23dB', baseline=broadband_sig)\n",
    "\n",
    "#sig=getMaskerSig(dic, '3_notch6300_bw1200_26dB')\n",
    "#maskingSig=nomasker_sig-broadband_sig\n",
    "\n",
    "pl.legend()"
   ]
  },
  {
   "cell_type": "markdown",
   "metadata": {},
   "source": [
    "### Notch 5k"
   ]
  },
  {
   "cell_type": "code",
   "execution_count": null,
   "metadata": {},
   "outputs": [],
   "source": [
    "plotMasker(dic, '1_notch5000_bw2000_60dB')\n",
    "plotMasker(dic, '2_notch5000_bw2000_55dB')\n",
    "plotMasker(dic, '3_notch5000_bw2000_50dB')\n",
    "plotMasker(dic, '4_notch5000_bw2000_45dB')\n",
    "plotMasker(dic, '5_notch5000_bw2000_40dB')\n",
    "plotMasker(dic, '6_notch5000_bw2000_35dB')\n",
    "plotMasker(dic, '7_notch5000_bw2000_32dB')\n",
    "plotMasker(dic, '8_notch5000_bw2000_29dB')\n",
    "plotMasker(dic, '9_notch5000_bw2000_26dB')\n",
    "plotMasker(dic, '10_notch5000_bw2000_23dB')\n",
    "plotMasker(dic, 'broadband_noise')\n",
    "pl.legend()"
   ]
  },
  {
   "cell_type": "code",
   "execution_count": null,
   "metadata": {},
   "outputs": [],
   "source": [
    "plotMasker(dic, '1_notch5000_bw2000_60dB', baseline=broadband_sig)\n",
    "plotMasker(dic, '2_notch5000_bw2000_55dB', baseline=broadband_sig)\n",
    "plotMasker(dic, '3_notch5000_bw2000_50dB', baseline=broadband_sig)\n",
    "plotMasker(dic, '4_notch5000_bw2000_45dB', baseline=broadband_sig)\n",
    "plotMasker(dic, '5_notch5000_bw2000_40dB', baseline=broadband_sig)\n",
    "plotMasker(dic, '6_notch5000_bw2000_35dB', baseline=broadband_sig)\n",
    "plotMasker(dic, '7_notch5000_bw2000_32dB', baseline=broadband_sig)\n",
    "plotMasker(dic, '8_notch5000_bw2000_29dB', baseline=broadband_sig)\n",
    "plotMasker(dic, '9_notch5000_bw2000_26dB', baseline=broadband_sig)\n",
    "plotMasker(dic, '10_notch5000_bw2000_23dB', baseline=broadband_sig)\n",
    "pl.xlim([4.5,10.4])\n",
    "pl.legend()\n",
    "#pl.savefig('notch5000.svg')"
   ]
  },
  {
   "cell_type": "code",
   "execution_count": null,
   "metadata": {},
   "outputs": [],
   "source": [
    "pl.figure(figsize=(8, 6))\n",
    "cap=[]\n",
    "rms=[]\n",
    "masker_list=['1_notch5000_bw2000_60dB',\n",
    "'2_notch5000_bw2000_55dB',\n",
    "'3_notch5000_bw2000_50dB',\n",
    "'4_notch5000_bw2000_45dB',\n",
    "'5_notch5000_bw2000_40dB',\n",
    "'6_notch5000_bw2000_35dB',\n",
    "'7_notch5000_bw2000_32dB',\n",
    "'8_notch5000_bw2000_29dB',\n",
    "'9_notch5000_bw2000_26dB',\n",
    "'10_notch5000_bw2000_23dB']\n",
    "for masker in masker_list:\n",
    "    sig=getMaskerSig(dic,masker)\n",
    "    sig=sig[300:]\n",
    "    broadband_sig_trunc=broadband_sig[300:]\n",
    "    cap.append(np.max(sig-broadband_sig_trunc)-np.min(sig-broadband_sig_trunc))\n",
    "    rms.append(np.std(sig-broadband_sig_trunc))\n",
    "pl.plot(-np.array([60,55, 50, 45,40,35,32,29,26,23]), cap, label='max-min')\n",
    "\n",
    "#pl.plot(-np.array([55,50,45,40,37,34,31,28,25,22]), np.array(rms)*10, label='rms x10')\n",
    "pl.legend()\n",
    "pl.xlabel('- Attenuation (re:max)')\n",
    "pl.ylabel('Amplitude')"
   ]
  },
  {
   "cell_type": "code",
   "execution_count": null,
   "metadata": {},
   "outputs": [],
   "source": [
    "'''1-2bands5000-4300-bw600-5600-bw600.json\n",
    "1-narrorband5000_bw300_20dB.json\n",
    "1-notch5000_bw1000_31dB.json\n",
    "1-notch5000_bw2000_60dB.json\n",
    "2-2bands5000-4250-bw700-5750-bw700.json\n",
    "2-narrorband4800_bw200_22dB.json\n",
    "2-notch5000_bw2000_55dB.json\n",
    "2-notch5200_bw900_34dB.json\n",
    "3-2bands5000-4350-bw500-5700-bw800.json\n",
    "3-narrorband4800_bw500_31dB.json\n",
    "3-notch4800_bw1100_26dB.json\n",
    "3-notch5000_bw2000_50dB.json\n",
    "4-2bands5000-4250-bw800-5850-bw400.json\n",
    "4-narrorband5200_bw700_31dB.json\n",
    "4-notch4800_bw1300_20dB.json\n",
    "4-notch5000_bw2000_45dB.json\n",
    "5-narrorband5300_bw800_33dB.json\n",
    "5-notch4800_bw700_27dB.json\n",
    "5-notch5000_bw2000_40dB.json\n",
    "6-notch5000_bw900_27dB.json\n",
    "6-notch5000_bw2000_35dB.json\n",
    "7-notch5000_bw2000_32dB.json\n",
    "7-notch5300_bw800_20dB.json\n",
    "8-notch5000_bw2000_29dB.json\n",
    "9-notch5000_bw2000_26dB.json\n",
    "10-notch5000_bw2000_23dB.json\n",
    "'''\n",
    "\n",
    "plotMasker(dic, '1_narrorband5000_bw300_20dB',  baseline=nomasker_sig)\n",
    "\n",
    "plotMasker(dic, '2_narrorband4800_bw200_22dB', baseline=nomasker_sig)\n",
    "\n",
    "plotMasker(dic, '3_narrorband4800_bw500_31dB',  baseline=nomasker_sig)\n",
    "\n",
    "\n",
    "plotMasker(dic, '5_narrorband5300_bw800_33dB',  baseline=nomasker_sig)\n",
    "\n",
    "plotMasker(dic, '4_narrorband5200_bw700_31dB',  baseline=nomasker_sig)\n",
    "\n",
    "plotMasker(dic, '4_2bands5000_4250_bw800_5850_bw400',  baseline=nomasker_sig)\n",
    "pl.legend()"
   ]
  },
  {
   "cell_type": "code",
   "execution_count": null,
   "metadata": {},
   "outputs": [],
   "source": [
    "plotMasker(dic, '4_notch4800_bw1300_20dB',  baseline=broadband_sig)\n",
    "plotMasker(dic, '7_notch5300_bw800_20dB', baseline=broadband_sig)\n",
    "\n",
    "#plotMasker(dic, '1_notch5000_bw1000_31dB',  baseline=broadband_sig)\n",
    "#plotMasker(dic, '2_notch5200_bw900_34dB',  baseline=broadband_sig)"
   ]
  },
  {
   "cell_type": "markdown",
   "metadata": {},
   "source": [
    "### Notch 4k"
   ]
  },
  {
   "cell_type": "markdown",
   "metadata": {},
   "source": [
    "I don't have the varying notch amplitude bc of mistake"
   ]
  },
  {
   "cell_type": "raw",
   "metadata": {},
   "source": [
    "'''1-2bands4000-3400-bw300-4500-bw400.json\n",
    "1-narrorband3900_bw700_36dB.json\n",
    "1-notch3000_bw1700_60dB.json\n",
    "1-notch4000_700_34dB.json\n",
    "2-2bands4000-3575-bw450-4500-bw400.json\n",
    "2-narrorband4100_bw800_31dB.json\n",
    "2-notch3000_bw1700_55dB.json\n",
    "2-notch4000_800_28dB.json\n",
    "3-2bands4000-3525-bw350-4450-bw600.json\n",
    "3-narrorband4100_bw1000_39dB.json\n",
    "3-notch3000_bw1700_50dB.json\n",
    "3-notch4200_900_26dB.json\n",
    "4-narrorband4200_bw600_25dB.json\n",
    "4-notch3000_bw1700_45dB.json\n",
    "4-notch3800_1000_21dB.json\n",
    "5-narrorband4200_bw400_22dB.json\n",
    "5-notch3000_bw1700_40dB.json\n",
    "5-notch3800_1200_20dB.json\n",
    "6-narrorband4000_bw300_20dB.json\n",
    "6-notch3000_bw1700_35dB.json\n",
    "6-notch3800_500_31dB.json\n",
    "7-notch3000_bw1700_32dB.json\n",
    "7-notch3700_800_34dB.json\n",
    "8-notch3000_bw1700_29dB.json\n",
    "8-notch4200_bw1100_20dB.json\n",
    "9-notch3000_bw1700_26dB.json\n",
    "10-notch3000_bw1700_23dB.json'''\n",
    "\n",
    "\n",
    "\n"
   ]
  },
  {
   "cell_type": "code",
   "execution_count": null,
   "metadata": {},
   "outputs": [],
   "source": [
    "plotMasker(dic, '4_notch3800_1000_21dB', baseline=broadband_sig)\n",
    "plotMasker(dic, '5_notch3800_1200_20dB', baseline=broadband_sig)\n",
    "plotMasker(dic, '8_notch4200_bw1100_20dB', baseline=broadband_sig)\n",
    "pl.legend()"
   ]
  },
  {
   "cell_type": "markdown",
   "metadata": {},
   "source": [
    "### Notch 3k"
   ]
  },
  {
   "cell_type": "code",
   "execution_count": null,
   "metadata": {},
   "outputs": [],
   "source": [
    "plotMasker(dic, '1_notch3000_bw1500_60dB')\n",
    "plotMasker(dic, '2_notch3000_bw1500_55dB')\n",
    "plotMasker(dic, '4_notch3000_bw1500_50dB')\n",
    "plotMasker(dic, '5_notch3000_bw1500_45dB')\n",
    "plotMasker(dic, '6_notch3000_bw1500_40dB')\n",
    "plotMasker(dic, '7_notch3000_bw1500_35dB')\n",
    "plotMasker(dic, '8_notch3000_bw1500_32dB')\n",
    "plotMasker(dic, '9_notch3000_bw1500_29dB')\n",
    "plotMasker(dic, '10_notch3000_bw1500_26dB')\n",
    "plotMasker(dic, '11_notch3000_bw1500_23dB')\n",
    "plotMasker(dic, 'broadband_noise')\n",
    "pl.legend()"
   ]
  },
  {
   "cell_type": "code",
   "execution_count": null,
   "metadata": {},
   "outputs": [],
   "source": [
    "plotMasker(dic, '1_notch3000_bw1500_60dB', baseline=broadband_sig)  #pb on this one?\n",
    "plotMasker(dic, '2_notch3000_bw1500_55dB', baseline=broadband_sig)\n",
    "plotMasker(dic, '4_notch3000_bw1500_50dB', baseline=broadband_sig)\n",
    "plotMasker(dic, '5_notch3000_bw1500_45dB', baseline=broadband_sig)\n",
    "plotMasker(dic, '6_notch3000_bw1500_40dB', baseline=broadband_sig)\n",
    "plotMasker(dic, '7_notch3000_bw1500_35dB', baseline=broadband_sig)\n",
    "plotMasker(dic, '8_notch3000_bw1500_32dB', baseline=broadband_sig)\n",
    "plotMasker(dic, '9_notch3000_bw1500_29dB', baseline=broadband_sig)\n",
    "plotMasker(dic, '10_notch3000_bw1500_26dB', baseline=broadband_sig)\n",
    "plotMasker(dic, '11_notch3000_bw1500_23dB', baseline=broadband_sig)\n",
    "#plotMasker(dic, 'broadband_noise')\n",
    "pl.legend()"
   ]
  },
  {
   "cell_type": "code",
   "execution_count": null,
   "metadata": {},
   "outputs": [],
   "source": [
    "pl.figure(figsize=(8, 6))\n",
    "cap=[]\n",
    "rms=[]\n",
    "masker_list=['1_notch3000_bw1500_60dB'\n",
    ",'2_notch3000_bw1500_55dB'\n",
    ",'4_notch3000_bw1500_50dB'\n",
    ",'5_notch3000_bw1500_45dB'\n",
    ",'6_notch3000_bw1500_40dB'\n",
    ",'7_notch3000_bw1500_35dB'\n",
    ",'8_notch3000_bw1500_32dB'\n",
    ",'9_notch3000_bw1500_29dB'\n",
    ",'10_notch3000_bw1500_26dB'\n",
    ",'11_notch3000_bw1500_23dB']\n",
    "    \n",
    "for masker in masker_list:\n",
    "    sig=getMaskerSig(dic,masker)\n",
    "    sig=sig[300:]\n",
    "    broadband_sig_trunc=broadband_sig[300:]\n",
    "    cap.append(np.max(sig-broadband_sig_trunc)-np.min(sig-broadband_sig_trunc))\n",
    "    rms.append(np.std(sig-broadband_sig_trunc))\n",
    "pl.plot(-np.array([60,55, 50, 45,40,35,32,29,26,23]), cap, label='max-min')\n",
    "\n",
    "#pl.plot(-np.array([55,50,45,40,37,34,31,28,25,22]), np.array(rms)*10, label='rms x10')\n",
    "pl.legend()\n",
    "pl.xlabel('- Attenuation (re:max)')\n",
    "pl.ylabel('Amplitude')"
   ]
  },
  {
   "cell_type": "markdown",
   "metadata": {},
   "source": [
    "Notch 3k-bis"
   ]
  },
  {
   "cell_type": "code",
   "execution_count": null,
   "metadata": {},
   "outputs": [],
   "source": [
    "plotMasker(dic, '1_notch3000_bw1700_60dB')\n",
    "plotMasker(dic, '2_notch3000_bw1700_55dB')\n",
    "plotMasker(dic, '3_notch3000_bw1700_50dB')\n",
    "plotMasker(dic, '4_notch3000_bw1700_45dB')\n",
    "plotMasker(dic, '5_notch3000_bw1700_40dB')\n",
    "plotMasker(dic, '6_notch3000_bw1700_35dB')\n",
    "plotMasker(dic, '7_notch3000_bw1700_32dB')\n",
    "plotMasker(dic, '8_notch3000_bw1700_29dB')\n",
    "plotMasker(dic, '9_notch3000_bw1700_26dB')\n",
    "plotMasker(dic, '10_notch3000_bw1700_23dB')\n",
    "plotMasker(dic, 'broadband_noise')\n",
    "\n",
    "pl.legend()"
   ]
  },
  {
   "cell_type": "code",
   "execution_count": null,
   "metadata": {},
   "outputs": [],
   "source": [
    "pl.plot(t, getMaskerSig(dic, 'broadband_noise'))\n",
    "pl.plot(t, getMaskerSig(dic, '1_notch3000_bw1700_60dB'))\n",
    "pl.axhline()\n",
    "pl.plot(t, getMaskerSig(dic, '1_notch3000_bw1700_60dB')-getMaskerSig(dic, 'broadband_noise'))"
   ]
  },
  {
   "cell_type": "code",
   "execution_count": null,
   "metadata": {},
   "outputs": [],
   "source": [
    "plotMasker(dic, '1_notch3000_bw1700_60dB', baseline=broadband_sig)"
   ]
  },
  {
   "cell_type": "code",
   "execution_count": null,
   "metadata": {},
   "outputs": [],
   "source": [
    "plotMasker(dic, '1_notch3000_bw1700_60dB', baseline=broadband_sig)\n",
    "plotMasker(dic, '2_notch3000_bw1700_55dB', baseline=broadband_sig)\n",
    "plotMasker(dic, '3_notch3000_bw1700_50dB', baseline=broadband_sig)\n",
    "plotMasker(dic, '4_notch3000_bw1700_45dB', baseline=broadband_sig)\n",
    "plotMasker(dic, '5_notch3000_bw1700_40dB', baseline=broadband_sig)\n",
    "plotMasker(dic, '6_notch3000_bw1700_35dB', baseline=broadband_sig)\n",
    "plotMasker(dic, '7_notch3000_bw1700_32dB', baseline=broadband_sig)\n",
    "plotMasker(dic, '8_notch3000_bw1700_29dB', baseline=broadband_sig)\n",
    "plotMasker(dic, '9_notch3000_bw1700_26dB', baseline=broadband_sig)\n",
    "plotMasker(dic, '10_notch3000_bw1700_23dB', baseline=broadband_sig)\n",
    "#plotMasker(dic, 'broadband_noise', baseline=broadband_sig)\n",
    "pl.legend()"
   ]
  },
  {
   "cell_type": "code",
   "execution_count": null,
   "metadata": {},
   "outputs": [],
   "source": [
    "pl.figure(figsize=(8, 6))\n",
    "cap=[]\n",
    "rms=[]\n",
    "masker_list=['1_notch3000_bw1700_60dB',\n",
    "'2_notch3000_bw1700_55dB',\n",
    "'3_notch3000_bw1700_50dB',\n",
    "'4_notch3000_bw1700_45dB',\n",
    "'5_notch3000_bw1700_40dB',\n",
    "'6_notch3000_bw1700_35dB',\n",
    "'7_notch3000_bw1700_32dB',\n",
    "'8_notch3000_bw1700_29dB',\n",
    "'9_notch3000_bw1700_26dB',\n",
    "'10_notch3000_bw1700_23dB']\n",
    "\n",
    "for masker in masker_list:\n",
    "    sig=getMaskerSig(dic,masker)\n",
    "    sig=sig[300:]\n",
    "    broadband_sig_trunc=broadband_sig[300:]\n",
    "    cap.append(np.max(sig-broadband_sig_trunc)-np.min(sig-broadband_sig_trunc))\n",
    "    rms.append(np.std(sig-broadband_sig_trunc))\n",
    "pl.plot(-np.array([60,55, 50, 45,40,35,32,29,26,23]), cap, label='max-min')\n",
    "\n",
    "#pl.plot(-np.array([55,50,45,40,37,34,31,28,25,22]), np.array(rms)*10, label='rms x10')\n",
    "pl.legend()\n",
    "pl.xlabel('- Attenuation (re:max)')\n",
    "pl.ylabel('Amplitude')\n"
   ]
  },
  {
   "cell_type": "code",
   "execution_count": null,
   "metadata": {},
   "outputs": [],
   "source": [
    "'''1-2bands-3000-2500-bw400-3600-bw400.json\n",
    "1-narrorband2900_bw200_21dB.json\n",
    "1-notch3000_1000_34dB.json\n",
    "1-notch3000_bw1500_60dB.json\n",
    "2-2bands3000-2550-bw300-3500-bw400.json\n",
    "2-narrorband3200_bw300_21dB.json\n",
    "2-notch3000_500_21dB.json\n",
    "2-notch3000_bw1500_55dB.json\n",
    "3-narrorband3000_bw500_27dB.json\n",
    "3-notch2800_600_21dB.json\n",
    "4-narrorband3000_bw700_36dB.json\n",
    "4-notch2800_800_26dB.json\n",
    "4-notch3000_bw1500_50dB.json\n",
    "5-notch2900_700_26dB.json\n",
    "5-notch3000_bw1500_45dB.json\n",
    "6-notch3000_700_35dB.json\n",
    "6-notch3000_bw1500_40dB.json\n",
    "7-notch3000_900_25dB.json\n",
    "7-notch3000_bw1500_35dB.json\n",
    "8-notch3000_1100_25dB.json\n",
    "8-notch3000_bw1500_32dB.json\n",
    "9-notch3000_bw1500_29dB.json\n",
    "9-notch3200_700_30dB.json\n",
    "10-notch3000_bw1500_26dB.json\n",
    "11-notch3000_bw1500_23dB.json\n",
    "'''\n",
    "\n",
    "plotMasker(dic, '2_notch3000_500_21dB',  baseline=broadband_sig)\n",
    "\n",
    "plotMasker(dic, '4_notch2800_800_26dB',  baseline=broadband_sig)\n",
    "\n",
    "plotMasker(dic, '5_notch2900_700_26dB', baseline=broadband_sig)\n",
    "plotMasker(dic, '8_notch3000_1100_25dB', baseline=broadband_sig)\n",
    "#plotMasker(dic, 'nomasker', baseline=broadband_sig)\n",
    "pl.legend()\n"
   ]
  },
  {
   "cell_type": "markdown",
   "metadata": {},
   "source": [
    "### notch 2.2k"
   ]
  },
  {
   "cell_type": "code",
   "execution_count": null,
   "metadata": {},
   "outputs": [],
   "source": [
    "plotMasker(dic, '1_notch2200_bw1500_60dB')\n",
    "plotMasker(dic, '2_notch2200_bw1500_55dB')\n",
    "plotMasker(dic, '3_notch2200_bw1500_50dB')\n",
    "plotMasker(dic, '4_notch2200_bw1500_45dB')\n",
    "plotMasker(dic, '5_notch2200_bw1500_40dB')\n",
    "plotMasker(dic, '6_notch2200_bw1500_35dB')\n",
    "plotMasker(dic, '7_notch2200_bw1500_32dB')\n",
    "plotMasker(dic, '8_notch2200_bw1500_29dB')\n",
    "plotMasker(dic, '9_notch2200_bw1500_26dB')\n",
    "plotMasker(dic, '10_notch2200_bw1500_23dB')\n",
    "plotMasker(dic, 'broadband_noise')\n",
    "pl.legend()"
   ]
  },
  {
   "cell_type": "code",
   "execution_count": null,
   "metadata": {},
   "outputs": [],
   "source": [
    "plotMasker(dic, '1_notch2200_bw1500_60dB', baseline=broadband_sig)\n",
    "plotMasker(dic, '2_notch2200_bw1500_55dB', baseline=broadband_sig)\n",
    "plotMasker(dic, '3_notch2200_bw1500_50dB', baseline=broadband_sig)\n",
    "plotMasker(dic, '4_notch2200_bw1500_45dB', baseline=broadband_sig)\n",
    "plotMasker(dic, '5_notch2200_bw1500_40dB', baseline=broadband_sig)\n",
    "plotMasker(dic, '6_notch2200_bw1500_35dB', baseline=broadband_sig)\n",
    "plotMasker(dic, '7_notch2200_bw1500_32dB', baseline=broadband_sig)\n",
    "plotMasker(dic, '8_notch2200_bw1500_29dB', baseline=broadband_sig)\n",
    "plotMasker(dic, '9_notch2200_bw1500_26dB', baseline=broadband_sig)\n",
    "plotMasker(dic, '10_notch2200_bw1500_23dB', baseline=broadband_sig)\n",
    "#plotMasker(dic, 'broadband_noise')\n",
    "pl.legend()"
   ]
  },
  {
   "cell_type": "code",
   "execution_count": null,
   "metadata": {},
   "outputs": [],
   "source": [
    "pl.figure(figsize=(8, 6))\n",
    "cap=[]\n",
    "rms=[]\n",
    "masker_list=['1_notch2200_bw1500_60dB',\n",
    "'2_notch2200_bw1500_55dB',\n",
    "'3_notch2200_bw1500_50dB',\n",
    "'4_notch2200_bw1500_45dB',\n",
    "'5_notch2200_bw1500_40dB',\n",
    "'6_notch2200_bw1500_35dB',\n",
    "'7_notch2200_bw1500_32dB',\n",
    "'8_notch2200_bw1500_29dB',\n",
    "'9_notch2200_bw1500_26dB',\n",
    "'10_notch2200_bw1500_23dB']\n",
    "for masker in masker_list:\n",
    "    sig=getMaskerSig(dic,masker)\n",
    "    sig=sig[300:]\n",
    "    broadband_sig_trunc=broadband_sig[300:]\n",
    "    cap.append(np.max(sig-broadband_sig_trunc)-np.min(sig-broadband_sig_trunc))\n",
    "    rms.append(np.std(sig-broadband_sig_trunc))\n",
    "pl.plot(-np.array([60,55, 50, 45,40,35,32,29,26,23]), cap, label='max-min')\n",
    "\n",
    "#pl.plot(-np.array([55,50,45,40,37,34,31,28,25,22]), np.array(rms)*10, label='rms x10')\n",
    "pl.legend()\n",
    "pl.xlabel('- Attenuation (re:max)')\n",
    "pl.ylabel('Amplitude')"
   ]
  },
  {
   "cell_type": "code",
   "execution_count": null,
   "metadata": {},
   "outputs": [],
   "source": [
    "'''1-2bands-2200-1850-bw300-2650-bw300.json\n",
    "1-narrorband2100_bw500_36dB.json\n",
    "1-notch2200_500_20dB.json\n",
    "1-notch2200_bw1500_60dB.json\n",
    "2-2bands-2200-1750-bw500-2600-bw400.json\n",
    "2-narrorband2100_bw400_29dB.json\n",
    "2-notch2200_bw1500_55dB.json\n",
    "2-notch2300_700_20dB.json\n",
    "3-narrorband2300_bw300_24dB.json\n",
    "3-notch2200_bw1500_50dB.json\n",
    "3-notch2300_700_24dB.json\n",
    "4-narrorband2200_bw200_21dB.json\n",
    "4-notch2200_bw1500_45dB.json\n",
    "4-notch2400_800_24dB.json\n",
    "5-notch2200_bw1500_40dB.json\n",
    "5-notch2300_900_31dB.json\n",
    "6-notch2200_bw1500_35dB.json\n",
    "6-notch2300_400_31dB.json\n",
    "7-notch2000_400_29dB.json\n",
    "7-notch2200_bw1500_32dB.json\n",
    "8-notch2100_700_34dB.json\n",
    "8-notch2200_bw1500_29dB.json\n",
    "9-notch2100_1000_34dB.json\n",
    "9-notch2200_bw1500_26dB.json\n",
    "10-notch2200_bw1500_23dB.json'''\n",
    "\n",
    "\n",
    "plotMasker(dic, '1_notch2200_500_20dB',  baseline=broadband_sig)\n",
    "\n",
    "\n",
    "\n",
    "plotMasker(dic, '2_notch2300_700_20dB',  baseline=broadband_sig)\n",
    "\n",
    "\n",
    "plotMasker(dic, '3_notch2300_700_24dB',  baseline=broadband_sig)\n",
    "pl.legend()\n"
   ]
  },
  {
   "cell_type": "markdown",
   "metadata": {},
   "source": [
    "### Notch 1.5k"
   ]
  },
  {
   "cell_type": "code",
   "execution_count": null,
   "metadata": {},
   "outputs": [],
   "source": [
    "plotMasker(dic, '30_notch1500_bw1000_60dB')\n",
    "plotMasker(dic, '31_notch1500_bw1000_55dB')\n",
    "plotMasker(dic, '32_notch1500_bw1000_50dB')\n",
    "plotMasker(dic, '33_notch1500_bw1000_45dB')\n",
    "plotMasker(dic, '34_notch1500_bw1000_40dB')\n",
    "plotMasker(dic, '35_notch1500_bw1000_35dB')\n",
    "plotMasker(dic, '36_notch1500_bw1000_32dB')\n",
    "plotMasker(dic, '37_notch1500_bw1000_29dB')\n",
    "plotMasker(dic, '38_notch1500_bw1000_26dB')\n",
    "plotMasker(dic, '39_notch1500_bw1000_23dB')\n",
    "plotMasker(dic, 'broadband_noise')\n",
    "pl.legend()"
   ]
  },
  {
   "cell_type": "code",
   "execution_count": null,
   "metadata": {},
   "outputs": [],
   "source": [
    "plotMasker(dic, '30_notch1500_bw1000_60dB', baseline=broadband_sig)\n",
    "plotMasker(dic, '31_notch1500_bw1000_55dB', baseline=broadband_sig)\n",
    "plotMasker(dic, '32_notch1500_bw1000_50dB', baseline=broadband_sig)\n",
    "plotMasker(dic, '33_notch1500_bw1000_45dB', baseline=broadband_sig)\n",
    "plotMasker(dic, '34_notch1500_bw1000_40dB', baseline=broadband_sig)\n",
    "plotMasker(dic, '35_notch1500_bw1000_35dB', baseline=broadband_sig)\n",
    "plotMasker(dic, '36_notch1500_bw1000_32dB', baseline=broadband_sig)\n",
    "plotMasker(dic, '37_notch1500_bw1000_29dB', baseline=broadband_sig)\n",
    "plotMasker(dic, '38_notch1500_bw1000_26dB', baseline=broadband_sig)\n",
    "plotMasker(dic, '39_notch1500_bw1000_23dB', baseline=broadband_sig)\n",
    "#plotMasker(dic, 'broadband_noise')\n",
    "pl.legend()"
   ]
  },
  {
   "cell_type": "code",
   "execution_count": null,
   "metadata": {},
   "outputs": [],
   "source": [
    "pl.figure(figsize=(8, 6))\n",
    "cap=[]\n",
    "rms=[]\n",
    "\n",
    "\n",
    "masker_list=['30_notch1500_bw1000_60dB',\n",
    "'31_notch1500_bw1000_55dB',\n",
    "'32_notch1500_bw1000_50dB',\n",
    "'33_notch1500_bw1000_45dB',\n",
    "'34_notch1500_bw1000_40dB',\n",
    "'35_notch1500_bw1000_35dB',\n",
    "'36_notch1500_bw1000_32dB',\n",
    "'37_notch1500_bw1000_29dB',\n",
    "'38_notch1500_bw1000_26dB',\n",
    "'39_notch1500_bw1000_23dB']\n",
    "\n",
    "for masker in masker_list:\n",
    "    sig=getMaskerSig(dic,masker)\n",
    "    sig=sig[300:]\n",
    "    broadband_sig_trunc=broadband_sig[300:]\n",
    "    cap.append(np.max(sig-broadband_sig_trunc)-np.min(sig-broadband_sig_trunc))\n",
    "    rms.append(np.std(sig-broadband_sig_trunc))\n",
    "pl.plot(-np.array([60,55, 50, 45,40,35,32,29,26,23]), cap, label='max-min')\n",
    "\n",
    "#pl.plot(-np.array([55,50,45,40,37,34,31,28,25,22]), np.array(rms)*10, label='rms x10')\n",
    "pl.legend()\n",
    "pl.xlabel('- Attenuation (re:max)')\n",
    "pl.ylabel('Amplitude')"
   ]
  },
  {
   "cell_type": "code",
   "execution_count": null,
   "metadata": {},
   "outputs": [],
   "source": [
    "'''1-2bands-1500-1200-bw400-2100-400.json\n",
    "1-narrorband1600_bw200_20dB.json\n",
    "1-notch1500_bw400_20dB.json\n",
    "2-2bands-1500-1150-bw300-1967-423.json\n",
    "2-narrorband1600_bw300_31dB.json\n",
    "2-notch1500_bw600_20dB.json\n",
    "3-narrorband1600_bw500_36dB.json\n",
    "3-notch1500_bw800_20dB.json\n",
    "4-notch1400_bw300_30dB.json\n",
    "5-notch1400_bw500_30dB.json\n",
    "6-notch1600_bw700_30dB.json\n",
    "7-notch1600_bw600_35dB.json\n",
    "8-notch1700_bw800_25dB.json\n",
    "30-notch1500_bw1000_60dB.json\n",
    "31-notch1500_bw1000_55dB.json\n",
    "32-notch1500_bw1000_50dB.json\n",
    "33-notch1500_bw1000_45dB.json\n",
    "34-notch1500_bw1000_40dB.json\n",
    "35-notch1500_bw1000_35dB.json\n",
    "36-notch1500_bw1000_32dB.json\n",
    "37-notch1500_bw1000_29dB.json\n",
    "38-notch1500_bw1000_26dB.json\n",
    "39-notch1500_bw1000_23dB.json'''\n",
    "\n",
    "\n",
    "\n",
    "\n",
    "\n",
    "\n",
    "\n",
    "\n",
    "plotMasker(dic, '1_narrorband1600_bw200_20dB',  baseline=nomasker_sig)\n",
    "\n",
    "plotMasker(dic, '2_narrorband1600_bw300_31dB', baseline=nomasker_sig)\n",
    "\n",
    "plotMasker(dic, '3_narrorband1600_bw500_36dB',  baseline=nomasker_sig)\n",
    "\n",
    "\n",
    "plotMasker(dic, '1_2bands_1500_1200_bw400_2100_400',  baseline=nomasker_sig)\n",
    "pl.legend()"
   ]
  },
  {
   "cell_type": "code",
   "execution_count": null,
   "metadata": {},
   "outputs": [],
   "source": [
    "plotMasker(dic, '1_notch1500_bw400_20dB',  baseline=broadband_sig)\n",
    "\n",
    "plotMasker(dic, '2_notch1500_bw600_20dB',  baseline=broadband_sig)\n",
    "\n",
    "plotMasker(dic, '3_notch1500_bw800_20dB',  baseline=broadband_sig)\n",
    "\n",
    "plotMasker(dic, '6_notch1600_bw700_30dB',  baseline=broadband_sig)\n",
    "plotMasker(dic, '8_notch1700_bw800_25dB', baseline=broadband_sig)\n",
    "\n",
    "#plotMasker(dic, 'nomasker', baseline=broadband_sig)\n",
    "pl.legend()\n"
   ]
  },
  {
   "cell_type": "code",
   "execution_count": null,
   "metadata": {},
   "outputs": [],
   "source": []
  },
  {
   "cell_type": "markdown",
   "metadata": {},
   "source": [
    "### lp"
   ]
  },
  {
   "cell_type": "code",
   "execution_count": null,
   "metadata": {},
   "outputs": [],
   "source": [
    "plotMasker(dic, '1_lp_1500Hz')\n",
    "plotMasker(dic, '2_lp_2000Hz')\n",
    "plotMasker(dic, '3_lp_3000Hz')\n",
    "plotMasker(dic, '4_lp_4000Hz')\n",
    "plotMasker(dic, '5_lp_5000Hz')\n",
    "plotMasker(dic, '6_lp_6000Hz')\n",
    "plotMasker(dic, '7_lp_7000Hz')\n",
    "plotMasker(dic, '8_lp_8000Hz')\n",
    "pl.legend()"
   ]
  },
  {
   "cell_type": "code",
   "execution_count": null,
   "metadata": {},
   "outputs": [],
   "source": [
    "plotMasker(dic, '1_lp_1500Hz', baseline=nomasker_sig)\n",
    "plotMasker(dic, '2_lp_2000Hz', baseline=nomasker_sig)\n",
    "plotMasker(dic, '3_lp_3000Hz', baseline=nomasker_sig)\n",
    "plotMasker(dic, '4_lp_4000Hz', baseline=nomasker_sig)\n",
    "plotMasker(dic, '5_lp_5000Hz', baseline=nomasker_sig)\n",
    "plotMasker(dic, '6_lp_6000Hz', baseline=nomasker_sig)\n",
    "plotMasker(dic, '7_lp_7000Hz', baseline=nomasker_sig)\n",
    "plotMasker(dic, '8_lp_8000Hz', baseline=nomasker_sig)\n",
    "pl.legend()"
   ]
  },
  {
   "cell_type": "code",
   "execution_count": null,
   "metadata": {},
   "outputs": [],
   "source": [
    "plotMasker(dic, '1_lp_1500Hz', baseline=getMaskerSig(dic, '3_lp_3000Hz'))\n",
    "#plotMasker(dic, '2_lp_2000Hz', baseline=getMaskerSig(dic, '4_lp_4000Hz')\n",
    "plotMasker(dic, '3_lp_3000Hz', baseline=getMaskerSig(dic, '5_lp_5000Hz'))\n",
    "#plotMasker(dic, '4_lp_4000Hz', baseline=getMaskerSig(dic, '6_lp_6000Hz')\n",
    "plotMasker(dic, '5_lp_5000Hz', baseline=getMaskerSig(dic, '7_lp_7000Hz'))\n",
    "plotMasker(dic, '6_lp_6000Hz', baseline=getMaskerSig(dic, '8_lp_8000Hz'))\n",
    "#plotMasker(dic, '7_lp_7000Hz', baseline=getMaskerSig(dic, '3_lp_3000Hz')\n",
    "#plotMasker(dic, '8_lp_8000Hz', baseline=getMaskerSig(dic, '3_lp_3000Hz')\n",
    "pl.legend()"
   ]
  },
  {
   "cell_type": "code",
   "execution_count": null,
   "metadata": {},
   "outputs": [],
   "source": [
    "plotMasker(dic, '4_lp_2500Hz', baseline=nomasker)\n",
    "plotMasker(dic, '6_lp_4000Hz',  baseline=nomasker)\n",
    "plotMasker(dic, '7_lp_5000Hz',  baseline=nomasker)\n",
    "plotMasker(dic, '10_lp_7000Hz',  baseline=nomasker)\n",
    "pl.legend()"
   ]
  },
  {
   "cell_type": "raw",
   "metadata": {},
   "source": [
    "plotMasker(dic, '4_lp_2500Hz', baseline=getMaskerSig(dic, '6_lp_4000Hz'))\n",
    "plotMasker(dic, '6_lp_4000Hz',  baseline=getMaskerSig(dic, '7_lp_5000Hz'))\n",
    "plotMasker(dic, '7_lp_5000Hz',  baseline=getMaskerSig(dic, '10_lp_7000Hz'))\n",
    "#plotMasker(dic, '10_lp_7000Hz',  baseline=baseline)\n",
    "pl.legend()"
   ]
  },
  {
   "cell_type": "markdown",
   "metadata": {},
   "source": [
    "### Click delay"
   ]
  },
  {
   "cell_type": "code",
   "execution_count": null,
   "metadata": {},
   "outputs": [],
   "source": [
    "clickdelay_map_table={'8ms':[923,924], '10ms':[913,914], '14ms': [917,918], '12ms': [919,920]}  "
   ]
  },
  {
   "cell_type": "code",
   "execution_count": null,
   "metadata": {},
   "outputs": [],
   "source": [
    "for delay in clickdelay_map_table:\n",
    "    plotMasker(clickdelay_map_table, delay)\n",
    "plotMasker(dic, 'nomasker')\n",
    "pl.legend()"
   ]
  },
  {
   "cell_type": "markdown",
   "metadata": {},
   "source": [
    "### Narrow 5k"
   ]
  },
  {
   "cell_type": "code",
   "execution_count": null,
   "metadata": {},
   "outputs": [],
   "source": []
  },
  {
   "cell_type": "code",
   "execution_count": null,
   "metadata": {},
   "outputs": [],
   "source": [
    "#plotMasker(dic, '1_narrow5k_2k')  #-20db add. attenuation...\n",
    "plotMasker(dic, '1_narrow5k_bw1700_attn20dB')\n",
    "plotMasker(dic, '2_narrow5k_bw1400_attn20dB')\n",
    "plotMasker(dic, '3_narrow5k_bw1100_attn20dB')\n",
    "pl.legend()"
   ]
  },
  {
   "cell_type": "code",
   "execution_count": null,
   "metadata": {},
   "outputs": [],
   "source": [
    "#plotMasker(dic, '1_narrow5k_2k', baseline=nomasker) #-20db add. attenuation...\n",
    "plotMasker(dic, '1_narrow5k_bw1700_attn20dB', baseline=nomasker)\n",
    "plotMasker(dic, '2_narrow5k_bw1400_attn20dB', baseline=nomasker)\n",
    "plotMasker(dic, '3_narrow5k_bw1100_attn20dB', baseline=nomasker)\n",
    "plotMasker(dic, '4_narrow5k_bw900_attn20dB', baseline=nomasker)\n",
    "pl.legend()"
   ]
  },
  {
   "cell_type": "markdown",
   "metadata": {},
   "source": [
    "### Notches 5k"
   ]
  },
  {
   "cell_type": "markdown",
   "metadata": {},
   "source": [
    "Too much attenuation"
   ]
  },
  {
   "cell_type": "raw",
   "metadata": {},
   "source": [
    "plotMasker(dic, '5_notch5000_bw1700')\n",
    "plotMasker(dic, '6_notch5000_bw1100')\n",
    "plotMasker(dic, '7_notch5000_bw700')"
   ]
  },
  {
   "cell_type": "raw",
   "metadata": {},
   "source": [
    "plotMasker(dic, '5_notch5000_bw1700', baseline=nomasker)\n",
    "plotMasker(dic, '6_notch5000_bw1100', baseline=nomasker)\n",
    "plotMasker(dic, '7_notch5000_bw700', baseline=nomasker)"
   ]
  },
  {
   "cell_type": "markdown",
   "metadata": {},
   "source": [
    "### Narrow around 5k"
   ]
  },
  {
   "cell_type": "code",
   "execution_count": null,
   "metadata": {},
   "outputs": [],
   "source": [
    "\n",
    "plotMasker(dic, '4_hp_6000Hz')\n",
    "plotMasker(dic, '5_hp_5000Hz')\n",
    "plotMasker(dic, '6_hp_4000Hz')\n",
    "\n",
    "plotMasker(dic, '1_hp_5500Hz')\n",
    "plotMasker(dic, '5_hp_4500Hz')\n",
    "pl.legend()"
   ]
  },
  {
   "cell_type": "code",
   "execution_count": null,
   "metadata": {},
   "outputs": [],
   "source": [
    "plotMasker(dic, '4_hp_6000Hz', baseline=broadband)\n",
    "\n",
    "plotMasker(dic, '1_hp_5500Hz', baseline=broadband)\n",
    "plotMasker(dic, '5_hp_5000Hz', baseline=broadband)\n",
    "\n",
    "plotMasker(dic, '5_hp_4500Hz', baseline=broadband)\n",
    "plotMasker(dic, '6_hp_4000Hz', baseline=broadband)\n",
    "\n",
    "pl.legend()"
   ]
  },
  {
   "cell_type": "code",
   "execution_count": null,
   "metadata": {},
   "outputs": [],
   "source": []
  }
 ],
 "metadata": {
  "kernelspec": {
   "display_name": "Python 3",
   "language": "python",
   "name": "python3"
  },
  "language_info": {
   "codemirror_mode": {
    "name": "ipython",
    "version": 3
   },
   "file_extension": ".py",
   "mimetype": "text/x-python",
   "name": "python",
   "nbconvert_exporter": "python",
   "pygments_lexer": "ipython3",
   "version": "3.7.6"
  }
 },
 "nbformat": 4,
 "nbformat_minor": 4
}
