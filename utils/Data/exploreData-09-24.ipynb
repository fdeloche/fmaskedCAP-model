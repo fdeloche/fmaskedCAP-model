{
 "cells": [
  {
   "cell_type": "code",
   "execution_count": null,
   "metadata": {},
   "outputs": [],
   "source": [
    "import numpy as np\n",
    "\n",
    "import matplotlib.pyplot as pl\n",
    "import matplotlib as mpl\n",
    "\n",
    "mpl.rc('figure', figsize=(8,6))\n",
    "\n",
    "import os\n",
    "import re\n",
    "\n",
    "from scipy.io import loadmat"
   ]
  },
  {
   "cell_type": "code",
   "execution_count": null,
   "metadata": {},
   "outputs": [],
   "source": [
    "data_folder='../../Data/Data-09-24/matFiles'\n",
    "\n",
    "listFiles = os.listdir(data_folder)\n",
    "\n",
    "listFilesMat=[]\n",
    "\n",
    "for filename in listFiles:\n",
    "    if re.match('.*.mat', filename):\n",
    "        listFilesMat.append(filename)\n",
    "listFilesMat.sort()"
   ]
  },
  {
   "cell_type": "code",
   "execution_count": null,
   "metadata": {},
   "outputs": [],
   "source": [
    "listFilesMat"
   ]
  },
  {
   "cell_type": "code",
   "execution_count": null,
   "metadata": {},
   "outputs": [],
   "source": [
    "def loadPic(n):\n",
    "    found=False\n",
    "    for filename in listFilesMat:\n",
    "        if f'p{str(n).zfill(4)}' in filename:\n",
    "            found=True\n",
    "            break\n",
    "    assert found, f'pic {n} not found.'\n",
    "    arr= loadmat(f'{data_folder}/{filename}')\n",
    "    return arr\n",
    "\n",
    "\n",
    "def plotPic(picDic=None, n=None, label='', tmin=0, baseline=None):\n",
    "    '''\n",
    "    Plot pic given picture dictionary or pic number. \n",
    "    Args:\n",
    "        baseline: Picture dictionary for baseline signal'''\n",
    "    if not n is None:\n",
    "        picDic=loadPic(n)\n",
    "    assert not picDic is None\n",
    "    if label=='':\n",
    "        label=picDic['wavefilename'][0]\n",
    "    val=np.squeeze(picDic['valAvg'].T)\n",
    "    t=np.linspace(picDic['XstartPlot_ms'][0][0], picDic['XendPlot_ms'][0][0], num=len(val))\n",
    "    if baseline is not None:\n",
    "        val=val-np.squeeze(baseline['valAvg'].T)\n",
    "        baseline_name=baseline['wavefilename'][0]\n",
    "        pl.title(f'CAP diff. ref. {baseline_name}' )\n",
    "    #val=np.cumsum(val) #HACK!!\n",
    "    pl.plot(t, val, label=label)\n",
    "    pl.ylabel('Amplitude')\n",
    "    pl.xlabel('t (ms)')\n",
    "    pl.xlim([tmin, picDic['XendPlot_ms'][0][0]])\n",
    "    \n",
    "def getMaskerAtten(picDic=None, n=None):\n",
    "    if not n is None:\n",
    "        picDic=loadPic(n)\n",
    "    assert not picDic is None\n",
    "    ans=picDic['masker_atten_dB']\n",
    "    return ans[0][0]"
   ]
  },
  {
   "cell_type": "markdown",
   "metadata": {},
   "source": [
    "### Show examples of signals"
   ]
  },
  {
   "cell_type": "code",
   "execution_count": null,
   "metadata": {},
   "outputs": [],
   "source": [
    "nomasker = loadPic(18)\n",
    "broadband = loadPic(17)\n",
    "broadband_slow=loadPic(19)"
   ]
  },
  {
   "cell_type": "code",
   "execution_count": null,
   "metadata": {},
   "outputs": [],
   "source": [
    "nomasker.keys()"
   ]
  },
  {
   "cell_type": "code",
   "execution_count": null,
   "metadata": {},
   "outputs": [],
   "source": [
    "broadband['masker_atten_dB']"
   ]
  },
  {
   "cell_type": "code",
   "execution_count": null,
   "metadata": {},
   "outputs": [],
   "source": [
    "plotPic(picDic=nomasker, label='no masker', tmin=6)\n",
    "plotPic(picDic=broadband, label='broadband noise (dur 50 ms)', tmin=6)\n",
    "\n",
    "plotPic(picDic=broadband_slow, label='broadband slow (dur 80 ms)', tmin=6)\n",
    "pl.legend(bbox_to_anchor=(1, 1))"
   ]
  },
  {
   "cell_type": "code",
   "execution_count": null,
   "metadata": {},
   "outputs": [],
   "source": [
    "#Diff\n",
    "plotPic(picDic=nomasker, label='broadband noise', tmin=6, baseline=broadband)"
   ]
  },
  {
   "cell_type": "markdown",
   "metadata": {},
   "source": [
    "#### Notch 5k levels"
   ]
  },
  {
   "cell_type": "markdown",
   "metadata": {},
   "source": [
    "caution: pic 7 to 16 done with a stronger attenuation "
   ]
  },
  {
   "cell_type": "code",
   "execution_count": null,
   "metadata": {},
   "outputs": [],
   "source": [
    "pl.figure()\n",
    "CAPvalArr=[]\n",
    "for i in range(21, 32):\n",
    "    if i==31:\n",
    "        plotPic(picDic=broadband, tmin=6)\n",
    "        pic=broadband\n",
    "    else:\n",
    "        plotPic(n=i, tmin=6)\n",
    "        pic=loadPic(i)\n",
    "    arr=np.squeeze(pic['valAvg'].T)\n",
    "    CAPval=np.max(arr)-np.min(arr)\n",
    "    CAPvalArr.append(CAPval)\n",
    "pl.legend(bbox_to_anchor=(1, 1))\n",
    "pl.show()\n",
    "pl.figure()\n",
    "pl.plot(np.array(CAPvalArr))\n",
    "pl.show()"
   ]
  },
  {
   "cell_type": "code",
   "execution_count": null,
   "metadata": {},
   "outputs": [],
   "source": [
    "for i in range(21, 31):\n",
    "    plotPic(n=i, tmin=6, baseline=broadband)\n",
    "pl.legend(bbox_to_anchor=(1, 1))"
   ]
  },
  {
   "cell_type": "markdown",
   "metadata": {},
   "source": [
    "#### Notch noise 2.5k"
   ]
  },
  {
   "cell_type": "code",
   "execution_count": null,
   "metadata": {},
   "outputs": [],
   "source": [
    "pl.figure()\n",
    "CAPvalArr=[]\n",
    "for i in range(31, 42):\n",
    "    if i==41:\n",
    "        plotPic(picDic=broadband, tmin=6)\n",
    "        pic=broadband\n",
    "    else:\n",
    "        plotPic(n=i, tmin=6)\n",
    "        pic=loadPic(i)\n",
    "    arr=np.squeeze(pic['valAvg'].T)\n",
    "    CAPval=np.max(arr)-np.min(arr)\n",
    "    CAPvalArr.append(CAPval)\n",
    "pl.legend(bbox_to_anchor=(1, 1))\n",
    "pl.show()\n",
    "pl.figure()\n",
    "pl.plot(np.array(CAPvalArr))\n",
    "pl.show()"
   ]
  },
  {
   "cell_type": "code",
   "execution_count": null,
   "metadata": {},
   "outputs": [],
   "source": [
    "for i in range(31, 41):\n",
    "    plotPic(n=i, tmin=6, baseline=broadband)\n",
    "pl.legend(bbox_to_anchor=(1, 1))"
   ]
  },
  {
   "cell_type": "markdown",
   "metadata": {},
   "source": [
    "#### high frequency notch"
   ]
  },
  {
   "cell_type": "code",
   "execution_count": null,
   "metadata": {},
   "outputs": [],
   "source": [
    "plotPic(n=41, tmin=6)\n",
    "plotPic(n=42, tmin=6)\n",
    "plotPic(broadband, tmin=6)\n",
    "pl.legend()"
   ]
  },
  {
   "cell_type": "code",
   "execution_count": null,
   "metadata": {},
   "outputs": [],
   "source": [
    "plotPic(n=41, tmin=6, baseline=broadband)\n",
    "plotPic(n=42, tmin=6, baseline=broadband)\n",
    "pl.legend()"
   ]
  },
  {
   "cell_type": "markdown",
   "metadata": {},
   "source": [
    "#### Narrow-band analysis"
   ]
  },
  {
   "cell_type": "code",
   "execution_count": null,
   "metadata": {},
   "outputs": [],
   "source": [
    "pl.figure()\n",
    "CAPvalArr=[]\n",
    "for i in range(43, 54):\n",
    "    if i==53:\n",
    "        plotPic(picDic=broadband, tmin=6)\n",
    "        pic=broadband\n",
    "    else:\n",
    "        plotPic(n=i, tmin=6)\n",
    "        pic=loadPic(i)\n",
    "    arr=np.squeeze(pic['valAvg'].T)\n",
    "    CAPval=np.max(arr)-np.min(arr)\n",
    "    CAPvalArr.append(CAPval)\n",
    "pl.legend(bbox_to_anchor=(1, 1))\n",
    "pl.show()\n",
    "pl.figure()\n",
    "pl.plot(np.array(CAPvalArr))\n",
    "pl.show()"
   ]
  },
  {
   "cell_type": "markdown",
   "metadata": {},
   "source": [
    "Baseline broadband"
   ]
  },
  {
   "cell_type": "code",
   "execution_count": null,
   "metadata": {},
   "outputs": [],
   "source": [
    "for i in range(43, 53):\n",
    "    plotPic(n=i, tmin=6, baseline=broadband)\n",
    "pl.legend(bbox_to_anchor=(1, 1))"
   ]
  },
  {
   "cell_type": "code",
   "execution_count": null,
   "metadata": {},
   "outputs": [],
   "source": []
  },
  {
   "cell_type": "markdown",
   "metadata": {},
   "source": [
    "Baseline step+1"
   ]
  },
  {
   "cell_type": "code",
   "execution_count": null,
   "metadata": {},
   "outputs": [],
   "source": [
    "for i in range(43, 53):\n",
    "    if i==52:\n",
    "        next_=broadband\n",
    "    else:\n",
    "        next_=loadPic(i+1)\n",
    "    plotPic(n=i, tmin=6, baseline=next_)\n",
    "pl.legend(bbox_to_anchor=(1, 1))"
   ]
  },
  {
   "cell_type": "markdown",
   "metadata": {},
   "source": [
    "#### Narrow-band analysis LP"
   ]
  },
  {
   "cell_type": "code",
   "execution_count": null,
   "metadata": {},
   "outputs": [],
   "source": [
    "pl.figure()\n",
    "CAPvalArr=[]\n",
    "for i in range(63, 74):\n",
    "    if i==73:\n",
    "        plotPic(picDic=broadband, tmin=6)\n",
    "        pic=broadband\n",
    "    else:\n",
    "        plotPic(n=i, tmin=6)\n",
    "        pic=loadPic(i)\n",
    "    arr=np.squeeze(pic['valAvg'].T)\n",
    "    CAPval=np.max(arr)-np.min(arr)\n",
    "    CAPvalArr.append(CAPval)\n",
    "pl.legend(bbox_to_anchor=(1, 1))\n",
    "pl.show()\n",
    "pl.figure()\n",
    "pl.plot(np.array(CAPvalArr))\n",
    "pl.show()"
   ]
  },
  {
   "cell_type": "code",
   "execution_count": null,
   "metadata": {},
   "outputs": [],
   "source": [
    "for i in range(63, 73):\n",
    "    plotPic(n=i, tmin=6, baseline=broadband)\n",
    "pl.legend(bbox_to_anchor=(1, 1))"
   ]
  },
  {
   "cell_type": "code",
   "execution_count": null,
   "metadata": {},
   "outputs": [],
   "source": [
    "for i in range(63, 72):\n",
    "    if i==72:\n",
    "        next_=broadband\n",
    "    else:\n",
    "        next_=loadPic(i+1)\n",
    "    plotPic(n=i, tmin=6, baseline=next_)\n",
    "pl.legend(bbox_to_anchor=(1, 1))"
   ]
  },
  {
   "cell_type": "markdown",
   "metadata": {},
   "source": [
    "#### Narrow 5k"
   ]
  },
  {
   "cell_type": "code",
   "execution_count": null,
   "metadata": {},
   "outputs": [],
   "source": [
    "pl.figure()\n",
    "CAPvalArr=[]\n",
    "for i in range(73, 82):\n",
    "    if i==81:\n",
    "        plotPic(picDic=broadband, tmin=6)\n",
    "        pic=broadband\n",
    "    else:\n",
    "        plotPic(n=i, tmin=6)\n",
    "        pic=loadPic(i)\n",
    "    arr=np.squeeze(pic['valAvg'].T)\n",
    "    CAPval=np.max(arr)-np.min(arr)\n",
    "    CAPvalArr.append(CAPval)\n",
    "pl.legend(bbox_to_anchor=(1, 1))\n",
    "pl.show()\n",
    "pl.figure()\n",
    "pl.plot(np.array(CAPvalArr))\n",
    "pl.show()"
   ]
  },
  {
   "cell_type": "code",
   "execution_count": null,
   "metadata": {},
   "outputs": [],
   "source": []
  },
  {
   "cell_type": "markdown",
   "metadata": {},
   "source": [
    "Baseline no masker"
   ]
  },
  {
   "cell_type": "code",
   "execution_count": null,
   "metadata": {},
   "outputs": [],
   "source": [
    "for i in range(73, 81):\n",
    "    plotPic(n=i, tmin=9.5, baseline=nomasker)\n",
    "pl.legend(bbox_to_anchor=(1, 1))"
   ]
  },
  {
   "cell_type": "code",
   "execution_count": null,
   "metadata": {},
   "outputs": [],
   "source": []
  },
  {
   "cell_type": "markdown",
   "metadata": {},
   "source": [
    "#### Narrow 2.5k"
   ]
  },
  {
   "cell_type": "code",
   "execution_count": null,
   "metadata": {},
   "outputs": [],
   "source": [
    "pl.figure()\n",
    "CAPvalArr=[]\n",
    "for i in range(81, 90):\n",
    "    if i==89:\n",
    "        plotPic(picDic=nomasker, tmin=6)\n",
    "        pic=nomasker\n",
    "    else:\n",
    "        plotPic(n=i, tmin=6)\n",
    "        pic=loadPic(i)\n",
    "    arr=np.squeeze(pic['valAvg'].T)\n",
    "    CAPval=np.max(arr)-np.min(arr)\n",
    "    CAPvalArr.append(CAPval)\n",
    "pl.legend(bbox_to_anchor=(1, 1))\n",
    "pl.show()\n",
    "pl.figure()\n",
    "pl.plot(np.array(CAPvalArr))\n",
    "pl.show()"
   ]
  },
  {
   "cell_type": "code",
   "execution_count": null,
   "metadata": {},
   "outputs": [],
   "source": []
  },
  {
   "cell_type": "markdown",
   "metadata": {},
   "source": [
    "Baseline no masker"
   ]
  },
  {
   "cell_type": "code",
   "execution_count": null,
   "metadata": {},
   "outputs": [],
   "source": [
    "for i in range(81, 89):\n",
    "    plotPic(n=i, tmin=9, baseline=nomasker)\n",
    "pl.legend(bbox_to_anchor=(1, 1))"
   ]
  },
  {
   "cell_type": "code",
   "execution_count": null,
   "metadata": {},
   "outputs": [],
   "source": []
  },
  {
   "cell_type": "markdown",
   "metadata": {},
   "source": [
    "#### Notches"
   ]
  },
  {
   "cell_type": "code",
   "execution_count": null,
   "metadata": {},
   "outputs": [],
   "source": [
    "pl.figure()\n",
    "CAPvalArr=[]\n",
    "for i in range(89, 98):\n",
    "    if i==97:\n",
    "        plotPic(picDic=broadband, tmin=6)\n",
    "        pic=broadband\n",
    "    else:\n",
    "        plotPic(n=i, tmin=6)\n",
    "        pic=loadPic(i)\n",
    "    arr=np.squeeze(pic['valAvg'].T)\n",
    "    CAPval=np.max(arr)-np.min(arr)\n",
    "    CAPvalArr.append(CAPval)\n",
    "plotPic(n=98, tmin=6)\n",
    "pl.legend(bbox_to_anchor=(1, 1))\n",
    "pl.show()\n",
    "pl.figure()\n",
    "pl.plot(np.array(CAPvalArr))\n",
    "pl.show()"
   ]
  },
  {
   "cell_type": "code",
   "execution_count": null,
   "metadata": {},
   "outputs": [],
   "source": []
  },
  {
   "cell_type": "markdown",
   "metadata": {},
   "source": [
    "Baseline broadband"
   ]
  },
  {
   "cell_type": "code",
   "execution_count": null,
   "metadata": {},
   "outputs": [],
   "source": [
    "for i in range(89, 93):\n",
    "    plotPic(n=i, tmin=6, baseline=broadband)\n",
    "pl.legend(bbox_to_anchor=(1, 1))"
   ]
  },
  {
   "cell_type": "code",
   "execution_count": null,
   "metadata": {},
   "outputs": [],
   "source": [
    "for i in range(93, 97):\n",
    "    baseline=broadband\n",
    "    plotPic(n=i, tmin=6, baseline=baseline)\n",
    "plotPic(n=98, tmin=6, baseline=baseline)\n",
    "pl.legend(bbox_to_anchor=(1, 1))"
   ]
  },
  {
   "cell_type": "code",
   "execution_count": null,
   "metadata": {},
   "outputs": [],
   "source": []
  },
  {
   "cell_type": "markdown",
   "metadata": {},
   "source": [
    "#### Various maskers"
   ]
  },
  {
   "cell_type": "code",
   "execution_count": null,
   "metadata": {},
   "outputs": [],
   "source": [
    "pl.figure()\n",
    "CAPvalArr=[]\n",
    "for i in range(120, 130):\n",
    "    if i==0:\n",
    "        plotPic(picDic=nomasker, tmin=6)\n",
    "        pic=nomasker\n",
    "    else:\n",
    "        plotPic(n=i, tmin=6)\n",
    "        pic=loadPic(i)\n",
    "    arr=np.squeeze(pic['valAvg'].T)\n",
    "    CAPval=np.max(arr)-np.min(arr)\n",
    "    CAPvalArr.append(CAPval)\n",
    "pl.legend(bbox_to_anchor=(1, 1))\n",
    "pl.show()\n",
    "pl.figure()\n",
    "pl.plot(np.array(CAPvalArr))\n",
    "pl.show()"
   ]
  },
  {
   "cell_type": "code",
   "execution_count": null,
   "metadata": {},
   "outputs": [],
   "source": []
  },
  {
   "cell_type": "markdown",
   "metadata": {},
   "source": [
    "Baseline no masker"
   ]
  },
  {
   "cell_type": "code",
   "execution_count": null,
   "metadata": {},
   "outputs": [],
   "source": [
    "for i in range(110, 118):\n",
    "    plotPic(n=i, tmin=6, baseline=nomasker)\n",
    "plotPic(n=i, tmin=6, baseline=nomasker)\n",
    "pl.legend(bbox_to_anchor=(1, 1))"
   ]
  },
  {
   "cell_type": "code",
   "execution_count": null,
   "metadata": {},
   "outputs": [],
   "source": [
    "for i in range(118, 125):\n",
    "    plotPic(n=i, tmin=6, baseline=nomasker)\n",
    "plotPic(n=i, tmin=6, baseline=nomasker)\n",
    "pl.legend(bbox_to_anchor=(1, 1))"
   ]
  },
  {
   "cell_type": "code",
   "execution_count": null,
   "metadata": {},
   "outputs": [],
   "source": [
    "for i in range(116,120):\n",
    "    plotPic(n=i, tmin=6, baseline=nomasker)\n",
    "plotPic(n=i, tmin=6, baseline=nomasker)\n",
    "pl.legend(bbox_to_anchor=(1, 1))"
   ]
  },
  {
   "cell_type": "code",
   "execution_count": null,
   "metadata": {},
   "outputs": [],
   "source": []
  }
 ],
 "metadata": {
  "kernelspec": {
   "display_name": "Python 3",
   "language": "python",
   "name": "python3"
  },
  "language_info": {
   "codemirror_mode": {
    "name": "ipython",
    "version": 3
   },
   "file_extension": ".py",
   "mimetype": "text/x-python",
   "name": "python",
   "nbconvert_exporter": "python",
   "pygments_lexer": "ipython3",
   "version": "3.7.6"
  }
 },
 "nbformat": 4,
 "nbformat_minor": 4
}
