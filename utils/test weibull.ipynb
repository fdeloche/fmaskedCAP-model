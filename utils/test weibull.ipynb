{
 "cells": [
  {
   "cell_type": "code",
   "execution_count": null,
   "metadata": {},
   "outputs": [],
   "source": [
    "import torch\n",
    "import numpy as np\n",
    "import matplotlib.pyplot as pl\n",
    "\n",
    "from ipywidgets import interact, interactive, fixed, interact_manual\n",
    "import ipywidgets as widgets"
   ]
  },
  {
   "cell_type": "markdown",
   "metadata": {},
   "source": [
    "Minimal class"
   ]
  },
  {
   "cell_type": "code",
   "execution_count": null,
   "metadata": {},
   "outputs": [],
   "source": [
    "class WeibullCDF_IOFunc:\n",
    "    '''Implements the Weibull CDF function\n",
    "    f(I) = 1-exp(- ((I-I0)/scale)^k )\n",
    "    '''\n",
    "    def __init__(self, I0=0., scale=40., k=10., requires_grad=False, mmax=1., constrained_at_Iref=False, Iref=-20):\n",
    "        '''\n",
    "        Args:\n",
    "            theta: localization parameter (max intensity associated with 0% masking)\n",
    "            scale: scale parameter (63% masking intensity reached at I0+scale)\n",
    "            k: shape parameter\n",
    "            mmax: maximum masking\n",
    "            constrained_at_Iref: if True, constrains the function to equal 1 at Iref.  (in this case, mmax is superfluous)\n",
    "            Iref: Iref in dB in the case of 'constrained_at_Iref\n",
    "        \n",
    "        '''\n",
    "        self.I0=I0\n",
    "        self.scale=scale  \n",
    "        self.k=k\n",
    "\n",
    "        self.constrained_at_Iref=constrained_at_Iref\n",
    "        self._Iref=Iref\n",
    "        \n",
    "        self.mmax=mmax\n",
    "\n",
    "\n",
    "    def __call__(self, I):\n",
    "        Delta_I=np.maximum((I-self.I0), 0.)\n",
    "        if self.constrained_at_Iref:\n",
    "            Delta_I_ref=np.maximum((self._Iref-self.I0), 0.)\n",
    "            return (1-np.exp( -(Delta_I/self.scale)**self.k))/(1-np.exp( -(Delta_I_ref/self.scale)**self.k))\n",
    "        else:\n",
    "            return self.mmax*(1-np.exp( -(Delta_I/self.scale)**self.k))\n"
   ]
  },
  {
   "cell_type": "code",
   "execution_count": null,
   "metadata": {},
   "outputs": [],
   "source": [
    "\n",
    "Iref = float(100 +10 - 32)\n",
    "fs=48828\n",
    "#Iref = 10*np.log10( 10**(Iref/10)/(fs/2) ) #spectral density\n",
    "#Iref-=20\n",
    "#Iref=21\n",
    "Iref=14.2  #1-22"
   ]
  },
  {
   "cell_type": "code",
   "execution_count": null,
   "metadata": {},
   "outputs": [],
   "source": [
    "#NB: remove 'manual' for continuous update\n",
    "@interact(I0=widgets.FloatSlider(value=-20, min=-40, max=0, step=1),\n",
    "    scale=widgets.FloatSlider(value=30, min=1, max=100, step=1), \n",
    "          k=widgets.FloatSlider(value=10, min=1, max=20, step=0.5))\n",
    "def plotwbcdf(I0, scale, k):\n",
    "\n",
    "    wb_cdf=WeibullCDF_IOFunc(I0=I0,\n",
    "        scale=scale,\n",
    "        k=k,\n",
    "        requires_grad=False,\n",
    "        constrained_at_Iref=True,\n",
    "        Iref=Iref)\n",
    "    \n",
    "    \n",
    "    wb_cdf2=WeibullCDF_IOFunc(I0=-20.,  #-15\n",
    "        scale=30.,\n",
    "        k=5.,\n",
    "        mmax=1.,\n",
    "        requires_grad=False,\n",
    "        constrained_at_Iref=True,\n",
    "        Iref=Iref)\n",
    "\n",
    "    I=np.linspace(-10, 30)\n",
    "    pl.figure()\n",
    "    \n",
    "    pl.plot(I, wb_cdf(I))\n",
    "    \n",
    "    pl.plot(I, wb_cdf2(I))\n",
    "    pl.xlim([-10, 30])\n",
    "    pl.title('Masking IO Function')\n",
    "    pl.xlabel('Power spectral density (dB)')\n",
    "    pl.show()"
   ]
  },
  {
   "cell_type": "markdown",
   "metadata": {},
   "source": [
    "Sigmoid"
   ]
  },
  {
   "cell_type": "code",
   "execution_count": null,
   "metadata": {},
   "outputs": [],
   "source": [
    "#NB: remove 'manual' for continuous update\n",
    "@interact(mu=widgets.FloatSlider(value=0, min=-20, max=20, step=1),\n",
    "    a=widgets.FloatSlider(value=0.25, min=0.01, max=2, step=0.1))\n",
    "def plotsigm(mu, a):\n",
    "\n",
    "    def sigm(I):\n",
    "        return 1/(1+np.exp(- a*(I-mu)))\n",
    "    I=np.linspace(-30, 20)\n",
    "    pl.figure()\n",
    "    \n",
    "    pl.plot(I, sigm(I))\n",
    "    \n",
    "    pl.xlim([-20, 20])\n",
    "    pl.title('Masking IO Function')\n",
    "    pl.xlabel('Power spectral density (dB)')\n",
    "    pl.show()"
   ]
  },
  {
   "cell_type": "code",
   "execution_count": null,
   "metadata": {},
   "outputs": [],
   "source": [
    "Delta_I_ref"
   ]
  },
  {
   "cell_type": "code",
   "execution_count": null,
   "metadata": {},
   "outputs": [],
   "source": []
  }
 ],
 "metadata": {
  "kernelspec": {
   "display_name": "torch",
   "language": "python",
   "name": "torch"
  },
  "language_info": {
   "codemirror_mode": {
    "name": "ipython",
    "version": 3
   },
   "file_extension": ".py",
   "mimetype": "text/x-python",
   "name": "python",
   "nbconvert_exporter": "python",
   "pygments_lexer": "ipython3",
   "version": "3.7.10"
  }
 },
 "nbformat": 4,
 "nbformat_minor": 4
}
