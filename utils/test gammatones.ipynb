{
 "cells": [
  {
   "cell_type": "code",
   "execution_count": null,
   "metadata": {},
   "outputs": [],
   "source": [
    "import numpy as np\n",
    "import matplotlib.pyplot as pl\n",
    "from functools import partial\n",
    "\n",
    "import scipy.integrate as integrate"
   ]
  },
  {
   "cell_type": "markdown",
   "metadata": {},
   "source": [
    "#### Gammatone"
   ]
  },
  {
   "cell_type": "markdown",
   "metadata": {},
   "source": [
    "$s(t)= t_+^{k-1} e^{-t/\\tau}$\n",
    "\n",
    "$||s||_2^2= (\\tau/2)^{2k-1} (2k-2)!$"
   ]
  },
  {
   "cell_type": "code",
   "execution_count": null,
   "metadata": {},
   "outputs": [],
   "source": [
    "def gammatone(k, tau, t):\n",
    "    s2_2 = np.power(tau/2, 2*k-1)*np.math.factorial(2*k-2)\n",
    "    return np.sqrt(1/s2_2)*(t>0)*np.power(t, k-1)*np.exp(-t/tau)"
   ]
  },
  {
   "cell_type": "code",
   "execution_count": null,
   "metadata": {},
   "outputs": [],
   "source": [
    "k=4\n",
    "tau=1\n",
    "gammatone_4=partial(gammatone, k, tau)"
   ]
  },
  {
   "cell_type": "code",
   "execution_count": null,
   "metadata": {},
   "outputs": [],
   "source": [
    "t=np.linspace(-0.2, 10)\n",
    "pl.plot(t, gammatone_4(t))"
   ]
  },
  {
   "cell_type": "code",
   "execution_count": null,
   "metadata": {},
   "outputs": [],
   "source": [
    "#test normalization\n",
    "#integrate.quad(lambda x : gammatone_4(x)**2, 0, 40)"
   ]
  },
  {
   "cell_type": "markdown",
   "metadata": {},
   "source": [
    "#### Power spectrum"
   ]
  },
  {
   "cell_type": "markdown",
   "metadata": {},
   "source": [
    "$\\hat{s}(\\omega)=(k-1)! \\left[ \\frac{\\tau}{1-i\\omega\\tau} \\right]^{k}$\n",
    "\n",
    "$|\\hat{s}(\\omega)|^2= (k-1)!^2 \\left[ \\frac{\\tau^2}{1+\\omega^2\\tau^2} \\right]^{k}$"
   ]
  },
  {
   "cell_type": "code",
   "execution_count": null,
   "metadata": {},
   "outputs": [],
   "source": [
    "def gammatone_freq(k, tau, omega):\n",
    "    s2_2 = np.power(tau/2, 2*k-1)*np.math.factorial(2*k-2)\n",
    "    return np.sqrt(1/s2_2)*np.math.factorial(k-1)*np.power(tau/(1-1j*tau*omega), k)\n",
    "\n",
    "def gammatone_freq_abs(k, tau, omega):\n",
    "    s2_2 = np.power(tau/2, 2*k-1)*np.math.factorial(2*k-2)\n",
    "    return np.sqrt(1/s2_2)*np.math.factorial(k-1)*np.power(tau**2/(1+tau**2*omega**2), k/2)\n",
    "\n",
    "\n",
    "def gammatone_freq_abs_sq(k, tau, omega):\n",
    "    s2_2 = np.power(tau/2, 2*k-1)*np.math.factorial(2*k-2)\n",
    "    return 1/s2_2*np.math.factorial(k-1)**2*np.power(tau**2/(1+tau**2*omega**2), k)\n",
    "\n"
   ]
  },
  {
   "cell_type": "code",
   "execution_count": null,
   "metadata": {},
   "outputs": [],
   "source": [
    "t=np.linspace(0, 30, 1024)\n",
    "u=gammatone_4(t)\n",
    "v=np.fft.rfft(u)\n",
    "\n",
    "dt=t[1]-t[0]\n",
    "\n",
    "f=1/t[-1]*np.arange(len(t)//2+1)\n",
    "#v_comp=gammatone_freq(k, tau, 2*np.pi*f)\n",
    "#v_comp_abs=gammatone_freq_abs(k, tau, 2*np.pi*f)\n",
    "v_comp_abs2=np.sqrt(gammatone_freq_abs_sq(k, tau, 2*np.pi*f))\n",
    "\n",
    "pl.plot(f, dt*np.abs(v), linewidth=3)\n",
    "\n",
    "#pl.plot(f, np.abs(v_comp), '-.', linewidth=3)\n",
    "pl.plot(f, v_comp_abs, '-.', linewidth=3)\n",
    "pl.xlim([0,1.5])"
   ]
  },
  {
   "cell_type": "markdown",
   "metadata": {},
   "source": [
    "#### Integration"
   ]
  },
  {
   "cell_type": "markdown",
   "metadata": {},
   "source": [
    "from matlab, primitives of $cos^{2k}$\n",
    "\n",
    "```\n",
    "syms x\n",
    "f=cos(x)^2\n",
    "int(f)\n",
    "```\n",
    " * $k=1$: $x/2 + \\sin(2x)/4$\n",
    " * $k=2$: $(3x)/8 + \\sin(2x)/4 + \\sin(4x)/32$\n",
    " * $k=3$: $(5x)/16 + (15\\sin(2x))/64 + (3\\sin(4x))/64 + \\sin(6x)/192$\n",
    " * $k=4$: $(35x)/128 + (7\\sin(2x))/32 + (7\\sin(4x))/128 + \\sin(6x)/96 + \\sin(8x)/1024$"
   ]
  },
  {
   "cell_type": "code",
   "execution_count": null,
   "metadata": {},
   "outputs": [],
   "source": [
    "def prim(k, x):\n",
    "    if k==1:\n",
    "        return x/2 + np.sin(2*x)/4\n",
    "    elif k==2:\n",
    "        return (3*x)/8 + np.sin(2*x)/4 + np.sin(4*x)/32\n",
    "    elif k==3:\n",
    "        return (5*x)/16 + (15*np.sin(2*x))/64 + (3*np.sin(4*x))/64 + np.sin(6*x)/192"
   ]
  },
  {
   "cell_type": "markdown",
   "metadata": {},
   "source": [
    "$\\int_0^A (1+\\omega^2 \\tau^2)^{-k} d\\omega = \\frac{1}{\\tau} \\int_0^{\\mathrm{arctan}(\\tau A)} \\cos^{2(k-1)}\\theta   \\, d\\theta$"
   ]
  },
  {
   "cell_type": "code",
   "execution_count": null,
   "metadata": {},
   "outputs": [],
   "source": []
  }
 ],
 "metadata": {
  "kernelspec": {
   "display_name": "Python 3",
   "language": "python",
   "name": "python3"
  },
  "language_info": {
   "codemirror_mode": {
    "name": "ipython",
    "version": 3
   },
   "file_extension": ".py",
   "mimetype": "text/x-python",
   "name": "python",
   "nbconvert_exporter": "python",
   "pygments_lexer": "ipython3",
   "version": "3.7.6"
  }
 },
 "nbformat": 4,
 "nbformat_minor": 4
}
