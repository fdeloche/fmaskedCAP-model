{
 "cells": [
  {
   "cell_type": "code",
   "execution_count": null,
   "metadata": {},
   "outputs": [],
   "source": [
    "import numpy as np\n",
    "import matplotlib.pyplot as pl\n",
    "import torch\n",
    "from filters import *\n",
    "import re"
   ]
  },
  {
   "cell_type": "code",
   "execution_count": null,
   "metadata": {},
   "outputs": [],
   "source": [
    "filter_mode='gaussian'   #'gammatone_k'\n",
    "#filter_mode='gammatone_4'"
   ]
  },
  {
   "cell_type": "code",
   "execution_count": null,
   "metadata": {},
   "outputs": [],
   "source": [
    "if filter_mode=='gaussian':\n",
    "    filter_cls=GaussianFilter\n",
    "    params=(0.1, 0)\n",
    "    \n",
    "m=re.match('gammatone_([1-9]+)', filter_mode)\n",
    "if m:\n",
    "    filter_cls=GammatoneFilter\n",
    "    k=int(m.group(1))\n",
    "    params=(4, 0.6, 0)"
   ]
  },
  {
   "cell_type": "code",
   "execution_count": null,
   "metadata": {},
   "outputs": [],
   "source": [
    "filt=filter_cls(*params)"
   ]
  },
  {
   "cell_type": "code",
   "execution_count": null,
   "metadata": {},
   "outputs": [],
   "source": []
  },
  {
   "cell_type": "code",
   "execution_count": null,
   "metadata": {},
   "outputs": [],
   "source": [
    "f=torch.linspace(0, 1, 1024)\n",
    "\n",
    "pl.plot(f, filt(f))\n",
    "\n",
    "bw_10=filt.BW10()\n",
    "\n",
    "pl.axvline(bw_10/2)\n",
    "\n",
    "print( (filt(torch.tensor(bw_10/2))/filt(torch.tensor(0.)))**2 )\n",
    "\n",
    "#test normalization\n",
    "df=f[1]-f[0]\n",
    "print(df*torch.sum(filt(f)**2))"
   ]
  },
  {
   "cell_type": "code",
   "execution_count": null,
   "metadata": {},
   "outputs": [],
   "source": [
    "#test integration\n",
    "if filter_mode=='gaussian':\n",
    "    \n",
    "    pl.plot(f, filter_cls.int_standard_sq(f/bw_10))\n",
    "else:\n",
    "    pl.plot(f, filter_cls.int_standard_sq(k, f/bw_10))\n",
    "pl.plot(f, 0.5+df*torch.cumsum(filt(f)**2, -1))\n"
   ]
  },
  {
   "cell_type": "code",
   "execution_count": null,
   "metadata": {},
   "outputs": [],
   "source": []
  }
 ],
 "metadata": {
  "kernelspec": {
   "display_name": "torch",
   "language": "python",
   "name": "torch"
  },
  "language_info": {
   "codemirror_mode": {
    "name": "ipython",
    "version": 3
   },
   "file_extension": ".py",
   "mimetype": "text/x-python",
   "name": "python",
   "nbconvert_exporter": "python",
   "pygments_lexer": "ipython3",
   "version": "3.8.5"
  }
 },
 "nbformat": 4,
 "nbformat_minor": 4
}
