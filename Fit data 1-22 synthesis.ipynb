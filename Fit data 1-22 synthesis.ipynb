{
 "cells": [
  {
   "cell_type": "code",
   "execution_count": null,
   "metadata": {},
   "outputs": [],
   "source": [
    "import numpy as np\n",
    "import matplotlib.pyplot as pl\n",
    "\n"
   ]
  },
  {
   "cell_type": "markdown",
   "metadata": {},
   "source": [
    "First estimation Q10 "
   ]
  },
  {
   "cell_type": "code",
   "execution_count": null,
   "metadata": {},
   "outputs": [],
   "source": [
    "def lin_reg(x, y):\n",
    "    x0=np.mean(x)\n",
    "    y0=np.mean(y)\n",
    "    x2=x-x0\n",
    "    y2=y-y0\n",
    "    \n",
    "    a=np.mean(x2*y2)/np.mean(x2**2)\n",
    "    \n",
    "    b=y0-a*x0\n",
    "    return a,b"
   ]
  },
  {
   "cell_type": "code",
   "execution_count": null,
   "metadata": {},
   "outputs": [],
   "source": [
    "data_temchin2008=[2.3089873546759883, 1.1335705639594416,\n",
    "2.433649800608806, 1.1219195832734208,\n",
    "2.5189887453848376, 1.1773955803812832,\n",
    "2.6533794225047744, 1.309265969016895,\n",
    "2.778489919723694, 1.4971674771258776,\n",
    "2.9012927263226755, 1.708120153194006,\n",
    "3.0094886604141227, 1.9285965397126237,\n",
    "3.1255960147906117, 2.1612852064604233,\n",
    "3.2415506244104755, 2.2821647113582557,\n",
    "3.357807354173958, 2.6241961613858074,\n",
    "3.474104516373019, 2.9958241542560007,\n",
    "3.586175253618712, 3.355814344419173,\n",
    "3.7043916087598454, 3.5912389393077095,\n",
    "3.8215714334900244, 3.8384495891670536,\n",
    "3.939633359189716, 3.9608318329205066,\n",
    "4.049971341946277, 4.16542819317891,\n",
    "4.170808168162108, 4.435528842816696,\n",
    "4.276243124454071, 4.561285269586788]\n",
    "freqs_t=np.array(data_temchin2008[::2])\n",
    "freqs_t=10**freqs_t\n",
    "q10_t=np.array(data_temchin2008[1::2])\n",
    "\n"
   ]
  },
  {
   "cell_type": "code",
   "execution_count": null,
   "metadata": {},
   "outputs": [],
   "source": [
    "freqs=np.array([1.5, 2.2, 3, 4, 5, 6, 8])*1e3\n",
    "bw10=np.array([800, 2300, 600, 1000, 1300, 1400, 2600])\n",
    "bw10_C=np.array([850,2400,850,1000,1250,2200,2500])\n",
    "\n",
    "\n",
    "bw10_R=np.array([850,1450,350,1000,1250,950,2950])\n",
    "\n",
    "pl.plot(freqs, freqs/bw10, '+', label='estimated w/ model')\n",
    "\n",
    "pl.plot(freqs_t, q10_t, label='Temchin et al 2008')\n",
    "pl.xlim([1000, 10000])\n",
    "#pl.plot(freqs, freqs/bw10_C, '+', label='C')\n",
    "\n",
    "#pl.plot(freqs, freqs/bw10_R, '+', label='R')\n",
    "\n",
    "#pl.legend()\n",
    "\n",
    "#lin reg\n",
    "a_t, b_t = lin_reg(np.log(freqs_t), np.log(q10_t) )\n",
    "a, b = lin_reg(np.log(freqs), np.log(freqs/bw10) )\n",
    "\n",
    "f=np.linspace(1000, 10000)\n",
    "\n",
    "\n",
    "#pl.plot(f, np.exp(b_t)*f**a_t)\n",
    "#pl.plot(f, np.exp(b)*f**a)\n",
    "\n",
    "pl.xscale('log')\n",
    "\n",
    "pl.xlabel('f (Hz)')\n",
    "pl.ylabel('Q10')\n",
    "pl.legend(loc='lower right')\n",
    "#pl.savefig('q10_estim.png')\n",
    "pl.show()\n",
    "#pl.yscale('log')"
   ]
  },
  {
   "cell_type": "code",
   "execution_count": null,
   "metadata": {},
   "outputs": [],
   "source": [
    "a"
   ]
  },
  {
   "cell_type": "code",
   "execution_count": null,
   "metadata": {},
   "outputs": [],
   "source": [
    "a"
   ]
  },
  {
   "cell_type": "code",
   "execution_count": null,
   "metadata": {},
   "outputs": [],
   "source": []
  },
  {
   "cell_type": "code",
   "execution_count": null,
   "metadata": {},
   "outputs": [],
   "source": []
  }
 ],
 "metadata": {
  "kernelspec": {
   "display_name": "Python 3",
   "language": "python",
   "name": "python3"
  },
  "language_info": {
   "codemirror_mode": {
    "name": "ipython",
    "version": 3
   },
   "file_extension": ".py",
   "mimetype": "text/x-python",
   "name": "python",
   "nbconvert_exporter": "python",
   "pygments_lexer": "ipython3",
   "version": "3.7.6"
  }
 },
 "nbformat": 4,
 "nbformat_minor": 4
}
