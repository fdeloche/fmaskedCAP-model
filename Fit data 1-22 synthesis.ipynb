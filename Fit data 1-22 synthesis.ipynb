{
 "cells": [
  {
   "cell_type": "code",
   "execution_count": null,
   "metadata": {},
   "outputs": [],
   "source": [
    "import numpy as np\n",
    "import matplotlib.pyplot as pl\n",
    "\n"
   ]
  },
  {
   "cell_type": "markdown",
   "metadata": {},
   "source": [
    "First estimation Q10 "
   ]
  },
  {
   "cell_type": "code",
   "execution_count": null,
   "metadata": {},
   "outputs": [],
   "source": [
    "freqs=np.array([1.5, 2.2, 3, 4, 5, 6, 8])*1e3\n",
    "bw10=np.array([800, 2300, 600, 1000, 1300, 1400, 2600])\n",
    "bw10_C=np.array([850,2400,850,1000,1250,2200,2500])\n",
    "\n",
    "\n",
    "bw10_R=np.array([850,1450,350,1000,1250,950,2950])\n",
    "\n",
    "pl.plot(freqs, freqs/bw10, '+', label='C+R')\n",
    "\n",
    "#pl.plot(freqs, freqs/bw10_C, '+', label='C')\n",
    "\n",
    "#pl.plot(freqs, freqs/bw10_R, '+', label='R')\n",
    "\n",
    "#pl.legend()"
   ]
  },
  {
   "cell_type": "code",
   "execution_count": null,
   "metadata": {},
   "outputs": [],
   "source": []
  }
 ],
 "metadata": {
  "kernelspec": {
   "display_name": "Python 3",
   "language": "python",
   "name": "python3"
  },
  "language_info": {
   "codemirror_mode": {
    "name": "ipython",
    "version": 3
   },
   "file_extension": ".py",
   "mimetype": "text/x-python",
   "name": "python",
   "nbconvert_exporter": "python",
   "pygments_lexer": "ipython3",
   "version": "3.7.6"
  }
 },
 "nbformat": 4,
 "nbformat_minor": 4
}
