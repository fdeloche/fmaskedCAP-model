{
 "cells": [
  {
   "cell_type": "markdown",
   "metadata": {},
   "source": [
    "## Simple toy model"
   ]
  },
  {
   "cell_type": "markdown",
   "metadata": {},
   "source": [
    "I assume that the auditory filters are Gaussian (masking pattern and excitation pattern then follow a 2nd degre polynome)"
   ]
  },
  {
   "cell_type": "code",
   "execution_count": null,
   "metadata": {},
   "outputs": [],
   "source": [
    "import numpy as np\n",
    "import matplotlib.pyplot as pl\n",
    "from scipy.ndimage  import gaussian_filter1d"
   ]
  },
  {
   "cell_type": "markdown",
   "metadata": {},
   "source": [
    "### Latencies"
   ]
  },
  {
   "cell_type": "code",
   "execution_count": null,
   "metadata": {},
   "outputs": [],
   "source": [
    "m=500\n",
    "\n",
    "log_f=np.linspace(np.log(0.5), np.log(8), num=m)\n",
    "f=1000*np.exp(log_f)\n",
    "t=1/100*0.5*(f/1000.)**(-0.7)#approx\n",
    "\n",
    "def f_from_t(t):\n",
    "    return (100/0.5*t)**(-1/0.7)*1000"
   ]
  },
  {
   "cell_type": "code",
   "execution_count": null,
   "metadata": {},
   "outputs": [],
   "source": [
    "pl.figure()\n",
    "pl.plot(f,t)\n",
    "pl.xlabel('f')\n",
    "pl.ylabel('t')\n",
    "pl.show()"
   ]
  },
  {
   "cell_type": "markdown",
   "metadata": {},
   "source": [
    "### CAP without masking"
   ]
  },
  {
   "cell_type": "code",
   "execution_count": null,
   "metadata": {},
   "outputs": [],
   "source": [
    "f_c = 6e3\n",
    "Q_0=3\n",
    "sig_o = 1/Q_0*1/4*f_c\n",
    "E=30-20*1/4*(f-f_c)**2/(sig_o**2)\n",
    "E=np.maximum(E, 0)"
   ]
  },
  {
   "cell_type": "code",
   "execution_count": null,
   "metadata": {},
   "outputs": [],
   "source": []
  },
  {
   "cell_type": "code",
   "execution_count": null,
   "metadata": {},
   "outputs": [],
   "source": [
    "pl.figure()\n",
    "pl.plot(t*1000,E)\n",
    "pl.xlabel('t (ms)')\n",
    "pl.title('Excitation pattern')\n",
    "\n",
    "\n",
    "\n",
    "ax2 = pl.gca().twiny()\n",
    "new_tick_locations=np.linspace(1,8, num=8)\n",
    "ax2.set_xticks(new_tick_locations)\n",
    "ax2.set_xticklabels(np.round(f_from_t((new_tick_locations+1)*1e-3)/50).astype(np.int32)*50)\n",
    "ax2.set_xlabel('f (Hz)')\n",
    "\n",
    "pl.show()"
   ]
  },
  {
   "cell_type": "code",
   "execution_count": null,
   "metadata": {},
   "outputs": [],
   "source": [
    "Eprime = (np.roll(E, 1) - E)/(np.roll(t,1)-t)\n",
    "Eprime[0]=0\n",
    "\n",
    "Eprime2 = (np.roll(Eprime, 1) - Eprime)/(np.roll(t,1)-t)\n",
    "Eprime2[0]=0"
   ]
  },
  {
   "cell_type": "code",
   "execution_count": null,
   "metadata": {},
   "outputs": [],
   "source": [
    "CAP=E-0.001*Eprime\n",
    "CAP=gaussian_filter1d(CAP, sigma=30) #filtering in log domain (!!)\n",
    "pl.figure()\n",
    "pl.plot(t*1000,CAP)\n",
    "pl.xlabel('t (ms)')\n",
    "pl.title('CAP (simulated)')\n",
    "pl.show()"
   ]
  },
  {
   "cell_type": "markdown",
   "metadata": {},
   "source": [
    "### Example of masked CAP (tone on tone burst)"
   ]
  },
  {
   "cell_type": "code",
   "execution_count": null,
   "metadata": {},
   "outputs": [],
   "source": []
  },
  {
   "cell_type": "markdown",
   "metadata": {},
   "source": [
    "I assume that the degree of masking is linear w.r.t response of the masker in dB (on a interval). "
   ]
  },
  {
   "cell_type": "code",
   "execution_count": null,
   "metadata": {},
   "outputs": [],
   "source": [
    "f_c_m = 5e3\n",
    "Q_0=4\n",
    "sig_o_m = 1/Q_0*1/4*f_c\n",
    "M=0.8*(1-1/20*20*1/4*(f-f_c_m)**2/(sig_o_m**2))\n",
    "M=np.maximum(M, 0)"
   ]
  },
  {
   "cell_type": "code",
   "execution_count": null,
   "metadata": {},
   "outputs": [],
   "source": [
    "pl.figure()\n",
    "pl.plot(t*1000,E)\n",
    "pl.twinx()\n",
    "pl.plot(t*1000,1-M, color='r')\n",
    "pl.ylim([0,1.1])\n",
    "pl.xlabel('t (ms)')\n",
    "pl.title('Excitation pattern + masking pattern (1-M)')\n",
    "\n",
    "\n",
    "\n",
    "ax2 = pl.gca().twiny()\n",
    "new_tick_locations=np.linspace(1,8, num=8)\n",
    "ax2.set_xticks(new_tick_locations)\n",
    "ax2.set_xticklabels(np.round(f_from_t((new_tick_locations+1)*1e-3)/50).astype(np.int32)*50)\n",
    "ax2.set_xlabel('f (Hz)')\n",
    "\n",
    "pl.show()"
   ]
  },
  {
   "cell_type": "code",
   "execution_count": null,
   "metadata": {},
   "outputs": [],
   "source": [
    "Em=Emasked=E*(1-M)\n",
    "\n",
    "pl.figure()\n",
    "pl.plot(t*1000, Emasked)\n",
    "pl.xlabel('t (ms)')\n",
    "pl.title('Estimated excitation pattern (result)')\n",
    "\n",
    "\n",
    "\n",
    "ax2 = pl.gca().twiny()\n",
    "new_tick_locations=np.linspace(1,8, num=8)\n",
    "ax2.set_xticks(new_tick_locations)\n",
    "ax2.set_xticklabels(np.round(f_from_t((new_tick_locations+1)*1e-3)/50).astype(np.int32)*50)\n",
    "ax2.set_xlabel('f (Hz)')\n",
    "\n",
    "pl.show()"
   ]
  },
  {
   "cell_type": "code",
   "execution_count": null,
   "metadata": {},
   "outputs": [],
   "source": [
    "Emprime = (np.roll(Emasked, 1) - Emasked)/(np.roll(t,1)-t)\n",
    "Emprime[0]=0\n",
    "\n",
    "Emprime2 = (np.roll(Emprime, 1) - Emprime)/(np.roll(t,1)-t)\n",
    "Emprime2[0]=0"
   ]
  },
  {
   "cell_type": "code",
   "execution_count": null,
   "metadata": {},
   "outputs": [],
   "source": [
    "CAPm=Em-0.001*Emprime\n",
    "CAPm=gaussian_filter1d(CAPm, sigma=30) #filtering in log domain (!!)\n",
    "pl.figure()\n",
    "pl.plot(t*1000,CAPm)\n",
    "pl.xlabel('t (ms)')\n",
    "pl.title('Masked CAP (simulated)')\n",
    "pl.show()"
   ]
  },
  {
   "cell_type": "code",
   "execution_count": null,
   "metadata": {},
   "outputs": [],
   "source": []
  }
 ],
 "metadata": {
  "kernelspec": {
   "display_name": "Python 3",
   "language": "python",
   "name": "python3"
  },
  "language_info": {
   "codemirror_mode": {
    "name": "ipython",
    "version": 3
   },
   "file_extension": ".py",
   "mimetype": "text/x-python",
   "name": "python",
   "nbconvert_exporter": "python",
   "pygments_lexer": "ipython3",
   "version": "3.7.6"
  }
 },
 "nbformat": 4,
 "nbformat_minor": 4
}
