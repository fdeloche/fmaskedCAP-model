{
 "cells": [
  {
   "cell_type": "code",
   "execution_count": null,
   "metadata": {},
   "outputs": [],
   "source": [
    "import numpy as np\n",
    "import matplotlib as mpl\n",
    "import matplotlib.pyplot as pl\n",
    "import scipy.signal as sg\n",
    "\n",
    "pl.style.use('fivethirtyeight')\n",
    "mpl.rcParams['axes.facecolor']='white'  \n",
    "mpl.rcParams['figure.facecolor'] = '1'"
   ]
  },
  {
   "cell_type": "code",
   "execution_count": null,
   "metadata": {},
   "outputs": [],
   "source": [
    "from filters import *\n",
    "from masking import *\n",
    "from simulCAP import *\n",
    "from latencies import *\n",
    "from excitation import *\n",
    "from tests import *"
   ]
  },
  {
   "cell_type": "markdown",
   "metadata": {},
   "source": [
    "### Parameters for every signals"
   ]
  },
  {
   "cell_type": "code",
   "execution_count": null,
   "metadata": {},
   "outputs": [],
   "source": [
    "t=ConvolutionCAPSimulatorSingleFilterModel.default_t_array()\n",
    "md=SigmoidMaskingDegreeFunction(30, 2*1/15., 0.95)\n",
    "\n",
    "plotMaskingDegreeFunc(md)"
   ]
  },
  {
   "cell_type": "markdown",
   "metadata": {},
   "source": [
    "### True parameters (reference)"
   ]
  },
  {
   "cell_type": "code",
   "execution_count": null,
   "metadata": {},
   "outputs": [],
   "source": [
    "lat0=Eggermont1976clickLatencies80dB #latencies\n",
    "\n",
    "#Unitary response\n",
    "ur0=URWang1979m\n",
    "u00=ur0.u(t-2e-3) #shift\n",
    "from scipy.ndimage  import gaussian_filter1d\n",
    "sig=0.3e-3 #std of gaussian kernel in s\n",
    "sig2=sig/(t[1]-t[0])\n",
    "u0 = gaussian_filter1d(u00, sigma=sig2)\n",
    "u0/=np.amax(np.abs(u0))\n",
    "u0*=0.5*np.amax(np.abs(u00))\n",
    "\n",
    "f_c = 3000\n",
    "Q_10_0 = 4 #at f_c\n",
    "\n",
    "#Excitation pattern\n",
    "EPref=EP0= ExcitationPattern(lat0, f_c, 1.7, 70)\n",
    "\n",
    "gf0= GaussianFilter.givenQ10(f_c, Q_10_0)\n"
   ]
  },
  {
   "cell_type": "markdown",
   "metadata": {},
   "source": [
    "Unitary response"
   ]
  },
  {
   "cell_type": "code",
   "execution_count": null,
   "metadata": {},
   "outputs": [],
   "source": [
    "pl.plot(t*1e3, u00, label='unitary response')\n",
    "pl.plot(t*1e3, u0, label='ur + nPSHT (blur)',  color='orange')\n",
    "pl.legend(loc='lower right')\n",
    "pl.title(\"Unitary response\")\n",
    "pl.xlabel('t (ms)')"
   ]
  },
  {
   "cell_type": "markdown",
   "metadata": {},
   "source": [
    "Example : excitation pattern with tone masker"
   ]
  },
  {
   "cell_type": "code",
   "execution_count": null,
   "metadata": {},
   "outputs": [],
   "source": [
    "A=10**(45/20.)*np.sqrt(gf0.ERB())\n",
    "\n",
    "mask=ToneSingleFilterMaskingPattern(A, f_c*0.9, gf0, md) \n",
    "EPm = ExcitationPattern.mask(EP0, mask)\n",
    "with pl.style.context('default'):\n",
    "    plotExcitationPattern(EPm, figsize=(8, 3))\n",
    "    plotSimulCAPs2convGaussianKernel([EPm], sig=sig, secondPeak=0., figsize=(9, 7), plotGaussianKernel=False, plotmaskingpattern=False)\n"
   ]
  },
  {
   "cell_type": "markdown",
   "metadata": {},
   "source": [
    "### Different masking settings"
   ]
  },
  {
   "cell_type": "code",
   "execution_count": null,
   "metadata": {},
   "outputs": [],
   "source": [
    "nb_tones=8 #nb tone maskers\n",
    "nb_noise=nb_tones #nb high pass noise maskers\n",
    "\n",
    "freqs=np.linspace(0.7, 1.1, nb_tones)*f_c\n",
    "\n",
    "#Tones\n",
    "A=10**(45/20.)*np.sqrt(gf0.ERB())\n",
    "#some variations\n",
    "A_arr=A*10**(2*np.random.randn((nb_tones))/10.)\n",
    "mc_tones = [ToneSingleFilterMaskingCondition(A_arr[i], freqs[i]) for i in range(nb_tones)]\n",
    "\n",
    "#HP noise\n",
    "Ihz=55+3*np.random.randn((nb_noise))\n",
    "mc_hpnoises = [HighPassNoiseSingleFilterMaskingCondition(Ihz[i], freqs[i]) for i in range(nb_noise)]\n",
    "\n",
    "mcs = [NoMaskingCondition()]+mc_tones+mc_hpnoises\n",
    "\n",
    "capSimulator = ConvolutionCAPSimulatorSingleFilterModel(lat0, gf0, EP0, md, mcs, ur=u0)\n",
    "\n",
    "plotConvCAPSimulator(capSimulator, figsize=(14,12))"
   ]
  },
  {
   "cell_type": "markdown",
   "metadata": {},
   "source": [
    "### CAP signals"
   ]
  },
  {
   "cell_type": "markdown",
   "metadata": {},
   "source": [
    "Add noise"
   ]
  },
  {
   "cell_type": "code",
   "execution_count": null,
   "metadata": {},
   "outputs": [],
   "source": [
    "CAPs0=capSimulator.simulCAPs()\n",
    "CAPamax=np.amax(np.abs(CAPs0))\n",
    "CAPs=CAPs0+1/15*CAPamax*np.random.randn(*np.shape(CAPs0))"
   ]
  },
  {
   "cell_type": "code",
   "execution_count": null,
   "metadata": {},
   "outputs": [],
   "source": [
    "pl.figure(figsize=(12, 5))\n",
    "pl.suptitle('CAPs + noise')\n",
    "m=capSimulator.m\n",
    "nb_col=(m+1)//2 if m<=12 else (m+2)//3\n",
    "nb_row=(m+nb_col-1)//nb_col\n",
    "for i in range(m):\n",
    "    ind=i+1\n",
    "    pl.subplot(nb_row, nb_col, ind)\n",
    "    pl.plot(t*1e3, CAPs[i])\n",
    "    pl.xlabel('t (ms)')\n",
    "    pl.ylim([-1.2*CAPamax, 1.2*CAPamax])\n",
    "    pl.gca().get_yaxis().set_visible(False)\n",
    "pl.show()"
   ]
  },
  {
   "cell_type": "markdown",
   "metadata": {},
   "source": [
    "Wiener filter + low pass"
   ]
  },
  {
   "cell_type": "code",
   "execution_count": null,
   "metadata": {},
   "outputs": [],
   "source": [
    "CAPs_f=np.zeros_like(CAPs)\n",
    "window=sg.tukey(np.shape(CAPs)[1])\n",
    "for i in range(capSimulator.m):\n",
    "    #window signal (tuckey window)\n",
    "    CAP_w=window*CAPs[i]\n",
    "    CAPs_f[i]=sg.wiener(CAP_w)\n",
    "    #low pass (gaussian kernel to simply for now)\n",
    "    sig_f=0.2e-3 #in s\n",
    "    sig_f=sig_f/(t[1]-t[0])\n",
    "    CAPs_f[i]=gaussian_filter1d(CAPs_f[i], sigma=sig_f)"
   ]
  },
  {
   "cell_type": "code",
   "execution_count": null,
   "metadata": {},
   "outputs": [],
   "source": [
    "pl.figure(figsize=(12, 5))\n",
    "pl.suptitle('CAPs (ref. and filtered)')\n",
    "m=capSimulator.m\n",
    "nb_col=(m+1)//2 if m<=12 else (m+2)//3\n",
    "nb_row=(m+nb_col-1)//nb_col\n",
    "for i in range(m):\n",
    "    ind=i+1\n",
    "    pl.subplot(nb_row, nb_col, ind)\n",
    "    pl.plot(t*1e3, CAPs0[i])\n",
    "    pl.plot(t*1e3, CAPs_f[i])\n",
    "    pl.xlabel('t (ms)')\n",
    "    pl.ylim([-1.2*CAPamax, 1.2*CAPamax])\n",
    "    pl.gca().get_yaxis().set_visible(False)\n",
    "pl.show()"
   ]
  },
  {
   "cell_type": "code",
   "execution_count": null,
   "metadata": {},
   "outputs": [],
   "source": [
    "#deconvs\n",
    "#TODO vectorize?\n",
    "\n",
    "#given u\n",
    "u_fft=np.fft.rfft(u0)\n",
    "EP_deconv=np.zeros_like(CAPs_f)\n",
    "for i in range(capSimulator.m):\n",
    "    CAP_fft=np.fft.rfft(CAPs_f[i])\n",
    "    EP_fft=CAP_fft/u_fft\n",
    "    EP_deconv[i]=np.fft.irfft(EP_fft)\n",
    "    \n",
    "#given EPs\n",
    "EPs0=capSimulator.getEPs()\n",
    "u_deconv=np.zeros_like(CAPs_f)\n",
    "for i in range(capSimulator.m):\n",
    "    CAP_fft=np.fft.rfft(CAPs_f[i])\n",
    "    EP_fft=np.fft.rfft(EPs0[i])\n",
    "    u_fft=CAP_fft/EP_fft\n",
    "    u_deconv[i]=np.fft.irfft(u_fft)\n",
    "    "
   ]
  },
  {
   "cell_type": "code",
   "execution_count": null,
   "metadata": {},
   "outputs": [],
   "source": [
    "EPs0=capSimulator.getEPs()\n",
    "pl.figure(figsize=(12, 5))\n",
    "pl.suptitle('Test deconv of EPs (if u is known)')\n",
    "m=capSimulator.m\n",
    "nb_col=(m+1)//2 if m<=12 else (m+2)//3\n",
    "nb_row=(m+nb_col-1)//nb_col\n",
    "for i in range(m):\n",
    "    ind=i+1\n",
    "    pl.subplot(nb_row, nb_col, ind)\n",
    "    pl.plot(t*1e3, EPs0[i])\n",
    "    pl.plot(t*1e3, EP_deconv[i])\n",
    "    pl.xlabel('t (ms)')\n",
    "    pl.gca().get_yaxis().set_visible(False)\n",
    "pl.show()"
   ]
  },
  {
   "cell_type": "code",
   "execution_count": null,
   "metadata": {},
   "outputs": [],
   "source": [
    "pl.figure(figsize=(12, 5))\n",
    "pl.suptitle('Test deconv of u (if EPs are known)')\n",
    "m=capSimulator.m\n",
    "nb_col=(m+1)//2 if m<=12 else (m+2)//3\n",
    "nb_row=(m+nb_col-1)//nb_col\n",
    "for i in range(m):\n",
    "    ind=i+1\n",
    "    pl.subplot(nb_row, nb_col, ind)\n",
    "    pl.plot(t*1e3, u0)\n",
    "    pl.plot(t*1e3, u_deconv[i])\n",
    "    pl.xlabel('t (ms)')\n",
    "    pl.gca().get_yaxis().set_visible(False)\n",
    "pl.show()"
   ]
  },
  {
   "cell_type": "code",
   "execution_count": null,
   "metadata": {},
   "outputs": [],
   "source": []
  }
 ],
 "metadata": {
  "kernelspec": {
   "display_name": "Python 3",
   "language": "python",
   "name": "python3"
  },
  "language_info": {
   "codemirror_mode": {
    "name": "ipython",
    "version": 3
   },
   "file_extension": ".py",
   "mimetype": "text/x-python",
   "name": "python",
   "nbconvert_exporter": "python",
   "pygments_lexer": "ipython3",
   "version": "3.7.6"
  }
 },
 "nbformat": 4,
 "nbformat_minor": 4
}
