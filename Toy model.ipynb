{
 "cells": [
  {
   "cell_type": "code",
   "execution_count": null,
   "metadata": {},
   "outputs": [],
   "source": [
    "import numpy as np\n",
    "import matplotlib as mpl\n",
    "import matplotlib.pyplot as pl\n",
    "import scipy.signal as sg\n",
    "\n",
    "pl.style.use('fivethirtyeight')\n",
    "mpl.rcParams['axes.facecolor']='white'  \n",
    "mpl.rcParams['figure.facecolor'] = '1'"
   ]
  },
  {
   "cell_type": "code",
   "execution_count": null,
   "metadata": {},
   "outputs": [],
   "source": [
    "from filters import *\n",
    "from masking import *\n",
    "from simulCAP import *\n",
    "from latencies import *\n",
    "from excitation import *\n",
    "from tests import *\n",
    "from deconv import *"
   ]
  },
  {
   "cell_type": "markdown",
   "metadata": {},
   "source": [
    "### Parameters for every signals"
   ]
  },
  {
   "cell_type": "code",
   "execution_count": null,
   "metadata": {},
   "outputs": [],
   "source": [
    "t=ConvolutionCAPSimulatorSingleFilterModel.default_t_array()\n",
    "md=SigmoidMaskingDegreeFunction(30, 2*1/15., 0.95)\n",
    "\n",
    "plotMaskingDegreeFunc(md)"
   ]
  },
  {
   "cell_type": "markdown",
   "metadata": {},
   "source": [
    "### True parameters (reference)"
   ]
  },
  {
   "cell_type": "code",
   "execution_count": null,
   "metadata": {},
   "outputs": [],
   "source": [
    "lat0=Eggermont1976clickLatencies80dB #latencies\n",
    "\n",
    "#Unitary response\n",
    "ur0=URWang1979m\n",
    "u00=ur0.u(t-2e-3) #shift\n",
    "from scipy.ndimage  import gaussian_filter1d\n",
    "sig=0.3e-3 #std of gaussian kernel in s\n",
    "sig2=sig/(t[1]-t[0])\n",
    "u0 = gaussian_filter1d(u00, sigma=sig2)\n",
    "u0/=np.amax(np.abs(u0))\n",
    "u0*=0.5*np.amax(np.abs(u00))\n",
    "\n",
    "f_c = 3000\n",
    "Q_10_0 = 4 #at f_c\n",
    "\n",
    "#Excitation pattern\n",
    "EPref=EP0= ExcitationPattern(lat0, f_c, 1.7, 70)\n",
    "\n",
    "gf0= GaussianFilter.givenQ10(f_c, Q_10_0)\n"
   ]
  },
  {
   "cell_type": "markdown",
   "metadata": {},
   "source": [
    "Latencies"
   ]
  },
  {
   "cell_type": "code",
   "execution_count": null,
   "metadata": {},
   "outputs": [],
   "source": [
    "plotLatencies(lat0)"
   ]
  },
  {
   "cell_type": "markdown",
   "metadata": {},
   "source": [
    "Unitary response"
   ]
  },
  {
   "cell_type": "code",
   "execution_count": null,
   "metadata": {},
   "outputs": [],
   "source": [
    "pl.plot(t*1e3, u00, label='unitary response')\n",
    "pl.plot(t*1e3, u0, label='ur + nPSHT (blur)',  color='orange')\n",
    "pl.legend(loc='lower right')\n",
    "pl.title(\"Unitary response\")\n",
    "pl.xlabel('t (ms)')"
   ]
  },
  {
   "cell_type": "markdown",
   "metadata": {},
   "source": [
    "Example : excitation pattern with tone masker"
   ]
  },
  {
   "cell_type": "code",
   "execution_count": null,
   "metadata": {},
   "outputs": [],
   "source": [
    "A=10**(45/20.)*np.sqrt(gf0.ERB())\n",
    "\n",
    "mask=ToneSingleFilterMaskingPattern(A, f_c*0.9, gf0, md) \n",
    "EPm = ExcitationPattern.mask(EP0, mask)\n",
    "with pl.style.context('default'):\n",
    "    plotExcitationPattern(EPm, figsize=(8, 3))\n",
    "    plotSimulCAPs2convGaussianKernel([EPm], sig=sig, secondPeak=0., figsize=(9, 7), plotGaussianKernel=False, plotmaskingpattern=False)\n"
   ]
  },
  {
   "cell_type": "markdown",
   "metadata": {},
   "source": [
    "### Different masking settings"
   ]
  },
  {
   "cell_type": "code",
   "execution_count": null,
   "metadata": {},
   "outputs": [],
   "source": [
    "nb_tones=8 #nb tone maskers\n",
    "nb_noise=nb_tones #nb high pass noise maskers\n",
    "\n",
    "freqs=np.linspace(0.7, 1.1, nb_tones)*f_c\n",
    "\n",
    "#Tones\n",
    "A=10**(45/20.)*np.sqrt(gf0.ERB())\n",
    "#some variations\n",
    "A_arr=A*10**(2*np.random.randn((nb_tones))/10.)\n",
    "mc_tones = [ToneSingleFilterMaskingCondition(A_arr[i], freqs[i]) for i in range(nb_tones)]\n",
    "\n",
    "#HP noise\n",
    "Ihz=55+3*np.random.randn((nb_noise))\n",
    "mc_hpnoises = [HighPassNoiseSingleFilterMaskingCondition(Ihz[i], freqs[i]) for i in range(nb_noise)]\n",
    "\n",
    "mcs = [NoMaskingCondition()]+mc_tones+mc_hpnoises\n",
    "\n",
    "capSimulator = ConvolutionCAPSimulatorSingleFilterModel(lat0, gf0, EP0, md, mcs, ur=u0)\n",
    "\n",
    "plotConvCAPSimulator(capSimulator, figsize=(14,12))"
   ]
  },
  {
   "cell_type": "markdown",
   "metadata": {},
   "source": [
    "### CAP signals"
   ]
  },
  {
   "cell_type": "markdown",
   "metadata": {},
   "source": [
    "Add noise"
   ]
  },
  {
   "cell_type": "code",
   "execution_count": null,
   "metadata": {},
   "outputs": [],
   "source": [
    "CAPs0=capSimulator.simulCAPs()\n",
    "CAPamax=np.amax(np.abs(CAPs0))\n",
    "CAPs=CAPs0+1/15*CAPamax*np.random.randn(*np.shape(CAPs0))"
   ]
  },
  {
   "cell_type": "code",
   "execution_count": null,
   "metadata": {},
   "outputs": [],
   "source": [
    "pl.figure(figsize=(12, 5))\n",
    "pl.suptitle('CAPs + noise')\n",
    "m=capSimulator.m\n",
    "nb_col=(m+1)//2 if m<=12 else (m+2)//3\n",
    "nb_row=(m+nb_col-1)//nb_col\n",
    "for i in range(m):\n",
    "    ind=i+1\n",
    "    pl.subplot(nb_row, nb_col, ind)\n",
    "    pl.plot(t*1e3, CAPs[i])\n",
    "    pl.xlabel('t (ms)')\n",
    "    pl.ylim([-1.2*CAPamax, 1.2*CAPamax])\n",
    "    pl.gca().get_yaxis().set_visible(False)\n",
    "pl.show()"
   ]
  },
  {
   "cell_type": "markdown",
   "metadata": {},
   "source": [
    "### Non-blind deconvolution"
   ]
  },
  {
   "cell_type": "markdown",
   "metadata": {},
   "source": [
    "Wiener filter + low pass"
   ]
  },
  {
   "cell_type": "code",
   "execution_count": null,
   "metadata": {},
   "outputs": [],
   "source": [
    "CAPs_f=np.zeros_like(CAPs)\n",
    "window=sg.tukey(np.shape(CAPs)[1], alpha=0.2)\n",
    "for i in range(capSimulator.m):\n",
    "    #window signal (tuckey window)\n",
    "    CAP_w=window*CAPs[i]\n",
    "    CAPs_f[i]=sg.wiener(CAP_w)\n",
    "    #low pass (gaussian kernel to simply for now)\n",
    "    sig_f=0.2e-3 #in s\n",
    "    sig_f=sig_f/(t[1]-t[0])\n",
    "    CAPs_f[i]=gaussian_filter1d(CAPs_f[i], sigma=sig_f)"
   ]
  },
  {
   "cell_type": "code",
   "execution_count": null,
   "metadata": {},
   "outputs": [],
   "source": [
    "pl.figure(figsize=(12, 5))\n",
    "pl.suptitle('CAPs (ref. and filtered)')\n",
    "m=capSimulator.m\n",
    "nb_col=(m+1)//2 if m<=12 else (m+2)//3\n",
    "nb_row=(m+nb_col-1)//nb_col\n",
    "for i in range(m):\n",
    "    ind=i+1\n",
    "    pl.subplot(nb_row, nb_col, ind)\n",
    "    pl.plot(t*1e3, CAPs0[i])\n",
    "    pl.plot(t*1e3, CAPs_f[i])\n",
    "    pl.xlabel('t (ms)')\n",
    "    pl.ylim([-1.2*CAPamax, 1.2*CAPamax])\n",
    "    pl.gca().get_yaxis().set_visible(False)\n",
    "pl.show()"
   ]
  },
  {
   "cell_type": "code",
   "execution_count": null,
   "metadata": {},
   "outputs": [],
   "source": [
    "#deconvs\n",
    "\n",
    "#given u\n",
    "u_fft=np.fft.rfft(u0)\n",
    "EP_deconv=np.zeros_like(CAPs_f)\n",
    "for i in range(capSimulator.m):\n",
    "    CAP_fft=np.fft.rfft(CAPs_f[i])\n",
    "    EP_fft=CAP_fft/u_fft\n",
    "    EP_deconv[i]=np.fft.irfft(EP_fft)\n",
    "    \n",
    "#given EPs\n",
    "EPs0=capSimulator.getEPs()\n",
    "u_deconv=np.zeros_like(CAPs_f)\n",
    "for i in range(capSimulator.m):\n",
    "    CAP_fft=np.fft.rfft(CAPs_f[i])\n",
    "    EP_fft=np.fft.rfft(EPs0[i])\n",
    "    u_fft=CAP_fft/EP_fft\n",
    "    u_deconv[i]=np.fft.irfft(u_fft)\n",
    "    "
   ]
  },
  {
   "cell_type": "code",
   "execution_count": null,
   "metadata": {},
   "outputs": [],
   "source": [
    "def plotMatrices(X, X_ref, title=''):\n",
    "    pl.figure(figsize=(12, 5))\n",
    "    pl.suptitle(title)\n",
    "    m=capSimulator.m\n",
    "    nb_col=(m+1)//2 if m<=12 else (m+2)//3\n",
    "    nb_row=(m+nb_col-1)//nb_col\n",
    "    for i in range(m):\n",
    "        ind=i+1\n",
    "        pl.subplot(nb_row, nb_col, ind)\n",
    "        pl.plot(t*1e3, X_ref[i])\n",
    "        pl.plot(t*1e3, X[i])\n",
    "        pl.xlabel('t (ms)')\n",
    "        pl.gca().get_yaxis().set_visible(False)\n",
    "    pl.show()"
   ]
  },
  {
   "cell_type": "code",
   "execution_count": null,
   "metadata": {},
   "outputs": [],
   "source": [
    "EPs0=capSimulator.getEPs()\n",
    "plotMatrices(EP_deconv, EPs0, title='Test deconv of EPs (if u is known)')"
   ]
  },
  {
   "cell_type": "code",
   "execution_count": null,
   "metadata": {},
   "outputs": [],
   "source": [
    "u0_mat=np.tile(u0, (capSimulator.m, 1))\n",
    "plotMatrices(u_deconv, u0_mat, title='Test deconv of u (if EPs are known)')"
   ]
  },
  {
   "cell_type": "code",
   "execution_count": null,
   "metadata": {},
   "outputs": [],
   "source": [
    "# with gradient descent (/Newton algorithm) + projs\n",
    "#given u\n",
    "u_fft=np.fft.rfft(u0)\n",
    "\n",
    "EPs0=capSimulator.getEPs()\n",
    "EP1=ExcitationPattern(lat0, f_c, 1.5, 50)\n",
    "EP_deconv=np.tile(EP1.E(t), (capSimulator.m, 1))\n",
    "nb_steps=6\n",
    "alpha=np.linspace(0.6, 0.1, nb_steps)\n",
    "u_fft=np.fft.rfft(u0)\n",
    "CAPs_fft=np.fft.rfft(CAPs_f, axis=1)\n",
    "proj_EPs=capSimulator.get_projector()\n",
    "for i in range(1, nb_steps+1):\n",
    "    dEP=deconv_newton_step(EP_deconv, u_fft, CAPs_fft)\n",
    "    EP_deconv-=alpha[i-1]*dEP\n",
    "    #proj\n",
    "    EP_deconv=proj_EPs(EP_deconv)\n",
    "    if i%2==0:\n",
    "        pass\n",
    "        #plotMatrices(EP_deconv, EPs0, title=f'Test deconv of EPs (u is known) w/ grad. descent step {i}')\n",
    "plotMatrices(EP_deconv, EPs0, title=f'Test deconv of EPs (u is known) w/ grad. descent + proj')\n",
    "    \n",
    "    \n",
    "#given EPs\n",
    "nb_steps=15\n",
    "alpha=np.linspace(0.6, 0.1, nb_steps)\n",
    "#other EP\n",
    "#capSimulator1 = ConvolutionCAPSimulatorSingleFilterModel(lat0, gf0, EP1, md, mcs, ur=u0)\n",
    "#EPs1=capSimulator1.getEPs()\n",
    "#EPs_fft=np.fft.rfft(EPs1, axis=1)\n",
    "EPs_fft=np.fft.rfft(EPs0, axis=1)\n",
    "u0_mat=np.tile(u0, (capSimulator.m, 1))\n",
    "u1_mat=np.zeros_like(CAPs_f)\n",
    "filter_mat = t>6e-3\n",
    "filter_mat=np.tile(filter_mat, (capSimulator.m, 1))\n",
    "for i in range(1, nb_steps+1):\n",
    "    du=deconv_newton_step(u1_mat, EPs_fft, CAPs_fft)\n",
    "    u1_mat-=alpha[i-1]*du\n",
    "    #proj 1 \n",
    "    u1_mat[filter_mat]=np.zeros_like(u1_mat[filter_mat])\n",
    "    #proj 2\n",
    "    u1_mat_mean=np.mean(u1_mat, axis=0)[None, :]\n",
    "    u1_mat=np.repeat(u1_mat_mean, capSimulator.m, axis=0)\n",
    "    if i%2==0:\n",
    "        pass\n",
    "        #plotMatrices(u1_mat, u0_mat, title=f'Test deconv of u (EPs are known) w/ grad. descent step {i}')\n",
    "plotMatrices(u1_mat, u0_mat, title=f'Test deconv of u (EPs are known) w/ grad. descent + proj')"
   ]
  },
  {
   "cell_type": "markdown",
   "metadata": {},
   "source": [
    "### Blind deconvolution"
   ]
  },
  {
   "cell_type": "markdown",
   "metadata": {},
   "source": [
    "We still know the true parameters for latencies and tuning, but we know neither E0 nor u"
   ]
  },
  {
   "cell_type": "markdown",
   "metadata": {},
   "source": [
    "First we make a guess on an excitation pattern"
   ]
  },
  {
   "cell_type": "code",
   "execution_count": null,
   "metadata": {},
   "outputs": [],
   "source": [
    "EP1=ExcitationPattern(lat0, f_c, 1.6, 50)\n",
    "\n",
    "pl.figure()\n",
    "pl.title('Excitation pattern (without masking)')\n",
    "pl.plot(t*1e3, EP0.E(t), label='truth')\n",
    "pl.plot(t*1e3, 1.3*EP1.E(t), label='guess')\n",
    "pl.xlabel('t (ms)')\n",
    "pl.legend()\n",
    "pl.show()"
   ]
  },
  {
   "cell_type": "code",
   "execution_count": null,
   "metadata": {},
   "outputs": [],
   "source": [
    "nb_alternations=12\n",
    "nb_steps=12 #nb steps for each deconvolution (gradient descent)\n",
    "alpha=np.linspace(0.6, 0.02, nb_steps)\n",
    "\n",
    "capSimulator1 = ConvolutionCAPSimulatorSingleFilterModel(lat0, gf0, EP1, md, mcs, ur=u0)\n",
    "EPs1=capSimulator1.getEPs()\n",
    "#ref signals\n",
    "CAPs_fft=np.fft.rfft(CAPs_f, axis=1)\n",
    "u0_mat=np.tile(u0, (capSimulator.m, 1))\n",
    "EPs0=capSimulator.getEPs()\n",
    "u1=np.zeros_like(t)\n",
    "#proj\n",
    "filter_mat = t>6e-3\n",
    "filter_mat=np.tile(filter_mat, (capSimulator.m, 1))\n",
    "def proj_u(u_mat):\n",
    "    #proj 1 \n",
    "    u_mat[filter_mat]=np.zeros_like(u_mat[filter_mat])\n",
    "    #proj 2\n",
    "    u_mat_mean=np.mean(u_mat, axis=0)[None, :]\n",
    "    u_mat=np.repeat(u_mat_mean, capSimulator.m, axis=0)\n",
    "    return u_mat\n",
    "proj_EPs=capSimulator1.get_projector()\n",
    "sigd_f=0.15e-3 #in s\n",
    "sigd_f=sigd_f/(t[1]-t[0])\n",
    "\n",
    "E_deconv, u1=blind_deconv_alternate_steps(EPs1, u1, CAPs_f, nb_alternations, nb_steps, alpha, proj_EPs, proj_u, \n",
    "                                          sigd_f, capSimulator1.maskingPatterns)\n",
    "\n",
    "\n",
    "plotMatrices(u1_mat, u0_mat, title=f'Blind deconv of u w/ grad. descent + proj')\n",
    "plotMatrices(EP_deconv, EPs0, title=f'Blind deconv of EPs w/ grad. descent + proj')\n",
    "\n",
    "\n",
    "plotMatrices(EP_deconv/np.amax(EP_deconv), EPs0/np.amax(EPs0), title=f'Blind deconv of EPs w/ grad. descent + proj + norm')\n"
   ]
  },
  {
   "cell_type": "code",
   "execution_count": null,
   "metadata": {},
   "outputs": [],
   "source": [
    "pl.figure()\n",
    "pl.title('Excitation pattern (without masking)')\n",
    "pl.plot(t*1e3, EP0.E(t), label='truth')\n",
    "pl.plot(t*1e3, 1.7*EP1.E(t), label='guess')\n",
    "pl.plot(t*1e3, EP_deconv[0]/(2*np.amax(EP_deconv[0])), label='after algo')\n",
    "pl.xlabel('t (ms)')\n",
    "pl.legend()\n",
    "pl.show()\n",
    "\n",
    "\n",
    "pl.figure()\n",
    "pl.title('u (unitary response)')\n",
    "pl.plot(t*1e3, u0, label='truth')\n",
    "#pl.plot(t*1e3, u1_0, label='1st deconv')\n",
    "pl.plot(t*1e3, u1*0.6/np.amax(u1), label='after algo')\n",
    "pl.xlabel('t (ms)')\n",
    "pl.legend()\n",
    "pl.show()"
   ]
  },
  {
   "cell_type": "markdown",
   "metadata": {},
   "source": [
    "### Estimation of latencies and tuning"
   ]
  },
  {
   "cell_type": "markdown",
   "metadata": {},
   "source": [
    "Latencies"
   ]
  },
  {
   "cell_type": "code",
   "execution_count": null,
   "metadata": {},
   "outputs": [],
   "source": [
    "#lat0=Eggermont1976clickLatencies80dB #latencies\n",
    "dil_f=np.linspace(0.6, 1.4, 7) #dilation factors\n",
    "lat_arr=[PowerLawLatencies.dilate(lat0, dil_fact, f_c) for dil_fact in dil_f]\n",
    "\n",
    "pl.figure()\n",
    "pl.title(f'Latencies (/dilatation factors)')\n",
    "for lat, dil_fact in zip(lat_arr, dil_f):\n",
    "    f=lat.f_from_t(t)\n",
    "    pl.plot(t*1e3, f*1e-3, label=f'{dil_fact:.3f}')\n",
    "pl.xlabel('t (ms)')\n",
    "pl.xlim([0.5, 10])\n",
    "pl.ylim([0, 10])\n",
    "pl.ylabel('f (kHz)')\n",
    "pl.legend()\n",
    "pl.show()\n"
   ]
  },
  {
   "cell_type": "markdown",
   "metadata": {},
   "source": [
    "$Q_{10}$ (at $f_c$)"
   ]
  },
  {
   "cell_type": "code",
   "execution_count": null,
   "metadata": {},
   "outputs": [],
   "source": [
    "m_Q10=11 #odd is better\n",
    "Q_10_arr=[Q_10_0*1.12**k for k in range(-(m_Q10-1)//2, (m_Q10-1)//2+1)]\n",
    "print(f\"true value: Q10={Q_10_0} at f_c={f_c:.0f} Hz\")\n",
    "for i in range(m_Q10):\n",
    "    print(f\"{i}: Q10={Q_10_arr[i]:.2f}\")\n",
    "gf_arr= [GaussianFilter.givenQ10(f_c, Q_10_arr[i]) for i in range(m_Q10)]"
   ]
  },
  {
   "cell_type": "code",
   "execution_count": null,
   "metadata": {},
   "outputs": [],
   "source": [
    "errs=np.zeros((len(lat_arr), len(Q_10_arr)))\n",
    "\n",
    "nb_alternations=12\n",
    "nb_steps=12 #nb steps for each deconvolution (gradient descent)\n",
    "alpha=np.linspace(0.6, 0.1, nb_steps)\n",
    "\n",
    "#ref signals\n",
    "u0_mat=np.tile(u0, (capSimulator.m, 1))\n",
    "EPs0=capSimulator.getEPs()\n",
    "#proj\n",
    "filter_mat = t>6e-3\n",
    "filter_mat=np.tile(filter_mat, (capSimulator.m, 1))\n",
    "\n",
    "sigd_f=0.15e-3 #in s\n",
    "sigd_f=sigd_f/(t[1]-t[0])  \n",
    "def proj_u(u_mat):\n",
    "    #proj 1 \n",
    "    u_mat[filter_mat]=np.zeros_like(u_mat[filter_mat])\n",
    "    #proj 2\n",
    "    u_mat_mean=np.mean(u_mat, axis=0)[None, :]\n",
    "    u_mat=np.repeat(u_mat_mean, capSimulator.m, axis=0)\n",
    "    return u_mat\n",
    "\n",
    "for i, lat in enumerate(lat_arr):\n",
    "    for j, Q_10 in enumerate(Q_10_arr):\n",
    "        gf_ij=gf_arr[j]\n",
    "        capSimulator_ij = ConvolutionCAPSimulatorSingleFilterModel(lat, gf_ij, EP1, md, mcs) #no ur\n",
    "        EPs1=capSimulator_ij.getEPs()\n",
    "        uij=np.zeros_like(t)\n",
    "        proj_ij=capSimulator_ij.get_projector()\n",
    "        EPs_ij, uij=blind_deconv_alternate_steps(EPs1, uij, CAPs_f, nb_alternations, nb_steps, alpha, proj_ij, proj_u, \n",
    "                                                  sigd_f, capSimulator_ij.maskingPatterns)\n",
    "        capSimulator_ij.set_E0(EPs_ij[0])\n",
    "        capSimulator_ij.set_u(uij)\n",
    "        CAPs_ij=capSimulator_ij.simulCAPs()\n",
    "        errs[i][j]=np.linalg.norm(CAPs0-CAPs_ij)  #CAPs not filtered (and noise free)\n",
    "#         print(i, j)\n",
    "#         print(f\"dilatation factor: {dil_f[i]}\")\n",
    "#         print(f\"Q10={Q_10_arr[j]:.2f}\")\n",
    "#         print(f'quad. err: {errs[i][j]}')"
   ]
  },
  {
   "cell_type": "code",
   "execution_count": null,
   "metadata": {},
   "outputs": [],
   "source": [
    "pl.figure(figsize=(8,5))\n",
    "pl.title('Quad. err (dB re:noise)')\n",
    "err_ref=np.linalg.norm(CAPs0-CAPs) #noise \n",
    "errs_dB=10*np.log10(errs/err_ref) #re: noise #/np.amin(errs) re: min\n",
    "pl.imshow(errs_dB, vmax=5) #interpolation='bilinear')\n",
    "pl.gca().set_yticks(range(len(dil_f)))\n",
    "pl.gca().set_yticklabels([f'{dil_factor:.2f}' for dil_factor in dil_f])\n",
    "pl.gca().set_xticks(range(len(Q_10_arr)))\n",
    "pl.gca().set_xticklabels([f'{Q10:.1f}' for Q10 in Q_10_arr])\n",
    "pl.xlabel('Q10')\n",
    "pl.ylabel('dil. factor')\n",
    "pl.colorbar()\n",
    "pl.show()"
   ]
  },
  {
   "cell_type": "code",
   "execution_count": null,
   "metadata": {},
   "outputs": [],
   "source": []
  }
 ],
 "metadata": {
  "kernelspec": {
   "display_name": "Python 3",
   "language": "python",
   "name": "python3"
  },
  "language_info": {
   "codemirror_mode": {
    "name": "ipython",
    "version": 3
   },
   "file_extension": ".py",
   "mimetype": "text/x-python",
   "name": "python",
   "nbconvert_exporter": "python",
   "pygments_lexer": "ipython3",
   "version": "3.7.6"
  }
 },
 "nbformat": 4,
 "nbformat_minor": 4
}
