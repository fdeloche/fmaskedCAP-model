{
 "cells": [
  {
   "cell_type": "code",
   "execution_count": null,
   "metadata": {},
   "outputs": [],
   "source": [
    "import torch\n",
    "\n",
    "import numpy as np\n",
    "import matplotlib as mpl\n",
    "import matplotlib.pyplot as pl\n",
    "import scipy.signal as sg\n",
    "\n",
    "pl.style.use('fivethirtyeight')\n",
    "\n",
    "#mpl.rc('figure', figsize=(10,8))\n",
    "mpl.rcParams['axes.facecolor']='white'  \n",
    "mpl.rcParams['figure.facecolor'] = '1'\n",
    "\n",
    "from scipy.ndimage  import gaussian_filter1d\n",
    "\n",
    "import json\n",
    "import re\n",
    "import os\n",
    "\n",
    "#import copy"
   ]
  },
  {
   "cell_type": "code",
   "execution_count": null,
   "metadata": {},
   "outputs": [],
   "source": [
    "from masking import *\n",
    "from latencies import *\n",
    "from excitation import *\n",
    "from deconv import *\n",
    "from ur import *\n",
    "from tuning import *\n",
    "from test import *\n",
    "from ur import *\n",
    "\n",
    "from data import CAPData\n"
   ]
  },
  {
   "cell_type": "code",
   "execution_count": null,
   "metadata": {},
   "outputs": [],
   "source": [
    "from ipywidgets import interact, interactive, fixed, interact_manual\n",
    "import ipywidgets as widgets"
   ]
  },
  {
   "cell_type": "markdown",
   "metadata": {},
   "source": [
    "### Import data"
   ]
  },
  {
   "cell_type": "code",
   "execution_count": null,
   "metadata": {},
   "outputs": [],
   "source": [
    "data_folder='./Data/SP-2021_01_12-Q394_fmaskedCAP_data'\n",
    "\n",
    "listFiles = os.listdir(data_folder)"
   ]
  },
  {
   "cell_type": "code",
   "execution_count": null,
   "metadata": {},
   "outputs": [],
   "source": [
    "capData=CAPData(data_folder, listFiles, begin_ind=395, end_ind=2000)"
   ]
  },
  {
   "cell_type": "raw",
   "metadata": {},
   "source": [
    "capData.maskerNames"
   ]
  },
  {
   "cell_type": "code",
   "execution_count": null,
   "metadata": {},
   "outputs": [],
   "source": [
    "t=capData.t\n",
    "\n",
    "broadband1=capData.get_signal_by_name('broadband_noise')\n",
    "broadband2=capData.get_signal_by_name('2_broadband_noise')\n",
    "broadband3=capData.get_signal_by_name('3_broadband_noise')\n",
    "\n",
    "broadband_avg=(broadband1+broadband2+broadband3)/3\n",
    "\n",
    "\n",
    "\n",
    "nomasker1=capData.get_signal_by_name('nomasker')\n",
    "nomasker2=capData.get_signal_by_name('2_nomasker')\n",
    "nomasker3=capData.get_signal_by_name('3_nomasker')\n",
    "\n",
    "nomasker_avg=(nomasker1+nomasker2+nomasker3)/3\n",
    "\n",
    "pl.plot(t, broadband1)\n",
    "pl.plot(t, broadband2)\n",
    "pl.plot(t, broadband3)\n",
    "pl.plot(t, broadband_avg, label='avg')\n",
    "\n",
    "\n",
    "pl.plot(t, nomasker1)\n",
    "\n",
    "pl.plot(t, nomasker2)\n",
    "\n",
    "pl.plot(t, nomasker3)\n",
    "pl.plot(t, nomasker_avg, label='avg')\n",
    "\n",
    "pl.legend()\n",
    "\n"
   ]
  },
  {
   "cell_type": "code",
   "execution_count": null,
   "metadata": {},
   "outputs": [],
   "source": [
    "#window\n",
    "\n",
    "t0=5.7e-3\n",
    "t1=10e-3\n",
    "ind0=int(t0*48828)\n",
    "\n",
    "ind0=int(t0*48828)\n",
    "ind1=int(t1*48828)\n",
    "\n",
    "win0=sg.tukey(ind1-ind0, alpha=0.4)\n",
    "\n",
    "win=np.zeros_like(broadband_avg)\n",
    "win[ind0:ind1]=win0\n",
    "\n",
    "pl.figure()\n",
    "pl.plot(t*1e3, broadband_avg, label='avg')\n",
    "pl.plot(t*1e3, win*np.amax(broadband_avg))\n",
    "\n",
    "pl.plot(t*1e3, 0.5*broadband_avg*win, label='avg')\n",
    "pl.show()\n"
   ]
  },
  {
   "cell_type": "code",
   "execution_count": null,
   "metadata": {},
   "outputs": [],
   "source": [
    "def process_signal(sig, cumsum=True):\n",
    "    sig2=sig*win\n",
    "    \n",
    "    t0=3e-3\n",
    "    t1=13e-3\n",
    "\n",
    "    ind0=int(t0*48828)\n",
    "    ind1=int(t1*48828)\n",
    "    \n",
    "    dim = len(np.shape(sig2))\n",
    "    if dim ==1:\n",
    "        sig2=sig2[ind0:ind1]\n",
    "        if cumsum:\n",
    "            sig2=np.cumsum(sig2)\n",
    "            sig2[0:-50]*=sg.tukey(len(sig2)-50, 0.3)\n",
    "            sig2[-50:]=0\n",
    "    else:\n",
    "        sig2=sig2[:, ind0:ind1]\n",
    "        if cumsum:\n",
    "            sig2=np.cumsum(sig2)\n",
    "            \n",
    "            \n",
    "    \n",
    "    t=np.linspace(t0, t1, ind1-ind0)\n",
    "    \n",
    "    return t, sig2\n",
    "    \n",
    "    \n",
    "\n",
    "    "
   ]
  },
  {
   "cell_type": "code",
   "execution_count": null,
   "metadata": {},
   "outputs": [],
   "source": [
    "t2, broadband_proc=process_signal(broadband_avg, cumsum=True)\n",
    "_, nomasker_proc=process_signal(nomasker_avg)\n",
    "\n",
    "pl.plot(t2*1e3, nomasker_proc-broadband_proc)"
   ]
  },
  {
   "cell_type": "markdown",
   "metadata": {},
   "source": [
    "**Estimation ur**  \n",
    "Depends on what is the focus\n"
   ]
  },
  {
   "cell_type": "code",
   "execution_count": null,
   "metadata": {},
   "outputs": [],
   "source": [
    "sig=capData.get_signal_by_name('2_notch3000_bw1700_55dB')\n",
    "_, sig2=process_signal(sig)\n",
    "\n",
    "#sigbis=capData.get_signal_by_name('3_notch3000_bw1700_50dB')\n",
    "#_, sig2bis=process_signal(sigbis)\n",
    "\n",
    "\n",
    "\n",
    "'''pl.plot(t*1e3, sig)\n",
    "\n",
    "pl.plot(t*1e3, broadband_avg)\n",
    "pl.plot(t*1e3, sig-broadband_avg)\n",
    "'''\n",
    "pl.plot(t2*1e3, sig2-broadband_proc)\n",
    "\n",
    "#pl.plot(t2*1e3, sig2bis-broadband_proc)\n",
    "\n",
    "\n",
    "ur0=sig2-broadband_proc\n",
    "ur0=np.roll(ur0, -100)\n",
    "pl.plot(t2*1e3, ur0)"
   ]
  },
  {
   "cell_type": "code",
   "execution_count": null,
   "metadata": {},
   "outputs": [],
   "source": [
    "masked_sig=nomasker_proc-broadband_proc\n",
    "masked_sig_fft=np.fft.rfft(masked_sig)\n",
    "ur0_fft=np.fft.rfft(ur0)\n",
    "E0_fft=masked_sig_fft/(ur0_fft+1e-2)\n",
    "E0=np.fft.irfft(E0_fft)"
   ]
  },
  {
   "cell_type": "code",
   "execution_count": null,
   "metadata": {},
   "outputs": [],
   "source": [
    "pl.plot(t2*1e3, E0)"
   ]
  },
  {
   "cell_type": "code",
   "execution_count": null,
   "metadata": {},
   "outputs": [],
   "source": []
  }
 ],
 "metadata": {
  "kernelspec": {
   "display_name": "torch",
   "language": "python",
   "name": "torch"
  },
  "language_info": {
   "codemirror_mode": {
    "name": "ipython",
    "version": 3
   },
   "file_extension": ".py",
   "mimetype": "text/x-python",
   "name": "python",
   "nbconvert_exporter": "python",
   "pygments_lexer": "ipython3",
   "version": "3.8.5"
  }
 },
 "nbformat": 4,
 "nbformat_minor": 4
}
