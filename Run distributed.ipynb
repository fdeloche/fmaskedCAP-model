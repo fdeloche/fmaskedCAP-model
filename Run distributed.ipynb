{
 "cells": [
  {
   "cell_type": "code",
   "execution_count": null,
   "metadata": {},
   "outputs": [],
   "source": [
    "from subprocess import Popen"
   ]
  },
  {
   "cell_type": "raw",
   "metadata": {},
   "source": [
    "Parameters"
   ]
  },
  {
   "cell_type": "code",
   "execution_count": null,
   "metadata": {},
   "outputs": [],
   "source": [
    "expe_name='4-23'\n",
    "\n",
    "CFs=[4000, 5000, 6000, 8000]\n",
    "\n",
    "E0_distributed=True\n",
    "Q10_distributed=True\n",
    "\n"
   ]
  },
  {
   "cell_type": "code",
   "execution_count": null,
   "metadata": {},
   "outputs": [],
   "source": [
    "\n",
    "list_args0=['papermill', '-p', 'E0_distributed',  str(E0_distributed), \n",
    "       '-p', 'Q10_distributed', str(Q10_distributed), '-p', 'n_workers',\n",
    "       str(len(CFs)+1), '-p', 'rank']\n",
    "\n",
    "processes=[]\n",
    "for i, CF in enumerate(CFs):\n",
    "    list_args=list_args0+ [str(i+1), '-p',  'CF', str(CF), 'Fit\\ data.ipynb', f'fitdata{CF}.ipynb']\n",
    "    st_cmd=' '.join(list_args)\n",
    "    print(st_cmd)\n",
    "    #processes.append(Popen(st_cmd, shell=True))"
   ]
  },
  {
   "cell_type": "raw",
   "metadata": {},
   "source": [
    "#XXX cell normally desactivated \n",
    "for p in processes:\n",
    "    p.terminate()"
   ]
  },
  {
   "cell_type": "code",
   "execution_count": null,
   "metadata": {},
   "outputs": [],
   "source": []
  }
 ],
 "metadata": {
  "kernelspec": {
   "display_name": "Python 3",
   "language": "python",
   "name": "python3"
  },
  "language_info": {
   "codemirror_mode": {
    "name": "ipython",
    "version": 3
   },
   "file_extension": ".py",
   "mimetype": "text/x-python",
   "name": "python",
   "nbconvert_exporter": "python",
   "pygments_lexer": "ipython3",
   "version": "3.7.6"
  }
 },
 "nbformat": 4,
 "nbformat_minor": 4
}
