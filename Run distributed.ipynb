{
 "cells": [
  {
   "cell_type": "code",
   "execution_count": null,
   "metadata": {},
   "outputs": [],
   "source": [
    "import subprocess\n",
    "from subprocess import Popen\n",
    "import json\n",
    "import os"
   ]
  },
  {
   "cell_type": "raw",
   "metadata": {},
   "source": [
    "Parameters"
   ]
  },
  {
   "cell_type": "code",
   "execution_count": null,
   "metadata": {},
   "outputs": [],
   "source": [
    "expe_name='4-23'   #'4-23'\n",
    "\n",
    "#CFs=[3000, 4000, 5000, 6000, 8000]\n",
    "\n",
    "CFs=[2200, 3000, 4000, 5000, 6000, 8000]\n",
    "E0_distributed=True\n",
    "Q10_distributed=True\n",
    "\n",
    "I0_distributed=False\n",
    "results_folder0=f'./results/fit{expe_name}-distrib/' #if I0_distributed, loads wb cdf params from other folder\n",
    "\n",
    "write_results=True\n",
    "\n",
    "filter_model='gammatone_4'\n",
    "\n",
    "results_name='test-0609'  #if not blank, will save all the results in a folder with results_name (also loads param from this folder, like optim params)\n",
    "results_folder=None\n",
    "if results_name != '':\n",
    "    results_folder=f'./results/fit{expe_name}-{results_name}/'\n",
    "    \n",
    "\n",
    "load_json_optim_params=True #if True, will load optim params from optim_params.json\n",
    "load_json_init_params=True #if True, will load ./init_params/{expe_name}/{CF}_init_params.json if exists\n"
   ]
  },
  {
   "cell_type": "code",
   "execution_count": null,
   "metadata": {},
   "outputs": [],
   "source": [
    "#writes a temporary json file to share params with the RBF net main process\n",
    "\n",
    "\n",
    "json_dic={'expe_name':expe_name, 'E0_distributed':E0_distributed, 'Q10_disbtributed':Q10_distributed,\n",
    "         'I0_distributed':I0_distributed, 'n_workers':str(len(CFs)+1), 'write_results':write_results, 'CFs':CFs,\n",
    "         \"results_folder0\": results_folder0, \n",
    "          'load_json_optim_params': load_json_optim_params}\n",
    "if results_folder is not None:\n",
    "    json_dic['results_name']=results_name\n",
    "    json_dic['results_folder']=results_folder\n",
    "with open(f'distrib_params.json', 'w') as outfile:\n",
    "    json.dump(json_dic, outfile, indent=4)\n",
    "    \n",
    "#if results_folder is not None: #writes in results folder as well\n",
    "#    os.makedirs(results_folder)\n",
    "#    with open(f'distrib_params.json', 'w') as outfile:\n",
    "#        json.dump(json_dic, outfile, indent=4)"
   ]
  },
  {
   "cell_type": "code",
   "execution_count": null,
   "metadata": {},
   "outputs": [],
   "source": [
    "use_screen=True\n",
    "list_args0=['papermill', '-p', 'E0_distributed',  str(E0_distributed), \n",
    "       '-p', 'Q10_distributed', str(Q10_distributed), \n",
    "            '-p', 'I0_distributed',  str(I0_distributed),\n",
    "            '-p', 'n_workers',\n",
    "       str(len(CFs)+1), '-p', 'write_results', str(write_results),\n",
    "            '-p', 'expe_name', expe_name, '-p', 'filter_model', filter_model,\n",
    "            '-p', 'load_json_init_params', load_json_init_params,\n",
    "            \n",
    "         '-p', 'load_json_optim_params', load_json_optim_params]\n",
    "\n",
    "if I0_distributed:\n",
    "    list_args0+=['-p', 'results_folder0', results_folder0]\n",
    "    \n",
    "if results_folder is not None:\n",
    "    list_args0+=['-p', 'results_name', results_name, '-p', 'results_folder', results_folder]\n",
    "    \n",
    "\n",
    "\n",
    "processes=[]\n",
    "for i, CF in enumerate(CFs):\n",
    "    list_args=list_args0+ ['-p', 'rank', str(i+1), '-p',  'CF', str(CF), 'Fit\\ data.ipynb', f'fitdata{CF}.ipynb']\n",
    "    st_cmd=' '.join([str(arg) for arg in list_args])\n",
    "    if use_screen:\n",
    "        #st_cmd=f'screen -X -S {CF} ' + st_cmd \n",
    "        st_cmd=f\"screen -S {CF} -dm {st_cmd}\"\n",
    "    print(st_cmd)\n",
    "    #processes.append(Popen(st_cmd, shell=True))"
   ]
  },
  {
   "cell_type": "markdown",
   "metadata": {},
   "source": [
    "move all param files in results folder (for tracking params after changes)"
   ]
  },
  {
   "cell_type": "code",
   "execution_count": null,
   "metadata": {},
   "outputs": [],
   "source": [
    "if write_results:\n",
    "    if results_folder is None:\n",
    "        if Q10_distributed:\n",
    "            if I0_distributed:\n",
    "\n",
    "                results_folder2=f'./results/fit{expe_name}-distrib/I0_distrib/'\n",
    "            else:\n",
    "                results_folder2=f'./results/fit{expe_name}-distrib/'\n",
    "\n",
    "        else:\n",
    "            results_folder2=f'./results/fit{expe_name}/'\n",
    "    else:\n",
    "        results_folder2=results_folder\n",
    "        \n",
    "    if not os.path.exists(results_folder2):\n",
    "        os.makedirs(results_folder2)\n",
    "    \n",
    "    if os.path.exists(f'optim_params_{expe_name}.json'):\n",
    "        optim_params_filename=f'optim_params_{expe_name}.json'\n",
    "    else:\n",
    "        optim_params_filename='optim_params.json'\n",
    "        \n",
    "    list_filenames=['distrib_params.json', 'E0_params.json', optim_params_filename]\n",
    "    \n",
    "    if Q10_distributed:\n",
    "        list_filenames.append('RBF_params.json')\n",
    "    if I0_distributed:\n",
    "        list_filenames.append('RBF_I0_params.json')\n",
    "    for filename in list_filenames:\n",
    "        subprocess.run(['cp', filename, f'{results_folder2}/{filename}'])\n",
    "        \n",
    "    if load_json_init_params:\n",
    "        subprocess.run(['cp', '-R', f'./init_params/{expe_name}/', f'{results_folder2}/init_params/'  ])\n",
    "    print(f'param files copied to {results_folder2}')"
   ]
  },
  {
   "cell_type": "raw",
   "metadata": {},
   "source": [
    "#XXX cell normally desactivated \n",
    "for p in processes:\n",
    "    p.terminate()"
   ]
  },
  {
   "cell_type": "markdown",
   "metadata": {},
   "source": [
    "**Don't forget to copy the jupyter notebooks in results folder to keep track of the figures for each run!**"
   ]
  },
  {
   "cell_type": "code",
   "execution_count": null,
   "metadata": {},
   "outputs": [],
   "source": []
  }
 ],
 "metadata": {
  "kernelspec": {
   "display_name": "Python 3",
   "language": "python",
   "name": "python3"
  },
  "language_info": {
   "codemirror_mode": {
    "name": "ipython",
    "version": 3
   },
   "file_extension": ".py",
   "mimetype": "text/x-python",
   "name": "python",
   "nbconvert_exporter": "python",
   "pygments_lexer": "ipython3",
   "version": "3.7.4"
  }
 },
 "nbformat": 4,
 "nbformat_minor": 4
}
