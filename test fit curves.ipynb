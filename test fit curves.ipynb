{
 "cells": [
  {
   "cell_type": "code",
   "execution_count": null,
   "metadata": {},
   "outputs": [],
   "source": [
    "import torch\n",
    "\n",
    "import numpy as np\n",
    "import matplotlib as mpl\n",
    "import matplotlib.pyplot as pl"
   ]
  },
  {
   "cell_type": "code",
   "execution_count": null,
   "metadata": {},
   "outputs": [],
   "source": [
    "from masking import *\n",
    "from test import *"
   ]
  },
  {
   "cell_type": "markdown",
   "metadata": {},
   "source": [
    "### Test fit sigmoid"
   ]
  },
  {
   "cell_type": "code",
   "execution_count": null,
   "metadata": {},
   "outputs": [],
   "source": [
    "I_data=np.array([10, 20, 24, 31, 35, 40, 60, 80])\n",
    "a=0.3\n",
    "mu=30\n",
    "m_data=1/(1+np.exp(-(a*(I_data-mu))))\n",
    "\n",
    "pl.plot(I_data, m_data)"
   ]
  },
  {
   "cell_type": "code",
   "execution_count": null,
   "metadata": {},
   "outputs": [],
   "source": [
    "sig=SigmoidIOFunc(0, 0)"
   ]
  },
  {
   "cell_type": "code",
   "execution_count": null,
   "metadata": {},
   "outputs": [],
   "source": [
    "sig.fit_data(I_data, m_data)"
   ]
  },
  {
   "cell_type": "code",
   "execution_count": null,
   "metadata": {},
   "outputs": [],
   "source": [
    "\n",
    "plotMaskingDegreeFunc(sig)"
   ]
  },
  {
   "cell_type": "markdown",
   "metadata": {},
   "source": [
    "### Test fit Weibull CDF"
   ]
  },
  {
   "cell_type": "code",
   "execution_count": null,
   "metadata": {},
   "outputs": [],
   "source": [
    "I_data=np.array([10, 20, 24, 31, 35, 40, 50, 60, 70, 80])\n",
    "I0=-5\n",
    "scale=40\n",
    "k=9\n",
    "m_data=1/(1+np.exp(-(a*(I_data-mu))))\n",
    "Delta_I=np.maximum((I_data-I0), 0.)\n",
    "m_data=1-np.exp( -(Delta_I/scale)**k)\n",
    "\n",
    "\n",
    "pl.plot(I_data, m_data)"
   ]
  },
  {
   "cell_type": "code",
   "execution_count": null,
   "metadata": {},
   "outputs": [],
   "source": [
    "wbcdf=WeibullCDF_IOFunc(1,1,1)\n",
    "wbcdf.fit_data(I_data, m_data)"
   ]
  },
  {
   "cell_type": "code",
   "execution_count": null,
   "metadata": {},
   "outputs": [],
   "source": [
    "\n",
    "pl.plot(I_data, m_data)\n",
    "Iarr=np.linspace(10, 80)\n",
    "pl.plot(Iarr, wbcdf(torch.tensor(Iarr)), label='fit')\n",
    "pl.legend()"
   ]
  },
  {
   "cell_type": "code",
   "execution_count": null,
   "metadata": {},
   "outputs": [],
   "source": []
  }
 ],
 "metadata": {
  "kernelspec": {
   "display_name": "torch",
   "language": "python",
   "name": "torch"
  },
  "language_info": {
   "codemirror_mode": {
    "name": "ipython",
    "version": 3
   },
   "file_extension": ".py",
   "mimetype": "text/x-python",
   "name": "python",
   "nbconvert_exporter": "python",
   "pygments_lexer": "ipython3",
   "version": "3.8.5"
  }
 },
 "nbformat": 4,
 "nbformat_minor": 4
}
