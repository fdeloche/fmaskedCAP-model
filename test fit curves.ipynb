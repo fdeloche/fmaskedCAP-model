{
 "cells": [
  {
   "cell_type": "code",
   "execution_count": null,
   "metadata": {},
   "outputs": [],
   "source": [
    "import torch\n",
    "\n",
    "import numpy as np\n",
    "import matplotlib as mpl\n",
    "import matplotlib.pyplot as pl"
   ]
  },
  {
   "cell_type": "code",
   "execution_count": null,
   "metadata": {},
   "outputs": [],
   "source": [
    "from masking import *\n",
    "from test import *\n",
    "from latencies import *"
   ]
  },
  {
   "cell_type": "markdown",
   "metadata": {},
   "source": [
    "### Test fit sigmoid"
   ]
  },
  {
   "cell_type": "code",
   "execution_count": null,
   "metadata": {},
   "outputs": [],
   "source": [
    "I_data=np.array([10, 20, 24, 31, 35, 40, 60, 80])\n",
    "a=0.3\n",
    "mu=30\n",
    "#m_data=1/(1+np.exp(-(a*(I_data-mu))))\n",
    "m_data=[0.02, 0.07, 0.17, 0.62, 0.8, 0.92, 0.98, 1.] #arbirtrary data\n",
    "\n",
    "pl.plot(I_data, m_data)"
   ]
  },
  {
   "cell_type": "code",
   "execution_count": null,
   "metadata": {},
   "outputs": [],
   "source": [
    "sig=SigmoidIOFunc(0, 0)"
   ]
  },
  {
   "cell_type": "code",
   "execution_count": null,
   "metadata": {},
   "outputs": [],
   "source": [
    "sig.fit_data(I_data, m_data)"
   ]
  },
  {
   "cell_type": "code",
   "execution_count": null,
   "metadata": {},
   "outputs": [],
   "source": [
    "pl.plot(I_data, m_data)\n",
    "\n",
    "Iarr=np.linspace(10, 80)\n",
    "\n",
    "pl.plot(Iarr, sig(torch.tensor(Iarr)), label='fit')\n",
    "pl.legend()\n",
    "#plotMaskingDegreeFunc(sig)"
   ]
  },
  {
   "cell_type": "markdown",
   "metadata": {},
   "source": [
    "### Test fit Weibull CDF"
   ]
  },
  {
   "cell_type": "code",
   "execution_count": null,
   "metadata": {},
   "outputs": [],
   "source": [
    "I_data=np.array([10, 20, 24, 31, 35, 40, 50, 60, 70, 80])\n",
    "I0=-5\n",
    "scale=40\n",
    "k=9\n",
    "m_data=1/(1+np.exp(-(a*(I_data-mu))))\n",
    "Delta_I=np.maximum((I_data-I0), 0.)\n",
    "#m_data=1-np.exp( -(Delta_I/scale)**k)\n",
    "m_data=[0.01, 0.04, 0.07, 0.33, 0.62, 0.95, 0.99, 1, 1, 1]  #arbitrary data\n",
    "\n",
    "pl.plot(I_data, m_data)"
   ]
  },
  {
   "cell_type": "code",
   "execution_count": null,
   "metadata": {},
   "outputs": [],
   "source": [
    "wbcdf=WeibullCDF_IOFunc(1,1,1)\n",
    "wbcdf.fit_data(I_data, m_data)"
   ]
  },
  {
   "cell_type": "code",
   "execution_count": null,
   "metadata": {},
   "outputs": [],
   "source": [
    "\n",
    "pl.plot(I_data, m_data)\n",
    "Iarr=np.linspace(10, 80)\n",
    "pl.plot(Iarr, wbcdf(torch.tensor(Iarr)), label='fit')\n",
    "pl.legend()"
   ]
  },
  {
   "cell_type": "markdown",
   "metadata": {},
   "source": [
    "### Test fit power-law"
   ]
  },
  {
   "cell_type": "code",
   "execution_count": null,
   "metadata": {},
   "outputs": [],
   "source": [
    "lat0=Eggermont1976clickLatencies80dB\n",
    "print(lat0)\n",
    "f_data=np.array([7000, 6000, 5000, 4000, 3000, 2000, 1000])\n",
    "t_data=lat0(torch.tensor(f_data))\n",
    "t_data=t_data.detach().numpy()\n",
    "f_data=np.array([7000, 5800, 4800, 4000, 3100, 2200, 1400]) #arbitrary data\n",
    "\n",
    "t=np.linspace(1e-3, 8e-3)\n",
    "pl.plot(t*1e3, lat0.f_from_t(torch.tensor(t)))\n",
    "pl.plot(t_data*1e3, f_data)\n",
    "pl.xlabel('t (ms)')\n",
    "pl.ylabel('f')"
   ]
  },
  {
   "cell_type": "code",
   "execution_count": null,
   "metadata": {},
   "outputs": [],
   "source": [
    "lat=PowerLawLatencies(1, -2, 1e-3)"
   ]
  },
  {
   "cell_type": "code",
   "execution_count": null,
   "metadata": {},
   "outputs": [],
   "source": [
    "lat.fit_data(t_data, f_data)"
   ]
  },
  {
   "cell_type": "code",
   "execution_count": null,
   "metadata": {},
   "outputs": [],
   "source": [
    "t=np.linspace(1.5e-3, 6e-3)\n",
    "pl.plot(t*1e3, lat.f_from_t(torch.tensor(t)), label='fit')\n",
    "pl.plot(t_data*1e3, f_data)\n",
    "pl.xlabel('t (ms)')\n",
    "pl.ylabel('f')\n",
    "pl.legend()"
   ]
  },
  {
   "cell_type": "code",
   "execution_count": null,
   "metadata": {},
   "outputs": [],
   "source": []
  }
 ],
 "metadata": {
  "kernelspec": {
   "display_name": "torch",
   "language": "python",
   "name": "torch"
  },
  "language_info": {
   "codemirror_mode": {
    "name": "ipython",
    "version": 3
   },
   "file_extension": ".py",
   "mimetype": "text/x-python",
   "name": "python",
   "nbconvert_exporter": "python",
   "pygments_lexer": "ipython3",
   "version": "3.8.5"
  }
 },
 "nbformat": 4,
 "nbformat_minor": 4
}
