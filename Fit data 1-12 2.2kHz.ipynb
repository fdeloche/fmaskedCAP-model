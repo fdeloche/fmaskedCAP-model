{
 "cells": [
  {
   "cell_type": "code",
   "execution_count": null,
   "metadata": {},
   "outputs": [],
   "source": [
    "import torch\n",
    "\n",
    "import numpy as np\n",
    "import matplotlib as mpl\n",
    "import matplotlib.pyplot as pl\n",
    "import scipy.signal as sg\n",
    "\n",
    "pl.style.use('fivethirtyeight')\n",
    "\n",
    "#mpl.rc('figure', figsize=(10,8))\n",
    "mpl.rcParams['axes.facecolor']='white'  \n",
    "mpl.rcParams['figure.facecolor'] = '1'\n",
    "\n",
    "from scipy.ndimage  import gaussian_filter1d\n",
    "\n",
    "import json\n",
    "import re\n",
    "import os\n",
    "\n",
    "#import copy"
   ]
  },
  {
   "cell_type": "code",
   "execution_count": null,
   "metadata": {},
   "outputs": [],
   "source": [
    "from masking import *\n",
    "from latencies import *\n",
    "from excitation import *\n",
    "from deconv import *\n",
    "from ur import *\n",
    "from tuning import *\n",
    "from test import *\n",
    "from ur import *\n",
    "\n",
    "from data import CAPData\n"
   ]
  },
  {
   "cell_type": "code",
   "execution_count": null,
   "metadata": {},
   "outputs": [],
   "source": [
    "from ipywidgets import interact, interactive, fixed, interact_manual\n",
    "import ipywidgets as widgets"
   ]
  },
  {
   "cell_type": "code",
   "execution_count": null,
   "metadata": {},
   "outputs": [],
   "source": [
    "cumsum_default=False"
   ]
  },
  {
   "cell_type": "markdown",
   "metadata": {},
   "source": [
    "### Import data"
   ]
  },
  {
   "cell_type": "code",
   "execution_count": null,
   "metadata": {},
   "outputs": [],
   "source": [
    "data_folder='./Data/SP-2021_01_12-Q394_fmaskedCAP_data'\n",
    "\n",
    "fs=48828\n",
    "I0 = 100 +10 - 10 #intensity ref for masker    #100 dB rms=1  +10 dB amp 5   (/sqrt(2))   #-10 dB masker atten\n",
    "\n",
    "I0 = 10*np.log10( 10**(I0/10)/(fs/2) )\n",
    "\n",
    "print(f'reference masker power spectral density (0 attn): {I0:.2f} dB')\n",
    "\n",
    "listFiles = os.listdir(data_folder)"
   ]
  },
  {
   "cell_type": "code",
   "execution_count": null,
   "metadata": {},
   "outputs": [],
   "source": [
    "capData=CAPData(data_folder, listFiles, begin_ind=395, end_ind=2000, mode='C+R')"
   ]
  },
  {
   "cell_type": "raw",
   "metadata": {},
   "source": [
    "capData.maskerNames"
   ]
  },
  {
   "cell_type": "code",
   "execution_count": null,
   "metadata": {},
   "outputs": [],
   "source": [
    "t=capData.t\n",
    "\n",
    "broadband1=capData.get_signal_by_name('broadband_noise')\n",
    "broadband2=capData.get_signal_by_name('2_broadband_noise')\n",
    "broadband3=capData.get_signal_by_name('3_broadband_noise')\n",
    "\n",
    "broadband_avg=(broadband1+broadband2+broadband3)/3\n",
    "\n",
    "\n",
    "\n",
    "nomasker1=capData.get_signal_by_name('nomasker')\n",
    "nomasker2=capData.get_signal_by_name('2_nomasker')\n",
    "nomasker3=capData.get_signal_by_name('3_nomasker')\n",
    "\n",
    "nomasker_avg=(nomasker1+nomasker2+nomasker3)/3\n",
    "\n",
    "#pl.figure(figsize=(16,4))\n",
    "pl.plot(t, broadband1)\n",
    "pl.plot(t, broadband2)\n",
    "pl.plot(t, broadband3)\n",
    "pl.plot(t, broadband_avg, label='avg')\n",
    "\n",
    "\n",
    "pl.plot(t, nomasker1)\n",
    "\n",
    "pl.plot(t, nomasker2)\n",
    "\n",
    "pl.plot(t, nomasker3)\n",
    "pl.plot(t, nomasker_avg, label='avg')\n",
    "\n",
    "#pl.xlim([0.004, 0.007])\n",
    "pl.legend()\n",
    "\n"
   ]
  },
  {
   "cell_type": "code",
   "execution_count": null,
   "metadata": {},
   "outputs": [],
   "source": [
    "#window\n",
    "\n",
    "t0=6e-3\n",
    "t1=9.5e-3\n",
    "ind0=int(t0*48828)\n",
    "\n",
    "ind0=int(t0*48828)\n",
    "ind1=int(t1*48828)\n",
    "\n",
    "win0=sg.tukey(ind1-ind0, alpha=0.4)\n",
    "\n",
    "win=np.zeros_like(broadband_avg)\n",
    "win[ind0:ind1]=win0\n",
    "\n",
    "pl.figure()\n",
    "pl.plot(t*1e3, broadband_avg, label='avg')\n",
    "pl.plot(t*1e3, win*np.amax(broadband_avg))\n",
    "\n",
    "pl.plot(t*1e3, 0.5*broadband_avg*win, label='avg')\n",
    "pl.show()\n"
   ]
  },
  {
   "cell_type": "code",
   "execution_count": null,
   "metadata": {},
   "outputs": [],
   "source": [
    "def process_signal(sig, cumsum=cumsum_default, return_t=False):\n",
    "    sig2=sig*win\n",
    "    \n",
    "    t0=3e-3\n",
    "    t1=13e-3\n",
    "\n",
    "    ind0=int(t0*48828)\n",
    "    ind1=int(t1*48828)\n",
    "    \n",
    "    dim = len(np.shape(sig2))\n",
    "    if dim ==1:\n",
    "        sig2=sig2[ind0:ind1]\n",
    "        if cumsum:\n",
    "            sig2=np.cumsum(sig2)\n",
    "            sig2[0:-50]*=sg.tukey(len(sig2)-50, 0.3)\n",
    "            sig2[-50:]=0\n",
    "    else:\n",
    "        sig2=sig2[:, ind0:ind1]\n",
    "        if cumsum:\n",
    "            sig2=np.cumsum(sig2)\n",
    "            \n",
    "            \n",
    "    \n",
    "    if return_t:\n",
    "        t=np.linspace(t0, t1, ind1-ind0)\n",
    "        return t, sig2\n",
    "    else:\n",
    "        return sig2\n",
    "    \n",
    "    \n",
    "\n",
    "    "
   ]
  },
  {
   "cell_type": "code",
   "execution_count": null,
   "metadata": {},
   "outputs": [],
   "source": [
    "t2, broadband_proc=process_signal(broadband_avg, cumsum=cumsum_default, return_t=True)\n",
    "nomasker_proc=process_signal(nomasker_avg)\n",
    "\n",
    "pl.plot(t2*1e3, nomasker_proc-broadband_proc)"
   ]
  },
  {
   "cell_type": "code",
   "execution_count": null,
   "metadata": {},
   "outputs": [],
   "source": [
    "def process_signal2(sig, cumsum=cumsum_default, gauss_sigma=0):\n",
    "    '''subtracts the broadband noise response\n",
    "    gauss_sigma: if diff of 0, smooths the signal with gaussian filter'''\n",
    "    #NB:broadband_proc considered to had same parameter for cumsum\n",
    "    \n",
    "    res = process_signal(sig, cumsum=cumsum)-broadband_proc\n",
    "    if gauss_sigma !=0:\n",
    "        res = gaussian_filter1d(res, gauss_sigma)\n",
    "    return res\n",
    "    "
   ]
  },
  {
   "cell_type": "markdown",
   "metadata": {},
   "source": [
    "**Estimation ur**  \n",
    "Depends on what is the focus\n"
   ]
  },
  {
   "cell_type": "code",
   "execution_count": null,
   "metadata": {},
   "outputs": [],
   "source": [
    "sig=capData.get_signal_by_name('2_notch3000_bw1700_55dB')\n",
    "#sig=capData.get_signal_by_name('4_notch6000_bw2000_45dB')\n",
    "sig2=process_signal(sig)\n",
    "\n",
    "#sigbis=capData.get_signal_by_name('3_notch3000_bw1700_50dB')\n",
    "#_, sig2bis=process_signal(sigbis)\n",
    "\n",
    "\n",
    "\n",
    "'''pl.plot(t*1e3, sig)\n",
    "\n",
    "pl.plot(t*1e3, broadband_avg)\n",
    "pl.plot(t*1e3, sig-broadband_avg)\n",
    "'''\n",
    "pl.plot(t2*1e3, sig2-broadband_proc)\n",
    "\n",
    "#pl.plot(t2*1e3, sig2bis-broadband_proc)\n",
    "\n",
    "\n",
    "ur0=sig2-broadband_proc\n",
    "ur0=np.roll(ur0, -100)\n",
    "pl.plot(t2*1e3, ur0)\n",
    "#pl.xlim([4,6])"
   ]
  },
  {
   "cell_type": "code",
   "execution_count": null,
   "metadata": {},
   "outputs": [],
   "source": [
    "def deconv(released_sig, ur0=ur0, eps=1e-2):\n",
    "    \n",
    "    released_sig_fft=np.fft.rfft(released_sig)\n",
    "    ur0_fft=np.fft.rfft(ur0)\n",
    "    E_fft=released_sig_fft/(ur0_fft+eps)\n",
    "    E=np.fft.irfft(E_fft)\n",
    "    return E\n",
    "masked_sig=nomasker_proc-broadband_proc\n",
    "E0=deconv(masked_sig)"
   ]
  },
  {
   "cell_type": "markdown",
   "metadata": {},
   "source": [
    "Estimated raw excitation pattern"
   ]
  },
  {
   "cell_type": "code",
   "execution_count": null,
   "metadata": {},
   "outputs": [],
   "source": [
    "pl.plot(t2*1e3, E0)"
   ]
  },
  {
   "cell_type": "markdown",
   "metadata": {},
   "source": [
    "Trying with projection"
   ]
  },
  {
   "cell_type": "code",
   "execution_count": null,
   "metadata": {},
   "outputs": [],
   "source": [
    "def proj_E(E, t0=4e-3, t1=8e-3):\n",
    "    '''\n",
    "    constraints u between t0 and t1'''\n",
    "    proj=t2>t0\n",
    "    proj*=t2<t1\n",
    "    return E*proj\n",
    "\n",
    "def deconv_newton(E0, released_sig, ur0=ur0, alpha=0.02, nb_steps=20, eps_ridge=1e-1, verbose=False, t0=4e-3, t1=7e-3):\n",
    "    E=proj_E(E0, t0=t0, t1=t1)\n",
    "\n",
    "    released_sig_fft=np.fft.rfft(released_sig)\n",
    "    ur0_fft=np.fft.rfft(ur0)\n",
    "\n",
    "    E=np.expand_dims(E, axis=0)\n",
    "\n",
    "    for i in range(nb_steps):\n",
    "        E-=alpha*deconv_newton_step(E, ur0_fft, released_sig_fft, eps_ridge=eps_ridge)\n",
    "\n",
    "        E=proj_E(E, t0=t0, t1=t1)\n",
    "        E[E<0]=0\n",
    "        if verbose and i%5==0:\n",
    "            pl.plot(t2*1e3, E[0], label=f'step {i}')\n",
    "            pl.xlabel('t (ms)')\n",
    "    if verbose:\n",
    "        pl.legend()\n",
    "    return E[0]\n",
    "\n",
    "\n",
    "E=deconv_newton(E0, masked_sig, verbose=True)\n",
    "\n",
    "\n",
    "    \n",
    "\n"
   ]
  },
  {
   "cell_type": "markdown",
   "metadata": {},
   "source": [
    "Narrow-band analysis"
   ]
  },
  {
   "cell_type": "code",
   "execution_count": null,
   "metadata": {},
   "outputs": [],
   "source": [
    "\n",
    "s1=capData.get_signal_by_name('1_hp_10000Hz')\n",
    "s2=capData.get_signal_by_name('2_hp_9000Hz')\n",
    "s3=capData.get_signal_by_name('3_hp_8000Hz')\n",
    "s4=capData.get_signal_by_name('4_hp_7000Hz')\n",
    "s5=capData.get_signal_by_name('5_hp_6000Hz')\n",
    "s6=capData.get_signal_by_name('6_hp_5000Hz')\n",
    "s7=capData.get_signal_by_name('7_hp_4000Hz')\n",
    "s8=capData.get_signal_by_name('8_hp_3200Hz')\n",
    "s9=capData.get_signal_by_name('9_hp_2400Hz')\n",
    "s10=capData.get_signal_by_name('10_hp_1800Hz')\n",
    "s11=capData.get_signal_by_name('11_hp_1500Hz')\n",
    "s12=capData.get_signal_by_name('12_hp_1200Hz')\n",
    "\n",
    "\n",
    "s1_proc=process_signal2(s1)\n",
    "s2_proc=process_signal2(s2)\n",
    "s3_proc=process_signal2(s3)\n",
    "s4_proc=process_signal2(s4)\n",
    "s5_proc=process_signal2(s5)\n",
    "s6_proc=process_signal2(s6)\n",
    "s7_proc=process_signal2(s7)\n",
    "s8_proc=process_signal2(s8)\n",
    "s9_proc=process_signal2(s9)\n",
    "s10_proc=process_signal2(s10)\n",
    "s11_proc=process_signal2(s11)\n",
    "s12_proc=process_signal2(s12)"
   ]
  },
  {
   "cell_type": "code",
   "execution_count": null,
   "metadata": {},
   "outputs": [],
   "source": [
    "pl.figure()\n",
    "pl.plot(s1_proc)\n",
    "pl.plot(s2_proc)\n",
    "pl.plot(s3_proc)\n",
    "pl.plot(s4_proc)\n",
    "pl.plot(s5_proc)\n",
    "pl.plot(s6_proc)\n",
    "pl.plot(s7_proc)\n",
    "pl.plot(s8_proc)\n",
    "pl.plot(s9_proc)\n",
    "pl.plot(s10_proc)\n",
    "pl.plot(s11_proc)\n",
    "pl.plot(s12_proc)\n",
    "pl.show()\n",
    "\n",
    "pl.figure(figsize=(10,8))\n",
    "pl.plot(t2*1e3,s1_proc-s2_proc, label='9-10kHz')\n",
    "pl.plot(t2*1e3,s2_proc-s3_proc, label='8-9kHz')\n",
    "pl.plot(t2*1e3,s3_proc-s4_proc, label='7-8kHz')\n",
    "pl.plot(t2*1e3,s4_proc-s5_proc, label='6-7kHz')\n",
    "pl.plot(t2*1e3,s5_proc-s6_proc, label='5-6kHz')\n",
    "pl.plot(t2*1e3,s6_proc-s7_proc, label='4-5kHz')\n",
    "pl.xlim([3,12])\n",
    "pl.legend(bbox_to_anchor=(1.05, 1), loc='upper left')\n",
    "pl.show()\n",
    "\n",
    "\n",
    "\n",
    "pl.figure(figsize=(10,8))\n",
    "pl.plot(t2*1e3,s6_proc-s7_proc, label='4-5kHz')\n",
    "pl.plot(t2*1e3,s7_proc-s8_proc, label='3.2-4kHz')\n",
    "pl.plot(t2*1e3,s8_proc-s9_proc, label='2.4-3.2kHz')\n",
    "pl.plot(t2*1e3,s9_proc-s10_proc, label='1.8-2.4kHz')\n",
    "pl.plot(t2*1e3,s10_proc-s11_proc, label='1.5-1.8kHz')\n",
    "pl.plot(t2*1e3,s11_proc-s12_proc, label='1.2-1.5kHz')\n",
    "pl.plot(t2*1e3,s12_proc, label='-1.2kHz')\n",
    "pl.xlim([3,12])\n",
    "pl.legend(bbox_to_anchor=(1.05, 1), loc='upper left')\n",
    "pl.show()"
   ]
  },
  {
   "cell_type": "code",
   "execution_count": null,
   "metadata": {},
   "outputs": [],
   "source": [
    "pl.figure()\n",
    "i=0\n",
    "\n",
    "\n",
    "\n",
    "\n",
    "pl.figure(figsize=(10,8))\n",
    "for sig, label in [(s1_proc-s2_proc, '9-10kHz'),\n",
    "(s2_proc-s3_proc, '8-9kHz'),\n",
    "(s3_proc-s4_proc, '7-8kHz'),\n",
    "(s4_proc-s5_proc, '6-7kHz'),\n",
    "(s5_proc-s6_proc, '5-6kHz'),\n",
    "(s6_proc-s7_proc, '4-5kHz'),(s7_proc-s8_proc, '3.2-4kHz'),\n",
    "(s8_proc-s9_proc, '2.4-3.2kHz'),\n",
    "(s9_proc-s10_proc, '1.8-2.4kHz'),\n",
    "(s10_proc-s11_proc, '1.5-1.8kHz'),\n",
    "(s11_proc-s12_proc, '1.2-1.5kHz'),\n",
    "(s12_proc, '-1.2kHz')]:\n",
    "    E=deconv(sig, eps=1e-2)\n",
    "    E=deconv_newton(E, sig, alpha=0.005, nb_steps=50, eps_ridge=2e-1, t0=4e-3, t1=7e-3)\n",
    "    pl.plot(t2*1e3, E-0.25*i, label=label)\n",
    "    i+=1\n",
    "\n",
    "pl.legend(bbox_to_anchor=(1.05, 1), loc='upper left')\n",
    "pl.xlim([4, 8])\n",
    "pl.show()"
   ]
  },
  {
   "cell_type": "code",
   "execution_count": null,
   "metadata": {},
   "outputs": [],
   "source": [
    "#NB: some data not clear\n",
    "t_max=np.array([43,40,44,48,52,55,41,45,54,61,73,94])\n",
    "t_max_C=np.array([52,60,57,42,49,50,51,55,64,75,84,100])   #mod 0\n",
    "\n",
    "t_max_R=np.array([48,53,46,49,48,51, 54,59,68,81,95,115]) \n",
    "#t_0lat=4e-3-5.8e-3+2e-3\n",
    "t_0lat=4e-3+2.2e-3-5.8e-3\n",
    "t_max=t_0lat+t_max*2*1e-5\n",
    "t_max_C=t_0lat+t_max_C*2*1e-5\n",
    "\n",
    "t_max_R=t_0lat+t_max_R*2*1e-5\n",
    "freqs=np.array([9.5,8.5,7.5,6.5,5.5,4.5,3.6,2.8,2.1,1.65, 1.35, 1])\n",
    "pl.plot(freqs, t_max*1e3, '+', markersize=12, label='C+R')\n",
    "pl.plot(freqs, t_max_C*1e3, '+', markersize=12, label='C')\n",
    "\n",
    "pl.plot(freqs, t_max_R*1e3, '+', markersize=12, label='R')\n",
    "pl.ylabel('Estimated latencies (ms)')\n",
    "pl.xlabel('freq (kHz)')\n",
    "\n",
    "pl.legend()\n",
    "#NB CM begins at 5.8 ms\n",
    "#peak convol begins at 5.2-3 ms = 2.2ms"
   ]
  },
  {
   "cell_type": "markdown",
   "metadata": {},
   "source": [
    "fit latencies 2 power laws"
   ]
  },
  {
   "cell_type": "code",
   "execution_count": null,
   "metadata": {},
   "outputs": [],
   "source": [
    "#above 4kHz\n",
    "\n",
    "\n",
    "freqs_pts=np.array([8.5,7.5,6.5,5.5,4.5])*1e3\n",
    "t_max_pts=t_max[1:len(freqs_pts)+1]\n",
    "\n",
    "lat=PowerLawLatencies(1e6, alpha=1, t0=4e-3, mode='left')\n",
    "lat.fit_data(t_max_pts, freqs_pts, init_with_new_values=False, bounds=[0.5, 2])\n",
    "\n",
    "freqs_lin=np.linspace(4, 10)*1e3\n",
    "pl.plot(freqs_lin, lat(freqs_lin)*1e3)\n",
    "\n",
    "pl.plot(freqs_pts, t_max_pts*1e3, '+', markeredgewidth=3, markersize=10)\n",
    "\n",
    "lat_above4k=lat\n",
    "\n",
    "#below 4kHz\n",
    "freqs_pts=freqs[6:]*1e3\n",
    "t_max_pts=t_max[6:]\n",
    "\n",
    "lat=PowerLawLatencies()\n",
    "lat.fit_data(t_max_pts, freqs_pts)\n",
    "\n",
    "freqs_lin=np.linspace(0.5, 5)*1e3\n",
    "pl.plot(freqs_lin, lat(freqs_lin)*1e3)\n",
    "\n",
    "pl.plot(freqs_pts, t_max_pts*1e3, '+', markeredgewidth=3, markersize=10)\n",
    "\n",
    "\n"
   ]
  },
  {
   "cell_type": "code",
   "execution_count": null,
   "metadata": {},
   "outputs": [],
   "source": [
    "lat"
   ]
  },
  {
   "cell_type": "markdown",
   "metadata": {},
   "source": [
    "### 2.2kHz"
   ]
  },
  {
   "cell_type": "markdown",
   "metadata": {},
   "source": [
    "first estimation I/O curve"
   ]
  },
  {
   "cell_type": "code",
   "execution_count": null,
   "metadata": {},
   "outputs": [],
   "source": [
    "\n",
    "cap=[]\n",
    "masker_list=['1_notch2200_bw1500_60dB',\n",
    "'2_notch2200_bw1500_55dB',\n",
    "'3_notch2200_bw1500_50dB',\n",
    "'4_notch2200_bw1500_45dB',\n",
    "'5_notch2200_bw1500_40dB',\n",
    "'6_notch2200_bw1500_35dB',\n",
    "'7_notch2200_bw1500_32dB',\n",
    "'8_notch2200_bw1500_29dB',\n",
    "'9_notch2200_bw1500_26dB',\n",
    "'10_notch2200_bw1500_23dB']   #, 'broadband_noise'\n",
    "for masker in masker_list:\n",
    "    sig=capData.get_signal_by_name(masker)\n",
    "    sig=process_signal(sig)\n",
    "    broadband_sig_trunc=process_signal(broadband2)\n",
    "    \n",
    "    #REF broadband\n",
    "    cap.append(np.max(sig-broadband_sig_trunc)-np.min(sig-broadband_sig_trunc))\n",
    "    #rms.append(np.std(sig-broadband_sig_trunc))\n",
    "    \n",
    "    #cap.append(np.max(sig)-np.min(sig))\n",
    "    #rms.append(np.std(sig-broadband_sig_trunc))\n",
    "    pl.plot(t2, sig-broadband_sig_trunc, label=masker)\n",
    "\n",
    "\n",
    "pl.legend(bbox_to_anchor=(1.05, 1), loc='upper left')\n",
    "pl.show()\n",
    "\n",
    "pl.figure(figsize=(8, 6))\n",
    "\n",
    "attns=-np.array([60,55, 50, 45,40,35,32,29,26,23])   # 20])\n",
    "pl.plot(attns, cap, '+', label='max-min')\n",
    "\n",
    "#pl.plot(-np.array([55,50,45,40,37,34,31,28,25,22]), np.array(rms)*10, label='rms x10')\n",
    "pl.legend()\n",
    "pl.xlabel('Notch attenuation')\n",
    "pl.ylabel('Amplitude')\n"
   ]
  },
  {
   "cell_type": "markdown",
   "metadata": {},
   "source": []
  },
  {
   "cell_type": "code",
   "execution_count": null,
   "metadata": {},
   "outputs": [],
   "source": [
    "sigm=SigmoidIOFunc(0, 0)\n",
    "#maskamount=1-(  (cap-np.amin(cap)) /np.amax(cap-np.amin(cap)) )\n",
    "maskamount=1-(cap/np.amax(cap)) \n",
    "\n",
    "I_pts=I0+attns\n",
    "#sigm.fit_data(I_pts, maskamount, set_mmax=True)\n",
    "\n",
    "#HACK enforce masking=100% at attn20\n",
    "#sigm.mmax.data*=1/sigm(I0-20)\n",
    "\n",
    "sigm.fit_data(I_pts, maskamount, constrained_at_Iref=True, Iref=I0-20, method='dogbox')\n",
    "\n",
    "I=np.linspace(-15, 50)\n",
    "pl.plot(I, sigm(torch.tensor(I)), label='fit sigm')\n",
    "\n",
    "\n",
    "pl.suptitle('Amount of masking in response to broadband noise')\n",
    "pl.title(' (as estimated with the notch method)', fontsize=10)\n",
    "pl.xlabel('Power spectral density (dB)')\n",
    "\n",
    "pl.plot(I_pts, maskamount, '+', markersize=10, markeredgewidth=3)\n",
    "pl.plot(I0-20, 1, '+', markersize=10, markeredgewidth=3, color='purple')\n",
    "\n",
    "pl.ylabel('masking (ref max: no notch)')\n",
    "\n",
    "#pl.xlim([0, 40])\n",
    "#pl.savefig('amount_masking_5kHz.svg')"
   ]
  },
  {
   "cell_type": "markdown",
   "metadata": {},
   "source": [
    "Setting model"
   ]
  },
  {
   "cell_type": "code",
   "execution_count": null,
   "metadata": {},
   "outputs": [],
   "source": [
    "ntch_maskerNames, ntch_maskingConds, ntch_signals =capData.get_batch_re('.*notch2200_bw1500')\n",
    "ntch_maskingConds.set_amp0_dB(I0)"
   ]
  },
  {
   "cell_type": "code",
   "execution_count": null,
   "metadata": {},
   "outputs": [],
   "source": [
    "gauss_sigma=(1.5e-4)/(t2[1]-t2[0])\n",
    "ntch_signals_proc=process_signal2(ntch_signals, gauss_sigma=gauss_sigma)"
   ]
  },
  {
   "cell_type": "code",
   "execution_count": null,
   "metadata": {},
   "outputs": [],
   "source": [
    "# test\n",
    "\n",
    "for maskerName, sig in zip(ntch_maskerNames, ntch_signals_proc):\n",
    "    pl.plot(t2, sig, label=maskerName)\n",
    "\n",
    "pl.legend(bbox_to_anchor=(1.05, 1), loc='upper left')"
   ]
  },
  {
   "cell_type": "code",
   "execution_count": null,
   "metadata": {},
   "outputs": [],
   "source": [
    "# estimation ur\n",
    "\n",
    "sig=capData.get_signal_by_name('4_notch2200_bw1500_45dB')\n",
    "sig2=process_signal(sig)\n",
    "\n",
    "pl.plot((t2-3e-3)*1e3, sig2-broadband_proc)\n",
    "\n",
    "#pl.plot(t2*1e3, sig2bis-broadband_proc)\n",
    "\n",
    "t_shift=5.8e-3-3e-3 #excitation coincides with CM\n",
    "\n",
    "ur0=sig2-broadband_proc\n",
    "ur0=np.roll(ur0,  -int(t_shift*48828) )\n",
    "pl.plot((t2-3e-3)*1e3, ur0)\n",
    "#pl.xlim([4,6])"
   ]
  },
  {
   "cell_type": "code",
   "execution_count": null,
   "metadata": {},
   "outputs": [],
   "source": [
    "m=128\n",
    "E0_temp=sg.windows.tukey(m, alpha=0.5)   #1ms excitation\n",
    "E0=np.zeros_like(t2)\n",
    "ind_begin=int((t_shift-5e-4)*48828)\n",
    "ind_end=int((t_shift-5e-4)*48828)+m\n",
    "E0[ind_begin:ind_end]=E0_temp\n",
    "\n",
    "pl.plot(t2*1e3, E0)\n",
    "pl.title('Init raw excitation')\n",
    "pl.xlabel('t (ms)')\n",
    "pl.ylabel('Amp')"
   ]
  },
  {
   "cell_type": "code",
   "execution_count": null,
   "metadata": {},
   "outputs": [],
   "source": [
    "E=ExcitationPatterns(t2, E0)  #no non-maskable part\n",
    "lat_model=PowerLawLatencies.shift(lat, 5.8e-3-1e-3)   #t0: start CM-1ms \n",
    "\n",
    "\n",
    "BW10_6000=1000\n",
    "BW10_6000Func=constant_BW10(BW10_6000, requires_grad=False)\n",
    "\n",
    "E.set_masking_model(lat_model, BW10_6000Func, ntch_maskingConds, sigm)"
   ]
  },
  {
   "cell_type": "raw",
   "metadata": {},
   "source": [
    "plotLatencies(lat_model)"
   ]
  },
  {
   "cell_type": "raw",
   "metadata": {},
   "source": [
    "pl.figure(figsize=(10,20))\n",
    "plotMaskingAmountExcitations(BW10_6000Func, ntch_maskingConds, sigm)\n",
    "pl.show()"
   ]
  },
  {
   "cell_type": "code",
   "execution_count": null,
   "metadata": {},
   "outputs": [],
   "source": [
    "pl.figure(figsize=(10,20))\n",
    "plotExcitationPatterns(E, plot_raw_excitation=True) # ylim_top=1\n",
    "pl.show()"
   ]
  },
  {
   "cell_type": "raw",
   "metadata": {},
   "source": [
    "maskAmounts, excs = E.get_tensors() \n",
    "\n",
    "for i in range(5):\n",
    "    pl.plot(E.t*1e3, maskAmounts[i], label=ntch_maskerNames[i])\n",
    "pl.xlim([3,6])\n",
    "pl.ylim([0,1])\n",
    "pl.legend(bbox_to_anchor=(1.05, 1), loc='upper left')"
   ]
  },
  {
   "cell_type": "code",
   "execution_count": null,
   "metadata": {},
   "outputs": [],
   "source": [
    "#estimation ur\n",
    "\n",
    "maskAmounts, excs = E.get_tensors() \n",
    "\n",
    "nb_steps=20\n",
    "alpha=np.linspace(0.5, 0.05, nb_steps)\n",
    "\n",
    "EPs_fft=np.fft.rfft(excs, axis=1)\n",
    "CAPs_fft=np.fft.rfft(ntch_signals_proc, axis=1)\n",
    "#u1_mat=np.tile(ur0, (ntch_maskingConds.n_conditions, 1))\n",
    "u1_mat=np.zeros_like(ntch_signals_proc)\n",
    "filter_mat  = (t2>7.5e-3)+(t2<3.2e-3)\n",
    "filter_mat=np.tile(filter_mat, (ntch_maskingConds.n_conditions, 1))\n",
    "#filter_mat=np.zeros_like(ntch_signals_proc, dtype=bool)\n",
    "#proj_fft=E.get_projector_fft()\n",
    "\n",
    "weights=np.sqrt(np.sum(excs.clone().detach().numpy()**2, axis=1))\n",
    "for i in range(1, nb_steps+1):\n",
    "    du=deconv_newton_step(u1_mat, EPs_fft, CAPs_fft, eps_ridge=0)   #TODO proj_fft\n",
    "    #du=deconv_grad(u1_mat, EPs_fft, CAPs_fft)\n",
    "    \n",
    "    u1_mat-=alpha[i-1]*du\n",
    "    #proj 1 \n",
    "    u1_mat[filter_mat]=np.zeros_like(u1_mat[filter_mat])\n",
    "    #proj 2\n",
    "\n",
    "    #u1_mat_mean=np.mean(u1_mat, axis=0)[None, :]\n",
    "    \n",
    "    \n",
    "    #HACK waiting for proj_fft\n",
    "    u1_mat_mean=np.average(u1_mat, axis=0, weights=weights)[None, :]\n",
    "    u1_mat=np.repeat(u1_mat_mean, ntch_maskingConds.n_conditions, axis=0)\n",
    "     \n",
    "    '''\n",
    "    for i in range(5):\n",
    "            pl.figure()\n",
    "            name=ntch_maskerNames[i]\n",
    "            pl.plot(u1_mat[i], label=name, color=f'C{i}')\n",
    "            #pl.plot( np.abs(EPs_fft[i]))\n",
    "            pl.legend(bbox_to_anchor=(1.05, 1), loc='upper left')\n",
    "    '''\n",
    "    \n",
    "    if i==nb_steps:\n",
    "        pl.figure()\n",
    "        pl.title(f'Step {i} (deconv + proj)')\n",
    "        #pl.plot(t, u0, label='u0 (truth)')\n",
    "        pl.plot(t2, u1_mat[0], label='u0 (estimated)')\n",
    "        pl.legend()\n",
    "        pl.show()"
   ]
  },
  {
   "cell_type": "markdown",
   "metadata": {},
   "source": [
    "Reestimation I/O curve"
   ]
  },
  {
   "cell_type": "code",
   "execution_count": null,
   "metadata": {},
   "outputs": [],
   "source": [
    "exc_max=[]\n",
    "exc_rms=[]\n",
    "attns_=[]\n",
    "\n",
    "amps=ntch_maskingConds.amp_list[1]\n",
    "for i in range(len(ntch_maskerNames)):\n",
    "    name=ntch_maskerNames[i]\n",
    "    sig=ntch_signals_proc[i]\n",
    "    \n",
    "    #pl.plot(t2*1e3, excs[i], label=name, color=f'C{i}')\n",
    "\n",
    "    E_i=np.zeros_like(sig)\n",
    "    E_i=deconv_newton(E_i, sig, ur0=u1_mat[0], alpha=1, nb_steps=20, t0=5.7e-3, t1=6.4e-3, eps_ridge=0.1)  #double peak?\n",
    "    \n",
    "    \n",
    "    attn_=20*np.log10(amps[i])\n",
    "    \n",
    "    if True:\n",
    "        exc_max.append(np.amax(E_i))\n",
    "\n",
    "        exc_rms.append(np.sqrt(np.sum(E_i**2) ))\n",
    "        attns_.append(attn_)\n",
    "    pl.plot(t2*1e3, E_i, label=name, color=f'C{i}')\n",
    "    \n",
    "pl.legend(bbox_to_anchor=(1.05, 1), loc='upper left')\n",
    "\n",
    "\n",
    "pl.figure()\n",
    "pl.plot(attns_, exc_max, '+')\n",
    "                   \n",
    "pl.plot(attns_, np.array(exc_rms)*0.2, '+')\n",
    "pl.xlabel('Spectral power density (dB)')"
   ]
  },
  {
   "cell_type": "code",
   "execution_count": null,
   "metadata": {},
   "outputs": [],
   "source": [
    "#reestimation I-0 curve: \n",
    "\n",
    "I_pts=np.array(attns_)  #I0 already in masking cond\n",
    "\n",
    "sigm=SigmoidIOFunc(0, 0)\n",
    "exc_rms=np.array(exc_rms)\n",
    "maskamount=1- (exc_rms)/np.amax(exc_rms) \n",
    "\n",
    "\n",
    "#add broadband condition\n",
    "#attns_.append(80)\n",
    "#ma_list=list(maskamount)\n",
    "#ma_list.append(1.)\n",
    "#maskamount=np.array(ma_list)\n",
    "\n",
    "#sigm.fit_data(np.array(attns_), maskamount, set_mmax=True)\n",
    "\n",
    "#HACK enforce masking=100% at attn20\n",
    "#sigm.mmax.data*=1/sigm(I0-20)\n",
    "\n",
    "sigm.fit_data(I_pts, maskamount, constrained_at_Iref=True, Iref=I0-20, method='dogbox')\n",
    "\n",
    "\n",
    "I=np.linspace(-15, 50)\n",
    "pl.plot(I, sigm(torch.tensor(I)), label='fit sigm')\n",
    "\n",
    "\n",
    "pl.suptitle('Amount of masking in response to broadband noise')\n",
    "pl.title(' (as estimated with the notch method)', fontsize=10)\n",
    "pl.xlabel('Power spectral density (dB)')\n",
    "\n",
    "pl.plot(I_pts, maskamount, '+', markersize=10, markeredgewidth=3)\n",
    "pl.plot(I0-20, 1, '+', markersize=10, markeredgewidth=3, color='purple')\n",
    "\n",
    "pl.ylabel('masking (ref max: no notch)')\n"
   ]
  },
  {
   "cell_type": "code",
   "execution_count": null,
   "metadata": {},
   "outputs": [],
   "source": [
    "masker_name='4_notch4800_bw1300_20dB'  # '7_notch5300_bw800_20dB''\n",
    "sig=capData.get_signal_by_name(masker_name)\n",
    "sig=process_signal2(sig)\n",
    "#pl.plot(t2*1e3, excs[i], label=name, color=f'C{i}')\n",
    "\n",
    "E_i=np.zeros_like(sig)\n",
    "E_i=deconv_newton(E_i, sig, ur0=u1_mat[0], alpha=0.1, nb_steps=20, t0=5e-3, t1=6.2e-3, eps_ridge=0.1)  #double peak?\n",
    "\n",
    "pl.plot(t2*1e3, E_i, label=masker_name, color=f'C{i}')\n",
    "\n",
    "pl.legend(bbox_to_anchor=(1.05, 1), loc='upper left')\n"
   ]
  },
  {
   "cell_type": "markdown",
   "metadata": {},
   "source": [
    "test model"
   ]
  },
  {
   "cell_type": "code",
   "execution_count": null,
   "metadata": {},
   "outputs": [],
   "source": [
    "\n",
    "def plotSimulatedCAPs2(E, u=None, CAParray=None, axlist=None, shift=0, max_plots=8, ylim=None, reg_ex=None, title='Simulated CAPs', **kwargs):\n",
    "    '''\n",
    "    Args:\n",
    "        E:ExcitationPatterns object\n",
    "        u: unitary response (numpy array)\n",
    "        CAParray: array of CAP signals (if the convolution is done outside the function), must be of size (nb_conditions, len(E.t)) . either CAParray or u must be given\n",
    "        axlist:list of axes for the plots. If none creates a list of axes\n",
    "        shift:time shift for the convolution\n",
    "        ylim: interval to pass to matplotlib (opt.)\n",
    "        reg_ex: regular expression to filter masker names (opt.)\n",
    "    '''\n",
    "    assert not(u is None) or not(CAParray is None), 'either CAParray or u must be given'\n",
    "    axlist2=[]\n",
    "    if E.masked:\n",
    "        excs = E.get_tensor() \n",
    "        maskingConditions = E.maskingConditions\n",
    "        pl.suptitle(title)\n",
    "        nb_plots=min(maskingConditions.n_conditions, max_plots)\n",
    "        ind=0\n",
    "        for i, exc in zip(range(maskingConditions.n_conditions), excs):\n",
    "            if ind==nb_plots:\n",
    "                break\n",
    "            if not reg_ex is None:\n",
    "                if not(re.match(reg_ex, maskingConditions.names[i])):\n",
    "                    continue \n",
    "            ax= pl.subplot((nb_plots+1)//2, 2, ind+1) if axlist is None else axlist[i]\n",
    "            ax.set_title(maskingConditions.names[i], fontsize=10)\n",
    "            \n",
    "            if not CAParray is None:\n",
    "                CAP=CAParray[i]\n",
    "                ax.plot(E.t*1e3, CAP*1e3, **kwargs) \n",
    "                ax.grid(False)\n",
    "            else:\n",
    "                exc_np = exc.detach().numpy()\n",
    "                CAP=np.convolve(exc_np, u, mode='full')\n",
    "                t=E.t.numpy()\n",
    "                ind_time=np.sum(t<(t[0]+shift))\n",
    "                ind_time=min(ind_time, len(CAP)-len(E.t))\n",
    "                CAP=CAP[ind_time:ind_time+len(E.t)]\n",
    "                ax.plot(E.t*1e3, CAP*1e3, **kwargs) \n",
    "            #ax.grid(False)\n",
    "            if not ylim is None:\n",
    "                ax.set_ylim(ylim)\n",
    "            ax.set_xlim([5.8,9.5])\n",
    "            ax.set_xlabel('Time (ms)')\n",
    "            \n",
    "            ax.set_ylabel('Amplitude difference (µV)')\n",
    "            axlist2.append(ax)      \n",
    "            ind+=1\n",
    "        pl.tight_layout()\n",
    "\n",
    "    else:\n",
    "        ax = pl.gca() if axlist is None else axlist[0]\n",
    "        ax.plot(E.t*1e3, E.E0_nonmaskable, label='non maskable part', linestyle='--')\n",
    "        p=ax.plot(E.t*1e3, E.E0_maskable, label='maskable part', linestyle='--', linewidth=1.5)\n",
    "        E0=E.E0_nonmaskable+E.E0_maskable\n",
    "        ax2=ax.twinx()  if axlist is None else axlist[1]\n",
    "        exc_np = E0.detach().numpy()            \n",
    "        CAP=np.convolve(exc_np, u, mode='full')\n",
    "        t=E.t.numpy()\n",
    "        ind_time=np.sum(t<(t[0]+shift))\n",
    "        ind_time=min(ind_time, len(CAP)-len(E.t))\n",
    "        CAP=CAP[ind_time:ind_time+len(E.t)]\n",
    "        ax2.plot(E.t*1e3, CAP, color=p[0].get_color())\n",
    "        ax2.grid(False)\n",
    "        ax.set_xlabel('Time (ms)')\n",
    "        ax.legend()\n",
    "        axlist2.append(ax)\n",
    "        axlist2.append(ax2)\n",
    "    return axlist2"
   ]
  },
  {
   "cell_type": "code",
   "execution_count": null,
   "metadata": {},
   "outputs": [],
   "source": [
    "#model\n",
    "u1=u1_mat[0]\n",
    "pl.figure(figsize=(12,20))\n",
    "ax_list=plotSimulatedCAPs2(E, u1, ylim=[-15, 15], max_plots=10, color='C1')\n",
    "plotSimulatedCAPs2(E, CAParray=ntch_signals_proc, axlist=ax_list, max_plots=10, color='C0')\n",
    "pl.plot()\n",
    "#pl.savefig('CAPs_notch_5khz.svg')"
   ]
  },
  {
   "cell_type": "code",
   "execution_count": null,
   "metadata": {},
   "outputs": [],
   "source": [
    "vbw_maskerNames, vbw_maskingConds, vbw_signals =capData.get_batch_re('(1_notch2200_500_20dB|2_notch2300_700_20dB)')\n",
    "vbw_signals_proc=process_signal2(vbw_signals, gauss_sigma=gauss_sigma)\n",
    "vbw_maskingConds.set_amp0_dB(I0)"
   ]
  },
  {
   "cell_type": "code",
   "execution_count": null,
   "metadata": {},
   "outputs": [],
   "source": [
    "E2=ExcitationPatterns(t2, E0)  #no non-maskable part\n",
    "BW10_6000TestFunc=constant_BW10(1500, requires_grad=False)\n",
    "\n",
    "E2.set_masking_model(lat_model, BW10_6000TestFunc, vbw_maskingConds, sigm)"
   ]
  },
  {
   "cell_type": "code",
   "execution_count": null,
   "metadata": {},
   "outputs": [],
   "source": [
    "#model\n",
    "u1=u1_mat[0]\n",
    "pl.figure(figsize=(10,4))\n",
    "ax_list=plotSimulatedCAPs2(E2, u1, ylim=[-15, 15])\n",
    "plotSimulatedCAPs2(E2, CAParray=vbw_signals_proc, axlist=ax_list)\n",
    "pl.plot()"
   ]
  },
  {
   "cell_type": "code",
   "execution_count": null,
   "metadata": {},
   "outputs": [],
   "source": [
    "bw_arr=np.linspace(500, 2500)\n",
    "sigs_ref=vbw_signals_proc\n",
    "errs=[]\n",
    "for bw in bw_arr:\n",
    "\n",
    "    BW10_6000TestFunc=constant_BW10(bw, requires_grad=False)\n",
    "    E2.set_masking_model(lat_model, BW10_6000TestFunc, vbw_maskingConds, sigm)\n",
    "    excs = E2.get_tensor() \n",
    "    maskingConditions = E2.maskingConditions\n",
    "    err=0\n",
    "    for i, exc in zip(range(maskingConditions.n_conditions), excs):\n",
    "        exc_np = exc.detach().numpy()\n",
    "        CAP=np.convolve(exc_np, u1, mode='full')\n",
    "        t=E.t.numpy()\n",
    "        CAP=CAP[0:len(E2.t)]\n",
    "        err+=np.mean( (CAP-sigs_ref[i])**2)\n",
    "    err/=maskingConditions.n_conditions\n",
    "    errs.append(np.sqrt(err))\n",
    "\n",
    "pl.figure(figsize=(6, 3.5))\n",
    "pl.plot(bw_arr, np.array(errs)*1e3)\n",
    "pl.xlabel('BW 10dB model (Hz)')\n",
    "pl.ylabel('RMS error (µV)')\n",
    "#pl.savefig('RMS_err_5kHz.svg')"
   ]
  },
  {
   "cell_type": "code",
   "execution_count": null,
   "metadata": {},
   "outputs": [],
   "source": []
  },
  {
   "cell_type": "code",
   "execution_count": null,
   "metadata": {},
   "outputs": [],
   "source": []
  }
 ],
 "metadata": {
  "kernelspec": {
   "display_name": "torch",
   "language": "python",
   "name": "torch"
  },
  "language_info": {
   "codemirror_mode": {
    "name": "ipython",
    "version": 3
   },
   "file_extension": ".py",
   "mimetype": "text/x-python",
   "name": "python",
   "nbconvert_exporter": "python",
   "pygments_lexer": "ipython3",
   "version": "3.8.5"
  }
 },
 "nbformat": 4,
 "nbformat_minor": 4
}
