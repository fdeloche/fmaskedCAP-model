{
 "cells": [
  {
   "cell_type": "code",
   "execution_count": null,
   "metadata": {},
   "outputs": [],
   "source": [
    "import torch\n",
    "\n",
    "import numpy as np\n",
    "import matplotlib as mpl\n",
    "import matplotlib.pyplot as pl\n",
    "import scipy.signal as sg\n",
    "\n",
    "pl.style.use('fivethirtyeight')\n",
    "mpl.rcParams['axes.facecolor']='white'  \n",
    "mpl.rcParams['figure.facecolor'] = '1'\n",
    "\n",
    "from scipy.ndimage  import gaussian_filter1d\n",
    "\n",
    "import json"
   ]
  },
  {
   "cell_type": "code",
   "execution_count": null,
   "metadata": {},
   "outputs": [],
   "source": [
    "from masking import *\n",
    "from latencies import *\n",
    "from excitation import *\n",
    "from deconv import *\n",
    "from ur import *\n",
    "from tuning import *\n",
    "from test import *"
   ]
  },
  {
   "cell_type": "code",
   "execution_count": null,
   "metadata": {},
   "outputs": [],
   "source": [
    "from ipywidgets import interact, interactive, fixed, interact_manual\n",
    "import ipywidgets as widgets"
   ]
  },
  {
   "cell_type": "markdown",
   "metadata": {},
   "source": [
    "### Simulate CAPs"
   ]
  },
  {
   "cell_type": "code",
   "execution_count": null,
   "metadata": {},
   "outputs": [],
   "source": [
    "#masking degree function\n",
    "mdFunc=SigmoidMaskingDegreeFunction(30, 2*1/10., requires_grad=False)\n",
    "\n",
    "#latencies\n",
    "lat0=Eggermont1976clickLatencies80dB #latencies\n",
    "\n",
    "#Unitary response\n",
    "ur0=URWang1979m\n",
    "t=np.linspace(5e-4, 10e-3, num=500)\n",
    "u00=ur0.u(t-2e-3) #shift\n",
    "sig=0.2e-3 #std of gaussian kernel in s\n",
    "sig2=sig/(t[1]-t[0])\n",
    "u0 = gaussian_filter1d(u00, sigma=sig2)\n",
    "u0/=np.amax(np.abs(u0))\n",
    "u0*=0.5*np.amax(np.abs(u00))\n",
    "\n",
    "#tuning\n",
    "BW10_0=500\n",
    "BW10Func=constant_BW10(BW10_0, requires_grad=False)\n",
    "\n",
    "plotMaskingDegreeFunc(mdFunc)\n",
    "plotLatencies(lat0)"
   ]
  },
  {
   "cell_type": "code",
   "execution_count": null,
   "metadata": {},
   "outputs": [],
   "source": [
    "pl.plot(t*1e3, u00, label='unitary response')\n",
    "pl.plot(t*1e3, u0, label='ur + nPSHT (blur)',  color='orange')\n",
    "pl.legend(loc='lower right')\n",
    "pl.title(\"Unitary response\")\n",
    "pl.xlabel('t (ms)')"
   ]
  },
  {
   "cell_type": "markdown",
   "metadata": {},
   "source": [
    "Example: two maskers"
   ]
  },
  {
   "cell_type": "code",
   "execution_count": null,
   "metadata": {},
   "outputs": [],
   "source": [
    "json_txt='''{\n",
    "    \"type\":\"noise-bands\", \n",
    "    \"comment\":\"created with noiseBandMaskerDesigner\", \n",
    "    \"n_bands\":3, \n",
    "    \"bands\":[\n",
    "        {\n",
    "            \"amplitude\":0.02512, \n",
    "            \"fc_low\":2662.5, \n",
    "            \"fc_high\":4162.5\n",
    "        }, \n",
    "        {\n",
    "            \"amplitude\":0.1, \n",
    "            \"fc_low\":4800, \n",
    "            \"fc_high\":5200\n",
    "        }, \n",
    "        {\n",
    "            \"amplitude\":0.01585, \n",
    "            \"fc_low\":5375, \n",
    "            \"fc_high\":6808.5\n",
    "        }\n",
    "    ], \n",
    "    \"name\":\"37-2bands-4769-1213-3412-1500-32dB\"\n",
    "}'''\n",
    "\n",
    "json_txt2='''{\n",
    "    \"type\":\"noise-bands\", \n",
    "    \"comment\":\"created with noiseBandMaskerDesigner\", \n",
    "    \"n_bands\":1, \n",
    "    \"bands\":{\n",
    "        \"amplitude\":0.1, \n",
    "        \"fc_low\":4800, \n",
    "        \"fc_high\":12000\n",
    "    }, \n",
    "    \"name\":\"4-hp-4800Hz\"\n",
    "}'''\n",
    "#stim_struct=json.loads(json_txt)\n",
    "\n",
    "maskingConditions=MaskingConditions.from_json_strings([json_txt, json_txt2])\n",
    "#maskingConditions.add_json_strings([json_txt])"
   ]
  },
  {
   "cell_type": "code",
   "execution_count": null,
   "metadata": {},
   "outputs": [],
   "source": [
    "#maskingConditions.get_tensor_lists()\n",
    "maskingConditions"
   ]
  },
  {
   "cell_type": "code",
   "execution_count": null,
   "metadata": {},
   "outputs": [],
   "source": [
    "pl.figure(figsize=(11,5))\n",
    "plotMaskingExcitations( BW10Func, maskingConditions)"
   ]
  },
  {
   "cell_type": "code",
   "execution_count": null,
   "metadata": {},
   "outputs": [],
   "source": [
    "t=torch.linspace(0.5, 7, 500)*1e-3\n",
    "f=lat0.f_from_t(t)\n",
    "\n",
    "sq_excs=get_sq_masking_excitation_patterns_maskCond(f, BW10Func, maskingConditions, filter_model='gaussian')\n",
    "\n",
    "pl.figure()\n",
    "for sq_exc in sq_excs:\n",
    "    pl.plot(t, np.sqrt(sq_exc))"
   ]
  },
  {
   "cell_type": "markdown",
   "metadata": {},
   "source": [
    "### Interactive plots"
   ]
  },
  {
   "cell_type": "code",
   "execution_count": null,
   "metadata": {},
   "outputs": [],
   "source": [
    "maskingConditions.set_amp0(0.5)"
   ]
  },
  {
   "cell_type": "code",
   "execution_count": null,
   "metadata": {},
   "outputs": [],
   "source": [
    "#NB: withdraw 'manual' for continuous update\n",
    "@manual_interact( BW0=widgets.IntSlider(value=500, min=100, max=2000, step=50), BW1=widgets.IntSlider(value=500, min=100, max=2000, step=50))\n",
    "def plotMaskingExcitations_interact(BW0, BW1):\n",
    "    BW10func0=constant_BW10(BW0)\n",
    "    BW10func1=constant_BW10(BW1)\n",
    "    \n",
    "    pl.figure(figsize=(12, 5))\n",
    "    axlist=plotMaskingExcitations( BW10func0, maskingConditions)\n",
    "    plotMaskingExcitations( BW10func1, maskingConditions, axlist=axlist)"
   ]
  },
  {
   "cell_type": "code",
   "execution_count": null,
   "metadata": {},
   "outputs": [],
   "source": [
    "\n",
    "@manual_interact(I0=(30, 100), I1=(30,100), BW0=widgets.IntSlider(value=500, min=100, max=2000, step=50), BW1=widgets.IntSlider(value=500, min=100, max=2000, step=50))\n",
    "def plotMaskingAmountExcitations_interact(I0, I1, BW0, BW1):\n",
    "    BW10func0=constant_BW10(BW0)\n",
    "    BW10func1=constant_BW10(BW1)\n",
    "    \n",
    "    pl.figure(figsize=(12, 5))\n",
    "    \n",
    "    maskingConditions.set_amp0_dB(I0)\n",
    "    axlist=plotMaskingAmountExcitations( BW10func0, maskingConditions, mdFunc)\n",
    "    \n",
    "    maskingConditions.set_amp0_dB(I1)\n",
    "    axlist=plotMaskingAmountExcitations( BW10func1, maskingConditions, mdFunc, axlist=axlist)"
   ]
  },
  {
   "cell_type": "code",
   "execution_count": null,
   "metadata": {},
   "outputs": [],
   "source": []
  }
 ],
 "metadata": {
  "kernelspec": {
   "display_name": "torch",
   "language": "python",
   "name": "torch"
  },
  "language_info": {
   "codemirror_mode": {
    "name": "ipython",
    "version": 3
   },
   "file_extension": ".py",
   "mimetype": "text/x-python",
   "name": "python",
   "nbconvert_exporter": "python",
   "pygments_lexer": "ipython3",
   "version": "3.8.5"
  }
 },
 "nbformat": 4,
 "nbformat_minor": 4
}
