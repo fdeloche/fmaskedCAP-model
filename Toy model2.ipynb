{
 "cells": [
  {
   "cell_type": "code",
   "execution_count": null,
   "metadata": {},
   "outputs": [],
   "source": [
    "import torch\n",
    "\n",
    "import numpy as np\n",
    "import matplotlib as mpl\n",
    "import matplotlib.pyplot as pl\n",
    "import scipy.signal as sg\n",
    "\n",
    "pl.style.use('fivethirtyeight')\n",
    "mpl.rcParams['axes.facecolor']='white'  \n",
    "mpl.rcParams['figure.facecolor'] = '1'\n",
    "\n",
    "from scipy.ndimage  import gaussian_filter1d\n",
    "\n",
    "import json\n",
    "import re\n",
    "import os\n",
    "\n",
    "#import copy"
   ]
  },
  {
   "cell_type": "code",
   "execution_count": null,
   "metadata": {},
   "outputs": [],
   "source": [
    "from masking import *\n",
    "from latencies import *\n",
    "from excitation import *\n",
    "from deconv import *\n",
    "from ur import *\n",
    "from tuning import *\n",
    "from test import *\n",
    "from ur import *\n",
    "\n",
    "from data import CAPData\n"
   ]
  },
  {
   "cell_type": "code",
   "execution_count": null,
   "metadata": {},
   "outputs": [],
   "source": [
    "from ipywidgets import interact, interactive, fixed, interact_manual\n",
    "import ipywidgets as widgets"
   ]
  },
  {
   "cell_type": "markdown",
   "metadata": {},
   "source": [
    "### Simulate CAPs"
   ]
  },
  {
   "cell_type": "code",
   "execution_count": null,
   "metadata": {},
   "outputs": [],
   "source": [
    "#masking degree function\n",
    "#mdFunc=SigmoidMaskingDegreeFunction(30, 2*1/10., requires_grad=False)\n",
    "mdFunc=WeibullCDF_IOFunc(0, 30, 7)\n",
    "#latencies\n",
    "lat0=Eggermont1976clickLatencies80dB #latencies\n",
    "\n",
    "#Unitary response\n",
    "#defined later\n",
    "#ur0Wang=URWang1979m\n",
    "#t=np.linspace(5e-4, 10e-3, num=500)\n",
    "#u00=ur0Wang.u(t-2e-3) #shift\n",
    "#sig=0.2e-3 #std of gaussian kernel in s\n",
    "#sig2=sig/(t[1]-t[0])\n",
    "#u0 = gaussian_filter1d(u00, sigma=sig2)\n",
    "#u0/=np.amax(np.abs(u0))\n",
    "#u0*=0.5*np.amax(np.abs(u00))\n",
    "\n",
    "#tuning\n",
    "BW10_0=500\n",
    "BW10Func=constant_BW10(BW10_0, requires_grad=False)\n",
    "\n",
    "plotMaskingDegreeFunc(mdFunc)\n",
    "plotLatencies(lat0)"
   ]
  },
  {
   "cell_type": "raw",
   "metadata": {},
   "source": [
    "pl.plot(t*1e3, u00, label='unitary response')\n",
    "pl.plot(t*1e3, u0, label='ur + nPSHT (blur)',  color='orange')\n",
    "pl.legend(loc='lower right')\n",
    "pl.title(\"Unitary response\")\n",
    "pl.xlabel('t (ms)')"
   ]
  },
  {
   "cell_type": "markdown",
   "metadata": {},
   "source": [
    "Example: two maskers"
   ]
  },
  {
   "cell_type": "raw",
   "metadata": {},
   "source": [
    "json_txt='''{\n",
    "    \"type\":\"noise-bands\", \n",
    "    \"comment\":\"created with noiseBandMaskerDesigner\", \n",
    "    \"n_bands\":3, \n",
    "    \"bands\":[\n",
    "        {\n",
    "            \"amplitude\":0.02512, \n",
    "            \"fc_low\":2662.5, \n",
    "            \"fc_high\":4162.5\n",
    "        }, \n",
    "        {\n",
    "            \"amplitude\":0.1, \n",
    "            \"fc_low\":4800, \n",
    "            \"fc_high\":5200\n",
    "        }, \n",
    "        {\n",
    "            \"amplitude\":0.01585, \n",
    "            \"fc_low\":5375, \n",
    "            \"fc_high\":6808.5\n",
    "        }\n",
    "    ], \n",
    "    \"name\":\"37-2bands-4769-1213-3412-1500-32dB\"\n",
    "}'''\n",
    "\n",
    "json_txt2='''{\n",
    "    \"type\":\"noise-bands\", \n",
    "    \"comment\":\"created with noiseBandMaskerDesigner\", \n",
    "    \"n_bands\":1, \n",
    "    \"bands\":{\n",
    "        \"amplitude\":0.1, \n",
    "        \"fc_low\":4800, \n",
    "        \"fc_high\":12000\n",
    "    }, \n",
    "    \"name\":\"4-hp-4800Hz\"\n",
    "}'''\n",
    "\n",
    "json_txt3='''{\n",
    "    \"type\":\"noise-bands\", \n",
    "    \"comment\":\"created with noiseBandMaskerDesigner\", \n",
    "    \"n_bands\":3, \n",
    "    \"bands\":[\n",
    "        {\n",
    "            \"amplitude\":0.010000000000000002, \n",
    "            \"fc_low\":215.9, \n",
    "            \"fc_high\":2050\n",
    "        }, \n",
    "        {\n",
    "            \"amplitude\":0.0001, \n",
    "            \"fc_low\":2050, \n",
    "            \"fc_high\":2950\n",
    "        }, \n",
    "        {\n",
    "            \"amplitude\":0.010000000000000002, \n",
    "            \"fc_low\":2950, \n",
    "            \"fc_high\":12000\n",
    "        }\n",
    "    ], \n",
    "    \"name\":\"2-notch2500-bw900\"\n",
    "}'''\n",
    "\n",
    "\n",
    "json_txt4='''{\n",
    "    \"type\":\"noise-bands\", \n",
    "    \"comment\":\"created with noiseBandMaskerDesigner\", \n",
    "    \"n_bands\":3, \n",
    "    \"bands\":[\n",
    "        {\n",
    "            \"amplitude\":0.1, \n",
    "            \"fc_low\":215.9, \n",
    "            \"fc_high\":4450\n",
    "        }, \n",
    "        {\n",
    "            \"amplitude\":0.001, \n",
    "            \"fc_low\":4450, \n",
    "            \"fc_high\":5550\n",
    "        }, \n",
    "        {\n",
    "            \"amplitude\":0.1, \n",
    "            \"fc_low\":5550, \n",
    "            \"fc_high\":12000\n",
    "        }\n",
    "    ], \n",
    "    \"name\":\"6-notch5000-bw1100\" \n",
    "}'''\n",
    "#stim_struct=json.loads(json_txt)\n",
    "\n",
    "maskingConditions=MaskingConditions.from_json_strings([json_txt, json_txt2, json_txt3, json_txt4])\n",
    "#maskingConditions.add_json_strings([json_txt])"
   ]
  },
  {
   "cell_type": "raw",
   "metadata": {},
   "source": [
    "#maskingConditions.get_tensor_lists()\n",
    "maskingConditions"
   ]
  },
  {
   "cell_type": "raw",
   "metadata": {},
   "source": [
    "pl.figure(figsize=(11,10))\n",
    "plotMaskingExcitations( BW10Func, maskingConditions)"
   ]
  },
  {
   "cell_type": "raw",
   "metadata": {},
   "source": [
    "maskingConditions.set_amp0_dB(60)"
   ]
  },
  {
   "cell_type": "raw",
   "metadata": {},
   "source": [
    "t=torch.linspace(0.5, 7, 500)*1e-3\n",
    "\n",
    "#E0=t>1e-3\n",
    "\n",
    "#E=ExcitationPatterns(t, E0)\n",
    "\n",
    "E=ExcitationPatterns.GammaExcitation(t, 1, 1.5, 1/(2e-3), 1e-3)\n",
    "\n",
    "plotExcitationPatterns(E)\n",
    "\n",
    "pl.figure(figsize=(12, 10))\n",
    "\n",
    "E.set_masking_model(lat0, BW10Func, maskingConditions, mdFunc, filter_model='gaussian')\n",
    "\n",
    "#maskingAmount, ex_patterns=E.get_tensors()\n",
    "plotExcitationPatterns(E, plot_raw_excitation=False)"
   ]
  },
  {
   "cell_type": "code",
   "execution_count": null,
   "metadata": {},
   "outputs": [],
   "source": [
    "#UR\n",
    "#t2=np.linspace()\n",
    "t=np.linspace(0.5, 7, 500)*1e-3\n",
    "\n",
    "\n",
    "urWang=URWang1979shifted.u(t+0.5e-3)\n",
    "urWangm = URWang1979m.u(t-1.5e-3)\n",
    "\n",
    "dt=t[1]-t[0]\n",
    "ur00Wang=gaussian_filter1d(urWang, 2e-4/dt)\n",
    "ur0Wang=gaussian_filter1d(urWangm, 2e-4/dt)\n",
    "\n",
    "pl.figure()\n",
    "pl.title('Examples of unitary responses')\n",
    "pl.plot(t*1e3, urWang, label='Wang')\n",
    "pl.plot(t*1e3, urWangm, label='Wang modified')\n",
    "\n",
    "pl.plot(t*1e3, ur00Wang, label='Wang + gaussian blur')\n",
    "pl.plot(t*1e3, ur0Wang, label='Wang m + gaussian blur')\n",
    "pl.legend()\n",
    "pl.xlabel('t (ms)')\n",
    "\n",
    "u0=ur0Wang"
   ]
  },
  {
   "cell_type": "raw",
   "metadata": {},
   "source": [
    "#CAP\n",
    "\n",
    "pl.figure(figsize=(12, 10))\n",
    "plotSimulatedCAPs(E, u0)"
   ]
  },
  {
   "cell_type": "markdown",
   "metadata": {},
   "source": [
    "### Interactive plots"
   ]
  },
  {
   "cell_type": "raw",
   "metadata": {},
   "source": [
    "#NB: withdraw 'manual' for continuous update\n",
    "@interact_manual( BW0=widgets.IntSlider(value=500, min=100, max=2000, step=50), BW1=widgets.IntSlider(value=500, min=100, max=2000, step=50))\n",
    "def plotMaskingExcitations_interact(BW0, BW1):\n",
    "    BW10func0=constant_BW10(BW0)\n",
    "    BW10func1=constant_BW10(BW1)\n",
    "    \n",
    "    pl.figure(figsize=(12, 10))\n",
    "    axlist=plotMaskingExcitations( BW10func0, maskingConditions)\n",
    "    plotMaskingExcitations( BW10func1, maskingConditions, axlist=axlist)"
   ]
  },
  {
   "cell_type": "raw",
   "metadata": {},
   "source": [
    "\n",
    "@interact(I0=(30, 100), I1=(30,100), BW0=widgets.IntSlider(value=500, min=100, max=2000, step=50), BW1=widgets.IntSlider(value=500, min=100, max=2000, step=50))\n",
    "def plotMaskingAmountExcitations_interact(I0, I1, BW0, BW1):\n",
    "    BW10func0=constant_BW10(BW0)\n",
    "    BW10func1=constant_BW10(BW1)\n",
    "    \n",
    "    pl.figure(figsize=(12, 10))\n",
    "    \n",
    "    maskingConditions.set_amp0_dB(I0)\n",
    "    \n",
    "    axlist=plotMaskingAmountExcitations( BW10func0, maskingConditions, mdFunc)\n",
    "    \n",
    "    maskingConditions.set_amp0_dB(I1)\n",
    "    axlist=plotMaskingAmountExcitations( BW10func1, maskingConditions, mdFunc, axlist=axlist)"
   ]
  },
  {
   "cell_type": "raw",
   "metadata": {},
   "source": [
    "\n",
    "@interact(I0=(30, 100), I1=(30,100), BW0=widgets.IntSlider(value=500, min=100, max=2000, step=50), BW1=widgets.IntSlider(value=500, min=100, max=2000, step=50))\n",
    "def plotExcitationPatterns_interact(I0, I1, BW0, BW1):\n",
    "    BW10func0=constant_BW10(BW0)\n",
    "    BW10func1=constant_BW10(BW1)\n",
    "    \n",
    "    t=torch.linspace(0.5, 7, 500)*1e-3\n",
    "\n",
    "    E0=t>1e-3\n",
    "\n",
    "    \n",
    "    E_0=ExcitationPatterns.copyRaw(E)\n",
    "    \n",
    "    E_1=ExcitationPatterns.copyRaw(E)\n",
    "\n",
    "    pl.figure(figsize=(12, 10))\n",
    "    \n",
    "    maskingConditions.set_amp0_dB(I0)\n",
    "    \n",
    "    E_0.set_masking_model(lat0, BW10func0, maskingConditions, mdFunc, filter_model='gaussian')\n",
    "    axlist=plotExcitationPatterns(E_0)\n",
    "    \n",
    "    maskingConditions.set_amp0_dB(I1)\n",
    "    \n",
    "    E_1.set_masking_model(lat0, BW10func1, maskingConditions, mdFunc, filter_model='gaussian')\n",
    "    axlist=plotExcitationPatterns(E_1, axlist=axlist)\n",
    "    "
   ]
  },
  {
   "cell_type": "raw",
   "metadata": {},
   "source": [
    "\n",
    "@interact(I0=(30, 100), I1=(30,100), BW0=widgets.IntSlider(value=500, min=100, max=2000, step=50), BW1=widgets.IntSlider(value=500, min=100, max=2000, step=50))\n",
    "def plotSimulatedCAPs_interact(I0, I1, BW0, BW1):\n",
    "    BW10func0=constant_BW10(BW0)\n",
    "    BW10func1=constant_BW10(BW1)\n",
    "    \n",
    "    t=torch.linspace(0.5, 7, 500)*1e-3\n",
    "\n",
    "\n",
    "    \n",
    "    E_0=ExcitationPatterns.copyRaw(E)\n",
    "    E_1=ExcitationPatterns.copyRaw(E)\n",
    "\n",
    "    pl.figure(figsize=(12, 10))\n",
    "    \n",
    "    maskingConditions.set_amp0_dB(I0)\n",
    "    \n",
    "    E_0.set_masking_model(lat0, BW10func0, maskingConditions, mdFunc, filter_model='gaussian')\n",
    "    axlist=plotSimulatedCAPs(E_0, u0, shift=0.7e-3)\n",
    "    \n",
    "    maskingConditions.set_amp0_dB(I1)\n",
    "    \n",
    "    E_1.set_masking_model(lat0, BW10func1, maskingConditions, mdFunc, filter_model='gaussian')\n",
    "    axlist=plotSimulatedCAPs(E_1, u0, axlist=axlist, shift=0.7e-3)\n",
    "    "
   ]
  },
  {
   "cell_type": "markdown",
   "metadata": {},
   "source": [
    "### Test data"
   ]
  },
  {
   "cell_type": "code",
   "execution_count": null,
   "metadata": {},
   "outputs": [],
   "source": [
    "data_folder='./Data/Data-10-09/matFiles'\n",
    "\n",
    "listFiles = os.listdir(data_folder)\n",
    "\n",
    "listFilesMat=[]\n",
    "\n",
    "for filename in listFiles:\n",
    "    if re.match('.*.mat', filename):\n",
    "        listFilesMat.append(filename)\n",
    "listFilesMat.sort()"
   ]
  },
  {
   "cell_type": "code",
   "execution_count": null,
   "metadata": {},
   "outputs": [],
   "source": [
    "#filter name\n",
    "import re\n",
    "\n",
    "filtered_filenames=[]\n",
    "for filename in listFilesMat:\n",
    "    includeFile=False\n",
    "    for m in re.finditer(r'\\d{4}', filename):\n",
    "        if np.abs(int(m.group(0))-5000)<1200:\n",
    "            includeFile=True\n",
    "    m2 = re.match(r'.*hp', filename)\n",
    "    if m2:\n",
    "        includeFile=True\n",
    "    m3= re.match(r'.*broadband', filename)\n",
    "    if m3:\n",
    "        includeFile=True\n",
    "    m4=re.match(r'.*5k', filename)\n",
    "    if m4:\n",
    "        includeFile=True\n",
    "    if includeFile:\n",
    "        filtered_filenames.append(filename)"
   ]
  },
  {
   "cell_type": "code",
   "execution_count": null,
   "metadata": {},
   "outputs": [],
   "source": [
    "capData=CAPData(data_folder, filtered_filenames, begin_ind=175, end_ind=912)"
   ]
  },
  {
   "cell_type": "raw",
   "metadata": {},
   "source": [
    "#ex plot batch\n",
    "batch_gen = capData.batch_generator(4)\n",
    "pl.figure(figsize=(11,10))\n",
    "batch=next(batch_gen)\n",
    "maskerNames, maskingConditions, CAPsignals=batch\n",
    "plotMaskingExcitations( BW10Func, maskingConditions)"
   ]
  },
  {
   "cell_type": "markdown",
   "metadata": {},
   "source": [
    "### Simulate CAP with existing maskers"
   ]
  },
  {
   "cell_type": "code",
   "execution_count": null,
   "metadata": {},
   "outputs": [],
   "source": [
    "#masking amount\n",
    "\n",
    "maskingConditions=capData.maskingConditions\n",
    "I0=60\n",
    "maskingConditions.set_amp0_dB(I0)\n",
    "\n",
    "\n",
    "pl.figure(figsize=(8, 20))\n",
    "\n",
    "plotMaskingAmountExcitations( BW10Func, maskingConditions, mdFunc, reg_ex='(.*notch5k)')\n",
    "pl.show()"
   ]
  },
  {
   "cell_type": "code",
   "execution_count": null,
   "metadata": {},
   "outputs": [],
   "source": [
    "\n",
    "\n",
    "#t=torch.tensor(capData.t)\n",
    "\n",
    "t=torch.linspace(0.5, 12, 500)*1e-3\n",
    "\n",
    "E=ExcitationPatterns.GammaExcitation(t, 1, 1.5, 1/(2e-3), 1e-3)\n",
    "E.apply_Tukey_window(0.3)\n",
    "\n",
    "pl.figure()\n",
    "\n",
    "\n",
    "plotExcitationPatterns(E)\n",
    "pl.show()\n",
    "\n",
    "pl.figure(figsize=(10, 20))\n",
    "\n",
    "E.set_masking_model(lat0, BW10Func, maskingConditions, mdFunc, filter_model='gaussian')\n",
    "\n",
    "#maskingAmount, ex_patterns=E.get_tensors()\n",
    "plotExcitationPatterns(E, plot_raw_excitation=False, reg_ex='(.*broadband)|(.*hp)')\n",
    "pl.show()"
   ]
  },
  {
   "cell_type": "code",
   "execution_count": null,
   "metadata": {},
   "outputs": [],
   "source": [
    "\n",
    "pl.figure(figsize=(12, 10))\n",
    "plotSimulatedCAPs(E, u0,  shift=0.7e-3, ylim=[-6, 6], reg_ex='(.*hp)', max_plots=8)\n",
    "pl.show()"
   ]
  },
  {
   "cell_type": "markdown",
   "metadata": {},
   "source": [
    "### Estimation of parameters"
   ]
  },
  {
   "cell_type": "markdown",
   "metadata": {},
   "source": [
    "Empirical estimation of IO curve"
   ]
  },
  {
   "cell_type": "code",
   "execution_count": null,
   "metadata": {},
   "outputs": [],
   "source": [
    "reg_ex='(.*notch)|(.*broadband)'\n",
    "u=u0\n",
    "excs = E.get_tensor() \n",
    "for i, exc in zip(range(maskingConditions.n_conditions), excs):\n",
    "    if not reg_ex is None:\n",
    "        if not(re.match(reg_ex, maskingConditions.names[i])):\n",
    "            continue \n",
    "    exc_np = exc.detach().numpy()\n",
    "    CAP=np.convolve(exc_np, u, mode='full')\n",
    "    maxValue=np.amax(CAP)\n",
    "    minValue=np.amin(CAP)\n",
    "    print(f'{maskingConditions.names[i]} amp : {maxValue-minValue}')"
   ]
  },
  {
   "cell_type": "code",
   "execution_count": null,
   "metadata": {},
   "outputs": [],
   "source": [
    "attn_amp=[(20, 1.78), (31, 4.3), (55, 9.4), (37, 8), (40, 8.9), (28, 1.98), (34, 6.50), (45, 9.3), (50, 9.45), (22, 1.77), (25, 1.74)]"
   ]
  },
  {
   "cell_type": "code",
   "execution_count": null,
   "metadata": {},
   "outputs": [],
   "source": [
    "attns, amps= zip(*attn_amp)\n",
    "attns=np.array(attns)\n",
    "amps=np.array(amps)\n",
    "inds=np.argsort(attns)\n",
    "amps=amps[inds]\n",
    "attns=attns[inds]\n",
    "Is=I0-attns\n",
    "mask_amount=1-(amps-np.amin(amps))/(np.amax(amps)-np.amin(amps))\n",
    "\n",
    "\n",
    "wbcdf=WeibullCDF_IOFunc()\n",
    "wbcdf.fit_data(Is, mask_amount)\n",
    "\n",
    "pl.title('IO curve')\n",
    "pl.plot(Is, mask_amount, label='empirical')\n",
    "I=torch.linspace(5, 50, steps=50)\n",
    "pl.plot(I, wbcdf(I), label='fitted')\n",
    "pl.plot(I, mdFunc(I), label='ground truth')\n",
    "pl.xlabel('I (dB)')\n",
    "pl.ylabel('Masking amount')\n",
    "pl.legend()"
   ]
  },
  {
   "cell_type": "markdown",
   "metadata": {},
   "source": [
    "Estimation of latencies"
   ]
  },
  {
   "cell_type": "code",
   "execution_count": null,
   "metadata": {},
   "outputs": [],
   "source": [
    "f_lat=[(4500, 2.5), (4000, 2.75), (1000, 6), (9000, 1.8), (1500, 4.7), (5000, 2.4), (5500, 2.25), (2500, 3.4), (2000, 3.9)]"
   ]
  },
  {
   "cell_type": "code",
   "execution_count": null,
   "metadata": {},
   "outputs": [],
   "source": [
    "fs, lats= zip(*f_lat)\n",
    "fs=np.array(fs)\n",
    "lats=np.array(lats)*1e-3\n",
    "inds=np.argsort(lats)\n",
    "lats=lats[inds]\n",
    "fs=fs[inds]\n",
    "\n",
    "t=torch.linspace(1.4, 12, 500)*1e-3\n",
    "\n",
    "lat=PowerLawLatencies()\n",
    "lat.fit_data(lats, fs)\n",
    "\n",
    "pl.title('Latencies')\n",
    "pl.plot(lats*1e3, fs, label='empirical')\n",
    "pl.plot(t*1e3, lat0.f_from_t(t), label='ground truth')\n",
    "pl.plot(t*1e3, lat.f_from_t(t), label='fitted')\n",
    "pl.xlabel('t (ms)')\n",
    "pl.ylabel('f')\n",
    "pl.legend()"
   ]
  },
  {
   "cell_type": "code",
   "execution_count": null,
   "metadata": {},
   "outputs": [],
   "source": [
    "#get CAP signals\n",
    "sig_CAP_noise=0.3\n",
    "\n",
    "u=u0\n",
    "excs = E.get_tensor()\n",
    "CAP_arr_list=[]\n",
    "\n",
    "shift=0\n",
    "\n",
    "t=E.t.numpy()\n",
    "ind_time=np.sum(t<(t[0]+shift))\n",
    "            \n",
    "for i, exc in zip(range(maskingConditions.n_conditions), excs):\n",
    "    exc_np = exc.detach().numpy()\n",
    "    CAP=np.convolve(exc_np, u, mode='full')\n",
    "    if i==0:\n",
    "        ind_time=min(ind_time, len(CAP)-len(E.t))\n",
    "    CAP=CAP[ind_time:ind_time+len(E.t)]\n",
    "    CAP_arr_list.append(CAP)\n",
    "    \n",
    "CAPs0=np.stack(CAP_arr_list, axis=0)\n",
    "\n",
    "CAPs0_noisy=CAPs0+sig_CAP_noise*np.random.randn(*np.shape(CAPs0))\n",
    "\n",
    "pl.figure(figsize=(12, 3))\n",
    "plotSimulatedCAPs(E, CAParray=CAPs0_noisy ,shift=0.7e-3, ylim=[-6, 6], max_plots=2, title='Noisy simulated CAPs') #reg_ex='(.*hp)', \n",
    "pl.show()"
   ]
  },
  {
   "cell_type": "code",
   "execution_count": null,
   "metadata": {},
   "outputs": [],
   "source": [
    "#make a guess on raw excitation pattern\n",
    "E1=ExcitationPatterns.GammaExcitation(t, 1, 3, 1/(1e-3), 0.4e-3)\n",
    "\n",
    "plotExcitationPatterns(E1)"
   ]
  },
  {
   "cell_type": "markdown",
   "metadata": {},
   "source": [
    "#### Non-blind deconvolution"
   ]
  },
  {
   "cell_type": "code",
   "execution_count": null,
   "metadata": {},
   "outputs": [],
   "source": [
    "CAPs_f=np.zeros_like(CAPs0_noisy)\n",
    "window=sg.tukey(np.shape(CAPs0_noisy)[1], alpha=0.2)\n",
    "for i in range(maskingConditions.n_conditions):\n",
    "    #window signal (tuckey window)\n",
    "    CAP_w=window*CAPs0_noisy[i]\n",
    "    CAPs_f[i]=sg.wiener(CAP_w)\n",
    "    #low pass (gaussian kernel to simplify for now)\n",
    "    sig_f=0.2e-3 #in s\n",
    "    dt=(t[1]-t[0])\n",
    "    sig_f=sig_f/dt\n",
    "    CAPs_f[i]=gaussian_filter1d(CAPs_f[i], sigma=sig_f)\n",
    "    \n",
    "pl.figure(figsize=(12, 3))\n",
    "axs= plotSimulatedCAPs(E, CAParray=CAPs0_noisy,shift=0.7e-3, ylim=[-6, 6], max_plots=2) #reg_ex='(.*hp)', \n",
    "plotSimulatedCAPs(E, CAParray=CAPs_f,shift=0.7e-3, ylim=[-6, 6], max_plots=2, axlist=axs, title='Noisy simulated CAPs + filtered CAPs')\n",
    "pl.show()"
   ]
  },
  {
   "cell_type": "code",
   "execution_count": null,
   "metadata": {},
   "outputs": [],
   "source": [
    "#deconvs\n",
    "\n",
    "#given u\n",
    "u_fft=np.fft.rfft(u0)\n",
    "EP_deconv=np.zeros_like(CAPs_f)\n",
    "for i in range(maskingConditions.n_conditions):\n",
    "    CAP_fft=np.fft.rfft(CAPs_f[i])\n",
    "    EP_fft=CAP_fft/u_fft\n",
    "    EP_deconv[i]=np.fft.irfft(EP_fft)\n",
    "    \n",
    "#given EPs\n",
    "EPs0=E.get_tensor().detach().numpy()\n",
    "u_deconv=np.zeros_like(CAPs_f)\n",
    "for i in range(maskingConditions.n_conditions):\n",
    "    CAP_fft=np.fft.rfft(CAPs_f[i])\n",
    "    EP_fft=np.fft.rfft(EPs0[i])\n",
    "    u_fft=CAP_fft/EP_fft\n",
    "    u_deconv[i]=np.fft.irfft(u_fft)\n",
    "    \n",
    "EP_deconv0=np.copy(EP_deconv)\n",
    "u_deconv0=np.copy(u_deconv)"
   ]
  },
  {
   "cell_type": "code",
   "execution_count": null,
   "metadata": {},
   "outputs": [],
   "source": [
    "def plotMatrices(X, X_ref, title='', max_plots=6):\n",
    "    pl.figure(figsize=(12, 5))\n",
    "    pl.suptitle(title)\n",
    "    m=maskingConditions.n_conditions\n",
    "    m=min(m, max_plots)\n",
    "    nb_col=(m+1)//2 if m<=12 else (m+2)//3\n",
    "    nb_row=(m+nb_col-1)//nb_col\n",
    "    for i in range(m):\n",
    "        ind=i+1\n",
    "        pl.subplot(nb_row, nb_col, ind)\n",
    "        pl.plot(t*1e3, X_ref[i])\n",
    "        pl.plot(t*1e3, X[i])\n",
    "        pl.xlabel('t (ms)')\n",
    "        pl.gca().get_yaxis().set_visible(False)\n",
    "    pl.tight_layout()\n",
    "    pl.show()\n",
    "    "
   ]
  },
  {
   "cell_type": "code",
   "execution_count": null,
   "metadata": {},
   "outputs": [],
   "source": [
    "EPs0=E.get_tensor().detach().numpy()\n",
    "plotMatrices(EP_deconv0, EPs0, title='Test deconv of EPs (if u is known), before proj')"
   ]
  },
  {
   "cell_type": "code",
   "execution_count": null,
   "metadata": {},
   "outputs": [],
   "source": [
    "u0_mat=np.tile(u0, (maskingConditions.n_conditions, 1))\n",
    "plotMatrices(u_deconv0, u0_mat, title='Test deconv of u (if EPs are known), before proj')"
   ]
  },
  {
   "cell_type": "markdown",
   "metadata": {},
   "source": [
    "Test projection of estimated excitation patterns with and without intercept (nonmaskable part)  (NB: it'd be possible to add a regularity prior)"
   ]
  },
  {
   "cell_type": "code",
   "execution_count": null,
   "metadata": {},
   "outputs": [],
   "source": [
    "# with gradient descent (/Newton algorithm) + projs\n",
    "#given u\n",
    "u_fft=np.fft.rfft(u0)\n",
    "\n",
    "EP1=ExcitationPatterns.copyRaw(E1)\n",
    "\n",
    "EP1.set_masking_model(lat0, BW10Func, maskingConditions, mdFunc, filter_model='gaussian')  #same params as generation of CAPs\n",
    "\n",
    "#EP1.set_masking_model(lat0, BW10Func, maskingConditions, wbcdf, filter_model='gaussian')  #estimated params for IO curve\n",
    "\n",
    "\n",
    "\n",
    "nb_steps=6\n",
    "alpha=np.linspace(0.6, 0.1, nb_steps)\n",
    "u_fft=np.fft.rfft(u0)\n",
    "CAPs_fft=np.fft.rfft(CAPs_f, axis=1)\n",
    "proj_EPs=EP1.get_projector(intercept=True)\n",
    "proj_EPs_wo_intercept=EP1.get_projector(intercept=False)\n",
    "\n",
    "#init:deconv\n",
    "#EP_deconv=np.copy(EP_deconv0)\n",
    "#EP_deconv_wo_i=np.copy(EP_deconv0)\n",
    "\n",
    "#init EP1\n",
    "EP_deconv=EP1.get_tensor().numpy()\n",
    "EP_deconv_wo_i=EP1.get_tensor().numpy()\n",
    "EP1_wo_i_E0=EP1.E0_maskable\n",
    "\n",
    "for i in range(1, nb_steps+1):\n",
    "    if i%2==1:\n",
    "        pass\n",
    "        #plotMatrices(EP_deconv, EPs0, title=f'Test deconv of EPs (u is known) w/ grad. descent step {i}')\n",
    "        '''\n",
    "        pl.figure()\n",
    "        pl.title(f'Step {i-1}')\n",
    "        pl.plot(t, E.E0_maskable, label='E0 ground truth')\n",
    "        pl.plot(t, EP1_wo_i_E0, label='E0 wo int. (estimated)')\n",
    "        pl.legend()\n",
    "        pl.show()\n",
    "        '''\n",
    "    dEP=deconv_newton_step(EP_deconv, u_fft, CAPs_fft)\n",
    "    dEP_wo_i=deconv_newton_step(EP_deconv_wo_i, u_fft, CAPs_fft)\n",
    "    EP_deconv-=alpha[i-1]*dEP\n",
    "    EP_deconv_wo_i-=alpha[i-1]*dEP_wo_i\n",
    "    #proj\n",
    "    #from doc\n",
    "    #intercept: if True, the function returned will return a nested tuple\n",
    "    #( (E0_maskable, E0_nonmaskable), E0_nonmaskable+ (1-M) E0_maskable \n",
    "    # else it will return (E0, (1-M) E0)\n",
    "    \n",
    "    tup, EP_deconv=proj_EPs(EP_deconv)\n",
    "    EP1_wo_i_E0, EP_deconv_wo_i =proj_EPs_wo_intercept(EP_deconv_wo_i)\n",
    "\n",
    "    EP1_E0_m, EP1_E0_nm = tup \n",
    "plotMatrices(EP_deconv_wo_i, EPs0, title=f'Test deconv of EPs (u is known) w/ grad. descent + proj (wo intercept)')\n",
    "\n",
    "plotMatrices(EP_deconv, EPs0, title=f'Test deconv of EPs (u is known) w/ grad. descent + proj, (w/ intercept)')\n",
    "\n",
    "\n",
    "\n",
    "pl.figure()\n",
    "pl.plot(t, E.E0_maskable, label='E0 ground truth')\n",
    "pl.plot(t, EP1_wo_i_E0, label='E0 wo int. (estimated)')\n",
    "\n",
    "pl.plot(t, EP1_E0_m, label='E0 w int., maskable (estimated)')\n",
    "pl.plot(t, EP1_E0_nm, label='E0 w int., non maskable (estimated)')\n",
    "pl.legend()\n",
    "pl.show()\n",
    "\n"
   ]
  },
  {
   "cell_type": "code",
   "execution_count": null,
   "metadata": {},
   "outputs": [],
   "source": [
    "#given EPs\n",
    "nb_steps=15\n",
    "alpha=np.linspace(0.6, 0.1, nb_steps)\n",
    "#other EP\n",
    "#capSimulator1 = ConvolutionCAPSimulatorSingleFilterModel(lat0, gf0, EP1, md, mcs, ur=u0)\n",
    "#EPs1=capSimulator1.getEPs()\n",
    "#EPs_fft=np.fft.rfft(EPs1, axis=1)\n",
    "EPs_fft=np.fft.rfft(EPs0, axis=1)\n",
    "#u0_mat=np.tile(u0, (maskingConditions.n_conditions, 1))\n",
    "u1_mat=np.zeros_like(CAPs_f)\n",
    "filter_mat = t>6e-3\n",
    "filter_mat=np.tile(filter_mat, (maskingConditions.n_conditions, 1))\n",
    "for i in range(1, nb_steps+1):\n",
    "    du=deconv_newton_step(u1_mat, EPs_fft, CAPs_fft)\n",
    "    u1_mat-=alpha[i-1]*du\n",
    "    #proj 1 \n",
    "    u1_mat[filter_mat]=np.zeros_like(u1_mat[filter_mat])\n",
    "    #proj 2\n",
    "    u1_mat_mean=np.mean(u1_mat, axis=0)[None, :]\n",
    "    u1_mat=np.repeat(u1_mat_mean, maskingConditions.n_conditions, axis=0)\n",
    "    if i==nb_steps:\n",
    "        pl.figure()\n",
    "        pl.title(f'Step {i} (deconv + proj, EPs are known)')\n",
    "        pl.plot(t, u0, label='u0 (truth)')\n",
    "        pl.plot(t, u1_mat[0], label='u0 (estimated)')\n",
    "        pl.legend()\n",
    "        pl.show()"
   ]
  },
  {
   "cell_type": "code",
   "execution_count": null,
   "metadata": {},
   "outputs": [],
   "source": []
  }
 ],
 "metadata": {
  "kernelspec": {
   "display_name": "torch",
   "language": "python",
   "name": "torch"
  },
  "language_info": {
   "codemirror_mode": {
    "name": "ipython",
    "version": 3
   },
   "file_extension": ".py",
   "mimetype": "text/x-python",
   "name": "python",
   "nbconvert_exporter": "python",
   "pygments_lexer": "ipython3",
   "version": "3.8.5"
  }
 },
 "nbformat": 4,
 "nbformat_minor": 4
}
