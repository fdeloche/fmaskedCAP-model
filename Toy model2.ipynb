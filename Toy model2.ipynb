{
 "cells": [
  {
   "cell_type": "code",
   "execution_count": null,
   "metadata": {},
   "outputs": [],
   "source": [
    "import torch\n",
    "\n",
    "import numpy as np\n",
    "import matplotlib as mpl\n",
    "import matplotlib.pyplot as pl\n",
    "import scipy.signal as sg\n",
    "\n",
    "pl.style.use('fivethirtyeight')\n",
    "mpl.rcParams['axes.facecolor']='white'  \n",
    "mpl.rcParams['figure.facecolor'] = '1'\n",
    "\n",
    "from scipy.ndimage  import gaussian_filter1d\n",
    "\n",
    "import json"
   ]
  },
  {
   "cell_type": "code",
   "execution_count": null,
   "metadata": {},
   "outputs": [],
   "source": [
    "from masking import *\n",
    "from latencies import *\n",
    "from excitation import *\n",
    "from deconv import *\n",
    "from ur import *\n",
    "from tuning import *"
   ]
  },
  {
   "cell_type": "markdown",
   "metadata": {},
   "source": [
    "### Simulate CAPs"
   ]
  },
  {
   "cell_type": "code",
   "execution_count": null,
   "metadata": {},
   "outputs": [],
   "source": [
    "#masking degree function\n",
    "mdFunc=SigmoidMaskingDegreeFunction(30, 2*1/15., requires_grad=False)\n",
    "\n",
    "#latencies\n",
    "lat0=Eggermont1976clickLatencies80dB #latencies\n",
    "\n",
    "#Unitary response\n",
    "ur0=URWang1979m\n",
    "t=np.linspace(5e-4, 10e-3, num=500)\n",
    "u00=ur0.u(t-2e-3) #shift\n",
    "sig=0.2e-3 #std of gaussian kernel in s\n",
    "sig2=sig/(t[1]-t[0])\n",
    "u0 = gaussian_filter1d(u00, sigma=sig2)\n",
    "u0/=np.amax(np.abs(u0))\n",
    "u0*=0.5*np.amax(np.abs(u00))\n",
    "\n",
    "#tuning\n",
    "BW10_0=500\n",
    "BW10Func=constant_BW10(BW10_0, requires_grad=False)\n",
    "\n",
    "plotMaskingDegreeFunc(mdFunc)\n",
    "plotLatencies(lat0)"
   ]
  },
  {
   "cell_type": "code",
   "execution_count": null,
   "metadata": {},
   "outputs": [],
   "source": [
    "pl.plot(t*1e3, u00, label='unitary response')\n",
    "pl.plot(t*1e3, u0, label='ur + nPSHT (blur)',  color='orange')\n",
    "pl.legend(loc='lower right')\n",
    "pl.title(\"Unitary response\")\n",
    "pl.xlabel('t (ms)')"
   ]
  },
  {
   "cell_type": "markdown",
   "metadata": {},
   "source": [
    "Example: one masker"
   ]
  },
  {
   "cell_type": "code",
   "execution_count": null,
   "metadata": {},
   "outputs": [],
   "source": [
    "json_txt='''{\n",
    "    \"type\":\"noise-bands\", \n",
    "    \"comment\":\"created with noiseBandMaskerDesigner\", \n",
    "    \"n_bands\":3, \n",
    "    \"bands\":[\n",
    "        {\n",
    "            \"amplitude\":0.02512, \n",
    "            \"fc_low\":2662.5, \n",
    "            \"fc_high\":4162.5\n",
    "        }, \n",
    "        {\n",
    "            \"amplitude\":0.1, \n",
    "            \"fc_low\":4162.5, \n",
    "            \"fc_high\":5375\n",
    "        }, \n",
    "        {\n",
    "            \"amplitude\":0.01585, \n",
    "            \"fc_low\":5375, \n",
    "            \"fc_high\":6808.5\n",
    "        }\n",
    "    ], \n",
    "    \"name\":\"37-2bands-4769-1213-3412-1500-32dB\"\n",
    "}'''\n",
    "\n",
    "stim_struct=json.loads(json_txt)"
   ]
  },
  {
   "cell_type": "code",
   "execution_count": null,
   "metadata": {},
   "outputs": [],
   "source": [
    "def "
   ]
  },
  {
   "cell_type": "code",
   "execution_count": null,
   "metadata": {},
   "outputs": [],
   "source": []
  }
 ],
 "metadata": {
  "kernelspec": {
   "display_name": "torch",
   "language": "python",
   "name": "torch"
  },
  "language_info": {
   "codemirror_mode": {
    "name": "ipython",
    "version": 3
   },
   "file_extension": ".py",
   "mimetype": "text/x-python",
   "name": "python",
   "nbconvert_exporter": "python",
   "pygments_lexer": "ipython3",
   "version": "3.8.5"
  }
 },
 "nbformat": 4,
 "nbformat_minor": 4
}
