{
 "cells": [
  {
   "cell_type": "code",
   "execution_count": null,
   "metadata": {},
   "outputs": [],
   "source": [
    "import torch\n",
    "\n",
    "import numpy as np\n",
    "import matplotlib as mpl\n",
    "import matplotlib.pyplot as pl\n",
    "import scipy.signal as sg\n",
    "\n",
    "pl.style.use('fivethirtyeight')\n",
    "mpl.rcParams['axes.facecolor']='white'  \n",
    "mpl.rcParams['figure.facecolor'] = '1'\n",
    "\n",
    "from scipy.ndimage  import gaussian_filter1d\n",
    "\n",
    "import json"
   ]
  },
  {
   "cell_type": "code",
   "execution_count": null,
   "metadata": {},
   "outputs": [],
   "source": [
    "from masking import *\n",
    "from latencies import *\n",
    "from excitation import *\n",
    "from deconv import *\n",
    "from ur import *\n",
    "from tuning import *\n",
    "from test import *\n",
    "from ur import *"
   ]
  },
  {
   "cell_type": "code",
   "execution_count": null,
   "metadata": {},
   "outputs": [],
   "source": [
    "from ipywidgets import interact, interactive, fixed, interact_manual\n",
    "import ipywidgets as widgets"
   ]
  },
  {
   "cell_type": "markdown",
   "metadata": {},
   "source": [
    "### Simulate CAPs"
   ]
  },
  {
   "cell_type": "code",
   "execution_count": null,
   "metadata": {},
   "outputs": [],
   "source": [
    "#masking degree function\n",
    "#mdFunc=SigmoidMaskingDegreeFunction(30, 2*1/10., requires_grad=False)\n",
    "mdFunc=WeibullCDF_IOFunc(0, 30, 7)\n",
    "#latencies\n",
    "lat0=Eggermont1976clickLatencies80dB #latencies\n",
    "\n",
    "#Unitary response\n",
    "ur0=URWang1979m\n",
    "t=np.linspace(5e-4, 10e-3, num=500)\n",
    "u00=ur0.u(t-2e-3) #shift\n",
    "sig=0.2e-3 #std of gaussian kernel in s\n",
    "sig2=sig/(t[1]-t[0])\n",
    "u0 = gaussian_filter1d(u00, sigma=sig2)\n",
    "u0/=np.amax(np.abs(u0))\n",
    "u0*=0.5*np.amax(np.abs(u00))\n",
    "\n",
    "#tuning\n",
    "BW10_0=500\n",
    "BW10Func=constant_BW10(BW10_0, requires_grad=False)\n",
    "\n",
    "plotMaskingDegreeFunc(mdFunc)\n",
    "plotLatencies(lat0)"
   ]
  },
  {
   "cell_type": "code",
   "execution_count": null,
   "metadata": {},
   "outputs": [],
   "source": [
    "pl.plot(t*1e3, u00, label='unitary response')\n",
    "pl.plot(t*1e3, u0, label='ur + nPSHT (blur)',  color='orange')\n",
    "pl.legend(loc='lower right')\n",
    "pl.title(\"Unitary response\")\n",
    "pl.xlabel('t (ms)')"
   ]
  },
  {
   "cell_type": "markdown",
   "metadata": {},
   "source": [
    "Example: two maskers"
   ]
  },
  {
   "cell_type": "code",
   "execution_count": null,
   "metadata": {},
   "outputs": [],
   "source": [
    "json_txt='''{\n",
    "    \"type\":\"noise-bands\", \n",
    "    \"comment\":\"created with noiseBandMaskerDesigner\", \n",
    "    \"n_bands\":3, \n",
    "    \"bands\":[\n",
    "        {\n",
    "            \"amplitude\":0.02512, \n",
    "            \"fc_low\":2662.5, \n",
    "            \"fc_high\":4162.5\n",
    "        }, \n",
    "        {\n",
    "            \"amplitude\":0.1, \n",
    "            \"fc_low\":4800, \n",
    "            \"fc_high\":5200\n",
    "        }, \n",
    "        {\n",
    "            \"amplitude\":0.01585, \n",
    "            \"fc_low\":5375, \n",
    "            \"fc_high\":6808.5\n",
    "        }\n",
    "    ], \n",
    "    \"name\":\"37-2bands-4769-1213-3412-1500-32dB\"\n",
    "}'''\n",
    "\n",
    "json_txt2='''{\n",
    "    \"type\":\"noise-bands\", \n",
    "    \"comment\":\"created with noiseBandMaskerDesigner\", \n",
    "    \"n_bands\":1, \n",
    "    \"bands\":{\n",
    "        \"amplitude\":0.1, \n",
    "        \"fc_low\":4800, \n",
    "        \"fc_high\":12000\n",
    "    }, \n",
    "    \"name\":\"4-hp-4800Hz\"\n",
    "}'''\n",
    "\n",
    "json_txt3='''{\n",
    "    \"type\":\"noise-bands\", \n",
    "    \"comment\":\"created with noiseBandMaskerDesigner\", \n",
    "    \"n_bands\":3, \n",
    "    \"bands\":[\n",
    "        {\n",
    "            \"amplitude\":0.010000000000000002, \n",
    "            \"fc_low\":215.9, \n",
    "            \"fc_high\":2050\n",
    "        }, \n",
    "        {\n",
    "            \"amplitude\":0.0001, \n",
    "            \"fc_low\":2050, \n",
    "            \"fc_high\":2950\n",
    "        }, \n",
    "        {\n",
    "            \"amplitude\":0.010000000000000002, \n",
    "            \"fc_low\":2950, \n",
    "            \"fc_high\":12000\n",
    "        }\n",
    "    ], \n",
    "    \"name\":\"2-notch2500-bw900\"\n",
    "}'''\n",
    "\n",
    "\n",
    "json_txt4='''{\n",
    "    \"type\":\"noise-bands\", \n",
    "    \"comment\":\"created with noiseBandMaskerDesigner\", \n",
    "    \"n_bands\":3, \n",
    "    \"bands\":[\n",
    "        {\n",
    "            \"amplitude\":0.1, \n",
    "            \"fc_low\":215.9, \n",
    "            \"fc_high\":4450\n",
    "        }, \n",
    "        {\n",
    "            \"amplitude\":0.001, \n",
    "            \"fc_low\":4450, \n",
    "            \"fc_high\":5550\n",
    "        }, \n",
    "        {\n",
    "            \"amplitude\":0.1, \n",
    "            \"fc_low\":5550, \n",
    "            \"fc_high\":12000\n",
    "        }\n",
    "    ], \n",
    "    \"name\":\"6-notch5000-bw1100\" \n",
    "}'''\n",
    "#stim_struct=json.loads(json_txt)\n",
    "\n",
    "maskingConditions=MaskingConditions.from_json_strings([json_txt, json_txt2, json_txt3, json_txt4])\n",
    "#maskingConditions.add_json_strings([json_txt])"
   ]
  },
  {
   "cell_type": "code",
   "execution_count": null,
   "metadata": {},
   "outputs": [],
   "source": [
    "#maskingConditions.get_tensor_lists()\n",
    "maskingConditions"
   ]
  },
  {
   "cell_type": "code",
   "execution_count": null,
   "metadata": {},
   "outputs": [],
   "source": [
    "pl.figure(figsize=(11,10))\n",
    "plotMaskingExcitations( BW10Func, maskingConditions)"
   ]
  },
  {
   "cell_type": "code",
   "execution_count": null,
   "metadata": {},
   "outputs": [],
   "source": [
    "maskingConditions.set_amp0_dB(60)"
   ]
  },
  {
   "cell_type": "code",
   "execution_count": null,
   "metadata": {},
   "outputs": [],
   "source": [
    "t=torch.linspace(0.5, 7, 500)*1e-3\n",
    "\n",
    "#E0=t>1e-3\n",
    "\n",
    "#E=ExcitationPatterns(t, E0)\n",
    "\n",
    "E=ExcitationPatterns.GammaExcitation(t, 1, 1.5, 1/(2e-3), 1e-3)\n",
    "\n",
    "plotExcitationPatterns(E)\n",
    "\n",
    "pl.figure(figsize=(12, 10))\n",
    "\n",
    "E.set_masking_model(lat0, BW10Func, maskingConditions, mdFunc, filter_model='gaussian')\n",
    "\n",
    "#maskingAmount, ex_patterns=E.get_tensors()\n",
    "plotExcitationPatterns(E, plot_raw_excitation=False)"
   ]
  },
  {
   "cell_type": "code",
   "execution_count": null,
   "metadata": {},
   "outputs": [],
   "source": [
    "#UR\n",
    "#t2=np.linspace()\n",
    "urWang=URWang1979shifted.u(t+0.5e-3)\n",
    "urWangm = URWang1979m.u(t.numpy()-1.5e-3)\n",
    "\n",
    "dt=t[1]-t[0]\n",
    "dt=dt.detach().numpy()\n",
    "ur00=gaussian_filter1d(urWang, 2e-4/dt)\n",
    "ur0=gaussian_filter1d(urWangm, 2e-4/dt)\n",
    "\n",
    "pl.figure()\n",
    "pl.title('Examples of unitary responses')\n",
    "pl.plot(t*1e3, urWang, label='Wang')\n",
    "pl.plot(t*1e3, urWangm, label='Wang modified')\n",
    "\n",
    "pl.plot(t*1e3, ur00, label='Wang + gaussian blur')\n",
    "pl.plot(t*1e3, ur0, label='Wang m + gaussian blur')\n",
    "pl.legend()\n",
    "pl.xlabel('t (ms)')"
   ]
  },
  {
   "cell_type": "code",
   "execution_count": null,
   "metadata": {},
   "outputs": [],
   "source": [
    "#CAP\n",
    "\n",
    "pl.figure(figsize=(12, 10))\n",
    "plotSimulatedCAPs(E, ur0)"
   ]
  },
  {
   "cell_type": "markdown",
   "metadata": {},
   "source": [
    "### Interactive plots"
   ]
  },
  {
   "cell_type": "code",
   "execution_count": null,
   "metadata": {},
   "outputs": [],
   "source": [
    "#NB: withdraw 'manual' for continuous update\n",
    "@interact_manual( BW0=widgets.IntSlider(value=500, min=100, max=2000, step=50), BW1=widgets.IntSlider(value=500, min=100, max=2000, step=50))\n",
    "def plotMaskingExcitations_interact(BW0, BW1):\n",
    "    BW10func0=constant_BW10(BW0)\n",
    "    BW10func1=constant_BW10(BW1)\n",
    "    \n",
    "    pl.figure(figsize=(12, 10))\n",
    "    axlist=plotMaskingExcitations( BW10func0, maskingConditions)\n",
    "    plotMaskingExcitations( BW10func1, maskingConditions, axlist=axlist)"
   ]
  },
  {
   "cell_type": "code",
   "execution_count": null,
   "metadata": {},
   "outputs": [],
   "source": [
    "\n",
    "@interact(I0=(30, 100), I1=(30,100), BW0=widgets.IntSlider(value=500, min=100, max=2000, step=50), BW1=widgets.IntSlider(value=500, min=100, max=2000, step=50))\n",
    "def plotMaskingAmountExcitations_interact(I0, I1, BW0, BW1):\n",
    "    BW10func0=constant_BW10(BW0)\n",
    "    BW10func1=constant_BW10(BW1)\n",
    "    \n",
    "    pl.figure(figsize=(12, 10))\n",
    "    \n",
    "    maskingConditions.set_amp0_dB(I0)\n",
    "    \n",
    "    axlist=plotMaskingAmountExcitations( BW10func0, maskingConditions, mdFunc)\n",
    "    \n",
    "    maskingConditions.set_amp0_dB(I1)\n",
    "    axlist=plotMaskingAmountExcitations( BW10func1, maskingConditions, mdFunc, axlist=axlist)"
   ]
  },
  {
   "cell_type": "code",
   "execution_count": null,
   "metadata": {},
   "outputs": [],
   "source": [
    "\n",
    "@interact(I0=(30, 100), I1=(30,100), BW0=widgets.IntSlider(value=500, min=100, max=2000, step=50), BW1=widgets.IntSlider(value=500, min=100, max=2000, step=50))\n",
    "def plotExcitationPatterns_interact(I0, I1, BW0, BW1):\n",
    "    BW10func0=constant_BW10(BW0)\n",
    "    BW10func1=constant_BW10(BW1)\n",
    "    \n",
    "    t=torch.linspace(0.5, 7, 500)*1e-3\n",
    "\n",
    "    E0=t>1e-3\n",
    "\n",
    "    \n",
    "    E_0=ExcitationPatterns.copyRaw(E)\n",
    "    \n",
    "    E_1=ExcitationPatterns.copyRaw(E)\n",
    "\n",
    "    pl.figure(figsize=(12, 10))\n",
    "    \n",
    "    maskingConditions.set_amp0_dB(I0)\n",
    "    \n",
    "    E_0.set_masking_model(lat0, BW10func0, maskingConditions, mdFunc, filter_model='gaussian')\n",
    "    axlist=plotExcitationPatterns(E_0)\n",
    "    \n",
    "    maskingConditions.set_amp0_dB(I1)\n",
    "    \n",
    "    E_1.set_masking_model(lat0, BW10func1, maskingConditions, mdFunc, filter_model='gaussian')\n",
    "    axlist=plotExcitationPatterns(E_1, axlist=axlist)\n",
    "    "
   ]
  },
  {
   "cell_type": "code",
   "execution_count": null,
   "metadata": {},
   "outputs": [],
   "source": [
    "\n",
    "@interact(I0=(30, 100), I1=(30,100), BW0=widgets.IntSlider(value=500, min=100, max=2000, step=50), BW1=widgets.IntSlider(value=500, min=100, max=2000, step=50))\n",
    "def plotSimulatedCAPs_interact(I0, I1, BW0, BW1):\n",
    "    BW10func0=constant_BW10(BW0)\n",
    "    BW10func1=constant_BW10(BW1)\n",
    "    \n",
    "    t=torch.linspace(0.5, 7, 500)*1e-3\n",
    "\n",
    "\n",
    "    \n",
    "    E_0=ExcitationPatterns.copyRaw(E)\n",
    "    E_1=ExcitationPatterns.copyRaw(E)\n",
    "\n",
    "    pl.figure(figsize=(12, 10))\n",
    "    \n",
    "    maskingConditions.set_amp0_dB(I0)\n",
    "    \n",
    "    E_0.set_masking_model(lat0, BW10func0, maskingConditions, mdFunc, filter_model='gaussian')\n",
    "    axlist=plotSimulatedCAPs(E_0, ur0, shift=0.7e-3)\n",
    "    \n",
    "    maskingConditions.set_amp0_dB(I1)\n",
    "    \n",
    "    E_1.set_masking_model(lat0, BW10func1, maskingConditions, mdFunc, filter_model='gaussian')\n",
    "    axlist=plotSimulatedCAPs(E_1, ur0, axlist=axlist, shift=0.7e-3)\n",
    "    "
   ]
  },
  {
   "cell_type": "code",
   "execution_count": null,
   "metadata": {},
   "outputs": [],
   "source": []
  },
  {
   "cell_type": "code",
   "execution_count": null,
   "metadata": {},
   "outputs": [],
   "source": []
  }
 ],
 "metadata": {
  "kernelspec": {
   "display_name": "torch",
   "language": "python",
   "name": "torch"
  },
  "language_info": {
   "codemirror_mode": {
    "name": "ipython",
    "version": 3
   },
   "file_extension": ".py",
   "mimetype": "text/x-python",
   "name": "python",
   "nbconvert_exporter": "python",
   "pygments_lexer": "ipython3",
   "version": "3.8.5"
  }
 },
 "nbformat": 4,
 "nbformat_minor": 4
}
