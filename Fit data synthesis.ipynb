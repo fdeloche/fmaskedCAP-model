{
 "cells": [
  {
   "cell_type": "code",
   "execution_count": null,
   "metadata": {},
   "outputs": [],
   "source": [
    "import numpy as np\n",
    "import matplotlib.pyplot as pl\n",
    "\n",
    "import torch\n",
    "from masking import *\n",
    "\n",
    "import csv\n",
    "\n",
    "from latencies import *"
   ]
  },
  {
   "cell_type": "code",
   "execution_count": null,
   "metadata": {},
   "outputs": [],
   "source": [
    "fs=48828\n",
    "\n",
    "I0 = 100 +10 - 32 #intensity ref for masker    #100 dB rms=1  +10 dB amp 5   (/sqrt(2))   #-32 dB masker atten\n",
    "I0 = 10*np.log10( 10**(I0/10)/(fs/2) ) #spectral density\n",
    "\n",
    "#Note for later: import common script to analysis instead?"
   ]
  },
  {
   "cell_type": "markdown",
   "metadata": {},
   "source": [
    "### First estimation Q10 "
   ]
  },
  {
   "cell_type": "code",
   "execution_count": null,
   "metadata": {},
   "outputs": [],
   "source": [
    "def lin_reg(x, y):\n",
    "    x0=np.mean(x)\n",
    "    y0=np.mean(y)\n",
    "    x2=x-x0\n",
    "    y2=y-y0\n",
    "    \n",
    "    a=np.mean(x2*y2)/np.mean(x2**2)\n",
    "    \n",
    "    b=y0-a*x0\n",
    "    return a,b"
   ]
  },
  {
   "cell_type": "code",
   "execution_count": null,
   "metadata": {},
   "outputs": [],
   "source": [
    "data_temchin2008=[2.3089873546759883, 1.1335705639594416,\n",
    "2.433649800608806, 1.1219195832734208,\n",
    "2.5189887453848376, 1.1773955803812832,\n",
    "2.6533794225047744, 1.309265969016895,\n",
    "2.778489919723694, 1.4971674771258776,\n",
    "2.9012927263226755, 1.708120153194006,\n",
    "3.0094886604141227, 1.9285965397126237,\n",
    "3.1255960147906117, 2.1612852064604233,\n",
    "3.2415506244104755, 2.2821647113582557,\n",
    "3.357807354173958, 2.6241961613858074,\n",
    "3.474104516373019, 2.9958241542560007,\n",
    "3.586175253618712, 3.355814344419173,\n",
    "3.7043916087598454, 3.5912389393077095,\n",
    "3.8215714334900244, 3.8384495891670536,\n",
    "3.939633359189716, 3.9608318329205066,\n",
    "4.049971341946277, 4.16542819317891,\n",
    "4.170808168162108, 4.435528842816696,\n",
    "4.276243124454071, 4.561285269586788]\n",
    "freqs_t=np.array(data_temchin2008[::2])\n",
    "freqs_t=10**freqs_t\n",
    "q10_t=np.array(data_temchin2008[1::2])\n",
    "\n"
   ]
  },
  {
   "cell_type": "code",
   "execution_count": null,
   "metadata": {},
   "outputs": [],
   "source": [
    "bf_anf=[]\n",
    "q10_anf=[]\n",
    "with open('results/q101-22/q10s_clean.csv', 'r') as f:\n",
    "    reader=csv.DictReader(f)\n",
    "    for row in reader:\n",
    "        bf_anf.append(float(row['CF'])*1e3)\n",
    "        \n",
    "        q10_anf.append(float(row['Q10']))\n",
    "        "
   ]
  },
  {
   "cell_type": "code",
   "execution_count": null,
   "metadata": {},
   "outputs": [],
   "source": [
    "freqs=np.array([1.5, 2.2, 3, 4, 5, 6, 8])*1e3\n",
    "bw10=np.array([800, 2300, 600, 1000, 1300, 1400, 2600])\n",
    "bw10_C=np.array([850,2400,850,1000,1250,2200,2500])\n",
    "\n",
    "\n",
    "bw10_R=np.array([850,1450,350,1000,1250,950,2950])\n",
    "\n",
    "pl.plot(freqs, freqs/bw10, '+', label='estimated w/ model')\n",
    "\n",
    "pl.plot(freqs_t, q10_t, label='Temchin et al 2008')\n",
    "pl.xlim([1000, 10000])\n",
    "#pl.plot(freqs, freqs/bw10_C, '+', label='C')\n",
    "\n",
    "#pl.plot(freqs, freqs/bw10_R, '+', label='R')\n",
    "\n",
    "#pl.legend()\n",
    "\n",
    "#lin reg\n",
    "a_t, b_t = lin_reg(np.log(freqs_t), np.log(q10_t) )\n",
    "a, b = lin_reg(np.log(freqs), np.log(freqs/bw10) )\n",
    "\n",
    "f=np.linspace(1000, 10000)\n",
    "\n",
    "\n",
    "#pl.plot(f, np.exp(b_t)*f**a_t)\n",
    "#pl.plot(f, np.exp(b)*f**a)\n",
    "\n",
    "\n",
    "pl.plot(bf_anf, q10_anf, 'x', label='ANF data')\n",
    "\n",
    "pl.xscale('log')\n",
    "\n",
    "pl.xlabel('f (Hz)')\n",
    "pl.ylabel('Q10')\n",
    "pl.legend(loc='lower right')\n",
    "#pl.savefig('q10_estim.png')\n",
    "\n",
    "pl.ylim([0.5, 7])\n",
    "pl.show()\n",
    "\n",
    "#pl.yscale('log')"
   ]
  },
  {
   "cell_type": "markdown",
   "metadata": {},
   "source": [
    "### Estimations with optim"
   ]
  },
  {
   "cell_type": "markdown",
   "metadata": {},
   "source": [
    "#### I/O funcs"
   ]
  },
  {
   "cell_type": "code",
   "execution_count": null,
   "metadata": {},
   "outputs": [],
   "source": [
    "expe_name='4-23'  #'1-22'\n",
    "Q10_distributed=True\n",
    "CFs=[3000, 4000, 5000, 6000, 8000]\n",
    "\n",
    "\n",
    "if Q10_distributed:\n",
    "    results_folder=f'./results/fit{expe_name}-distrib/'\n",
    "else:\n",
    "    results_folder=f'./results/fit{expe_name}/'\n",
    "    \n",
    "CF=6000"
   ]
  },
  {
   "cell_type": "code",
   "execution_count": null,
   "metadata": {},
   "outputs": [],
   "source": [
    "wb_cdf=WeibullCDF_IOFunc.load_from_npz(f'{results_folder}/wbcfdIO_1st_estim_{CF}.npz')\n",
    "wb_cdf2=WeibullCDF_IOFunc.load_from_npz(f'{results_folder}/wbcfdIO_{CF}.npz')"
   ]
  },
  {
   "cell_type": "code",
   "execution_count": null,
   "metadata": {},
   "outputs": [],
   "source": [
    "with np.load(f'{results_folder}/maskamountCAP_{CF}.npz') as data:\n",
    "    I_pts=data['I_pts']\n",
    "    maskamount=data['maskamount']\n",
    "    \n"
   ]
  },
  {
   "cell_type": "code",
   "execution_count": null,
   "metadata": {},
   "outputs": [],
   "source": [
    "I=np.linspace(-30, 20)\n",
    "\n",
    "\n",
    "#pl.plot(I, sigm(torch.tensor(I)), label='fit sigm')\n",
    "pl.plot(I, wb_cdf(torch.tensor(I)), label='fit wbcdf')\n",
    "\n",
    "pl.plot(I, wb_cdf2(torch.tensor(I)) , label='after optim')\n",
    "pl.xlabel('Power spectral density (dB)')\n",
    "\n",
    "pl.plot(I_pts, maskamount, '+', markersize=10, markeredgewidth=3)\n",
    "\n",
    "pl.plot(I0-20, 1, '+', markersize=10, markeredgewidth=3, color='purple')\n",
    "\n",
    "pl.ylabel('masking (max: broadband)')\n",
    "pl.legend()"
   ]
  },
  {
   "cell_type": "code",
   "execution_count": null,
   "metadata": {},
   "outputs": [],
   "source": [
    "I=np.linspace(-30, 20)\n",
    "\n",
    "for CF in CFs:\n",
    "    wb_cdf=WeibullCDF_IOFunc.load_from_npz(f'{results_folder}/wbcfdIO_{CF}.npz')\n",
    "\n",
    "    pl.plot(I, wb_cdf(torch.tensor(I)), label=f'fit {CF}')\n",
    "    \n",
    "pl.xlabel('Power spectral density (dB)')\n",
    "\n",
    "pl.ylabel('masking (max: broadband)')\n",
    "pl.legend()"
   ]
  },
  {
   "cell_type": "markdown",
   "metadata": {},
   "source": [
    "#### Unitary responses"
   ]
  },
  {
   "cell_type": "code",
   "execution_count": null,
   "metadata": {},
   "outputs": [],
   "source": [
    "\n",
    "for CF in CFs:\n",
    "    with np.load(f'{results_folder}/ur_{CF}.npz') as data:\n",
    "        ur=data['ur']\n",
    "        t2=data['t2']\n",
    "        pl.plot(t2*1e3, ur, label=f\"CF={CF} Hz\")\n",
    "        pl.xlim([3,8])\n",
    "pl.xlabel('t (ms)')\n",
    "pl.title('Unitary responses')\n",
    "pl.legend()\n",
    "pl.show()"
   ]
  },
  {
   "cell_type": "code",
   "execution_count": null,
   "metadata": {},
   "outputs": [],
   "source": [
    "\n",
    "for CF in CFs:\n",
    "    with np.load(f'{results_folder}/ur_{CF}.npz') as data:\n",
    "        ur=data['ur']\n",
    "        t2=data['t2']\n",
    "        pl.plot(t2*1e3, ur/np.amax(np.abs(ur)), label=f\"CF={CF} Hz\")\n",
    "        pl.xlim([3,8])\n",
    "pl.xlabel('t (ms)')\n",
    "pl.title('Unitary responses (normalized re:max)')\n",
    "pl.legend()\n",
    "pl.show()"
   ]
  },
  {
   "cell_type": "markdown",
   "metadata": {},
   "source": [
    "#### E0"
   ]
  },
  {
   "cell_type": "code",
   "execution_count": null,
   "metadata": {},
   "outputs": [],
   "source": [
    "\n",
    "for CF in CFs: #8000\n",
    "    with np.load(f'{results_folder}/E0_{CF}.npz') as data:\n",
    "        f=data['f']\n",
    "        E0=data['E0']\n",
    "        #TODO account for E0_amp\n",
    "        #E0_amp=data['E0_amp']\n",
    "        f=np.linspace(f[0], f[-1], len(E0)) #HACK err for now\n",
    "        pl.plot(f, E0, label=f\"CF={CF} Hz\")\n",
    "pl.legend()\n",
    "pl.show()"
   ]
  },
  {
   "cell_type": "markdown",
   "metadata": {},
   "source": [
    "Latencies"
   ]
  },
  {
   "cell_type": "code",
   "execution_count": null,
   "metadata": {},
   "outputs": [],
   "source": [
    "ax=None\n",
    "for CF in CFs: #8000\n",
    "    lat_model=PowerLawLatencies.load_from_npz(f'{results_folder}/lat_{CF}.npz')\n",
    "    lat_model.name=f'CF {CF}'\n",
    "    ax=plotLatencies(lat_model, ax=ax)"
   ]
  },
  {
   "cell_type": "markdown",
   "metadata": {},
   "source": [
    "Equivalent E0 in time"
   ]
  },
  {
   "cell_type": "markdown",
   "metadata": {},
   "source": [
    "$w'(\\tau) d\\tau = w(f) A \\alpha \\tau^{\\alpha-1} df$"
   ]
  },
  {
   "cell_type": "code",
   "execution_count": null,
   "metadata": {},
   "outputs": [],
   "source": [
    "t=lat_model.t_from_f(f).detach().numpy()\n",
    "A=lat_model.A.detach().numpy()\n",
    "alpha=lat_model.alpha.detach().numpy()\n",
    "t0=lat_model.t0.detach().numpy()\n",
    "w=E0*A*alpha*np.power(np.abs(t-t0), alpha-1)\n",
    "w=np.abs(w)\n",
    "\n",
    "\n",
    "pl.plot(t*1e3, w*1e-8)\n",
    "pl.xlim([5.5, 7])\n",
    "\n",
    "for CF in CFs:\n",
    "    t_CF=lat_model.t_from_f(CF).detach().numpy()\n",
    "    ind=int((CF-f[0])/f[-1]*len(E0))\n",
    "    w_CF=E0[ind]*A*alpha*np.power(np.abs(t_CF-t0), alpha-1)\n",
    "    w_CF=np.abs(w_CF)\n",
    "    dx=0.01\n",
    "    dy=0.1*np.amax(w*1e-8)\n",
    "    pl.arrow(t_CF*1e3+1.5*dx, w_CF*1e-8+1.5*dy, -dx, -dy, head_width=0.02, head_length=0.01,\n",
    "             fc='k', ec='k', head_starts_at_zero=True)\n",
    "    pl.text(t_CF*1e3+1.2*dx, w_CF*1e-8+1.2*dy, f'{CF} Hz')\n",
    "pl.xlabel('t (ms)')\n",
    "#pl.ylim([0,1])"
   ]
  },
  {
   "cell_type": "markdown",
   "metadata": {},
   "source": [
    "#### Q10"
   ]
  },
  {
   "cell_type": "markdown",
   "metadata": {},
   "source": [
    "#TODO single values"
   ]
  },
  {
   "cell_type": "code",
   "execution_count": null,
   "metadata": {},
   "outputs": [],
   "source": [
    "if Q10_distributed:\n",
    "    with np.load(f'{results_folder}/Q10.npz') as data:\n",
    "        pl.plot(data['f'], data['Q10'], label=f'estim RBF {expe_name}')\n",
    "        pl.ylabel('Q_10')\n",
    "        pl.xlabel('f (Hz)')\n",
    "        pl.xlim([1000, 9000])\n",
    "        pl.ylim([0,8])\n",
    "\n",
    "q10_gridsearch=[]\n",
    "for CF in CFs:\n",
    "    with np.load(f'{results_folder}/Q10gridsearch_{CF}.npz') as data:\n",
    "        q10_gridsearch.append(CF/data['bw10_est'])\n",
    "pl.plot(CFs, q10_gridsearch, '+', label=f'grid search {expe_name}')\n",
    "        \n",
    "pl.plot(bf_anf, q10_anf, 'x', label='ANF data 1-22')\n",
    "\n",
    "pl.plot(freqs_t, q10_t, label='Temchin et al 2008')\n",
    "pl.legend()"
   ]
  },
  {
   "cell_type": "markdown",
   "metadata": {},
   "source": [
    "####  Errors"
   ]
  },
  {
   "cell_type": "code",
   "execution_count": null,
   "metadata": {},
   "outputs": [],
   "source": [
    "\n",
    "for CF in CFs:\n",
    "    err= np.load(f'{results_folder}/err_list_{CF}.npy', allow_pickle=True)\n",
    "    pl.plot(err, label=f'{CF} Hz')\n",
    "#pl.ylim([0.001, 0.006])\n",
    "pl.legend()"
   ]
  },
  {
   "cell_type": "code",
   "execution_count": null,
   "metadata": {},
   "outputs": [],
   "source": []
  }
 ],
 "metadata": {
  "kernelspec": {
   "display_name": "torch",
   "language": "python",
   "name": "torch"
  },
  "language_info": {
   "codemirror_mode": {
    "name": "ipython",
    "version": 3
   },
   "file_extension": ".py",
   "mimetype": "text/x-python",
   "name": "python",
   "nbconvert_exporter": "python",
   "pygments_lexer": "ipython3",
   "version": "3.8.5"
  }
 },
 "nbformat": 4,
 "nbformat_minor": 4
}
