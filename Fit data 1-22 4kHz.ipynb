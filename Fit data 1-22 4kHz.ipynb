{
 "cells": [
  {
   "cell_type": "code",
   "execution_count": null,
   "metadata": {},
   "outputs": [],
   "source": [
    "import torch\n",
    "\n",
    "import numpy as np\n",
    "import matplotlib as mpl\n",
    "import matplotlib.pyplot as pl\n",
    "import scipy.signal as sg\n",
    "\n",
    "pl.style.use('fivethirtyeight')\n",
    "\n",
    "#mpl.rc('figure', figsize=(10,8))\n",
    "mpl.rcParams['axes.facecolor']='white'  \n",
    "mpl.rcParams['figure.facecolor'] = '1'\n",
    "\n",
    "from scipy.ndimage  import gaussian_filter1d\n",
    "\n",
    "import json\n",
    "import re\n",
    "import os\n",
    "\n",
    "#import copy\n",
    "\n",
    "from Fit_data_1_22_aux import apply_filter"
   ]
  },
  {
   "cell_type": "code",
   "execution_count": null,
   "metadata": {},
   "outputs": [],
   "source": [
    "from masking import *\n",
    "from latencies import *\n",
    "from excitation import *\n",
    "from deconv import *\n",
    "from ur import *\n",
    "from tuning import *\n",
    "from test import *\n",
    "from ur import *\n",
    "\n",
    "from data import CAPData\n"
   ]
  },
  {
   "cell_type": "code",
   "execution_count": null,
   "metadata": {},
   "outputs": [],
   "source": [
    "from ipywidgets import interact, interactive, fixed, interact_manual\n",
    "import ipywidgets as widgets"
   ]
  },
  {
   "cell_type": "code",
   "execution_count": null,
   "metadata": {},
   "outputs": [],
   "source": [
    "cumsum_default=False"
   ]
  },
  {
   "cell_type": "markdown",
   "metadata": {},
   "source": [
    "### Import data"
   ]
  },
  {
   "cell_type": "code",
   "execution_count": null,
   "metadata": {},
   "outputs": [],
   "source": [
    "data_folder='./Data/SP-2021_01_22_Q395_fmaskedCAP'\n",
    "\n",
    "fs=48828\n",
    "\n",
    "I0 = 100 +10 - 32 #intensity ref for masker    #100 dB rms=1  +10 dB amp 5   (/sqrt(2))   #-32 dB masker atten\n",
    "I0 = 10*np.log10( 10**(I0/10)/(fs/2) ) #spectral density\n",
    "\n",
    "print(f'reference masker power spectral density (0 attn): {I0:.2f} dB')\n",
    "\n",
    "listFiles = os.listdir(data_folder)"
   ]
  },
  {
   "cell_type": "code",
   "execution_count": null,
   "metadata": {},
   "outputs": [],
   "source": [
    "capData=CAPData(data_folder, listFiles, begin_ind=50, end_ind=1525, mode='C+R')"
   ]
  },
  {
   "cell_type": "raw",
   "metadata": {},
   "source": [
    "capData.maskerName"
   ]
  },
  {
   "cell_type": "code",
   "execution_count": null,
   "metadata": {},
   "outputs": [],
   "source": [
    "t=capData.t\n",
    "\n",
    "broadband1=capData.get_signal_by_name('broadband_noise')\n",
    "broadband2=capData.get_signal_by_name('broadband_noise_bis')\n",
    "broadband3=capData.get_signal_by_name('broadband_noise_bis_bis')\n",
    "\n",
    "broadband_avg=(broadband1+broadband2+broadband3)/3\n",
    "\n",
    "\n",
    "\n",
    "nomasker1=capData.get_signal_by_name('nomasker_bis')\n",
    "\n",
    "nomasker_avg=(nomasker1)\n",
    "\n",
    "#pl.figure(figsize=(16,4))\n",
    "pl.plot(t, broadband1)\n",
    "pl.plot(t, broadband2)\n",
    "pl.plot(t, broadband3)\n",
    "pl.plot(t, broadband_avg, label='avg')\n",
    "\n",
    "\n",
    "pl.plot(t, nomasker1, label='no masker')\n",
    "\n",
    "\n",
    "#pl.xlim([0.004, 0.007])\n",
    "pl.legend()\n",
    "\n"
   ]
  },
  {
   "cell_type": "code",
   "execution_count": null,
   "metadata": {},
   "outputs": [],
   "source": [
    "#window\n",
    "\n",
    "t0=5.7e-3\n",
    "t1=9e-3\n",
    "ind0=int(t0*48828)\n",
    "\n",
    "ind0=int(t0*48828)\n",
    "ind1=int(t1*48828)\n",
    "\n",
    "win0=sg.tukey(ind1-ind0, alpha=0.4)\n",
    "\n",
    "win=np.zeros_like(broadband_avg)\n",
    "win[ind0:ind1]=win0\n",
    "\n",
    "pl.figure()\n",
    "pl.plot(t*1e3, broadband_avg, label='avg')\n",
    "pl.plot(t*1e3, win*np.amax(broadband_avg))\n",
    "\n",
    "pl.plot(t*1e3, 0.5*broadband_avg*win, label='avg')\n",
    "pl.show()\n"
   ]
  },
  {
   "cell_type": "code",
   "execution_count": null,
   "metadata": {},
   "outputs": [],
   "source": [
    "def process_signal(sig, cumsum=cumsum_default, return_t=False, applyfilter=True):\n",
    "    \n",
    "    \n",
    "    if applyfilter:\n",
    "        sig=apply_filter(sig)\n",
    "    sig2=sig*win\n",
    "    \n",
    "    t0=3e-3\n",
    "    t1=13e-3\n",
    "\n",
    "    ind0=int(t0*48828)\n",
    "    ind1=int(t1*48828)\n",
    "    \n",
    "    dim = len(np.shape(sig2))\n",
    "    if dim ==1:\n",
    "        sig2=sig2[ind0:ind1]\n",
    "        if cumsum:\n",
    "            sig2=np.cumsum(sig2)\n",
    "            sig2[0:-50]*=sg.tukey(len(sig2)-50, 0.3)\n",
    "            sig2[-50:]=0\n",
    "    else:\n",
    "        sig2=sig2[:, ind0:ind1]\n",
    "        if cumsum:\n",
    "            sig2=np.cumsum(sig2)\n",
    "            \n",
    "    \n",
    "    if return_t:\n",
    "        t=np.linspace(t0, t1, ind1-ind0)\n",
    "        return t, sig2\n",
    "    else:\n",
    "        return sig2\n",
    "    \n",
    "    \n",
    "\n",
    "    "
   ]
  },
  {
   "cell_type": "code",
   "execution_count": null,
   "metadata": {},
   "outputs": [],
   "source": [
    "for plot_time in [False, True]:\n",
    "    pl.figure()\n",
    "    for applyfilter in [False, True]:\n",
    "        t2, broadband_proc=process_signal(broadband_avg, cumsum=cumsum_default, return_t=True, applyfilter=applyfilter)\n",
    "        nomasker_proc=process_signal(nomasker_avg, applyfilter=applyfilter)\n",
    "        \n",
    "        if plot_time:\n",
    "            pl.plot(t2*1e3, nomasker_proc-broadband_proc, label= 'with filter' if applyfilter else 'without filter')\n",
    "        else:\n",
    "            sig2_fft= np.fft.rfft(nomasker_proc-broadband_proc)\n",
    "\n",
    "            f=np.linspace(0, 48828/2, len(sig2_fft))\n",
    "            pl.plot(f, np.abs(sig2_fft), label='with filter' if applyfilter else 'without filter')\n",
    "            pl.xlim([0, 6000])\n",
    "\n",
    "    pl.legend()"
   ]
  },
  {
   "cell_type": "code",
   "execution_count": null,
   "metadata": {},
   "outputs": [],
   "source": [
    "def process_signal2(sig, cumsum=cumsum_default, gauss_sigma=0, applyfilter=True):\n",
    "    '''subtracts the broadband noise response\n",
    "    gauss_sigma: if diff of 0, smooths the signal with gaussian filter'''\n",
    "    \n",
    "    res = process_signal(sig-broadband_avg, cumsum=cumsum, applyfilter=applyfilter)\n",
    "    if gauss_sigma !=0:\n",
    "        res = gaussian_filter1d(res, gauss_sigma)\n",
    "    return res\n",
    "    "
   ]
  },
  {
   "cell_type": "markdown",
   "metadata": {},
   "source": [
    "**Estimation ur**  \n",
    "Depends on what is the focus\n"
   ]
  },
  {
   "cell_type": "code",
   "execution_count": null,
   "metadata": {},
   "outputs": [],
   "source": [
    "sig=capData.get_signal_by_name('7_notch8000_bw2300_29dB')  #high freq\n",
    "#sig=capData.get_signal_by_name('8_notch4000_bw1700_29dB')\n",
    "#sig=capData.get_signal_by_name('9_notch3000_bw1500_29dB')\n",
    "#sig=capData.get_signal_by_name('8_notch2200_bw1500_29dB') #medium freq\n",
    "\n",
    "sig2=process_signal2(sig, applyfilter=False)\n",
    "\n",
    "pl.plot(t2*1e3, sig2)\n",
    "\n",
    "\n",
    "#ur0=sig2-broadband_proc\n",
    "gauss_sigma=(0.5e-4)/(t2[1]-t2[0])\n",
    "ur0=process_signal2(sig, gauss_sigma=gauss_sigma, applyfilter=True)\n",
    "ur0=np.roll(ur0, -100)\n",
    "pl.plot(t2*1e3, ur0)\n",
    "\n",
    "pl.show()\n",
    "\n"
   ]
  },
  {
   "cell_type": "code",
   "execution_count": null,
   "metadata": {},
   "outputs": [],
   "source": [
    "def deconv(released_sig, ur0=ur0, eps=1e-2):\n",
    "    \n",
    "    released_sig_fft=np.fft.rfft(released_sig)\n",
    "    ur0_fft=np.fft.rfft(ur0)\n",
    "    E_fft=released_sig_fft/(ur0_fft+eps)\n",
    "    E=np.fft.irfft(E_fft)\n",
    "    return E\n",
    "#masked_sig=nomasker_proc-broadband_proc\n",
    "masked_sig=process_signal2(nomasker_avg, gauss_sigma=gauss_sigma)\n",
    "E0=deconv(masked_sig)"
   ]
  },
  {
   "cell_type": "markdown",
   "metadata": {},
   "source": [
    "Estimated raw excitation pattern"
   ]
  },
  {
   "cell_type": "code",
   "execution_count": null,
   "metadata": {},
   "outputs": [],
   "source": [
    "pl.plot(t2*1e3, E0)"
   ]
  },
  {
   "cell_type": "markdown",
   "metadata": {},
   "source": [
    "Trying with projection"
   ]
  },
  {
   "cell_type": "code",
   "execution_count": null,
   "metadata": {},
   "outputs": [],
   "source": [
    "def proj_E(E, t0=4e-3, t1=8e-3):\n",
    "    '''\n",
    "    constraints u between t0 and t1'''\n",
    "    proj=t2>t0\n",
    "    proj*=t2<t1\n",
    "    return E*proj\n",
    "\n",
    "def deconv_newton(E0, released_sig, ur0=ur0, alpha=0.02, nb_steps=20, eps_ridge=1e-1, verbose=False, t0=4e-3, t1=7e-3):\n",
    "    E=proj_E(E0, t0=t0, t1=t1)\n",
    "\n",
    "    released_sig_fft=np.fft.rfft(released_sig)\n",
    "    ur0_fft=np.fft.rfft(ur0)\n",
    "\n",
    "    E=np.expand_dims(E, axis=0)\n",
    "\n",
    "    for i in range(nb_steps):\n",
    "        E-=alpha*deconv_newton_step(E, ur0_fft, released_sig_fft, eps_ridge=eps_ridge)\n",
    "\n",
    "        E=proj_E(E, t0=t0, t1=t1)\n",
    "        E[E<0]=0\n",
    "        if verbose and i%5==0:\n",
    "            pl.plot(t2*1e3, E[0], label=f'step {i}')\n",
    "            pl.xlabel('t (ms)')\n",
    "    if verbose:\n",
    "        pl.legend()\n",
    "    return E[0]\n",
    "\n",
    "\n",
    "E=deconv_newton(E0, masked_sig, verbose=True)\n",
    "\n",
    "\n",
    "    \n",
    "\n"
   ]
  },
  {
   "cell_type": "markdown",
   "metadata": {},
   "source": [
    "Narrow-band analysis"
   ]
  },
  {
   "cell_type": "code",
   "execution_count": null,
   "metadata": {},
   "outputs": [],
   "source": [
    "\n",
    "s1=capData.get_signal_by_name('1_hp_10000Hz')\n",
    "s2=capData.get_signal_by_name('2_hp_9000Hz')\n",
    "s3=capData.get_signal_by_name('3_hp_8000Hz')\n",
    "s4=capData.get_signal_by_name('4_hp_7000Hz')\n",
    "s5=capData.get_signal_by_name('5_hp_6000Hz')\n",
    "s6=capData.get_signal_by_name('6_hp_5000Hz')\n",
    "s7=capData.get_signal_by_name('7_hp_4000Hz')\n",
    "s8=capData.get_signal_by_name('8_hp_3200Hz')\n",
    "s9=capData.get_signal_by_name('9_hp_2400Hz')\n",
    "s10=capData.get_signal_by_name('10_hp_1800Hz')\n",
    "s11=capData.get_signal_by_name('11_hp_1500Hz')\n",
    "s12=capData.get_signal_by_name('12_hp_1200Hz')\n",
    "\n",
    "\n",
    "s1_proc=process_signal2(s1, gauss_sigma=gauss_sigma)\n",
    "s2_proc=process_signal2(s2, gauss_sigma=gauss_sigma)\n",
    "s3_proc=process_signal2(s3, gauss_sigma=gauss_sigma)\n",
    "s4_proc=process_signal2(s4, gauss_sigma=gauss_sigma)\n",
    "s5_proc=process_signal2(s5, gauss_sigma=gauss_sigma)\n",
    "s6_proc=process_signal2(s6, gauss_sigma=gauss_sigma)\n",
    "s7_proc=process_signal2(s7, gauss_sigma=gauss_sigma)\n",
    "s8_proc=process_signal2(s8, gauss_sigma=gauss_sigma)\n",
    "s9_proc=process_signal2(s9, gauss_sigma=gauss_sigma)\n",
    "s10_proc=process_signal2(s10, gauss_sigma=gauss_sigma)\n",
    "s11_proc=process_signal2(s11, gauss_sigma=gauss_sigma)\n",
    "s12_proc=process_signal2(s12, gauss_sigma=gauss_sigma)"
   ]
  },
  {
   "cell_type": "code",
   "execution_count": null,
   "metadata": {},
   "outputs": [],
   "source": [
    "pl.figure()\n",
    "pl.plot(s1_proc)\n",
    "pl.plot(s2_proc)\n",
    "pl.plot(s3_proc)\n",
    "pl.plot(s4_proc)\n",
    "pl.plot(s5_proc)\n",
    "pl.plot(s6_proc)\n",
    "pl.plot(s7_proc)\n",
    "pl.plot(s8_proc)\n",
    "pl.plot(s9_proc)\n",
    "pl.plot(s10_proc)\n",
    "pl.plot(s11_proc)\n",
    "pl.plot(s12_proc)\n",
    "pl.show()\n",
    "\n",
    "pl.figure(figsize=(10,8))\n",
    "pl.plot(t2*1e3,s1_proc-s2_proc, label='9-10kHz')\n",
    "pl.plot(t2*1e3,s2_proc-s3_proc, label='8-9kHz')\n",
    "pl.plot(t2*1e3,s3_proc-s4_proc, label='7-8kHz')\n",
    "pl.plot(t2*1e3,s4_proc-s5_proc, label='6-7kHz')\n",
    "pl.plot(t2*1e3,s5_proc-s6_proc, label='5-6kHz')\n",
    "pl.plot(t2*1e3,s6_proc-s7_proc, label='4-5kHz')\n",
    "pl.xlim([3,12])\n",
    "pl.legend(bbox_to_anchor=(1.05, 1), loc='upper left')\n",
    "pl.show()\n",
    "\n",
    "\n",
    "\n",
    "pl.figure(figsize=(10,8))\n",
    "pl.plot(t2*1e3,s6_proc-s7_proc, label='4-5kHz')\n",
    "pl.plot(t2*1e3,s7_proc-s8_proc, label='3.2-4kHz')\n",
    "pl.plot(t2*1e3,s8_proc-s9_proc, label='2.4-3.2kHz')\n",
    "pl.plot(t2*1e3,s9_proc-s10_proc, label='1.8-2.4kHz')\n",
    "pl.plot(t2*1e3,s10_proc-s11_proc, label='1.5-1.8kHz')\n",
    "pl.plot(t2*1e3,s11_proc-s12_proc, label='1.2-1.5kHz')\n",
    "pl.plot(t2*1e3,s12_proc, label='-1.2kHz')\n",
    "pl.xlim([3,12])\n",
    "pl.legend(bbox_to_anchor=(1.05, 1), loc='upper left')\n",
    "pl.show()"
   ]
  },
  {
   "cell_type": "code",
   "execution_count": null,
   "metadata": {},
   "outputs": [],
   "source": [
    "pl.figure()\n",
    "i=0\n",
    "\n",
    "\n",
    "\n",
    "\n",
    "pl.figure(figsize=(10,8))\n",
    "for sig, label in [(s1_proc-s2_proc, '9-10kHz'),\n",
    "(s2_proc-s3_proc, '8-9kHz'),\n",
    "(s3_proc-s4_proc, '7-8kHz'),\n",
    "(s4_proc-s5_proc, '6-7kHz'),\n",
    "(s5_proc-s6_proc, '5-6kHz'),\n",
    "(s6_proc-s7_proc, '4-5kHz'),(s7_proc-s8_proc, '3.2-4kHz'),\n",
    "(s8_proc-s9_proc, '2.4-3.2kHz'),\n",
    "(s9_proc-s10_proc, '1.8-2.4kHz'),\n",
    "(s10_proc-s11_proc, '1.5-1.8kHz'),\n",
    "(s11_proc-s12_proc, '1.2-1.5kHz'),\n",
    "(s12_proc, '-1.2kHz')]:\n",
    "    E=deconv(sig, eps=1e-2)\n",
    "    E=deconv_newton(E, sig, alpha=0.005, nb_steps=50, eps_ridge=2e-1, t0=4.3e-3, t1=7e-3)\n",
    "    pl.plot(t2*1e3, E-0.25*i, label=label)\n",
    "    i+=1\n",
    "\n",
    "pl.legend(bbox_to_anchor=(1.05, 1), loc='upper left')\n",
    "pl.xlim([4, 8])\n",
    "pl.show()"
   ]
  },
  {
   "cell_type": "code",
   "execution_count": null,
   "metadata": {},
   "outputs": [],
   "source": [
    "#NB: some data not clear\n",
    "t_max=np.array([43.5,43.5,45,42,45.5,46.5,48,51,56,65,74,82])\n",
    "#t_max_bis=np.array([23,26,25.5,25.5,28.5,29])\n",
    "\n",
    "\n",
    "\n",
    "t_max_C=np.array([44,51.5,47,46,52,54,49,52,65,73,77,96.5])   #mod 0\n",
    "\n",
    "t_max_R=np.array([44,49.5,47.5,45,49.5,51,53.5,61,76.5,88,104,122])\n",
    "\n",
    "\n",
    "#t_0lat=4e-3-3.6e-3+2e-3\n",
    "t_0lat=4e-3+2e-3-6e-3\n",
    "\n",
    "\n",
    "t_max=t_0lat+t_max*2*1e-5\n",
    "t_max_C=t_0lat+t_max_C*2*1e-5\n",
    "\n",
    "t_max_R=t_0lat+t_max_R*2*1e-5\n",
    "\n",
    "#t_max_bis=t_0lat+t_max_bis*2*1e-5\n",
    "freqs=np.array([9.5,8.5,7.5,6.5,5.5,4.5,3.6,2.8,2.1,1.65, 1.35, 1])\n",
    "pl.plot(freqs, t_max*1e3, '+', markersize=12, label='C+R')\n",
    "pl.plot(freqs, t_max_C*1e3, '+', markersize=12, label='C')\n",
    "\n",
    "pl.plot(freqs, t_max_R*1e3, '+', markersize=12, label='R')\n",
    "\n",
    "\n",
    "#pl.plot(freqs[0:len(t_max_bis)], t_max_bis*1e3, '+', markersize=12, label='C+R (first peak?)')\n",
    "\n",
    "pl.ylabel('Estimated latencies (ms)')\n",
    "pl.xlabel('freq (kHz)')\n",
    "\n",
    "pl.legend()\n",
    "#NB CM begins at 6 ms approx\n",
    "#peak convol begins at 5-3 ms = 2ms (C) approx"
   ]
  },
  {
   "cell_type": "markdown",
   "metadata": {},
   "source": [
    "fit latencies 2 power laws"
   ]
  },
  {
   "cell_type": "code",
   "execution_count": null,
   "metadata": {},
   "outputs": [],
   "source": [
    "#above 4kHz\n",
    "\n",
    "\n",
    "freqs_pts=np.array([9.5,8.5,7.5,6.5,5.5,4.5])*1e3\n",
    "\n",
    "inds=np.array([0,1,2, 4,5]) #HACK remove outlier 6.5 kHz\n",
    "freqs_pts=freqs_pts[inds]\n",
    "freqs_pts0=freqs_pts\n",
    "t_max_pts=t_max[inds]\n",
    "t_max_pts0=t_max_pts\n",
    "\n",
    "\n",
    "lat=PowerLawLatencies(1e6, alpha=1, t0=4e-3, mode='left')\n",
    "lat.fit_data(t_max_pts, freqs_pts, init_with_new_values=False, bounds=[0.5, 2])\n",
    "\n",
    "freqs_lin=np.linspace(4, 10)*1e3\n",
    "pl.plot(freqs_lin, lat(freqs_lin)*1e3)\n",
    "\n",
    "pl.plot(freqs_pts, t_max_pts*1e3, '+', markeredgewidth=3, markersize=10)\n",
    "\n",
    "lat_above4k=lat\n",
    "\n",
    "\n",
    "#below 4kHz\n",
    "freqs_pts=freqs[6:]*1e3\n",
    "t_max_pts=t_max[6:]\n",
    "lat=PowerLawLatencies()\n",
    "lat.fit_data(t_max_pts, freqs_pts)\n",
    "\n",
    "freqs_lin=np.linspace(0.5, 5)*1e3\n",
    "pl.plot(freqs_lin, lat(freqs_lin)*1e3, color='C2')\n",
    "\n",
    "\n",
    "freqs_lin=np.linspace(0.5, 10)*1e3\n",
    "pl.plot(freqs_lin, lat(freqs_lin)*1e3, color='C2', linestyle='--')\n",
    "\n",
    "pl.plot(freqs_pts, t_max_pts*1e3, '+', markeredgewidth=3, markersize=10)\n",
    "\n",
    "pl.show()\n",
    "\n",
    "pl.figure()\n",
    "\n",
    "pl.plot(freqs_lin, (lat(freqs_lin)-lat.t0)*1e3, color='C2', linestyle='--')\n",
    "\n",
    "pl.plot(freqs_pts0, (t_max_pts0-lat.t0.numpy())*1e3, '+', markeredgewidth=3, markersize=10)\n",
    "\n",
    "pl.plot(freqs_pts, (t_max_pts-lat.t0.numpy())*1e3, '+', markeredgewidth=3, markersize=10)\n",
    "\n",
    "pl.ylabel(' t - t_0 (ms)')\n",
    "\n",
    "pl.xlabel(' f (Hz)')\n",
    "\n",
    "pl.xscale('log')\n",
    "pl.yscale('log')\n",
    "\n",
    "\n"
   ]
  },
  {
   "cell_type": "code",
   "execution_count": null,
   "metadata": {},
   "outputs": [],
   "source": [
    "lat"
   ]
  },
  {
   "cell_type": "markdown",
   "metadata": {},
   "source": [
    "### 4 kHz"
   ]
  },
  {
   "cell_type": "markdown",
   "metadata": {},
   "source": [
    "first estimation I/O curve"
   ]
  },
  {
   "cell_type": "code",
   "execution_count": null,
   "metadata": {},
   "outputs": [],
   "source": [
    "\n",
    "cap=[]\n",
    "rms=[]\n",
    "\n",
    "masker_list=['2_notch4000_bw1700_55dB',\n",
    "'3_notch4000_bw1700_50dB',\n",
    "'4_notch4000_bw1700_45dB',\n",
    "'5_notch4000_bw1700_40dB',\n",
    "'6_notch4000_bw1700_35dB',\n",
    "'7_notch4000_bw1700_32dB',\n",
    "'8_notch4000_bw1700_29dB',\n",
    "'9_notch4000_bw1700_26dB',\n",
    "'10_notch4000_bw1700_23dB']\n",
    "\n",
    "for masker in masker_list:\n",
    "    sig=capData.get_signal_by_name(masker)\n",
    "    sig=process_signal(sig)\n",
    "    broadband_sig_trunc=process_signal(broadband2)\n",
    "    \n",
    "    #REF broadband\n",
    "    cap.append(np.max(sig-broadband_sig_trunc)-np.min(sig-broadband_sig_trunc))\n",
    "    #rms.append(np.std(sig-broadband_sig_trunc))\n",
    "    \n",
    "    #cap.append(np.max(sig)-np.min(sig))\n",
    "    #rms.append(np.std(sig-broadband_sig_trunc))\n",
    "    pl.plot(t2, sig-broadband_sig_trunc, label=masker)\n",
    "\n",
    "\n",
    "pl.legend(bbox_to_anchor=(1.05, 1), loc='upper left')\n",
    "pl.show()\n",
    "\n",
    "pl.figure(figsize=(8, 6))\n",
    "\n",
    "attns=-np.array([55, 50, 45,40,35,32,29,26,23])   # 20])\n",
    "pl.plot(attns, cap, '+', label='max-min')\n",
    "\n",
    "#pl.plot(-np.array([55,50,45,40,37,34,31,28,25,22]), np.array(rms)*10, label='rms x10')\n",
    "pl.legend()\n",
    "pl.xlabel('Notch attenuation')\n",
    "pl.ylabel('Amplitude difference')\n"
   ]
  },
  {
   "cell_type": "code",
   "execution_count": null,
   "metadata": {},
   "outputs": [],
   "source": [
    "sigm=SigmoidIOFunc(0, 0)\n",
    "#maskamount=1-(  (cap-np.amin(cap)) /np.amax(cap-np.amin(cap)) )\n",
    "maskamount=1-(cap/np.amax(cap)) \n",
    "\n",
    "I_pts=I0+attns\n",
    "#sigm.fit_data(I_pts, maskamount, set_mmax=True)\n",
    "\n",
    "#HACK enforce masking=100% at attn20\n",
    "#sigm.mmax.data*=1/sigm(I0-20)\n",
    "\n",
    "sigm.fit_data(I_pts, maskamount, constrained_at_Iref=True, Iref=I0-20)\n",
    "\n",
    "I=np.linspace(-30, 20)\n",
    "pl.plot(I, sigm(torch.tensor(I)), label='fit sigm')\n",
    "pl.xlabel('Power spectral density (dB)')\n",
    "\n",
    "pl.plot(I_pts, maskamount, '+', markersize=10, markeredgewidth=3)\n",
    "\n",
    "pl.plot(I0-20, 1, '+', markersize=10, markeredgewidth=3, color='purple')\n",
    "\n",
    "pl.ylabel('masking (max: broadband)')"
   ]
  },
  {
   "cell_type": "markdown",
   "metadata": {},
   "source": [
    "Setting model"
   ]
  },
  {
   "cell_type": "code",
   "execution_count": null,
   "metadata": {},
   "outputs": [],
   "source": [
    "ntch_maskerNames, ntch_maskingConds, ntch_signals =capData.get_batch_re('.*notch4000_bw1700')\n",
    "ntch_maskingConds.set_amp0_dB(I0)"
   ]
  },
  {
   "cell_type": "code",
   "execution_count": null,
   "metadata": {},
   "outputs": [],
   "source": [
    "#HACK pad maskers >12e3 to avoid issues with latencies (equivalent to taking the difference\n",
    "#  excitations of maskers - excitation 'broadband noise')\n",
    "ntch_maskingConds.pad_maskers(f_thr=11000, f_max=1e5)"
   ]
  },
  {
   "cell_type": "code",
   "execution_count": null,
   "metadata": {},
   "outputs": [],
   "source": [
    "gauss_sigma=(1.5e-4)/(t2[1]-t2[0])\n",
    "ntch_signals_proc=process_signal2(ntch_signals, gauss_sigma=gauss_sigma)"
   ]
  },
  {
   "cell_type": "code",
   "execution_count": null,
   "metadata": {},
   "outputs": [],
   "source": [
    "# test\n",
    "\n",
    "for maskerName, sig in zip(ntch_maskerNames, ntch_signals_proc):\n",
    "    pl.plot(t2, sig, label=maskerName)\n",
    "\n",
    "pl.legend(bbox_to_anchor=(1.05, 1), loc='upper left')"
   ]
  },
  {
   "cell_type": "code",
   "execution_count": null,
   "metadata": {},
   "outputs": [],
   "source": [
    "# estimation ur\n",
    "\n",
    "sig=capData.get_signal_by_name('4_notch8000_bw2300_45dB')\n",
    "sig2=process_signal(sig)\n",
    "\n",
    "pl.plot((t2-3e-3)*1e3, sig2-broadband_proc)\n",
    "\n",
    "#pl.plot(t2*1e3, sig2bis-broadband_proc)\n",
    "\n",
    "t_shift=6e-3-3e-3 #excitation coincides with CM\n",
    "\n",
    "ur0=sig2-broadband_proc\n",
    "ur0=np.roll(ur0,  -int(t_shift*48828) )\n",
    "pl.plot((t2-3e-3)*1e3, ur0)\n",
    "#pl.xlim([4,6])"
   ]
  },
  {
   "cell_type": "code",
   "execution_count": null,
   "metadata": {},
   "outputs": [],
   "source": [
    "m=72\n",
    "E0_temp=sg.windows.tukey(m, alpha=0.5) \n",
    "E0=np.zeros_like(t2)\n",
    "ind_begin=int((t_shift-1e-3)*48828)\n",
    "ind_end=int((t_shift-1e-3)*48828)+m\n",
    "E0[ind_begin:ind_end]=E0_temp\n",
    "\n",
    "pl.plot(t2*1e3, E0)\n",
    "pl.title('Init raw excitation')\n",
    "pl.xlabel('t (ms)')\n",
    "pl.ylabel('Amp')"
   ]
  },
  {
   "cell_type": "code",
   "execution_count": null,
   "metadata": {},
   "outputs": [],
   "source": [
    "#latencies model\n",
    "\n",
    "#lat_model=lat_above4k\n",
    "#lat_model=lat\n",
    "\n",
    "#lat_model=PowerLawLatencies.shift(lat_model, 6e-3-1e-3)   #t0: start CM-1ms\n",
    "\n",
    "#HACK as latencies are very small (sampling issues), manual dilatation\n",
    "\n",
    "lat_model=PowerLawLatencies.fromPts(0.0058, 6000, 0.006, 4000)"
   ]
  },
  {
   "cell_type": "code",
   "execution_count": null,
   "metadata": {},
   "outputs": [],
   "source": [
    "E=ExcitationPatterns(t2, E0)  #no non-maskable part\n",
    "\n",
    "BW10_0=1000\n",
    "BW10_0Func=constant_BW10(BW10_0, requires_grad=False)\n",
    "\n",
    "E.set_masking_model(lat_model, BW10_0Func, ntch_maskingConds, sigm)"
   ]
  },
  {
   "cell_type": "code",
   "execution_count": null,
   "metadata": {},
   "outputs": [],
   "source": [
    "plotLatencies(lat_model)"
   ]
  },
  {
   "cell_type": "raw",
   "metadata": {},
   "source": [
    "pl.figure(figsize=(10,20))\n",
    "plotMaskingAmountExcitations(BW10_0Func, ntch_maskingConds, sigm)\n",
    "pl.show()"
   ]
  },
  {
   "cell_type": "code",
   "execution_count": null,
   "metadata": {},
   "outputs": [],
   "source": [
    "pl.figure(figsize=(10,20))\n",
    "plotExcitationPatterns(E, plot_raw_excitation=True) # ylim_top=1\n",
    "pl.show()"
   ]
  },
  {
   "cell_type": "raw",
   "metadata": {},
   "source": [
    "maskAmounts, excs = E.get_tensors() \n",
    "\n",
    "for i in range(5):\n",
    "    pl.plot(E.t*1e3, maskAmounts[i], label=ntch_maskerNames[i])\n",
    "pl.xlim([3,6])\n",
    "pl.ylim([0,1])\n",
    "pl.legend(bbox_to_anchor=(1.05, 1), loc='upper left')"
   ]
  },
  {
   "cell_type": "code",
   "execution_count": null,
   "metadata": {},
   "outputs": [],
   "source": [
    "#estimation ur\n",
    "\n",
    "maskAmounts, excs = E.get_tensors() \n",
    "\n",
    "nb_steps=20\n",
    "alpha=np.linspace(0.5, 0.05, nb_steps)\n",
    "\n",
    "EPs_fft=np.fft.rfft(excs, axis=1)\n",
    "CAPs_fft=np.fft.rfft(ntch_signals_proc, axis=1)\n",
    "#u1_mat=np.tile(ur0, (ntch_maskingConds.n_conditions, 1))\n",
    "u1_mat=np.zeros_like(ntch_signals_proc)\n",
    "filter_mat  = (t2>7.5e-3)+(t2<3.2e-3)\n",
    "filter_mat=np.tile(filter_mat, (ntch_maskingConds.n_conditions, 1))\n",
    "#filter_mat=np.zeros_like(ntch_signals_proc, dtype=bool)\n",
    "#proj_fft=E.get_projector_fft()\n",
    "\n",
    "weights=np.sqrt(np.sum(excs.clone().detach().numpy()**2, axis=1))\n",
    "for i in range(1, nb_steps+1):\n",
    "    du=deconv_newton_step(u1_mat, EPs_fft, CAPs_fft, eps_ridge=0)   #TODO proj_fft\n",
    "    #du=deconv_grad(u1_mat, EPs_fft, CAPs_fft)\n",
    "    \n",
    "    u1_mat-=alpha[i-1]*du\n",
    "    #proj 1 \n",
    "    u1_mat[filter_mat]=np.zeros_like(u1_mat[filter_mat])\n",
    "    #proj 2\n",
    "\n",
    "    #u1_mat_mean=np.mean(u1_mat, axis=0)[None, :]\n",
    "    \n",
    "    \n",
    "    #HACK waiting for proj_fft\n",
    "    u1_mat_mean=np.average(u1_mat, axis=0, weights=weights)[None, :]\n",
    "    u1_mat=np.repeat(u1_mat_mean, ntch_maskingConds.n_conditions, axis=0)\n",
    "     \n",
    "    '''\n",
    "    for i in range(5):\n",
    "            pl.figure()\n",
    "            name=ntch_maskerNames[i]\n",
    "            pl.plot(u1_mat[i], label=name, color=f'C{i}')\n",
    "            #pl.plot( np.abs(EPs_fft[i]))\n",
    "            pl.legend(bbox_to_anchor=(1.05, 1), loc='upper left')\n",
    "    '''\n",
    "    \n",
    "    if i==nb_steps:\n",
    "        pl.figure()\n",
    "        pl.title(f'Step {i} (deconv + proj)')\n",
    "        #pl.plot(t, u0, label='u0 (truth)')\n",
    "        pl.plot(t2, u1_mat[0], label='u0 (estimated)')\n",
    "        pl.legend()\n",
    "        pl.show()"
   ]
  },
  {
   "cell_type": "markdown",
   "metadata": {},
   "source": [
    "Reestimation I/O curve"
   ]
  },
  {
   "cell_type": "code",
   "execution_count": null,
   "metadata": {},
   "outputs": [],
   "source": [
    "exc_max=[]\n",
    "exc_rms=[]\n",
    "attns_=[]\n",
    "\n",
    "amps=ntch_maskingConds.amp_list[1]\n",
    "for i in range(len(ntch_maskerNames)):\n",
    "    name=ntch_maskerNames[i]\n",
    "    sig=ntch_signals_proc[i]\n",
    "    \n",
    "    #pl.plot(t2*1e3, excs[i], label=name, color=f'C{i}')\n",
    "\n",
    "    E_i=np.zeros_like(sig)\n",
    "    E_i=deconv_newton(E_i, sig, ur0=u1_mat[0], alpha=1, nb_steps=20, t0=5.7e-3, t1=6.5e-3, eps_ridge=0.1)  #double peak?\n",
    "    \n",
    "    \n",
    "    attn_=20*np.log10(amps[i])\n",
    "    \n",
    "    #HACK remove outlier\n",
    "    #if not (np.abs(attn_-65)<2):\n",
    "    if True:\n",
    "        exc_max.append(np.amax(E_i))\n",
    "\n",
    "        exc_rms.append(np.sqrt(np.sum(E_i**2) ))\n",
    "        attns_.append(attn_)\n",
    "    pl.plot(t2*1e3, E_i, label=name, color=f'C{i}')\n",
    "    \n",
    "pl.legend(bbox_to_anchor=(1.05, 1), loc='upper left')\n",
    "\n",
    "\n",
    "pl.figure()\n",
    "pl.plot(attns_, exc_max, '+')\n",
    "                   \n",
    "pl.plot(attns_, np.array(exc_rms)*0.2, '+')\n",
    "pl.xlabel('Intensity (dB)')"
   ]
  },
  {
   "cell_type": "code",
   "execution_count": null,
   "metadata": {},
   "outputs": [],
   "source": [
    "#reestimation I-0 curve: \n",
    "\n",
    "I_pts=np.array(attns_)  #I0 already in masking cond\n",
    "\n",
    "sigm=SigmoidIOFunc(0, 0)\n",
    "exc_rms=np.array(exc_rms)\n",
    "maskamount=1- (exc_rms)/np.amax(exc_rms) \n",
    "\n",
    "\n",
    "#add broadband condition\n",
    "#attns_.append(80)\n",
    "#ma_list=list(maskamount)\n",
    "#ma_list.append(1.)\n",
    "#maskamount=np.array(ma_list)\n",
    "\n",
    "#sigm.fit_data(np.array(attns_), maskamount, set_mmax=True)\n",
    "\n",
    "#HACK enforce masking=100% at attn20\n",
    "#sigm.mmax.data*=1/sigm(I0-20)\n",
    "\n",
    "sigm.fit_data(I_pts, maskamount, constrained_at_Iref=True, Iref=I0-20)\n",
    "\n",
    "\n",
    "I=np.linspace(-30, 20)\n",
    "pl.plot(I, sigm(torch.tensor(I)), label='fit sigm')\n",
    "\n",
    "\n",
    "pl.suptitle('Amount of masking in response to broadband noise')\n",
    "pl.title(' (as estimated with the notch method)', fontsize=10)\n",
    "pl.xlabel('Power spectral density (dB)')\n",
    "\n",
    "pl.plot(I_pts, maskamount, '+', markersize=10, markeredgewidth=3)\n",
    "pl.plot(I0-20, 1, '+', markersize=10, markeredgewidth=3, color='purple')\n",
    "\n",
    "pl.ylabel('masking (ref max: no notch)')\n"
   ]
  },
  {
   "cell_type": "raw",
   "metadata": {},
   "source": [
    "masker_name='5_notch5100_bw1100'\n",
    "sig=capData.get_signal_by_name(masker_name)\n",
    "sig=process_signal2(sig)\n",
    "#pl.plot(t2*1e3, excs[i], label=name, color=f'C{i}')\n",
    "\n",
    "E_i=np.zeros_like(sig)\n",
    "E_i=deconv_newton(E_i, sig, ur0=u1_mat[0], alpha=0.1, nb_steps=20, t0=5.7e-3, t1=6.5e-3, eps_ridge=0.1)  #double peak?\n",
    "\n",
    "pl.plot(t2*1e3, E_i, label=masker_name, color=f'C{i}')\n",
    "\n",
    "pl.legend(bbox_to_anchor=(1.05, 1), loc='upper left')\n"
   ]
  },
  {
   "cell_type": "markdown",
   "metadata": {},
   "source": [
    "test model"
   ]
  },
  {
   "cell_type": "code",
   "execution_count": null,
   "metadata": {},
   "outputs": [],
   "source": [
    "#model\n",
    "u1=u1_mat[0]\n",
    "pl.figure(figsize=(12,20))\n",
    "ax_list=plotSimulatedCAPs(E, u1, ylim=[-0.01, 0.01], max_plots=10)\n",
    "plotSimulatedCAPs(E, CAParray=ntch_signals_proc, axlist=ax_list, max_plots=10)\n",
    "pl.plot()"
   ]
  },
  {
   "cell_type": "code",
   "execution_count": null,
   "metadata": {},
   "outputs": [],
   "source": [
    "fln_list=['1-notch3800_bw800.json',\n",
    "'2-notch4000_bw900.json',\n",
    "'3-notch4000_bw1000.json',\n",
    "'4-notch4200_bw1100.json',\n",
    "'5-notch4200_bw800.json',\n",
    "'6-notch3800_bw1200.json']\n",
    "masker_list=[st.replace('-', '_').replace('.json', '') for st in fln_list]\n",
    "reg_exp=')|('.join(masker_list)\n",
    "reg_exp='('+reg_exp+')'\n",
    "vbw_maskerNames, vbw_maskingConds, vbw_signals =capData.get_batch_re(reg_exp)\n",
    "vbw_signals_proc=process_signal2(vbw_signals, gauss_sigma=gauss_sigma)\n",
    "vbw_maskingConds.set_amp0_dB(I0)"
   ]
  },
  {
   "cell_type": "code",
   "execution_count": null,
   "metadata": {},
   "outputs": [],
   "source": [
    "#HACK\n",
    "vbw_maskingConds.pad_maskers(f_thr=11000, f_max=1e5)"
   ]
  },
  {
   "cell_type": "code",
   "execution_count": null,
   "metadata": {},
   "outputs": [],
   "source": [
    "E2=ExcitationPatterns(t2, E0)  #no non-maskable part\n",
    "BW10_0TestFunc=constant_BW10(1200, requires_grad=False)\n",
    "\n",
    "E2.set_masking_model(lat_model, BW10_0TestFunc, vbw_maskingConds, sigm)"
   ]
  },
  {
   "cell_type": "code",
   "execution_count": null,
   "metadata": {},
   "outputs": [],
   "source": [
    "#model\n",
    "u1=u1_mat[0]\n",
    "pl.figure(figsize=(10,14))\n",
    "ax_list=plotSimulatedCAPs(E2, u1, ylim=[-0.01, 0.01])\n",
    "plotSimulatedCAPs(E2, CAParray=vbw_signals_proc, axlist=ax_list)\n",
    "pl.plot()"
   ]
  },
  {
   "cell_type": "code",
   "execution_count": null,
   "metadata": {},
   "outputs": [],
   "source": [
    "bw_arr=np.linspace(500, 4000)\n",
    "sigs_ref=vbw_signals_proc\n",
    "errs=[]\n",
    "for bw in bw_arr:\n",
    "\n",
    "    BW10_0TestFunc=constant_BW10(bw, requires_grad=False)\n",
    "    E2.set_masking_model(lat_model, BW10_0TestFunc, vbw_maskingConds, sigm)\n",
    "    excs = E2.get_tensor() \n",
    "    maskingConditions = E2.maskingConditions\n",
    "    err=0\n",
    "    for i, exc in zip(range(maskingConditions.n_conditions), excs):\n",
    "        exc_np = exc.detach().numpy()\n",
    "        CAP=np.convolve(exc_np, u1, mode='full')\n",
    "        t=E.t.numpy()\n",
    "        CAP=CAP[0:len(E2.t)]\n",
    "        err+=np.sum( (CAP-sigs_ref[i])**2)\n",
    "    errs.append(err)\n",
    "    \n",
    "pl.plot(bw_arr, errs)\n",
    "pl.xlabel('BW10 model (Hz)')\n",
    "\n",
    "pl.ylabel('square err')\n"
   ]
  },
  {
   "cell_type": "code",
   "execution_count": null,
   "metadata": {},
   "outputs": [],
   "source": []
  },
  {
   "cell_type": "code",
   "execution_count": null,
   "metadata": {},
   "outputs": [],
   "source": []
  }
 ],
 "metadata": {
  "kernelspec": {
   "display_name": "torch",
   "language": "python",
   "name": "torch"
  },
  "language_info": {
   "codemirror_mode": {
    "name": "ipython",
    "version": 3
   },
   "file_extension": ".py",
   "mimetype": "text/x-python",
   "name": "python",
   "nbconvert_exporter": "python",
   "pygments_lexer": "ipython3",
   "version": "3.8.5"
  }
 },
 "nbformat": 4,
 "nbformat_minor": 4
}
