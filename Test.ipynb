{
 "cells": [
  {
   "cell_type": "code",
   "execution_count": null,
   "metadata": {},
   "outputs": [],
   "source": [
    "import torch\n",
    "from tuning import constant_BW10\n",
    "from latencies import PowerLawLatencies\n",
    "\n",
    "import numpy as np\n",
    "import matplotlib.pyplot as pl"
   ]
  },
  {
   "cell_type": "markdown",
   "metadata": {},
   "source": [
    "### Excitation pattern"
   ]
  },
  {
   "cell_type": "code",
   "execution_count": null,
   "metadata": {},
   "outputs": [],
   "source": [
    "bw10Func=constant_BW10(500)\n",
    "filter_model='gaussian'\n",
    "f=torch.linspace(1000, 4000,200)\n"
   ]
  },
  {
   "cell_type": "code",
   "execution_count": null,
   "metadata": {},
   "outputs": [],
   "source": [
    "n_conditions=1\n",
    "n_bands=1\n",
    "amp_list=[torch.tensor([1.])]\n",
    "f_low_list=[torch.tensor([3000])]\n",
    "f_high_list=[torch.tensor([3002])]"
   ]
  },
  {
   "cell_type": "code",
   "execution_count": null,
   "metadata": {},
   "outputs": [],
   "source": [
    "\n",
    "bw10=bw10Func(f)\n",
    "bw10_inv=1/bw10\n",
    "\n",
    "if filter_model=='gaussian': \n",
    "\n",
    "    cte=2*np.sqrt(2*np.log(10)) #sig_f=bw10/(2*2.14...)\n",
    "    def F(x):\n",
    "        return 1/2+1/2*torch.erf(x*cte/np.sqrt(2))   \n",
    "exc=torch.zeros(n_conditions, f.shape[0])\n",
    "\n",
    "assert len(amp_list)==len(f_low_list)==len(f_high_list)==n_bands, 'band param lists must be of length n_bands'\n",
    "\n",
    "for amp, f_low, f_high in zip(amp_list, f_low_list, f_high_list):\n",
    "    b=(torch.unsqueeze(f_high, 1) - torch.unsqueeze(f, 0))*bw10_inv\n",
    "    a=(torch.unsqueeze(f_low, 1) - torch.unsqueeze(f, 0))*bw10_inv\n",
    "    exc+= amp*(F(b)-F(a))"
   ]
  },
  {
   "cell_type": "code",
   "execution_count": null,
   "metadata": {},
   "outputs": [],
   "source": [
    "F(b)"
   ]
  },
  {
   "cell_type": "code",
   "execution_count": null,
   "metadata": {},
   "outputs": [],
   "source": [
    "pl.plot(f, np.sqrt(exc[0]/0.007))\n",
    "pl.plot(f, np.sqrt(1/10)*f/f)\n",
    "pl.xlim([2500, 3500])"
   ]
  },
  {
   "cell_type": "code",
   "execution_count": null,
   "metadata": {},
   "outputs": [],
   "source": [
    "exc.numpy()"
   ]
  },
  {
   "cell_type": "markdown",
   "metadata": {},
   "source": [
    "### Test latencies"
   ]
  },
  {
   "cell_type": "code",
   "execution_count": null,
   "metadata": {},
   "outputs": [],
   "source": [
    "\n",
    "Eggermont1976clickLatencies80dB=PowerLawLatencies.fromPts(5.3e-3, 1e3, 2e-3, 5e3, name=\"Eggermont 1976 click 80dB\")\n"
   ]
  },
  {
   "cell_type": "code",
   "execution_count": null,
   "metadata": {},
   "outputs": [],
   "source": [
    "Eggermont1976clickLatencies80dB"
   ]
  },
  {
   "cell_type": "code",
   "execution_count": null,
   "metadata": {},
   "outputs": [],
   "source": [
    "t=torch.linspace(0, 5e-3, 100)"
   ]
  },
  {
   "cell_type": "code",
   "execution_count": null,
   "metadata": {},
   "outputs": [],
   "source": [
    "f=Eggermont1976clickLatencies80dB.f_from_t(t)"
   ]
  },
  {
   "cell_type": "code",
   "execution_count": null,
   "metadata": {},
   "outputs": [],
   "source": [
    "pl.plot(t, f)"
   ]
  },
  {
   "cell_type": "code",
   "execution_count": null,
   "metadata": {},
   "outputs": [],
   "source": []
  }
 ],
 "metadata": {
  "kernelspec": {
   "display_name": "torch",
   "language": "python",
   "name": "torch"
  },
  "language_info": {
   "codemirror_mode": {
    "name": "ipython",
    "version": 3
   },
   "file_extension": ".py",
   "mimetype": "text/x-python",
   "name": "python",
   "nbconvert_exporter": "python",
   "pygments_lexer": "ipython3",
   "version": "3.8.5"
  }
 },
 "nbformat": 4,
 "nbformat_minor": 4
}
