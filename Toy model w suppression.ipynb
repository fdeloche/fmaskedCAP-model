{
 "cells": [
  {
   "cell_type": "code",
   "execution_count": null,
   "metadata": {},
   "outputs": [],
   "source": [
    "import torch\n",
    "\n",
    "import numpy as np\n",
    "import matplotlib as mpl\n",
    "import matplotlib.pyplot as pl\n",
    "import scipy.signal as sg\n",
    "\n",
    "pl.style.use('fivethirtyeight')\n",
    "mpl.rcParams['axes.facecolor']='white'  \n",
    "mpl.rcParams['figure.facecolor'] = '1'\n",
    "\n",
    "from scipy.ndimage  import gaussian_filter1d\n",
    "\n",
    "import json\n",
    "import re\n",
    "import os\n",
    "\n",
    "#import copy"
   ]
  },
  {
   "cell_type": "code",
   "execution_count": null,
   "metadata": {},
   "outputs": [],
   "source": [
    "from masking import *\n",
    "from latencies import *\n",
    "from excitation import *\n",
    "from deconv import *\n",
    "from ur import *\n",
    "from tuning import *\n",
    "from test import *\n",
    "from ur import *\n",
    "\n",
    "from suppression import *\n",
    "\n",
    "from data import CAPData\n"
   ]
  },
  {
   "cell_type": "code",
   "execution_count": null,
   "metadata": {},
   "outputs": [],
   "source": [
    "from ipywidgets import interact, interactive, fixed, interact_manual\n",
    "import ipywidgets as widgets"
   ]
  },
  {
   "cell_type": "markdown",
   "metadata": {},
   "source": [
    "### Simulate CAPs"
   ]
  },
  {
   "cell_type": "code",
   "execution_count": null,
   "metadata": {},
   "outputs": [],
   "source": [
    "#masking degree function\n",
    "#mdFunc=SigmoidMaskingDegreeFunction(30, 2*1/10., requires_grad=False)\n",
    "mdFunc=WeibullCDF_IOFunc(0, 30, 7)\n",
    "#latencies\n",
    "lat0=Eggermont1976clickLatencies80dB #latencies\n",
    "\n",
    "#Unitary response\n",
    "#defined later\n",
    "#ur0Wang=URWang1979m\n",
    "#t=np.linspace(5e-4, 10e-3, num=500)\n",
    "#u00=ur0Wang.u(t-2e-3) #shift\n",
    "#sig=0.2e-3 #std of gaussian kernel in s\n",
    "#sig2=sig/(t[1]-t[0])\n",
    "#u0 = gaussian_filter1d(u00, sigma=sig2)\n",
    "#u0/=np.amax(np.abs(u0))\n",
    "#u0*=0.5*np.amax(np.abs(u00))\n",
    "\n",
    "#tuning\n",
    "#BW10_0=500\n",
    "#BW10Func=constant_BW10(BW10_0, requires_grad=False)\n",
    "\n",
    "BW10Func=Q10PowerLaw(2, 1000, 0.5, requires_grad=False)\n",
    "\n",
    "plotMaskingDegreeFunc(mdFunc)\n",
    "plotLatencies(lat0)"
   ]
  },
  {
   "cell_type": "markdown",
   "metadata": {},
   "source": [
    "Suppression parameters"
   ]
  },
  {
   "cell_type": "code",
   "execution_count": null,
   "metadata": {},
   "outputs": [],
   "source": [
    "np.log10(3.8)"
   ]
  },
  {
   "cell_type": "code",
   "execution_count": null,
   "metadata": {},
   "outputs": [],
   "source": [
    "supp_freq_factor=1.14 #(Altoe et al 2021)\n",
    "\n",
    "supp_BW10Func=Q10PowerLaw(0.52, 1000, 0.58, requires_grad=False)   #10kHz -> 3.8   np.log10(3.8)=0.57978\n",
    "#Charaziak and Siegel 2014\n",
    "\n",
    "suppFunc=LogLinearSuppression(0.2, 0.1)\n",
    "suppAmount=SuppressionAmount(suppFunc, supp_BW10Func, supp_freq_factor)"
   ]
  },
  {
   "cell_type": "code",
   "execution_count": null,
   "metadata": {},
   "outputs": [],
   "source": [
    "supp_BW10Func(5000)"
   ]
  },
  {
   "cell_type": "raw",
   "metadata": {},
   "source": [
    "pl.plot(t*1e3, u00, label='unitary response')\n",
    "pl.plot(t*1e3, u0, label='ur + nPSHT (blur)',  color='orange')\n",
    "pl.legend(loc='lower right')\n",
    "pl.title(\"Unitary response\")\n",
    "pl.xlabel('t (ms)')"
   ]
  },
  {
   "cell_type": "markdown",
   "metadata": {},
   "source": [
    "Example: two maskers"
   ]
  },
  {
   "cell_type": "code",
   "execution_count": null,
   "metadata": {},
   "outputs": [],
   "source": [
    "json_txt='''{\n",
    "    \"type\":\"noise-bands\", \n",
    "    \"n_bands\":2, \n",
    "    \"bands\":[\n",
    "        {\n",
    "            \"amplitude\":0.05, \n",
    "            \"fc_low\":3500, \n",
    "            \"fc_high\":4100\n",
    "        }, \n",
    "        {\n",
    "            \"amplitude\":0.1, \n",
    "            \"fc_low\":5000, \n",
    "            \"fc_high\":12000\n",
    "        }\n",
    "    ], \n",
    "    \"name\":\"2bands-6dB\"\n",
    "}'''\n",
    "\n",
    "json_txt2='''{\n",
    "    \"type\":\"noise-bands\", \n",
    "    \"comment\":\"created with noiseBandMaskerDesigner\", \n",
    "    \"n_bands\":1, \n",
    "    \"bands\":{\n",
    "        \"amplitude\":0.1, \n",
    "        \"fc_low\":4800, \n",
    "        \"fc_high\":12000\n",
    "    }, \n",
    "    \"name\":\"4-hp-4800Hz\"\n",
    "}'''\n",
    "\n",
    "json_txt3='''{\n",
    "    \"type\":\"noise-bands\", \n",
    "    \"n_bands\":2, \n",
    "    \"bands\":[\n",
    "        {\n",
    "            \"amplitude\":0.1, \n",
    "            \"fc_low\":3500, \n",
    "            \"fc_high\":4100\n",
    "        }, \n",
    "        {\n",
    "            \"amplitude\":0.1, \n",
    "            \"fc_low\":5000, \n",
    "            \"fc_high\":12000\n",
    "        }\n",
    "    ], \n",
    "    \"name\":\"2bands-0dB\"\n",
    "}'''\n",
    "\n",
    "\n",
    "json_txt4='''{\n",
    "    \"type\":\"noise-bands\", \n",
    "    \"n_bands\":2, \n",
    "    \"bands\":[\n",
    "        {\n",
    "            \"amplitude\":0.03, \n",
    "            \"fc_low\":3000, \n",
    "            \"fc_high\":4200\n",
    "        }, \n",
    "        {\n",
    "            \"amplitude\":0.1, \n",
    "            \"fc_low\":5000, \n",
    "            \"fc_high\":12000\n",
    "        }\n",
    "    ], \n",
    "    \"name\":\"2bands-10dBbis\"\n",
    "}'''\n",
    "\n",
    "json_txt_ref='''{\n",
    "    \"type\":\"noise-bands\", \n",
    "    \"n_bands\":1, \n",
    "    \"bands\":[\n",
    "        {\n",
    "            \"amplitude\":0.1, \n",
    "            \"fc_low\":6000, \n",
    "            \"fc_high\":12000\n",
    "        }\n",
    "    ], \n",
    "    \"name\":\"hp6000\"\n",
    "}'''\n",
    "\n",
    "\n",
    "json_txt_ref='''{\n",
    "    \"type\":\"noise-bands\", \n",
    "    \"n_bands\":1, \n",
    "    \"bands\":[\n",
    "        {\n",
    "            \"amplitude\":0.1, \n",
    "            \"fc_low\":4000, \n",
    "            \"fc_high\":12000\n",
    "        }\n",
    "    ], \n",
    "    \"name\":\"hp4000\"\n",
    "}'''\n",
    "\n",
    "#stim_struct=json.loads(json_txt)\n",
    "\n",
    "#Alternative: load from json files\n",
    "stim_folder='/home/fdeloche/Documents/Others/CAP-acquisition/stimuli/stim_files/test5kHz-difflevelsb/'  # b or not b?\n",
    "\n",
    "#with open(f'{stim_folder}/4-hp6000-narrowband5kHz-32dB.json', 'r') as f:\n",
    "#with open(f'{stim_folder}/14-hp6000-narrowband4500-20dB.json', 'r') as f:\n",
    "#with open(f'{stim_folder}/18-hp6200-multnarrowband-attnnotch30dB.json', 'r') as f:\n",
    "#with open(f'{stim_folder}/25-hp5400-narrowband4300-30dB.json', 'r') as f:\n",
    "with open(f'{stim_folder}/15-hp6200-gradualamp.json', 'r') as f:\n",
    "    json_txt=f.read()\n",
    "\n",
    "#with open(f'{stim_folder}/6-hp6000-narrowband5kHz-26dB.json', 'r') as f:\n",
    "#with open(f'{stim_folder}/13-hp6000-narrowband4000-20dB.json', 'r') as f:\n",
    "#with open(f'{stim_folder}/19-hp6200-multnarrowband-attnnotch25dB.json', 'r') as f:\n",
    "#with open(f'{stim_folder}/15-hp6200-gradualamp.json', 'r') as f:\n",
    "with open(f'{stim_folder}/19-notch5300-bw1400.json', 'r') as f:\n",
    "    json_txt2=f.read()\n",
    "    \n",
    "\n",
    "#with open(f'{stim_folder}/8-hp6000-narrowband5kHz-20dB.json', 'r') as f:\n",
    "#with open(f'{stim_folder}/12-hp6000-narrowband4000-30dB.json', 'r') as f:\n",
    "#with open(f'{stim_folder}/20-hp6200-multnarrowband-attnnotch35dB.json', 'r') as f:\n",
    "#with open(f'{stim_folder}/27-hp6100-multbands.json', 'r') as f:\n",
    "with open(f'{stim_folder}/14-hp6200-gradualamp.json', 'r') as f:\n",
    "    json_txt3=f.read()\n",
    "\n",
    "\n",
    "#with open(f'{stim_folder}/10-hp6000-narrowband5kHz-14dB.json', 'r') as f:\n",
    "#with open(f'{stim_folder}/11-hp6000-narrowband4500-30dB.json', 'r') as f:\n",
    "#with open(f'{stim_folder}/15-hp6000-narrowband4500-14dB.json', 'r') as f:\n",
    "#with open(f'{stim_folder}/13-hp6200-gradualamp.json', 'r') as f:\n",
    "#with open(f'{stim_folder}/26-hp6300-multbands.json', 'r') as f:   \n",
    "with open(f'{stim_folder}/21-notch5300-bw1800-nonotch.json', 'r') as f:\n",
    "    json_txt4=f.read()\n",
    "\n",
    "\n",
    "maskingConditions=MaskingConditions.from_json_strings([json_txt, json_txt2, json_txt3, json_txt4])\n",
    "\n",
    "#maskingConditionsRef=MaskingConditions.from_json_strings([json_txt_ref, json_txt_ref, json_txt_ref, json_txt_ref])\n",
    "maskingConditionsRef=MaskingConditions.from_json_strings([ json_txt3,  json_txt4, json_txt,  json_txt4])\n",
    "\n",
    "\n",
    "#maskingConditions.add_json_strings([json_txt])"
   ]
  },
  {
   "cell_type": "code",
   "execution_count": null,
   "metadata": {},
   "outputs": [],
   "source": [
    "#maskingConditions.get_tensor_lists()\n",
    "maskingConditions"
   ]
  },
  {
   "cell_type": "code",
   "execution_count": null,
   "metadata": {},
   "outputs": [],
   "source": [
    "pl.figure(figsize=(11,10))\n",
    "axlist=plotMaskingExcitations( BW10Func, maskingConditions)\n",
    "plotMaskingExcitations( supp_BW10Func, maskingConditions, axlist=axlist, freq_factor=supp_freq_factor)\n",
    "#pl.savefig('toymodel_maskers3.svg')"
   ]
  },
  {
   "cell_type": "code",
   "execution_count": null,
   "metadata": {},
   "outputs": [],
   "source": [
    "maskingConditions.set_amp0_dB(60)\n",
    "maskingConditionsRef.set_amp0_dB(60)"
   ]
  },
  {
   "cell_type": "code",
   "execution_count": null,
   "metadata": {},
   "outputs": [],
   "source": [
    "pl.figure(figsize=(11,10))\n",
    "axlist=plotMaskingAmountExcitations( BW10Func, maskingConditions, mdFunc)\n",
    "\n",
    "plotMaskingAmountExcitations( BW10Func, maskingConditions, mdFunc, axlist=axlist, suppressionAmount=suppAmount)\n"
   ]
  },
  {
   "cell_type": "raw",
   "metadata": {},
   "source": [
    "pl.figure(figsize=(11,10))\n",
    "plotMaskingExcitations( BW10Func, maskingConditions, filter_model='gammatone_4')"
   ]
  },
  {
   "cell_type": "raw",
   "metadata": {},
   "source": [
    "t=torch.linspace(0.5, 7, 500)*1e-3\n",
    "\n",
    "#E0=t>1e-3\n",
    "\n",
    "#E=ExcitationPatterns(t, E0)\n",
    "\n",
    "E=ExcitationPatterns.GammaExcitation(t, 1, 1.5, 1/(2e-3), 1e-3)\n",
    "\n",
    "plotExcitationPatterns(E)\n",
    "\n",
    "pl.figure(figsize=(12, 10))\n",
    "\n",
    "E.set_masking_model(lat0, BW10Func, maskingConditions, mdFunc, filter_model='gaussian')\n",
    "\n",
    "#maskingAmount, ex_patterns=E.get_tensors()\n",
    "plotExcitationPatterns(E, plot_raw_excitation=False)"
   ]
  },
  {
   "cell_type": "raw",
   "metadata": {},
   "source": [
    "#UR\n",
    "#t2=np.linspace()\n",
    "t=np.linspace(0.5, 7, 500)*1e-3\n",
    "\n",
    "\n",
    "urWang=URWang1979shifted.u(t+0.5e-3)\n",
    "urWangm = URWang1979m.u(t-1.5e-3)\n",
    "\n",
    "dt=t[1]-t[0]\n",
    "ur00Wang=gaussian_filter1d(urWang, 2e-4/dt)\n",
    "ur0Wang=gaussian_filter1d(urWangm, 2e-4/dt)\n",
    "\n",
    "pl.figure()\n",
    "pl.title('Examples of unitary responses')\n",
    "pl.plot(t*1e3, urWang, label='Wang')\n",
    "pl.plot(t*1e3, urWangm, label='Wang modified')\n",
    "\n",
    "pl.plot(t*1e3, ur00Wang, label='Wang + gaussian blur')\n",
    "pl.plot(t*1e3, ur0Wang, label='Wang m + gaussian blur')\n",
    "pl.legend()\n",
    "pl.xlabel('t (ms)')\n",
    "\n",
    "u0=ur0Wang"
   ]
  },
  {
   "cell_type": "raw",
   "metadata": {},
   "source": [
    "#CAP\n",
    "\n",
    "pl.figure(figsize=(12, 10))\n",
    "plotSimulatedCAPs(E, u0)"
   ]
  },
  {
   "cell_type": "markdown",
   "metadata": {},
   "source": [
    "### Interactive plots"
   ]
  },
  {
   "cell_type": "code",
   "execution_count": null,
   "metadata": {},
   "outputs": [],
   "source": [
    "@interact_manual( BW0=widgets.IntSlider(value=500, min=100, max=2000, step=50),  BW1=widgets.IntSlider(value=500, min=100, max=2000, step=50), BWsupp=widgets.IntSlider(value=3000, min=1500, max=4500, step=50),\n",
    "         a=(0.01, 0.6,0.02), freq_factor=(1.0, 2., 0.05), I0supp=(1, 100, 5), useRefMaskers=False)\n",
    "def plotMaskingExcitations_interact(BW0, BW1, BWsupp, a, freq_factor, I0supp, useRefMaskers):\n",
    "    #BW1=BW0*(1000/800)\n",
    "    BW10func0=constant_BW10(BW0)\n",
    "    \n",
    "    BW10func1=constant_BW10(BW1)\n",
    "    BW10supp=constant_BW10(BWsupp)\n",
    "    \n",
    "    \n",
    "    \n",
    "    pl.figure(figsize=(12, 10))\n",
    "    \n",
    "\n",
    "    suppFunc=LogLinearSuppression(a, I0supp)\n",
    "    suppAmount=SuppressionAmount(suppFunc, BW10supp, freq_factor)\n",
    "    \n",
    "    refMaskers= maskingConditionsRef if useRefMaskers else None\n",
    "    axlist=plotMaskingAmountExcitations( BW10func0, maskingConditions, mdFunc, suppressionAmount=suppAmount,\n",
    "                refMaskers=refMaskers)\n",
    "\n",
    "\n",
    "    plotMaskingAmountExcitations( BW10func1, maskingConditions, mdFunc, suppressionAmount=suppAmount, axlist=axlist,\n",
    "                                refMaskers=refMaskers)\n"
   ]
  },
  {
   "cell_type": "raw",
   "metadata": {},
   "source": [
    "#NB: remove 'manual' for continuous update\n",
    "@interact( BW0=widgets.IntSlider(value=500, min=100, max=2000, step=50), BW1=widgets.IntSlider(value=500, min=100, max=2000, step=50))\n",
    "def plotMaskingExcitations_interact(BW0, BW1):\n",
    "    #BW1=BW0*(1000/800)\n",
    "    BW10func0=constant_BW10(BW0)\n",
    "    BW10func1=constant_BW10(BW1)\n",
    "    \n",
    "    pl.figure(figsize=(12, 10))\n",
    "    axlist=plotMaskingExcitations( BW10func0, maskingConditions)\n",
    "    plotMaskingExcitations( BW10func1, maskingConditions, axlist=axlist)\n",
    "    plotMaskingExcitations( BW10func0, maskingConditions, axlist=axlist, filter_model='gammatone_4')\n",
    "    \n",
    "    plotMaskingExcitations( BW10func1, maskingConditions, axlist=axlist, filter_model='gammatone_4')"
   ]
  },
  {
   "cell_type": "code",
   "execution_count": null,
   "metadata": {},
   "outputs": [],
   "source": [
    "\n",
    "@interact(I0=(30, 100), I1=(30,100), BW0=widgets.IntSlider(value=500, min=100, max=2500, step=50), BW1=widgets.IntSlider(value=500, min=100, max=2500, step=50))\n",
    "def plotMaskingAmountExcitations_interact(I0, I1, BW0, BW1):\n",
    "    BW10func0=constant_BW10(BW0)\n",
    "    \n",
    "    #BW1=BW0*(1000/800)\n",
    "    BW10func1=constant_BW10(BW1)\n",
    "    \n",
    "    pl.figure(figsize=(12, 10))\n",
    "    \n",
    "    maskingConditions.set_amp0_dB(I0)\n",
    "    \n",
    "    axlist=plotMaskingAmountExcitations( BW10func0, maskingConditions, mdFunc)\n",
    "    \n",
    "    maskingConditions.set_amp0_dB(I1)\n",
    "    axlist=plotMaskingAmountExcitations( BW10func1, maskingConditions, mdFunc, axlist=axlist)"
   ]
  },
  {
   "cell_type": "raw",
   "metadata": {},
   "source": [
    "\n",
    "@interact_manual(I0=(30, 100), I1=(30,100), BW0=widgets.IntSlider(value=500, min=100, max=2000, step=50), BW1=widgets.IntSlider(value=500, min=100, max=2000, step=50))\n",
    "def plotExcitationPatterns_interact(I0, I1, BW0, BW1):\n",
    "    BW10func0=constant_BW10(BW0)\n",
    "    #BW1=BW0*(1000/800)\n",
    "    BW10func1=constant_BW10(BW1)\n",
    "    \n",
    "    t=torch.linspace(0.5, 7, 500)*1e-3\n",
    "\n",
    "    E0=t>1e-3\n",
    "\n",
    "    \n",
    "    E_0=ExcitationPatterns.copyRaw(E)\n",
    "    \n",
    "    E_1=ExcitationPatterns.copyRaw(E)\n",
    "\n",
    "    pl.figure(figsize=(12, 10))\n",
    "    \n",
    "    maskingConditions.set_amp0_dB(I0)\n",
    "    \n",
    "    E_0.set_masking_model(lat0, BW10func0, maskingConditions, mdFunc, filter_model='gaussian')\n",
    "    axlist=plotExcitationPatterns(E_0)\n",
    "    \n",
    "    maskingConditions.set_amp0_dB(I1)\n",
    "    \n",
    "    E_1.set_masking_model(lat0, BW10func1, maskingConditions, mdFunc, filter_model='gaussian')\n",
    "    axlist=plotExcitationPatterns(E_1, axlist=axlist)\n",
    "    "
   ]
  },
  {
   "cell_type": "raw",
   "metadata": {},
   "source": [
    "\n",
    "@interact_manual(I0=(30, 100), I1=(30,100), BW0=widgets.IntSlider(value=500, min=100, max=2000, step=50), BW1=widgets.IntSlider(value=500, min=100, max=2000, step=50))\n",
    "def plotSimulatedCAPs_interact(I0, I1, BW0, BW1):\n",
    "    BW10func0=constant_BW10(BW0)\n",
    "    #BW1=BW0*(1100/800)\n",
    "    BW10func1=constant_BW10(BW1)\n",
    "    \n",
    "    t=torch.linspace(0.5, 7, 500)*1e-3\n",
    "\n",
    "\n",
    "    \n",
    "    E_0=ExcitationPatterns.copyRaw(E)\n",
    "    E_1=ExcitationPatterns.copyRaw(E)\n",
    "\n",
    "    pl.figure(figsize=(12, 10))\n",
    "    \n",
    "    maskingConditions.set_amp0_dB(I0)\n",
    "    \n",
    "    E_0.set_masking_model(lat0, BW10func0, maskingConditions, mdFunc, filter_model='gaussian')\n",
    "    axlist=plotSimulatedCAPs(E_0, u0, shift=0.7e-3)\n",
    "    \n",
    "    maskingConditions.set_amp0_dB(I1)\n",
    "    \n",
    "    E_1.set_masking_model(lat0, BW10func1, maskingConditions, mdFunc, filter_model='gaussian')\n",
    "    axlist=plotSimulatedCAPs(E_1, u0, axlist=axlist, shift=0.7e-3)\n",
    "    "
   ]
  }
 ],
 "metadata": {
  "kernelspec": {
   "display_name": "torch",
   "language": "python",
   "name": "torch"
  },
  "language_info": {
   "codemirror_mode": {
    "name": "ipython",
    "version": 3
   },
   "file_extension": ".py",
   "mimetype": "text/x-python",
   "name": "python",
   "nbconvert_exporter": "python",
   "pygments_lexer": "ipython3",
   "version": "3.7.10"
  }
 },
 "nbformat": 4,
 "nbformat_minor": 4
}
